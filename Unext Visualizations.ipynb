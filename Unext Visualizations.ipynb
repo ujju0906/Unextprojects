{
 "cells": [
  {
   "cell_type": "code",
   "execution_count": 3,
   "id": "7d349139",
   "metadata": {},
   "outputs": [],
   "source": [
    "import pandas as pd\n",
    "from pandas import Series\n",
    "from pandas import DataFrame\n",
    "import os"
   ]
  },
  {
   "cell_type": "code",
   "execution_count": 4,
   "id": "43df3173",
   "metadata": {},
   "outputs": [
    {
     "data": {
      "text/plain": [
       "'/Users/ujwal_nischal'"
      ]
     },
     "execution_count": 4,
     "metadata": {},
     "output_type": "execute_result"
    }
   ],
   "source": [
    "os.getcwd()"
   ]
  },
  {
   "cell_type": "code",
   "execution_count": 6,
   "id": "12d89aed",
   "metadata": {},
   "outputs": [
    {
     "name": "stdout",
     "output_type": "stream",
     "text": [
      "ERROR! Session/line number was not unique in database. History logging moved to new session 13\n"
     ]
    }
   ],
   "source": [
    "os.chdir('/Users/ujwal_nischal/Downloads')\n"
   ]
  },
  {
   "cell_type": "code",
   "execution_count": 10,
   "id": "12cd711c",
   "metadata": {},
   "outputs": [
    {
     "ename": "ValueError",
     "evalue": "Excel file format cannot be determined, you must specify an engine manually.",
     "output_type": "error",
     "traceback": [
      "\u001b[0;31m---------------------------------------------------------------------------\u001b[0m",
      "\u001b[0;31mValueError\u001b[0m                                Traceback (most recent call last)",
      "\u001b[0;32m/var/folders/k8/4j5n_hw94_j_k1151xthw9_r0000gn/T/ipykernel_78035/865684135.py\u001b[0m in \u001b[0;36m<module>\u001b[0;34m\u001b[0m\n\u001b[0;32m----> 1\u001b[0;31m \u001b[0mdata\u001b[0m \u001b[0;34m=\u001b[0m \u001b[0mpd\u001b[0m\u001b[0;34m.\u001b[0m\u001b[0mread_excel\u001b[0m\u001b[0;34m(\u001b[0m\u001b[0;34m'dataset.xlsx'\u001b[0m\u001b[0;34m)\u001b[0m\u001b[0;34m\u001b[0m\u001b[0;34m\u001b[0m\u001b[0m\n\u001b[0m",
      "\u001b[0;32m/Library/Frameworks/Python.framework/Versions/3.9/lib/python3.9/site-packages/pandas/util/_decorators.py\u001b[0m in \u001b[0;36mwrapper\u001b[0;34m(*args, **kwargs)\u001b[0m\n\u001b[1;32m    309\u001b[0m                     \u001b[0mstacklevel\u001b[0m\u001b[0;34m=\u001b[0m\u001b[0mstacklevel\u001b[0m\u001b[0;34m,\u001b[0m\u001b[0;34m\u001b[0m\u001b[0;34m\u001b[0m\u001b[0m\n\u001b[1;32m    310\u001b[0m                 )\n\u001b[0;32m--> 311\u001b[0;31m             \u001b[0;32mreturn\u001b[0m \u001b[0mfunc\u001b[0m\u001b[0;34m(\u001b[0m\u001b[0;34m*\u001b[0m\u001b[0margs\u001b[0m\u001b[0;34m,\u001b[0m \u001b[0;34m**\u001b[0m\u001b[0mkwargs\u001b[0m\u001b[0;34m)\u001b[0m\u001b[0;34m\u001b[0m\u001b[0;34m\u001b[0m\u001b[0m\n\u001b[0m\u001b[1;32m    312\u001b[0m \u001b[0;34m\u001b[0m\u001b[0m\n\u001b[1;32m    313\u001b[0m         \u001b[0;32mreturn\u001b[0m \u001b[0mwrapper\u001b[0m\u001b[0;34m\u001b[0m\u001b[0;34m\u001b[0m\u001b[0m\n",
      "\u001b[0;32m/Library/Frameworks/Python.framework/Versions/3.9/lib/python3.9/site-packages/pandas/io/excel/_base.py\u001b[0m in \u001b[0;36mread_excel\u001b[0;34m(io, sheet_name, header, names, index_col, usecols, squeeze, dtype, engine, converters, true_values, false_values, skiprows, nrows, na_values, keep_default_na, na_filter, verbose, parse_dates, date_parser, thousands, decimal, comment, skipfooter, convert_float, mangle_dupe_cols, storage_options)\u001b[0m\n\u001b[1;32m    455\u001b[0m     \u001b[0;32mif\u001b[0m \u001b[0;32mnot\u001b[0m \u001b[0misinstance\u001b[0m\u001b[0;34m(\u001b[0m\u001b[0mio\u001b[0m\u001b[0;34m,\u001b[0m \u001b[0mExcelFile\u001b[0m\u001b[0;34m)\u001b[0m\u001b[0;34m:\u001b[0m\u001b[0;34m\u001b[0m\u001b[0;34m\u001b[0m\u001b[0m\n\u001b[1;32m    456\u001b[0m         \u001b[0mshould_close\u001b[0m \u001b[0;34m=\u001b[0m \u001b[0;32mTrue\u001b[0m\u001b[0;34m\u001b[0m\u001b[0;34m\u001b[0m\u001b[0m\n\u001b[0;32m--> 457\u001b[0;31m         \u001b[0mio\u001b[0m \u001b[0;34m=\u001b[0m \u001b[0mExcelFile\u001b[0m\u001b[0;34m(\u001b[0m\u001b[0mio\u001b[0m\u001b[0;34m,\u001b[0m \u001b[0mstorage_options\u001b[0m\u001b[0;34m=\u001b[0m\u001b[0mstorage_options\u001b[0m\u001b[0;34m,\u001b[0m \u001b[0mengine\u001b[0m\u001b[0;34m=\u001b[0m\u001b[0mengine\u001b[0m\u001b[0;34m)\u001b[0m\u001b[0;34m\u001b[0m\u001b[0;34m\u001b[0m\u001b[0m\n\u001b[0m\u001b[1;32m    458\u001b[0m     \u001b[0;32melif\u001b[0m \u001b[0mengine\u001b[0m \u001b[0;32mand\u001b[0m \u001b[0mengine\u001b[0m \u001b[0;34m!=\u001b[0m \u001b[0mio\u001b[0m\u001b[0;34m.\u001b[0m\u001b[0mengine\u001b[0m\u001b[0;34m:\u001b[0m\u001b[0;34m\u001b[0m\u001b[0;34m\u001b[0m\u001b[0m\n\u001b[1;32m    459\u001b[0m         raise ValueError(\n",
      "\u001b[0;32m/Library/Frameworks/Python.framework/Versions/3.9/lib/python3.9/site-packages/pandas/io/excel/_base.py\u001b[0m in \u001b[0;36m__init__\u001b[0;34m(self, path_or_buffer, engine, storage_options)\u001b[0m\n\u001b[1;32m   1378\u001b[0m                 )\n\u001b[1;32m   1379\u001b[0m                 \u001b[0;32mif\u001b[0m \u001b[0mext\u001b[0m \u001b[0;32mis\u001b[0m \u001b[0;32mNone\u001b[0m\u001b[0;34m:\u001b[0m\u001b[0;34m\u001b[0m\u001b[0;34m\u001b[0m\u001b[0m\n\u001b[0;32m-> 1380\u001b[0;31m                     raise ValueError(\n\u001b[0m\u001b[1;32m   1381\u001b[0m                         \u001b[0;34m\"Excel file format cannot be determined, you must specify \"\u001b[0m\u001b[0;34m\u001b[0m\u001b[0;34m\u001b[0m\u001b[0m\n\u001b[1;32m   1382\u001b[0m                         \u001b[0;34m\"an engine manually.\"\u001b[0m\u001b[0;34m\u001b[0m\u001b[0;34m\u001b[0m\u001b[0m\n",
      "\u001b[0;31mValueError\u001b[0m: Excel file format cannot be determined, you must specify an engine manually."
     ]
    }
   ],
   "source": []
  },
  {
   "cell_type": "code",
   "execution_count": 7,
   "id": "1adf501c",
   "metadata": {},
   "outputs": [],
   "source": [
    "os.chdir('/Users/ujwal_nischal/Downloads')\n"
   ]
  },
  {
   "cell_type": "code",
   "execution_count": 9,
   "id": "8ed0e096",
   "metadata": {},
   "outputs": [
    {
     "ename": "ValueError",
     "evalue": "Excel file format cannot be determined, you must specify an engine manually.",
     "output_type": "error",
     "traceback": [
      "\u001b[0;31m---------------------------------------------------------------------------\u001b[0m",
      "\u001b[0;31mValueError\u001b[0m                                Traceback (most recent call last)",
      "\u001b[0;32m/var/folders/k8/4j5n_hw94_j_k1151xthw9_r0000gn/T/ipykernel_78035/710062617.py\u001b[0m in \u001b[0;36m<module>\u001b[0;34m\u001b[0m\n\u001b[0;32m----> 1\u001b[0;31m \u001b[0mdata\u001b[0m \u001b[0;34m=\u001b[0m \u001b[0mpd\u001b[0m\u001b[0;34m.\u001b[0m\u001b[0mread_excel\u001b[0m\u001b[0;34m(\u001b[0m\u001b[0;34m'dataset.xlsx'\u001b[0m\u001b[0;34m)\u001b[0m\u001b[0;34m\u001b[0m\u001b[0;34m\u001b[0m\u001b[0m\n\u001b[0m",
      "\u001b[0;32m/Library/Frameworks/Python.framework/Versions/3.9/lib/python3.9/site-packages/pandas/util/_decorators.py\u001b[0m in \u001b[0;36mwrapper\u001b[0;34m(*args, **kwargs)\u001b[0m\n\u001b[1;32m    309\u001b[0m                     \u001b[0mstacklevel\u001b[0m\u001b[0;34m=\u001b[0m\u001b[0mstacklevel\u001b[0m\u001b[0;34m,\u001b[0m\u001b[0;34m\u001b[0m\u001b[0;34m\u001b[0m\u001b[0m\n\u001b[1;32m    310\u001b[0m                 )\n\u001b[0;32m--> 311\u001b[0;31m             \u001b[0;32mreturn\u001b[0m \u001b[0mfunc\u001b[0m\u001b[0;34m(\u001b[0m\u001b[0;34m*\u001b[0m\u001b[0margs\u001b[0m\u001b[0;34m,\u001b[0m \u001b[0;34m**\u001b[0m\u001b[0mkwargs\u001b[0m\u001b[0;34m)\u001b[0m\u001b[0;34m\u001b[0m\u001b[0;34m\u001b[0m\u001b[0m\n\u001b[0m\u001b[1;32m    312\u001b[0m \u001b[0;34m\u001b[0m\u001b[0m\n\u001b[1;32m    313\u001b[0m         \u001b[0;32mreturn\u001b[0m \u001b[0mwrapper\u001b[0m\u001b[0;34m\u001b[0m\u001b[0;34m\u001b[0m\u001b[0m\n",
      "\u001b[0;32m/Library/Frameworks/Python.framework/Versions/3.9/lib/python3.9/site-packages/pandas/io/excel/_base.py\u001b[0m in \u001b[0;36mread_excel\u001b[0;34m(io, sheet_name, header, names, index_col, usecols, squeeze, dtype, engine, converters, true_values, false_values, skiprows, nrows, na_values, keep_default_na, na_filter, verbose, parse_dates, date_parser, thousands, decimal, comment, skipfooter, convert_float, mangle_dupe_cols, storage_options)\u001b[0m\n\u001b[1;32m    455\u001b[0m     \u001b[0;32mif\u001b[0m \u001b[0;32mnot\u001b[0m \u001b[0misinstance\u001b[0m\u001b[0;34m(\u001b[0m\u001b[0mio\u001b[0m\u001b[0;34m,\u001b[0m \u001b[0mExcelFile\u001b[0m\u001b[0;34m)\u001b[0m\u001b[0;34m:\u001b[0m\u001b[0;34m\u001b[0m\u001b[0;34m\u001b[0m\u001b[0m\n\u001b[1;32m    456\u001b[0m         \u001b[0mshould_close\u001b[0m \u001b[0;34m=\u001b[0m \u001b[0;32mTrue\u001b[0m\u001b[0;34m\u001b[0m\u001b[0;34m\u001b[0m\u001b[0m\n\u001b[0;32m--> 457\u001b[0;31m         \u001b[0mio\u001b[0m \u001b[0;34m=\u001b[0m \u001b[0mExcelFile\u001b[0m\u001b[0;34m(\u001b[0m\u001b[0mio\u001b[0m\u001b[0;34m,\u001b[0m \u001b[0mstorage_options\u001b[0m\u001b[0;34m=\u001b[0m\u001b[0mstorage_options\u001b[0m\u001b[0;34m,\u001b[0m \u001b[0mengine\u001b[0m\u001b[0;34m=\u001b[0m\u001b[0mengine\u001b[0m\u001b[0;34m)\u001b[0m\u001b[0;34m\u001b[0m\u001b[0;34m\u001b[0m\u001b[0m\n\u001b[0m\u001b[1;32m    458\u001b[0m     \u001b[0;32melif\u001b[0m \u001b[0mengine\u001b[0m \u001b[0;32mand\u001b[0m \u001b[0mengine\u001b[0m \u001b[0;34m!=\u001b[0m \u001b[0mio\u001b[0m\u001b[0;34m.\u001b[0m\u001b[0mengine\u001b[0m\u001b[0;34m:\u001b[0m\u001b[0;34m\u001b[0m\u001b[0;34m\u001b[0m\u001b[0m\n\u001b[1;32m    459\u001b[0m         raise ValueError(\n",
      "\u001b[0;32m/Library/Frameworks/Python.framework/Versions/3.9/lib/python3.9/site-packages/pandas/io/excel/_base.py\u001b[0m in \u001b[0;36m__init__\u001b[0;34m(self, path_or_buffer, engine, storage_options)\u001b[0m\n\u001b[1;32m   1378\u001b[0m                 )\n\u001b[1;32m   1379\u001b[0m                 \u001b[0;32mif\u001b[0m \u001b[0mext\u001b[0m \u001b[0;32mis\u001b[0m \u001b[0;32mNone\u001b[0m\u001b[0;34m:\u001b[0m\u001b[0;34m\u001b[0m\u001b[0;34m\u001b[0m\u001b[0m\n\u001b[0;32m-> 1380\u001b[0;31m                     raise ValueError(\n\u001b[0m\u001b[1;32m   1381\u001b[0m                         \u001b[0;34m\"Excel file format cannot be determined, you must specify \"\u001b[0m\u001b[0;34m\u001b[0m\u001b[0;34m\u001b[0m\u001b[0m\n\u001b[1;32m   1382\u001b[0m                         \u001b[0;34m\"an engine manually.\"\u001b[0m\u001b[0;34m\u001b[0m\u001b[0;34m\u001b[0m\u001b[0m\n",
      "\u001b[0;31mValueError\u001b[0m: Excel file format cannot be determined, you must specify an engine manually."
     ]
    }
   ],
   "source": [
    "data = pd.read_excel('dataset.xlsx')\n"
   ]
  },
  {
   "cell_type": "code",
   "execution_count": 104,
   "id": "3f903857",
   "metadata": {},
   "outputs": [],
   "source": [
    "data = pd.read_excel('batch.xlsx')\n",
    "d2 =  pd.read_excel('bpldata.xlsx')"
   ]
  },
  {
   "cell_type": "code",
   "execution_count": null,
   "id": "08b079fa",
   "metadata": {},
   "outputs": [],
   "source": []
  },
  {
   "cell_type": "code",
   "execution_count": 12,
   "id": "5b10a9f0",
   "metadata": {},
   "outputs": [
    {
     "data": {
      "text/html": [
       "<div>\n",
       "<style scoped>\n",
       "    .dataframe tbody tr th:only-of-type {\n",
       "        vertical-align: middle;\n",
       "    }\n",
       "\n",
       "    .dataframe tbody tr th {\n",
       "        vertical-align: top;\n",
       "    }\n",
       "\n",
       "    .dataframe thead th {\n",
       "        text-align: right;\n",
       "    }\n",
       "</style>\n",
       "<table border=\"1\" class=\"dataframe\">\n",
       "  <thead>\n",
       "    <tr style=\"text-align: right;\">\n",
       "      <th></th>\n",
       "      <th>Batch</th>\n",
       "      <th>No. of Students Enrolled</th>\n",
       "      <th>No. of Students opted out/not eligible for placements</th>\n",
       "      <th>No. of Students eligible for placements</th>\n",
       "      <th>No. of Students Placed</th>\n",
       "      <th>Placements Ratio</th>\n",
       "      <th>Avg CTC</th>\n",
       "      <th>Remarks</th>\n",
       "    </tr>\n",
       "  </thead>\n",
       "  <tbody>\n",
       "    <tr>\n",
       "      <th>0</th>\n",
       "      <td>PGDDS 2</td>\n",
       "      <td>40</td>\n",
       "      <td>0</td>\n",
       "      <td>40</td>\n",
       "      <td>37</td>\n",
       "      <td>0.925000</td>\n",
       "      <td>6.5</td>\n",
       "      <td>-</td>\n",
       "    </tr>\n",
       "    <tr>\n",
       "      <th>1</th>\n",
       "      <td>PGDDS 3</td>\n",
       "      <td>25</td>\n",
       "      <td>0</td>\n",
       "      <td>25</td>\n",
       "      <td>23</td>\n",
       "      <td>0.920000</td>\n",
       "      <td>6.1</td>\n",
       "      <td>-</td>\n",
       "    </tr>\n",
       "    <tr>\n",
       "      <th>2</th>\n",
       "      <td>PGDDS 4</td>\n",
       "      <td>73</td>\n",
       "      <td>9</td>\n",
       "      <td>64</td>\n",
       "      <td>61</td>\n",
       "      <td>0.953125</td>\n",
       "      <td>5.9</td>\n",
       "      <td>-</td>\n",
       "    </tr>\n",
       "    <tr>\n",
       "      <th>3</th>\n",
       "      <td>PGDDS 5</td>\n",
       "      <td>12</td>\n",
       "      <td>2</td>\n",
       "      <td>10</td>\n",
       "      <td>8</td>\n",
       "      <td>0.800000</td>\n",
       "      <td>4.7</td>\n",
       "      <td>-</td>\n",
       "    </tr>\n",
       "    <tr>\n",
       "      <th>4</th>\n",
       "      <td>PGDDS 6</td>\n",
       "      <td>26</td>\n",
       "      <td>1</td>\n",
       "      <td>25</td>\n",
       "      <td>20</td>\n",
       "      <td>0.800000</td>\n",
       "      <td>6.8</td>\n",
       "      <td>-</td>\n",
       "    </tr>\n",
       "  </tbody>\n",
       "</table>\n",
       "</div>"
      ],
      "text/plain": [
       "     Batch  No. of Students Enrolled  \\\n",
       "0  PGDDS 2                        40   \n",
       "1  PGDDS 3                        25   \n",
       "2  PGDDS 4                        73   \n",
       "3  PGDDS 5                        12   \n",
       "4  PGDDS 6                        26   \n",
       "\n",
       "   No. of Students opted out/not eligible for placements  \\\n",
       "0                                                  0       \n",
       "1                                                  0       \n",
       "2                                                  9       \n",
       "3                                                  2       \n",
       "4                                                  1       \n",
       "\n",
       "   No. of Students eligible for placements  No. of Students Placed  \\\n",
       "0                                       40                      37   \n",
       "1                                       25                      23   \n",
       "2                                       64                      61   \n",
       "3                                       10                       8   \n",
       "4                                       25                      20   \n",
       "\n",
       "   Placements Ratio  Avg CTC Remarks  \n",
       "0          0.925000      6.5       -  \n",
       "1          0.920000      6.1       -  \n",
       "2          0.953125      5.9       -  \n",
       "3          0.800000      4.7       -  \n",
       "4          0.800000      6.8       -  "
      ]
     },
     "execution_count": 12,
     "metadata": {},
     "output_type": "execute_result"
    }
   ],
   "source": [
    "data.head()"
   ]
  },
  {
   "cell_type": "code",
   "execution_count": 15,
   "id": "dee730d6",
   "metadata": {},
   "outputs": [
    {
     "data": {
      "text/html": [
       "<div>\n",
       "<style scoped>\n",
       "    .dataframe tbody tr th:only-of-type {\n",
       "        vertical-align: middle;\n",
       "    }\n",
       "\n",
       "    .dataframe tbody tr th {\n",
       "        vertical-align: top;\n",
       "    }\n",
       "\n",
       "    .dataframe thead th {\n",
       "        text-align: right;\n",
       "    }\n",
       "</style>\n",
       "<table border=\"1\" class=\"dataframe\">\n",
       "  <thead>\n",
       "    <tr style=\"text-align: right;\">\n",
       "      <th></th>\n",
       "      <th>Batch</th>\n",
       "      <th>No. of Students Enrolled</th>\n",
       "      <th>No. of Students opted out/not eligible for placements</th>\n",
       "      <th>No. of Students eligible for placements</th>\n",
       "      <th>No. of Students Placed</th>\n",
       "      <th>Placements Ratio</th>\n",
       "      <th>Avg CTC</th>\n",
       "      <th>Remarks</th>\n",
       "    </tr>\n",
       "  </thead>\n",
       "  <tbody>\n",
       "    <tr>\n",
       "      <th>0</th>\n",
       "      <td>False</td>\n",
       "      <td>False</td>\n",
       "      <td>False</td>\n",
       "      <td>False</td>\n",
       "      <td>False</td>\n",
       "      <td>False</td>\n",
       "      <td>False</td>\n",
       "      <td>False</td>\n",
       "    </tr>\n",
       "    <tr>\n",
       "      <th>1</th>\n",
       "      <td>False</td>\n",
       "      <td>False</td>\n",
       "      <td>False</td>\n",
       "      <td>False</td>\n",
       "      <td>False</td>\n",
       "      <td>False</td>\n",
       "      <td>False</td>\n",
       "      <td>False</td>\n",
       "    </tr>\n",
       "    <tr>\n",
       "      <th>2</th>\n",
       "      <td>False</td>\n",
       "      <td>False</td>\n",
       "      <td>False</td>\n",
       "      <td>False</td>\n",
       "      <td>False</td>\n",
       "      <td>False</td>\n",
       "      <td>False</td>\n",
       "      <td>False</td>\n",
       "    </tr>\n",
       "    <tr>\n",
       "      <th>3</th>\n",
       "      <td>False</td>\n",
       "      <td>False</td>\n",
       "      <td>False</td>\n",
       "      <td>False</td>\n",
       "      <td>False</td>\n",
       "      <td>False</td>\n",
       "      <td>False</td>\n",
       "      <td>False</td>\n",
       "    </tr>\n",
       "    <tr>\n",
       "      <th>4</th>\n",
       "      <td>False</td>\n",
       "      <td>False</td>\n",
       "      <td>False</td>\n",
       "      <td>False</td>\n",
       "      <td>False</td>\n",
       "      <td>False</td>\n",
       "      <td>False</td>\n",
       "      <td>False</td>\n",
       "    </tr>\n",
       "    <tr>\n",
       "      <th>5</th>\n",
       "      <td>False</td>\n",
       "      <td>False</td>\n",
       "      <td>False</td>\n",
       "      <td>False</td>\n",
       "      <td>False</td>\n",
       "      <td>False</td>\n",
       "      <td>False</td>\n",
       "      <td>False</td>\n",
       "    </tr>\n",
       "    <tr>\n",
       "      <th>6</th>\n",
       "      <td>False</td>\n",
       "      <td>False</td>\n",
       "      <td>False</td>\n",
       "      <td>False</td>\n",
       "      <td>False</td>\n",
       "      <td>False</td>\n",
       "      <td>False</td>\n",
       "      <td>False</td>\n",
       "    </tr>\n",
       "    <tr>\n",
       "      <th>7</th>\n",
       "      <td>False</td>\n",
       "      <td>False</td>\n",
       "      <td>False</td>\n",
       "      <td>False</td>\n",
       "      <td>False</td>\n",
       "      <td>False</td>\n",
       "      <td>False</td>\n",
       "      <td>False</td>\n",
       "    </tr>\n",
       "    <tr>\n",
       "      <th>8</th>\n",
       "      <td>False</td>\n",
       "      <td>False</td>\n",
       "      <td>False</td>\n",
       "      <td>False</td>\n",
       "      <td>False</td>\n",
       "      <td>False</td>\n",
       "      <td>False</td>\n",
       "      <td>False</td>\n",
       "    </tr>\n",
       "  </tbody>\n",
       "</table>\n",
       "</div>"
      ],
      "text/plain": [
       "   Batch  No. of Students Enrolled  \\\n",
       "0  False                     False   \n",
       "1  False                     False   \n",
       "2  False                     False   \n",
       "3  False                     False   \n",
       "4  False                     False   \n",
       "5  False                     False   \n",
       "6  False                     False   \n",
       "7  False                     False   \n",
       "8  False                     False   \n",
       "\n",
       "   No. of Students opted out/not eligible for placements  \\\n",
       "0                                              False       \n",
       "1                                              False       \n",
       "2                                              False       \n",
       "3                                              False       \n",
       "4                                              False       \n",
       "5                                              False       \n",
       "6                                              False       \n",
       "7                                              False       \n",
       "8                                              False       \n",
       "\n",
       "   No. of Students eligible for placements  No. of Students Placed  \\\n",
       "0                                    False                   False   \n",
       "1                                    False                   False   \n",
       "2                                    False                   False   \n",
       "3                                    False                   False   \n",
       "4                                    False                   False   \n",
       "5                                    False                   False   \n",
       "6                                    False                   False   \n",
       "7                                    False                   False   \n",
       "8                                    False                   False   \n",
       "\n",
       "   Placements Ratio  Avg CTC  Remarks  \n",
       "0             False    False    False  \n",
       "1             False    False    False  \n",
       "2             False    False    False  \n",
       "3             False    False    False  \n",
       "4             False    False    False  \n",
       "5             False    False    False  \n",
       "6             False    False    False  \n",
       "7             False    False    False  \n",
       "8             False    False    False  "
      ]
     },
     "execution_count": 15,
     "metadata": {},
     "output_type": "execute_result"
    }
   ],
   "source": [
    "dfg = pd.read_excel('batch.xlsx',na_values=[\"Missing\",\"\"])\n",
    "dfg.isnull()"
   ]
  },
  {
   "cell_type": "code",
   "execution_count": 16,
   "id": "ded63d71",
   "metadata": {},
   "outputs": [
    {
     "data": {
      "text/html": [
       "<div>\n",
       "<style scoped>\n",
       "    .dataframe tbody tr th:only-of-type {\n",
       "        vertical-align: middle;\n",
       "    }\n",
       "\n",
       "    .dataframe tbody tr th {\n",
       "        vertical-align: top;\n",
       "    }\n",
       "\n",
       "    .dataframe thead th {\n",
       "        text-align: right;\n",
       "    }\n",
       "</style>\n",
       "<table border=\"1\" class=\"dataframe\">\n",
       "  <thead>\n",
       "    <tr style=\"text-align: right;\">\n",
       "      <th></th>\n",
       "      <th>Batch</th>\n",
       "      <th>No. of Students Enrolled</th>\n",
       "      <th>No. of Students opted out/not eligible for placements</th>\n",
       "      <th>No. of Students eligible for placements</th>\n",
       "      <th>No. of Students Placed</th>\n",
       "      <th>Placements Ratio</th>\n",
       "      <th>Avg CTC</th>\n",
       "      <th>Remarks</th>\n",
       "    </tr>\n",
       "  </thead>\n",
       "  <tbody>\n",
       "    <tr>\n",
       "      <th>0</th>\n",
       "      <td>PGDDS 2</td>\n",
       "      <td>40</td>\n",
       "      <td>0</td>\n",
       "      <td>40</td>\n",
       "      <td>37</td>\n",
       "      <td>0.925000</td>\n",
       "      <td>6.5</td>\n",
       "      <td>-</td>\n",
       "    </tr>\n",
       "    <tr>\n",
       "      <th>1</th>\n",
       "      <td>PGDDS 3</td>\n",
       "      <td>25</td>\n",
       "      <td>0</td>\n",
       "      <td>25</td>\n",
       "      <td>23</td>\n",
       "      <td>0.920000</td>\n",
       "      <td>6.1</td>\n",
       "      <td>-</td>\n",
       "    </tr>\n",
       "    <tr>\n",
       "      <th>2</th>\n",
       "      <td>PGDDS 4</td>\n",
       "      <td>73</td>\n",
       "      <td>9</td>\n",
       "      <td>64</td>\n",
       "      <td>61</td>\n",
       "      <td>0.953125</td>\n",
       "      <td>5.9</td>\n",
       "      <td>-</td>\n",
       "    </tr>\n",
       "    <tr>\n",
       "      <th>3</th>\n",
       "      <td>PGDDS 5</td>\n",
       "      <td>12</td>\n",
       "      <td>2</td>\n",
       "      <td>10</td>\n",
       "      <td>8</td>\n",
       "      <td>0.800000</td>\n",
       "      <td>4.7</td>\n",
       "      <td>-</td>\n",
       "    </tr>\n",
       "    <tr>\n",
       "      <th>4</th>\n",
       "      <td>PGDDS 6</td>\n",
       "      <td>26</td>\n",
       "      <td>1</td>\n",
       "      <td>25</td>\n",
       "      <td>20</td>\n",
       "      <td>0.800000</td>\n",
       "      <td>6.8</td>\n",
       "      <td>-</td>\n",
       "    </tr>\n",
       "    <tr>\n",
       "      <th>5</th>\n",
       "      <td>PGDDS 7</td>\n",
       "      <td>115</td>\n",
       "      <td>1</td>\n",
       "      <td>114</td>\n",
       "      <td>48</td>\n",
       "      <td>0.421053</td>\n",
       "      <td>6.0</td>\n",
       "      <td>-</td>\n",
       "    </tr>\n",
       "    <tr>\n",
       "      <th>6</th>\n",
       "      <td>PGDDS 8</td>\n",
       "      <td>61</td>\n",
       "      <td>16</td>\n",
       "      <td>45</td>\n",
       "      <td>50</td>\n",
       "      <td>1.111111</td>\n",
       "      <td>5.4</td>\n",
       "      <td>-</td>\n",
       "    </tr>\n",
       "    <tr>\n",
       "      <th>7</th>\n",
       "      <td>PGDDS 9</td>\n",
       "      <td>22</td>\n",
       "      <td>0</td>\n",
       "      <td>22</td>\n",
       "      <td>22</td>\n",
       "      <td>1.000000</td>\n",
       "      <td>7.9</td>\n",
       "      <td>-</td>\n",
       "    </tr>\n",
       "    <tr>\n",
       "      <th>8</th>\n",
       "      <td>PGDDS 10</td>\n",
       "      <td>34</td>\n",
       "      <td>0</td>\n",
       "      <td>34</td>\n",
       "      <td>33</td>\n",
       "      <td>0.970000</td>\n",
       "      <td>6.2</td>\n",
       "      <td>-</td>\n",
       "    </tr>\n",
       "  </tbody>\n",
       "</table>\n",
       "</div>"
      ],
      "text/plain": [
       "      Batch  No. of Students Enrolled  \\\n",
       "0   PGDDS 2                        40   \n",
       "1   PGDDS 3                        25   \n",
       "2   PGDDS 4                        73   \n",
       "3   PGDDS 5                        12   \n",
       "4   PGDDS 6                        26   \n",
       "5   PGDDS 7                       115   \n",
       "6   PGDDS 8                        61   \n",
       "7   PGDDS 9                        22   \n",
       "8  PGDDS 10                        34   \n",
       "\n",
       "   No. of Students opted out/not eligible for placements  \\\n",
       "0                                                  0       \n",
       "1                                                  0       \n",
       "2                                                  9       \n",
       "3                                                  2       \n",
       "4                                                  1       \n",
       "5                                                  1       \n",
       "6                                                 16       \n",
       "7                                                  0       \n",
       "8                                                  0       \n",
       "\n",
       "   No. of Students eligible for placements  No. of Students Placed  \\\n",
       "0                                       40                      37   \n",
       "1                                       25                      23   \n",
       "2                                       64                      61   \n",
       "3                                       10                       8   \n",
       "4                                       25                      20   \n",
       "5                                      114                      48   \n",
       "6                                       45                      50   \n",
       "7                                       22                      22   \n",
       "8                                       34                      33   \n",
       "\n",
       "   Placements Ratio  Avg CTC Remarks  \n",
       "0          0.925000      6.5       -  \n",
       "1          0.920000      6.1       -  \n",
       "2          0.953125      5.9       -  \n",
       "3          0.800000      4.7       -  \n",
       "4          0.800000      6.8       -  \n",
       "5          0.421053      6.0       -  \n",
       "6          1.111111      5.4       -  \n",
       "7          1.000000      7.9       -  \n",
       "8          0.970000      6.2       -  "
      ]
     },
     "execution_count": 16,
     "metadata": {},
     "output_type": "execute_result"
    }
   ],
   "source": [
    "data"
   ]
  },
  {
   "cell_type": "code",
   "execution_count": 17,
   "id": "4ad19606",
   "metadata": {},
   "outputs": [],
   "source": [
    "import seaborn as sns\n",
    "import matplotlib.pyplot as plt\n",
    "%matplotlib inline\n",
    "import numpy as num"
   ]
  },
  {
   "cell_type": "code",
   "execution_count": 18,
   "id": "8b31adf9",
   "metadata": {},
   "outputs": [],
   "source": [
    "data.rename(columns = {'No. of Students eligible for placements':'eligible', 'No. of Students Placed':'placed'}, inplace = True)"
   ]
  },
  {
   "cell_type": "code",
   "execution_count": 19,
   "id": "4772be27",
   "metadata": {},
   "outputs": [
    {
     "data": {
      "text/html": [
       "<div>\n",
       "<style scoped>\n",
       "    .dataframe tbody tr th:only-of-type {\n",
       "        vertical-align: middle;\n",
       "    }\n",
       "\n",
       "    .dataframe tbody tr th {\n",
       "        vertical-align: top;\n",
       "    }\n",
       "\n",
       "    .dataframe thead th {\n",
       "        text-align: right;\n",
       "    }\n",
       "</style>\n",
       "<table border=\"1\" class=\"dataframe\">\n",
       "  <thead>\n",
       "    <tr style=\"text-align: right;\">\n",
       "      <th></th>\n",
       "      <th>Batch</th>\n",
       "      <th>No. of Students Enrolled</th>\n",
       "      <th>No. of Students opted out/not eligible for placements</th>\n",
       "      <th>eligible</th>\n",
       "      <th>placed</th>\n",
       "      <th>Placements Ratio</th>\n",
       "      <th>Avg CTC</th>\n",
       "      <th>Remarks</th>\n",
       "    </tr>\n",
       "  </thead>\n",
       "  <tbody>\n",
       "    <tr>\n",
       "      <th>0</th>\n",
       "      <td>PGDDS 2</td>\n",
       "      <td>40</td>\n",
       "      <td>0</td>\n",
       "      <td>40</td>\n",
       "      <td>37</td>\n",
       "      <td>0.925000</td>\n",
       "      <td>6.5</td>\n",
       "      <td>-</td>\n",
       "    </tr>\n",
       "    <tr>\n",
       "      <th>1</th>\n",
       "      <td>PGDDS 3</td>\n",
       "      <td>25</td>\n",
       "      <td>0</td>\n",
       "      <td>25</td>\n",
       "      <td>23</td>\n",
       "      <td>0.920000</td>\n",
       "      <td>6.1</td>\n",
       "      <td>-</td>\n",
       "    </tr>\n",
       "    <tr>\n",
       "      <th>2</th>\n",
       "      <td>PGDDS 4</td>\n",
       "      <td>73</td>\n",
       "      <td>9</td>\n",
       "      <td>64</td>\n",
       "      <td>61</td>\n",
       "      <td>0.953125</td>\n",
       "      <td>5.9</td>\n",
       "      <td>-</td>\n",
       "    </tr>\n",
       "    <tr>\n",
       "      <th>3</th>\n",
       "      <td>PGDDS 5</td>\n",
       "      <td>12</td>\n",
       "      <td>2</td>\n",
       "      <td>10</td>\n",
       "      <td>8</td>\n",
       "      <td>0.800000</td>\n",
       "      <td>4.7</td>\n",
       "      <td>-</td>\n",
       "    </tr>\n",
       "    <tr>\n",
       "      <th>4</th>\n",
       "      <td>PGDDS 6</td>\n",
       "      <td>26</td>\n",
       "      <td>1</td>\n",
       "      <td>25</td>\n",
       "      <td>20</td>\n",
       "      <td>0.800000</td>\n",
       "      <td>6.8</td>\n",
       "      <td>-</td>\n",
       "    </tr>\n",
       "    <tr>\n",
       "      <th>5</th>\n",
       "      <td>PGDDS 7</td>\n",
       "      <td>115</td>\n",
       "      <td>1</td>\n",
       "      <td>114</td>\n",
       "      <td>48</td>\n",
       "      <td>0.421053</td>\n",
       "      <td>6.0</td>\n",
       "      <td>-</td>\n",
       "    </tr>\n",
       "    <tr>\n",
       "      <th>6</th>\n",
       "      <td>PGDDS 8</td>\n",
       "      <td>61</td>\n",
       "      <td>16</td>\n",
       "      <td>45</td>\n",
       "      <td>50</td>\n",
       "      <td>1.111111</td>\n",
       "      <td>5.4</td>\n",
       "      <td>-</td>\n",
       "    </tr>\n",
       "    <tr>\n",
       "      <th>7</th>\n",
       "      <td>PGDDS 9</td>\n",
       "      <td>22</td>\n",
       "      <td>0</td>\n",
       "      <td>22</td>\n",
       "      <td>22</td>\n",
       "      <td>1.000000</td>\n",
       "      <td>7.9</td>\n",
       "      <td>-</td>\n",
       "    </tr>\n",
       "    <tr>\n",
       "      <th>8</th>\n",
       "      <td>PGDDS 10</td>\n",
       "      <td>34</td>\n",
       "      <td>0</td>\n",
       "      <td>34</td>\n",
       "      <td>33</td>\n",
       "      <td>0.970000</td>\n",
       "      <td>6.2</td>\n",
       "      <td>-</td>\n",
       "    </tr>\n",
       "  </tbody>\n",
       "</table>\n",
       "</div>"
      ],
      "text/plain": [
       "      Batch  No. of Students Enrolled  \\\n",
       "0   PGDDS 2                        40   \n",
       "1   PGDDS 3                        25   \n",
       "2   PGDDS 4                        73   \n",
       "3   PGDDS 5                        12   \n",
       "4   PGDDS 6                        26   \n",
       "5   PGDDS 7                       115   \n",
       "6   PGDDS 8                        61   \n",
       "7   PGDDS 9                        22   \n",
       "8  PGDDS 10                        34   \n",
       "\n",
       "   No. of Students opted out/not eligible for placements  eligible  placed  \\\n",
       "0                                                  0            40      37   \n",
       "1                                                  0            25      23   \n",
       "2                                                  9            64      61   \n",
       "3                                                  2            10       8   \n",
       "4                                                  1            25      20   \n",
       "5                                                  1           114      48   \n",
       "6                                                 16            45      50   \n",
       "7                                                  0            22      22   \n",
       "8                                                  0            34      33   \n",
       "\n",
       "   Placements Ratio  Avg CTC Remarks  \n",
       "0          0.925000      6.5       -  \n",
       "1          0.920000      6.1       -  \n",
       "2          0.953125      5.9       -  \n",
       "3          0.800000      4.7       -  \n",
       "4          0.800000      6.8       -  \n",
       "5          0.421053      6.0       -  \n",
       "6          1.111111      5.4       -  \n",
       "7          1.000000      7.9       -  \n",
       "8          0.970000      6.2       -  "
      ]
     },
     "execution_count": 19,
     "metadata": {},
     "output_type": "execute_result"
    }
   ],
   "source": [
    "data"
   ]
  },
  {
   "cell_type": "code",
   "execution_count": 71,
   "id": "86dadaaa",
   "metadata": {},
   "outputs": [
    {
     "data": {
      "text/plain": [
       "0     8\n",
       "1    20\n",
       "2    22\n",
       "3    23\n",
       "4    33\n",
       "5    37\n",
       "6    48\n",
       "7    50\n",
       "8    61\n",
       "Name: placed, dtype: int64"
      ]
     },
     "execution_count": 71,
     "metadata": {},
     "output_type": "execute_result"
    },
    {
     "data": {
      "image/png": "[encoded data removed]",
      "text/plain": [
       "<Figure size 640x480 with 1 Axes>"
      ]
     },
     "metadata": {},
     "output_type": "display_data"
    }
   ],
   "source": [
    "#histogram for number of students placed\n",
    "plt.hist(data.placed,bins = 5 , color = \"red\", alpha = 1)\n",
    "data['placed'].mode()"
   ]
  },
  {
   "cell_type": "code",
   "execution_count": 25,
   "id": "ea967c3f",
   "metadata": {},
   "outputs": [
    {
     "data": {
      "text/plain": [
       "33.55555555555556"
      ]
     },
     "execution_count": 25,
     "metadata": {},
     "output_type": "execute_result"
    }
   ],
   "source": [
    "data.placed.mean()"
   ]
  },
  {
   "cell_type": "code",
   "execution_count": 32,
   "id": "796005dd",
   "metadata": {},
   "outputs": [
    {
     "data": {
      "text/plain": [
       "<matplotlib.collections.PathCollection at 0x7fcef0eb6940>"
      ]
     },
     "execution_count": 32,
     "metadata": {},
     "output_type": "execute_result"
    },
    {
     "data": {
      "image/png": "[encoded data removed]",
      "text/plain": [
       "<Figure size 432x288 with 1 Axes>"
      ]
     },
     "metadata": {
      "needs_background": "light"
     },
     "output_type": "display_data"
    }
   ],
   "source": [
    "plt.scatter(x= data['Batch'] ,y = data['placed'], color = \"Magenta\", alpha = 0.5)"
   ]
  },
  {
   "cell_type": "code",
   "execution_count": null,
   "id": "4b3e2023",
   "metadata": {},
   "outputs": [],
   "source": [
    "plt.scatter(x= data['Batch'] ,y = data['placed'], color = \"Magenta\", alpha = 0.5)"
   ]
  },
  {
   "cell_type": "code",
   "execution_count": 33,
   "id": "2e354656",
   "metadata": {},
   "outputs": [
    {
     "data": {
      "text/plain": [
       "<AxesSubplot:>"
      ]
     },
     "execution_count": 33,
     "metadata": {},
     "output_type": "execute_result"
    },
    {
     "data": {
      "image/png": "[encoded data removed]",
      "text/plain": [
       "<Figure size 432x288 with 1 Axes>"
      ]
     },
     "metadata": {
      "needs_background": "light"
     },
     "output_type": "display_data"
    }
   ],
   "source": [
    "sns.boxplot(data = data,orient=\"h\",palette=\"Set2\")"
   ]
  },
  {
   "cell_type": "code",
   "execution_count": 41,
   "id": "4b7d00f7",
   "metadata": {},
   "outputs": [],
   "source": [
    "data.rename(columns = {'No. of Students eligible for placements':'eligible', 'No. of Students Placed':'placed','Placements Ratio':'Ratio'}, inplace = True)"
   ]
  },
  {
   "cell_type": "code",
   "execution_count": 42,
   "id": "b580853d",
   "metadata": {},
   "outputs": [
    {
     "data": {
      "text/plain": [
       "0     PGDDS 2\n",
       "1     PGDDS 3\n",
       "2     PGDDS 4\n",
       "3     PGDDS 5\n",
       "4     PGDDS 6\n",
       "5     PGDDS 7\n",
       "8    PGDDS 10\n",
       "Name: Batch, dtype: object"
      ]
     },
     "execution_count": 42,
     "metadata": {},
     "output_type": "execute_result"
    }
   ],
   "source": [
    "data.query('Ratio <1')['Batch']"
   ]
  },
  {
   "cell_type": "code",
   "execution_count": 100,
   "id": "919811f3",
   "metadata": {},
   "outputs": [
    {
     "data": {
      "image/png": "[encoded data removed]",
      "text/plain": [
       "<Figure size 640x480 with 1 Axes>"
      ]
     },
     "metadata": {},
     "output_type": "display_data"
    }
   ],
   "source": [
    "a = plt.scatter(x= data['placed'] ,y = data['eligible'], color = \"Magenta\", alpha = 0.69)\n"
   ]
  },
  {
   "cell_type": "code",
   "execution_count": 101,
   "id": "eadc12c8",
   "metadata": {},
   "outputs": [
    {
     "data": {
      "image/png": "[encoded data removed]",
      "text/plain": [
       "<Figure size 640x480 with 1 Axes>"
      ]
     },
     "metadata": {},
     "output_type": "display_data"
    }
   ],
   "source": [
    "a = plt.scatter(x= data['placed'] ,y = data['No. of Students Enrolled'], color = \"Magenta\", alpha = 0.69)\n"
   ]
  },
  {
   "cell_type": "code",
   "execution_count": 103,
   "id": "8cdfd709",
   "metadata": {},
   "outputs": [
    {
     "data": {
      "text/plain": [
       "<matplotlib.collections.PathCollection at 0x7fcee1c97b50>"
      ]
     },
     "execution_count": 103,
     "metadata": {},
     "output_type": "execute_result"
    },
    {
     "data": {
      "image/png": "[encoded data removed]",
      "text/plain": [
       "<Figure size 640x480 with 1 Axes>"
      ]
     },
     "metadata": {},
     "output_type": "display_data"
    }
   ],
   "source": [
    " plt.scatter(x= data['placed'] ,y = data['Avg CTC'], color = \"Magenta\", alpha = 0.69)\n"
   ]
  },
  {
   "cell_type": "code",
   "execution_count": 46,
   "id": "e7758038",
   "metadata": {},
   "outputs": [
    {
     "data": {
      "text/html": [
       "<div>\n",
       "<style scoped>\n",
       "    .dataframe tbody tr th:only-of-type {\n",
       "        vertical-align: middle;\n",
       "    }\n",
       "\n",
       "    .dataframe tbody tr th {\n",
       "        vertical-align: top;\n",
       "    }\n",
       "\n",
       "    .dataframe thead th {\n",
       "        text-align: right;\n",
       "    }\n",
       "</style>\n",
       "<table border=\"1\" class=\"dataframe\">\n",
       "  <thead>\n",
       "    <tr style=\"text-align: right;\">\n",
       "      <th></th>\n",
       "      <th>Batch</th>\n",
       "      <th>No. of Students Enrolled</th>\n",
       "      <th>No. of Students opted out/not eligible for placements</th>\n",
       "      <th>eligible</th>\n",
       "      <th>placed</th>\n",
       "      <th>Ratio</th>\n",
       "      <th>Avg CTC</th>\n",
       "      <th>Remarks</th>\n",
       "    </tr>\n",
       "  </thead>\n",
       "  <tbody>\n",
       "    <tr>\n",
       "      <th>2</th>\n",
       "      <td>PGDDS 4</td>\n",
       "      <td>73</td>\n",
       "      <td>9</td>\n",
       "      <td>64</td>\n",
       "      <td>61</td>\n",
       "      <td>0.953125</td>\n",
       "      <td>5.9</td>\n",
       "      <td>-</td>\n",
       "    </tr>\n",
       "    <tr>\n",
       "      <th>6</th>\n",
       "      <td>PGDDS 8</td>\n",
       "      <td>61</td>\n",
       "      <td>16</td>\n",
       "      <td>45</td>\n",
       "      <td>50</td>\n",
       "      <td>1.111111</td>\n",
       "      <td>5.4</td>\n",
       "      <td>-</td>\n",
       "    </tr>\n",
       "    <tr>\n",
       "      <th>5</th>\n",
       "      <td>PGDDS 7</td>\n",
       "      <td>115</td>\n",
       "      <td>1</td>\n",
       "      <td>114</td>\n",
       "      <td>48</td>\n",
       "      <td>0.421053</td>\n",
       "      <td>6.0</td>\n",
       "      <td>-</td>\n",
       "    </tr>\n",
       "    <tr>\n",
       "      <th>0</th>\n",
       "      <td>PGDDS 2</td>\n",
       "      <td>40</td>\n",
       "      <td>0</td>\n",
       "      <td>40</td>\n",
       "      <td>37</td>\n",
       "      <td>0.925000</td>\n",
       "      <td>6.5</td>\n",
       "      <td>-</td>\n",
       "    </tr>\n",
       "    <tr>\n",
       "      <th>8</th>\n",
       "      <td>PGDDS 10</td>\n",
       "      <td>34</td>\n",
       "      <td>0</td>\n",
       "      <td>34</td>\n",
       "      <td>33</td>\n",
       "      <td>0.970000</td>\n",
       "      <td>6.2</td>\n",
       "      <td>-</td>\n",
       "    </tr>\n",
       "    <tr>\n",
       "      <th>1</th>\n",
       "      <td>PGDDS 3</td>\n",
       "      <td>25</td>\n",
       "      <td>0</td>\n",
       "      <td>25</td>\n",
       "      <td>23</td>\n",
       "      <td>0.920000</td>\n",
       "      <td>6.1</td>\n",
       "      <td>-</td>\n",
       "    </tr>\n",
       "    <tr>\n",
       "      <th>7</th>\n",
       "      <td>PGDDS 9</td>\n",
       "      <td>22</td>\n",
       "      <td>0</td>\n",
       "      <td>22</td>\n",
       "      <td>22</td>\n",
       "      <td>1.000000</td>\n",
       "      <td>7.9</td>\n",
       "      <td>-</td>\n",
       "    </tr>\n",
       "    <tr>\n",
       "      <th>4</th>\n",
       "      <td>PGDDS 6</td>\n",
       "      <td>26</td>\n",
       "      <td>1</td>\n",
       "      <td>25</td>\n",
       "      <td>20</td>\n",
       "      <td>0.800000</td>\n",
       "      <td>6.8</td>\n",
       "      <td>-</td>\n",
       "    </tr>\n",
       "    <tr>\n",
       "      <th>3</th>\n",
       "      <td>PGDDS 5</td>\n",
       "      <td>12</td>\n",
       "      <td>2</td>\n",
       "      <td>10</td>\n",
       "      <td>8</td>\n",
       "      <td>0.800000</td>\n",
       "      <td>4.7</td>\n",
       "      <td>-</td>\n",
       "    </tr>\n",
       "  </tbody>\n",
       "</table>\n",
       "</div>"
      ],
      "text/plain": [
       "      Batch  No. of Students Enrolled  \\\n",
       "2   PGDDS 4                        73   \n",
       "6   PGDDS 8                        61   \n",
       "5   PGDDS 7                       115   \n",
       "0   PGDDS 2                        40   \n",
       "8  PGDDS 10                        34   \n",
       "1   PGDDS 3                        25   \n",
       "7   PGDDS 9                        22   \n",
       "4   PGDDS 6                        26   \n",
       "3   PGDDS 5                        12   \n",
       "\n",
       "   No. of Students opted out/not eligible for placements  eligible  placed  \\\n",
       "2                                                  9            64      61   \n",
       "6                                                 16            45      50   \n",
       "5                                                  1           114      48   \n",
       "0                                                  0            40      37   \n",
       "8                                                  0            34      33   \n",
       "1                                                  0            25      23   \n",
       "7                                                  0            22      22   \n",
       "4                                                  1            25      20   \n",
       "3                                                  2            10       8   \n",
       "\n",
       "      Ratio  Avg CTC Remarks  \n",
       "2  0.953125      5.9       -  \n",
       "6  1.111111      5.4       -  \n",
       "5  0.421053      6.0       -  \n",
       "0  0.925000      6.5       -  \n",
       "8  0.970000      6.2       -  \n",
       "1  0.920000      6.1       -  \n",
       "7  1.000000      7.9       -  \n",
       "4  0.800000      6.8       -  \n",
       "3  0.800000      4.7       -  "
      ]
     },
     "execution_count": 46,
     "metadata": {},
     "output_type": "execute_result"
    }
   ],
   "source": [
    "data.sort_values('placed',ascending = False)"
   ]
  },
  {
   "cell_type": "code",
   "execution_count": 50,
   "id": "14a4dc96",
   "metadata": {},
   "outputs": [
    {
     "data": {
      "text/plain": [
       "(array([1., 0., 0., 0., 2., 0., 3., 2., 1.]),\n",
       " array([0.42105263, 0.4977258 , 0.57439896, 0.65107212, 0.72774529,\n",
       "        0.80441845, 0.88109162, 0.95776478, 1.03443795, 1.11111111]),\n",
       " <BarContainer object of 9 artists>)"
      ]
     },
     "execution_count": 50,
     "metadata": {},
     "output_type": "execute_result"
    },
    {
     "data": {
      "image/png": "[encoded data removed]",
      "text/plain": [
       "<Figure size 640x480 with 1 Axes>"
      ]
     },
     "metadata": {},
     "output_type": "display_data"
    }
   ],
   "source": [
    "from matplotlib import style\n",
    "style.use('classic')\n",
    "plt.hist(data.Ratio,bins = 9)"
   ]
  },
  {
   "cell_type": "code",
   "execution_count": 52,
   "id": "6a12ddb2",
   "metadata": {},
   "outputs": [
    {
     "name": "stderr",
     "output_type": "stream",
     "text": [
      "/Library/Frameworks/Python.framework/Versions/3.9/lib/python3.9/site-packages/seaborn/axisgrid.py:337: UserWarning: The `size` parameter has been renamed to `height`; please update your code.\n",
      "  warnings.warn(msg, UserWarning)\n"
     ]
    },
    {
     "data": {
      "text/plain": [
       "<seaborn.axisgrid.FacetGrid at 0x7fcef0f98490>"
      ]
     },
     "execution_count": 52,
     "metadata": {},
     "output_type": "execute_result"
    },
    {
     "data": {
      "image/png": "[encoded data removed]",
      "text/plain": [
       "<Figure size 7200x320 with 9 Axes>"
      ]
     },
     "metadata": {},
     "output_type": "display_data"
    }
   ],
   "source": [
    "sns.FacetGrid(col=\"Batch\",col_wrap = 25,aspect=0.9,size=4,data =data).map(plt.scatter,'placed','eligible')"
   ]
  },
  {
   "cell_type": "code",
   "execution_count": 53,
   "id": "38cbfc6f",
   "metadata": {},
   "outputs": [
    {
     "data": {
      "text/plain": [
       "[<matplotlib.lines.Line2D at 0x7fced2c83520>]"
      ]
     },
     "execution_count": 53,
     "metadata": {},
     "output_type": "execute_result"
    },
    {
     "data": {
      "image/png": "[encoded data removed]",
      "text/plain": [
       "<Figure size 640x480 with 1 Axes>"
      ]
     },
     "metadata": {},
     "output_type": "display_data"
    }
   ],
   "source": [
    "plt.plot(data['No. of Students opted out/not eligible for placements'])"
   ]
  },
  {
   "cell_type": "code",
   "execution_count": 56,
   "id": "5e392070",
   "metadata": {},
   "outputs": [
    {
     "data": {
      "text/html": [
       "<div>\n",
       "<style scoped>\n",
       "    .dataframe tbody tr th:only-of-type {\n",
       "        vertical-align: middle;\n",
       "    }\n",
       "\n",
       "    .dataframe tbody tr th {\n",
       "        vertical-align: top;\n",
       "    }\n",
       "\n",
       "    .dataframe thead th {\n",
       "        text-align: right;\n",
       "    }\n",
       "</style>\n",
       "<table border=\"1\" class=\"dataframe\">\n",
       "  <thead>\n",
       "    <tr style=\"text-align: right;\">\n",
       "      <th></th>\n",
       "      <th>Batch</th>\n",
       "      <th>No. of Students Enrolled</th>\n",
       "      <th>No. of Students opted out/not eligible for placements</th>\n",
       "      <th>eligible</th>\n",
       "      <th>placed</th>\n",
       "      <th>Ratio</th>\n",
       "      <th>Avg CTC</th>\n",
       "      <th>Remarks</th>\n",
       "    </tr>\n",
       "  </thead>\n",
       "  <tbody>\n",
       "    <tr>\n",
       "      <th>6</th>\n",
       "      <td>PGDDS 8</td>\n",
       "      <td>61</td>\n",
       "      <td>16</td>\n",
       "      <td>45</td>\n",
       "      <td>50</td>\n",
       "      <td>1.111111</td>\n",
       "      <td>5.4</td>\n",
       "      <td>-</td>\n",
       "    </tr>\n",
       "    <tr>\n",
       "      <th>2</th>\n",
       "      <td>PGDDS 4</td>\n",
       "      <td>73</td>\n",
       "      <td>9</td>\n",
       "      <td>64</td>\n",
       "      <td>61</td>\n",
       "      <td>0.953125</td>\n",
       "      <td>5.9</td>\n",
       "      <td>-</td>\n",
       "    </tr>\n",
       "  </tbody>\n",
       "</table>\n",
       "</div>"
      ],
      "text/plain": [
       "     Batch  No. of Students Enrolled  \\\n",
       "6  PGDDS 8                        61   \n",
       "2  PGDDS 4                        73   \n",
       "\n",
       "   No. of Students opted out/not eligible for placements  eligible  placed  \\\n",
       "6                                                 16            45      50   \n",
       "2                                                  9            64      61   \n",
       "\n",
       "      Ratio  Avg CTC Remarks  \n",
       "6  1.111111      5.4       -  \n",
       "2  0.953125      5.9       -  "
      ]
     },
     "execution_count": 56,
     "metadata": {},
     "output_type": "execute_result"
    }
   ],
   "source": [
    "data.sort_values('No. of Students opted out/not eligible for placements',ascending = False).head(2)"
   ]
  },
  {
   "cell_type": "code",
   "execution_count": 62,
   "id": "a562c0cf",
   "metadata": {},
   "outputs": [
    {
     "data": {
      "text/html": [
       "<div>\n",
       "<style scoped>\n",
       "    .dataframe tbody tr th:only-of-type {\n",
       "        vertical-align: middle;\n",
       "    }\n",
       "\n",
       "    .dataframe tbody tr th {\n",
       "        vertical-align: top;\n",
       "    }\n",
       "\n",
       "    .dataframe thead th {\n",
       "        text-align: right;\n",
       "    }\n",
       "</style>\n",
       "<table border=\"1\" class=\"dataframe\">\n",
       "  <thead>\n",
       "    <tr style=\"text-align: right;\">\n",
       "      <th></th>\n",
       "      <th>Batch</th>\n",
       "      <th>No. of Students Enrolled</th>\n",
       "      <th>No. of Students opted out/not eligible for placements</th>\n",
       "      <th>eligible</th>\n",
       "      <th>placed</th>\n",
       "      <th>Ratio</th>\n",
       "      <th>Avg CTC</th>\n",
       "      <th>Remarks</th>\n",
       "      <th>not_placed</th>\n",
       "    </tr>\n",
       "  </thead>\n",
       "  <tbody>\n",
       "    <tr>\n",
       "      <th>6</th>\n",
       "      <td>PGDDS 8</td>\n",
       "      <td>61</td>\n",
       "      <td>16</td>\n",
       "      <td>45</td>\n",
       "      <td>50</td>\n",
       "      <td>1.111111</td>\n",
       "      <td>5.4</td>\n",
       "      <td>-</td>\n",
       "      <td>-5</td>\n",
       "    </tr>\n",
       "  </tbody>\n",
       "</table>\n",
       "</div>"
      ],
      "text/plain": [
       "     Batch  No. of Students Enrolled  \\\n",
       "6  PGDDS 8                        61   \n",
       "\n",
       "   No. of Students opted out/not eligible for placements  eligible  placed  \\\n",
       "6                                                 16            45      50   \n",
       "\n",
       "      Ratio  Avg CTC Remarks  not_placed  \n",
       "6  1.111111      5.4       -          -5  "
      ]
     },
     "execution_count": 62,
     "metadata": {},
     "output_type": "execute_result"
    }
   ],
   "source": [
    "data['not_placed'] = data['eligible']-data['placed']\n",
    "data.query('not_placed < 0') "
   ]
  },
  {
   "cell_type": "code",
   "execution_count": 75,
   "id": "ae8b9207",
   "metadata": {},
   "outputs": [
    {
     "name": "stdout",
     "output_type": "stream",
     "text": [
      "79.68337730870712\n",
      "20.316622691292878\n"
     ]
    }
   ],
   "source": [
    "#number of students available in all batches \n",
    "a = data['eligible'].sum()\n",
    "b = data['placed'].sum()\n",
    "c = b/a \n",
    "print(c*100)\n",
    "print(100-c*100)\n",
    "#79.68 percent of the eligible students are placed \n",
    "#20.31 percent of the eligible students are not placed"
   ]
  },
  {
   "cell_type": "code",
   "execution_count": 76,
   "id": "8b838b65",
   "metadata": {},
   "outputs": [
    {
     "data": {
      "text/plain": [
       "Index(['Batch', 'No. of Students Enrolled',\n",
       "       'No. of Students opted out/not eligible for placements', 'eligible',\n",
       "       'placed', 'Ratio', 'Avg CTC', 'Remarks', 'not_placed'],\n",
       "      dtype='object')"
      ]
     },
     "execution_count": 76,
     "metadata": {},
     "output_type": "execute_result"
    }
   ],
   "source": [
    "# batch with highest avg ctc \n",
    "data.columns"
   ]
  },
  {
   "cell_type": "code",
   "execution_count": 77,
   "id": "9afc123f",
   "metadata": {},
   "outputs": [
    {
     "data": {
      "text/html": [
       "<div>\n",
       "<style scoped>\n",
       "    .dataframe tbody tr th:only-of-type {\n",
       "        vertical-align: middle;\n",
       "    }\n",
       "\n",
       "    .dataframe tbody tr th {\n",
       "        vertical-align: top;\n",
       "    }\n",
       "\n",
       "    .dataframe thead th {\n",
       "        text-align: right;\n",
       "    }\n",
       "</style>\n",
       "<table border=\"1\" class=\"dataframe\">\n",
       "  <thead>\n",
       "    <tr style=\"text-align: right;\">\n",
       "      <th></th>\n",
       "      <th>Batch</th>\n",
       "      <th>No. of Students Enrolled</th>\n",
       "      <th>No. of Students opted out/not eligible for placements</th>\n",
       "      <th>eligible</th>\n",
       "      <th>placed</th>\n",
       "      <th>Ratio</th>\n",
       "      <th>Avg CTC</th>\n",
       "      <th>Remarks</th>\n",
       "      <th>not_placed</th>\n",
       "    </tr>\n",
       "  </thead>\n",
       "  <tbody>\n",
       "    <tr>\n",
       "      <th>7</th>\n",
       "      <td>PGDDS 9</td>\n",
       "      <td>22</td>\n",
       "      <td>0</td>\n",
       "      <td>22</td>\n",
       "      <td>22</td>\n",
       "      <td>1.000000</td>\n",
       "      <td>7.9</td>\n",
       "      <td>-</td>\n",
       "      <td>0</td>\n",
       "    </tr>\n",
       "    <tr>\n",
       "      <th>4</th>\n",
       "      <td>PGDDS 6</td>\n",
       "      <td>26</td>\n",
       "      <td>1</td>\n",
       "      <td>25</td>\n",
       "      <td>20</td>\n",
       "      <td>0.800000</td>\n",
       "      <td>6.8</td>\n",
       "      <td>-</td>\n",
       "      <td>5</td>\n",
       "    </tr>\n",
       "    <tr>\n",
       "      <th>0</th>\n",
       "      <td>PGDDS 2</td>\n",
       "      <td>40</td>\n",
       "      <td>0</td>\n",
       "      <td>40</td>\n",
       "      <td>37</td>\n",
       "      <td>0.925000</td>\n",
       "      <td>6.5</td>\n",
       "      <td>-</td>\n",
       "      <td>3</td>\n",
       "    </tr>\n",
       "    <tr>\n",
       "      <th>8</th>\n",
       "      <td>PGDDS 10</td>\n",
       "      <td>34</td>\n",
       "      <td>0</td>\n",
       "      <td>34</td>\n",
       "      <td>33</td>\n",
       "      <td>0.970000</td>\n",
       "      <td>6.2</td>\n",
       "      <td>-</td>\n",
       "      <td>1</td>\n",
       "    </tr>\n",
       "    <tr>\n",
       "      <th>1</th>\n",
       "      <td>PGDDS 3</td>\n",
       "      <td>25</td>\n",
       "      <td>0</td>\n",
       "      <td>25</td>\n",
       "      <td>23</td>\n",
       "      <td>0.920000</td>\n",
       "      <td>6.1</td>\n",
       "      <td>-</td>\n",
       "      <td>2</td>\n",
       "    </tr>\n",
       "    <tr>\n",
       "      <th>5</th>\n",
       "      <td>PGDDS 7</td>\n",
       "      <td>115</td>\n",
       "      <td>1</td>\n",
       "      <td>114</td>\n",
       "      <td>48</td>\n",
       "      <td>0.421053</td>\n",
       "      <td>6.0</td>\n",
       "      <td>-</td>\n",
       "      <td>66</td>\n",
       "    </tr>\n",
       "    <tr>\n",
       "      <th>2</th>\n",
       "      <td>PGDDS 4</td>\n",
       "      <td>73</td>\n",
       "      <td>9</td>\n",
       "      <td>64</td>\n",
       "      <td>61</td>\n",
       "      <td>0.953125</td>\n",
       "      <td>5.9</td>\n",
       "      <td>-</td>\n",
       "      <td>3</td>\n",
       "    </tr>\n",
       "    <tr>\n",
       "      <th>6</th>\n",
       "      <td>PGDDS 8</td>\n",
       "      <td>61</td>\n",
       "      <td>16</td>\n",
       "      <td>45</td>\n",
       "      <td>50</td>\n",
       "      <td>1.111111</td>\n",
       "      <td>5.4</td>\n",
       "      <td>-</td>\n",
       "      <td>-5</td>\n",
       "    </tr>\n",
       "    <tr>\n",
       "      <th>3</th>\n",
       "      <td>PGDDS 5</td>\n",
       "      <td>12</td>\n",
       "      <td>2</td>\n",
       "      <td>10</td>\n",
       "      <td>8</td>\n",
       "      <td>0.800000</td>\n",
       "      <td>4.7</td>\n",
       "      <td>-</td>\n",
       "      <td>2</td>\n",
       "    </tr>\n",
       "  </tbody>\n",
       "</table>\n",
       "</div>"
      ],
      "text/plain": [
       "      Batch  No. of Students Enrolled  \\\n",
       "7   PGDDS 9                        22   \n",
       "4   PGDDS 6                        26   \n",
       "0   PGDDS 2                        40   \n",
       "8  PGDDS 10                        34   \n",
       "1   PGDDS 3                        25   \n",
       "5   PGDDS 7                       115   \n",
       "2   PGDDS 4                        73   \n",
       "6   PGDDS 8                        61   \n",
       "3   PGDDS 5                        12   \n",
       "\n",
       "   No. of Students opted out/not eligible for placements  eligible  placed  \\\n",
       "7                                                  0            22      22   \n",
       "4                                                  1            25      20   \n",
       "0                                                  0            40      37   \n",
       "8                                                  0            34      33   \n",
       "1                                                  0            25      23   \n",
       "5                                                  1           114      48   \n",
       "2                                                  9            64      61   \n",
       "6                                                 16            45      50   \n",
       "3                                                  2            10       8   \n",
       "\n",
       "      Ratio  Avg CTC Remarks  not_placed  \n",
       "7  1.000000      7.9       -           0  \n",
       "4  0.800000      6.8       -           5  \n",
       "0  0.925000      6.5       -           3  \n",
       "8  0.970000      6.2       -           1  \n",
       "1  0.920000      6.1       -           2  \n",
       "5  0.421053      6.0       -          66  \n",
       "2  0.953125      5.9       -           3  \n",
       "6  1.111111      5.4       -          -5  \n",
       "3  0.800000      4.7       -           2  "
      ]
     },
     "execution_count": 77,
     "metadata": {},
     "output_type": "execute_result"
    }
   ],
   "source": [
    "data.sort_values('Avg CTC',ascending= False)"
   ]
  },
  {
   "cell_type": "code",
   "execution_count": 88,
   "id": "9bbd4ac0",
   "metadata": {},
   "outputs": [
    {
     "data": {
      "image/png": "[encoded data removed]",
      "text/plain": [
       "<Figure size 640x480 with 1 Axes>"
      ]
     },
     "metadata": {},
     "output_type": "display_data"
    }
   ],
   "source": [
    "#comparing Avg ctc wrt to placed\n",
    "a = plt.scatter(x= data['Ratio'] ,y = data['Avg CTC'], color = \"Magenta\", alpha = 0.69)\n",
    "\n"
   ]
  },
  {
   "cell_type": "code",
   "execution_count": null,
   "id": "01cad0e9",
   "metadata": {},
   "outputs": [],
   "source": []
  },
  {
   "cell_type": "code",
   "execution_count": 89,
   "id": "02f7158a",
   "metadata": {},
   "outputs": [
    {
     "data": {
      "text/plain": [
       "{'whiskers': [<matplotlib.lines.Line2D at 0x7fce801cadc0>,\n",
       "  <matplotlib.lines.Line2D at 0x7fce801da0d0>],\n",
       " 'caps': [<matplotlib.lines.Line2D at 0x7fce801da3d0>,\n",
       "  <matplotlib.lines.Line2D at 0x7fce801da6a0>],\n",
       " 'boxes': [<matplotlib.lines.Line2D at 0x7fce801caaf0>],\n",
       " 'medians': [<matplotlib.lines.Line2D at 0x7fce801da970>],\n",
       " 'fliers': [<matplotlib.lines.Line2D at 0x7fce801dac40>],\n",
       " 'means': []}"
      ]
     },
     "execution_count": 89,
     "metadata": {},
     "output_type": "execute_result"
    },
    {
     "data": {
      "image/png": "[encoded data removed]",
      "text/plain": [
       "<Figure size 640x480 with 1 Axes>"
      ]
     },
     "metadata": {},
     "output_type": "display_data"
    }
   ],
   "source": [
    "plt.boxplot(data['Ratio'],vert = False)"
   ]
  },
  {
   "cell_type": "code",
   "execution_count": 93,
   "id": "ede94efc",
   "metadata": {},
   "outputs": [
    {
     "data": {
      "text/plain": [
       "5    PGDDS 7\n",
       "Name: Batch, dtype: object"
      ]
     },
     "execution_count": 93,
     "metadata": {},
     "output_type": "execute_result"
    }
   ],
   "source": [
    "#finding outlier\n",
    "data.query('Ratio < 0.5')['Batch']"
   ]
  },
  {
   "cell_type": "code",
   "execution_count": 94,
   "id": "cbcaedcc",
   "metadata": {},
   "outputs": [
    {
     "data": {
      "text/plain": [
       "(array([1., 2., 4., 1., 1.]),\n",
       " array([4.7 , 5.34, 5.98, 6.62, 7.26, 7.9 ]),\n",
       " <BarContainer object of 5 artists>)"
      ]
     },
     "execution_count": 94,
     "metadata": {},
     "output_type": "execute_result"
    },
    {
     "data": {
      "image/png": "[encoded data removed]",
      "text/plain": [
       "<Figure size 640x480 with 1 Axes>"
      ]
     },
     "metadata": {},
     "output_type": "display_data"
    }
   ],
   "source": [
    "#histogram of avg ctc\n",
    "plt.hist(data['Avg CTC'],bins = 5)"
   ]
  },
  {
   "cell_type": "code",
   "execution_count": 95,
   "id": "586f9dc5",
   "metadata": {},
   "outputs": [
    {
     "data": {
      "text/plain": [
       "[<matplotlib.lines.Line2D at 0x7fcee1b490a0>]"
      ]
     },
     "execution_count": 95,
     "metadata": {},
     "output_type": "execute_result"
    },
    {
     "data": {
      "image/png": "[encoded data removed]",
      "text/plain": [
       "<Figure size 640x480 with 1 Axes>"
      ]
     },
     "metadata": {},
     "output_type": "display_data"
    }
   ],
   "source": [
    "plt.plot(data['Avg CTC'])"
   ]
  },
  {
   "cell_type": "code",
   "execution_count": 96,
   "id": "78577852",
   "metadata": {},
   "outputs": [
    {
     "data": {
      "text/plain": [
       "6.166666666666668"
      ]
     },
     "execution_count": 96,
     "metadata": {},
     "output_type": "execute_result"
    }
   ],
   "source": [
    "data['Avg CTC'].mean()"
   ]
  },
  {
   "cell_type": "code",
   "execution_count": 97,
   "id": "a4a4303d",
   "metadata": {},
   "outputs": [
    {
     "data": {
      "text/plain": [
       "0.8778098602988954"
      ]
     },
     "execution_count": 97,
     "metadata": {},
     "output_type": "execute_result"
    }
   ],
   "source": [
    "data['Ratio'].mean()"
   ]
  },
  {
   "cell_type": "code",
   "execution_count": 99,
   "id": "754500e6",
   "metadata": {},
   "outputs": [
    {
     "data": {
      "text/plain": [
       "0.07107843137254902"
      ]
     },
     "execution_count": 99,
     "metadata": {},
     "output_type": "execute_result"
    }
   ],
   "source": [
    "a = data['No. of Students opted out/not eligible for placements'].sum()\n",
    "b = data['No. of Students Enrolled'].sum()\n",
    "c = a/b\n",
    "c\n",
    "#percent of not eligible\n"
   ]
  },
  {
   "cell_type": "code",
   "execution_count": null,
   "id": "e191e3c3",
   "metadata": {},
   "outputs": [],
   "source": []
  },
  {
   "cell_type": "markdown",
   "id": "27899f62",
   "metadata": {},
   "source": [
    "# POINTS FROM THE BATCH DATASET \n",
    "  \n",
    "  1) ON an average 33.33 people were placed in each batch \n",
    "  2) The Placement ratio on an average is 0.87\n",
    "  3) 79.6 percent of the total eligible candidates are placed \n",
    "  4) 20.3 percent are not placed \n",
    "  5) batches 8 and 4 have highest number of non eligible candidates /not opted for placement candidates \n",
    "  6) 7 percent of the candidates enrolled have been opted out of placements \n",
    "  7) The avg CTC is 6.1 , batch 9 has the highest avg ctc and a 100 percent placement ratio \n",
    "  8) A linear increasing trend between the no of students enrolled/eligible  and the no of students placed\n",
    "  9) decreasing trend on the number of people placed and avg ctc \n",
    "  10) batches 8 and 9 have the highest placement ratio above in 9 which means that 5 students not eligible for placements got placed here \n",
    "  \n",
    "  \n",
    "  \n",
    "   \n"
   ]
  },
  {
   "cell_type": "code",
   "execution_count": 105,
   "id": "cc743262",
   "metadata": {},
   "outputs": [
    {
     "data": {
      "text/html": [
       "<div>\n",
       "<style scoped>\n",
       "    .dataframe tbody tr th:only-of-type {\n",
       "        vertical-align: middle;\n",
       "    }\n",
       "\n",
       "    .dataframe tbody tr th {\n",
       "        vertical-align: top;\n",
       "    }\n",
       "\n",
       "    .dataframe thead th {\n",
       "        text-align: right;\n",
       "    }\n",
       "</style>\n",
       "<table border=\"1\" class=\"dataframe\">\n",
       "  <thead>\n",
       "    <tr style=\"text-align: right;\">\n",
       "      <th></th>\n",
       "      <th>2020-21 PGDDS Placements Stats</th>\n",
       "      <th>Unnamed: 1</th>\n",
       "      <th>Unnamed: 2</th>\n",
       "      <th>Unnamed: 3</th>\n",
       "      <th>Unnamed: 4</th>\n",
       "      <th>Unnamed: 5</th>\n",
       "      <th>Unnamed: 6</th>\n",
       "      <th>Unnamed: 7</th>\n",
       "    </tr>\n",
       "  </thead>\n",
       "  <tbody>\n",
       "    <tr>\n",
       "      <th>0</th>\n",
       "      <td>NaN</td>\n",
       "      <td>NaN</td>\n",
       "      <td>NaN</td>\n",
       "      <td>NaN</td>\n",
       "      <td>NaN</td>\n",
       "      <td>NaN</td>\n",
       "      <td>NaN</td>\n",
       "      <td>NaN</td>\n",
       "    </tr>\n",
       "    <tr>\n",
       "      <th>1</th>\n",
       "      <td>Serial #</td>\n",
       "      <td>Course</td>\n",
       "      <td>Month &amp; Year</td>\n",
       "      <td>Names</td>\n",
       "      <td>Designation</td>\n",
       "      <td>Company</td>\n",
       "      <td>Location</td>\n",
       "      <td>CTC in LPA</td>\n",
       "    </tr>\n",
       "    <tr>\n",
       "      <th>2</th>\n",
       "      <td>1</td>\n",
       "      <td>PGDDS 8</td>\n",
       "      <td>2021-04-01 00:00:00</td>\n",
       "      <td>Maka Naga Kalyan</td>\n",
       "      <td>Executive, Data Scientist</td>\n",
       "      <td>Nielsen</td>\n",
       "      <td>Bangalore</td>\n",
       "      <td>6.5</td>\n",
       "    </tr>\n",
       "    <tr>\n",
       "      <th>3</th>\n",
       "      <td>2</td>\n",
       "      <td>PGDDS 7</td>\n",
       "      <td>2021-04-01 00:00:00</td>\n",
       "      <td>Saurabh P</td>\n",
       "      <td>Executive, Data Scientist</td>\n",
       "      <td>Nielsen</td>\n",
       "      <td>Bangalore</td>\n",
       "      <td>6.5</td>\n",
       "    </tr>\n",
       "    <tr>\n",
       "      <th>4</th>\n",
       "      <td>3</td>\n",
       "      <td>PGDDS 8</td>\n",
       "      <td>2021-05-01 00:00:00</td>\n",
       "      <td>Swapnil Singh</td>\n",
       "      <td>Sr. Machine Learning Scientist</td>\n",
       "      <td>Dhiomics</td>\n",
       "      <td>Bangalore</td>\n",
       "      <td>4.5</td>\n",
       "    </tr>\n",
       "    <tr>\n",
       "      <th>...</th>\n",
       "      <td>...</td>\n",
       "      <td>...</td>\n",
       "      <td>...</td>\n",
       "      <td>...</td>\n",
       "      <td>...</td>\n",
       "      <td>...</td>\n",
       "      <td>...</td>\n",
       "      <td>...</td>\n",
       "    </tr>\n",
       "    <tr>\n",
       "      <th>74</th>\n",
       "      <td>73</td>\n",
       "      <td>PGDDS 10</td>\n",
       "      <td>2022-02-01 00:00:00</td>\n",
       "      <td>AYUSH SAXENA</td>\n",
       "      <td>Data Analyst</td>\n",
       "      <td>Litmus World</td>\n",
       "      <td>Bangalore</td>\n",
       "      <td>6</td>\n",
       "    </tr>\n",
       "    <tr>\n",
       "      <th>75</th>\n",
       "      <td>74</td>\n",
       "      <td>PGDDS 10</td>\n",
       "      <td>2022-03-01 00:00:00</td>\n",
       "      <td>ASHWINI PRAKASH</td>\n",
       "      <td>Analyst</td>\n",
       "      <td>Cognitio Analytics</td>\n",
       "      <td>Gurgaon</td>\n",
       "      <td>8</td>\n",
       "    </tr>\n",
       "    <tr>\n",
       "      <th>76</th>\n",
       "      <td>75</td>\n",
       "      <td>PGDDS 9</td>\n",
       "      <td>2022-03-01 00:00:00</td>\n",
       "      <td>Muskaan Sharma</td>\n",
       "      <td>Support</td>\n",
       "      <td>Lyra infosystem</td>\n",
       "      <td>Bangalore</td>\n",
       "      <td>3</td>\n",
       "    </tr>\n",
       "    <tr>\n",
       "      <th>77</th>\n",
       "      <td>76</td>\n",
       "      <td>PGDDS 10</td>\n",
       "      <td>2022-03-01 00:00:00</td>\n",
       "      <td>YADANNAVAR RISHIKA SANJEEV</td>\n",
       "      <td>AI ML Software Engineer</td>\n",
       "      <td>Mimaag AI</td>\n",
       "      <td>Bangalore</td>\n",
       "      <td>6</td>\n",
       "    </tr>\n",
       "    <tr>\n",
       "      <th>78</th>\n",
       "      <td>77</td>\n",
       "      <td>PGDDS 10</td>\n",
       "      <td>2022-03-01 00:00:00</td>\n",
       "      <td>Aaron</td>\n",
       "      <td>Associate Consultant</td>\n",
       "      <td>EY</td>\n",
       "      <td>Bangalore</td>\n",
       "      <td>7.5</td>\n",
       "    </tr>\n",
       "  </tbody>\n",
       "</table>\n",
       "<p>79 rows × 8 columns</p>\n",
       "</div>"
      ],
      "text/plain": [
       "   2020-21 PGDDS Placements Stats Unnamed: 1           Unnamed: 2  \\\n",
       "0                             NaN        NaN                  NaN   \n",
       "1                        Serial #     Course         Month & Year   \n",
       "2                               1    PGDDS 8  2021-04-01 00:00:00   \n",
       "3                               2    PGDDS 7  2021-04-01 00:00:00   \n",
       "4                               3    PGDDS 8  2021-05-01 00:00:00   \n",
       "..                            ...        ...                  ...   \n",
       "74                             73   PGDDS 10  2022-02-01 00:00:00   \n",
       "75                             74   PGDDS 10  2022-03-01 00:00:00   \n",
       "76                             75    PGDDS 9  2022-03-01 00:00:00   \n",
       "77                             76   PGDDS 10  2022-03-01 00:00:00   \n",
       "78                             77   PGDDS 10  2022-03-01 00:00:00   \n",
       "\n",
       "                    Unnamed: 3                      Unnamed: 4  \\\n",
       "0                          NaN                             NaN   \n",
       "1                        Names                     Designation   \n",
       "2             Maka Naga Kalyan       Executive, Data Scientist   \n",
       "3                    Saurabh P       Executive, Data Scientist   \n",
       "4                Swapnil Singh  Sr. Machine Learning Scientist   \n",
       "..                         ...                             ...   \n",
       "74                AYUSH SAXENA                    Data Analyst   \n",
       "75             ASHWINI PRAKASH                         Analyst   \n",
       "76              Muskaan Sharma                         Support   \n",
       "77  YADANNAVAR RISHIKA SANJEEV         AI ML Software Engineer   \n",
       "78                       Aaron            Associate Consultant   \n",
       "\n",
       "            Unnamed: 5 Unnamed: 6  Unnamed: 7  \n",
       "0                  NaN        NaN         NaN  \n",
       "1              Company   Location  CTC in LPA  \n",
       "2              Nielsen  Bangalore         6.5  \n",
       "3              Nielsen  Bangalore         6.5  \n",
       "4             Dhiomics  Bangalore         4.5  \n",
       "..                 ...        ...         ...  \n",
       "74        Litmus World  Bangalore           6  \n",
       "75  Cognitio Analytics    Gurgaon           8  \n",
       "76     Lyra infosystem  Bangalore           3  \n",
       "77           Mimaag AI  Bangalore           6  \n",
       "78                  EY  Bangalore         7.5  \n",
       "\n",
       "[79 rows x 8 columns]"
      ]
     },
     "execution_count": 105,
     "metadata": {},
     "output_type": "execute_result"
    }
   ],
   "source": [
    "d1\n"
   ]
  },
  {
   "cell_type": "code",
   "execution_count": 107,
   "id": "463bd6f2",
   "metadata": {},
   "outputs": [
    {
     "data": {
      "text/html": [
       "<div>\n",
       "<style scoped>\n",
       "    .dataframe tbody tr th:only-of-type {\n",
       "        vertical-align: middle;\n",
       "    }\n",
       "\n",
       "    .dataframe tbody tr th {\n",
       "        vertical-align: top;\n",
       "    }\n",
       "\n",
       "    .dataframe thead th {\n",
       "        text-align: right;\n",
       "    }\n",
       "</style>\n",
       "<table border=\"1\" class=\"dataframe\">\n",
       "  <thead>\n",
       "    <tr style=\"text-align: right;\">\n",
       "      <th></th>\n",
       "      <th>2020-21 PGDDS Placements Stats</th>\n",
       "      <th>Unnamed: 1</th>\n",
       "      <th>Unnamed: 2</th>\n",
       "      <th>Unnamed: 3</th>\n",
       "      <th>Unnamed: 4</th>\n",
       "      <th>Unnamed: 5</th>\n",
       "      <th>Unnamed: 6</th>\n",
       "      <th>Unnamed: 7</th>\n",
       "    </tr>\n",
       "  </thead>\n",
       "  <tbody>\n",
       "    <tr>\n",
       "      <th>0</th>\n",
       "      <td>NaN</td>\n",
       "      <td>NaN</td>\n",
       "      <td>NaN</td>\n",
       "      <td>NaN</td>\n",
       "      <td>NaN</td>\n",
       "      <td>NaN</td>\n",
       "      <td>NaN</td>\n",
       "      <td>NaN</td>\n",
       "    </tr>\n",
       "    <tr>\n",
       "      <th>1</th>\n",
       "      <td>Serial #</td>\n",
       "      <td>Course</td>\n",
       "      <td>Month &amp; Year</td>\n",
       "      <td>Names</td>\n",
       "      <td>Designation</td>\n",
       "      <td>Company</td>\n",
       "      <td>Location</td>\n",
       "      <td>CTC in LPA</td>\n",
       "    </tr>\n",
       "  </tbody>\n",
       "</table>\n",
       "</div>"
      ],
      "text/plain": [
       "  2020-21 PGDDS Placements Stats Unnamed: 1    Unnamed: 2 Unnamed: 3  \\\n",
       "0                            NaN        NaN           NaN        NaN   \n",
       "1                       Serial #     Course  Month & Year      Names   \n",
       "\n",
       "    Unnamed: 4 Unnamed: 5 Unnamed: 6  Unnamed: 7  \n",
       "0          NaN        NaN        NaN         NaN  \n",
       "1  Designation    Company   Location  CTC in LPA  "
      ]
     },
     "execution_count": 107,
     "metadata": {},
     "output_type": "execute_result"
    }
   ],
   "source": [
    "d1.head(2)\n"
   ]
  },
  {
   "cell_type": "code",
   "execution_count": 108,
   "id": "30e6724d",
   "metadata": {},
   "outputs": [
    {
     "data": {
      "text/html": [
       "<div>\n",
       "<style scoped>\n",
       "    .dataframe tbody tr th:only-of-type {\n",
       "        vertical-align: middle;\n",
       "    }\n",
       "\n",
       "    .dataframe tbody tr th {\n",
       "        vertical-align: top;\n",
       "    }\n",
       "\n",
       "    .dataframe thead th {\n",
       "        text-align: right;\n",
       "    }\n",
       "</style>\n",
       "<table border=\"1\" class=\"dataframe\">\n",
       "  <thead>\n",
       "    <tr style=\"text-align: right;\">\n",
       "      <th></th>\n",
       "      <th>Serial #</th>\n",
       "      <th>Batch</th>\n",
       "      <th>Student Name</th>\n",
       "      <th>Gender</th>\n",
       "      <th>Company</th>\n",
       "      <th>CTC in LPA</th>\n",
       "      <th>Location</th>\n",
       "    </tr>\n",
       "  </thead>\n",
       "  <tbody>\n",
       "    <tr>\n",
       "      <th>0</th>\n",
       "      <td>1</td>\n",
       "      <td>Batch 2</td>\n",
       "      <td>Abhirupa Lodh</td>\n",
       "      <td>F</td>\n",
       "      <td>Litmusworld</td>\n",
       "      <td>8.25</td>\n",
       "      <td>Bangalore</td>\n",
       "    </tr>\n",
       "    <tr>\n",
       "      <th>1</th>\n",
       "      <td>2</td>\n",
       "      <td>Batch 2</td>\n",
       "      <td>Abhishek Reddy Tippani</td>\n",
       "      <td>M</td>\n",
       "      <td>Easy Rewardz</td>\n",
       "      <td>7.95</td>\n",
       "      <td>Gurgaon</td>\n",
       "    </tr>\n",
       "    <tr>\n",
       "      <th>2</th>\n",
       "      <td>3</td>\n",
       "      <td>Batch 2</td>\n",
       "      <td>Akansha Singh</td>\n",
       "      <td>F</td>\n",
       "      <td>Tara Tech</td>\n",
       "      <td>3.8</td>\n",
       "      <td>Bangalore</td>\n",
       "    </tr>\n",
       "    <tr>\n",
       "      <th>3</th>\n",
       "      <td>4</td>\n",
       "      <td>Batch 2</td>\n",
       "      <td>Anshul Sagar</td>\n",
       "      <td>M</td>\n",
       "      <td>Outsourced</td>\n",
       "      <td>-</td>\n",
       "      <td>Bangalore</td>\n",
       "    </tr>\n",
       "    <tr>\n",
       "      <th>4</th>\n",
       "      <td>5</td>\n",
       "      <td>Batch 2</td>\n",
       "      <td>Archit Rao</td>\n",
       "      <td>M</td>\n",
       "      <td>Careers360</td>\n",
       "      <td>6.5</td>\n",
       "      <td>Bangalore</td>\n",
       "    </tr>\n",
       "    <tr>\n",
       "      <th>...</th>\n",
       "      <td>...</td>\n",
       "      <td>...</td>\n",
       "      <td>...</td>\n",
       "      <td>...</td>\n",
       "      <td>...</td>\n",
       "      <td>...</td>\n",
       "      <td>...</td>\n",
       "    </tr>\n",
       "    <tr>\n",
       "      <th>261</th>\n",
       "      <td>262</td>\n",
       "      <td>Batch 10</td>\n",
       "      <td>UJJAWAL SINGH NIRWAN</td>\n",
       "      <td>Male</td>\n",
       "      <td>TVS Credit Services</td>\n",
       "      <td>8</td>\n",
       "      <td>Bangalore</td>\n",
       "    </tr>\n",
       "    <tr>\n",
       "      <th>262</th>\n",
       "      <td>263</td>\n",
       "      <td>Batch 10</td>\n",
       "      <td>ASHWINI PRAKASH</td>\n",
       "      <td>Female</td>\n",
       "      <td>Cognito Analytics</td>\n",
       "      <td>8</td>\n",
       "      <td>Bangalore</td>\n",
       "    </tr>\n",
       "    <tr>\n",
       "      <th>263</th>\n",
       "      <td>264</td>\n",
       "      <td>Batch 10</td>\n",
       "      <td>AARON JUDE D CRUZ</td>\n",
       "      <td>Male</td>\n",
       "      <td>EY India</td>\n",
       "      <td>7.5</td>\n",
       "      <td>Bangalore</td>\n",
       "    </tr>\n",
       "    <tr>\n",
       "      <th>264</th>\n",
       "      <td>265</td>\n",
       "      <td>Batch 10</td>\n",
       "      <td>SREERAG C</td>\n",
       "      <td>Male</td>\n",
       "      <td>Inference Labs</td>\n",
       "      <td>15k</td>\n",
       "      <td>Bangalore</td>\n",
       "    </tr>\n",
       "    <tr>\n",
       "      <th>265</th>\n",
       "      <td>266</td>\n",
       "      <td>Batch 10</td>\n",
       "      <td>YADANNAVAR RISHIKA SANJEEV</td>\n",
       "      <td>Female</td>\n",
       "      <td>-</td>\n",
       "      <td>6.5</td>\n",
       "      <td>Pune</td>\n",
       "    </tr>\n",
       "  </tbody>\n",
       "</table>\n",
       "<p>266 rows × 7 columns</p>\n",
       "</div>"
      ],
      "text/plain": [
       "     Serial #     Batch                Student Name  Gender  \\\n",
       "0           1   Batch 2               Abhirupa Lodh       F   \n",
       "1           2   Batch 2      Abhishek Reddy Tippani       M   \n",
       "2           3   Batch 2               Akansha Singh       F   \n",
       "3           4   Batch 2                Anshul Sagar       M   \n",
       "4           5   Batch 2                  Archit Rao       M   \n",
       "..        ...       ...                         ...     ...   \n",
       "261       262  Batch 10        UJJAWAL SINGH NIRWAN    Male   \n",
       "262       263  Batch 10             ASHWINI PRAKASH  Female   \n",
       "263       264  Batch 10           AARON JUDE D CRUZ    Male   \n",
       "264       265  Batch 10                   SREERAG C    Male   \n",
       "265       266  Batch 10  YADANNAVAR RISHIKA SANJEEV  Female   \n",
       "\n",
       "                 Company CTC in LPA   Location  \n",
       "0            Litmusworld       8.25  Bangalore  \n",
       "1           Easy Rewardz       7.95    Gurgaon  \n",
       "2              Tara Tech        3.8  Bangalore  \n",
       "3             Outsourced          -  Bangalore  \n",
       "4             Careers360        6.5  Bangalore  \n",
       "..                   ...        ...        ...  \n",
       "261  TVS Credit Services          8  Bangalore  \n",
       "262    Cognito Analytics          8  Bangalore  \n",
       "263             EY India        7.5  Bangalore  \n",
       "264       Inference Labs        15k  Bangalore  \n",
       "265                    -        6.5       Pune  \n",
       "\n",
       "[266 rows x 7 columns]"
      ]
     },
     "execution_count": 108,
     "metadata": {},
     "output_type": "execute_result"
    }
   ],
   "source": [
    "d2"
   ]
  },
  {
   "cell_type": "code",
   "execution_count": 110,
   "id": "79eadd66",
   "metadata": {},
   "outputs": [
    {
     "data": {
      "text/plain": [
       "array(['Batch 2', 'Batch 3', 'Batch 4', 'Batch 5', 'Batch 6', 'Batch 7',\n",
       "       'Batch 8', 'Batch 9', 'Batch 10'], dtype=object)"
      ]
     },
     "execution_count": 110,
     "metadata": {},
     "output_type": "execute_result"
    }
   ],
   "source": [
    "#finding all unique batches \n",
    "d2['Batch'].unique()"
   ]
  },
  {
   "cell_type": "code",
   "execution_count": 112,
   "id": "6a299f13",
   "metadata": {},
   "outputs": [
    {
     "data": {
      "text/plain": [
       "Batch 4     61\n",
       "Batch 2     39\n",
       "Batch 8     37\n",
       "Batch 7     34\n",
       "Batch 10    29\n",
       "Batch 3     21\n",
       "Batch 6     19\n",
       "Batch 9     18\n",
       "Batch 5      8\n",
       "Name: Batch, dtype: int64"
      ]
     },
     "execution_count": 112,
     "metadata": {},
     "output_type": "execute_result"
    }
   ],
   "source": [
    "#finding batches with the highest number of students \n",
    "d2['Batch'].value_counts()"
   ]
  },
  {
   "cell_type": "code",
   "execution_count": 124,
   "id": "784ac8d9",
   "metadata": {},
   "outputs": [],
   "source": [
    "#cleaning the data \n",
    "d2['CTC in LPA'] = d2['CTC in LPA'].str.replace(\"-\",\"\")\n",
    "d2['CTC in LPA'] = d2['CTC in LPA'].str.replace(\"15K\",\"0.15\")\n",
    "d2['CTC in LPA'] = d2['CTC in LPA'].str.replace(\"20K\",\"0.20\")\n",
    "d2['CTC in LPA'] = d2['CTC in LPA'].str.replace(\"25k\",\"0.25\")\n",
    "d2['CTC in LPA'] = d2['CTC in LPA'].str.replace(\"35K\",\"0.35\")\n",
    "d2['CTC in LPA'] = d2['CTC in LPA'].str.replace(\"18K\",\"0.18\")\n"
   ]
  },
  {
   "cell_type": "code",
   "execution_count": 126,
   "id": "f80ee7a8",
   "metadata": {},
   "outputs": [],
   "source": [
    "d2['CTC in LPA'] = d2['CTC in LPA'].str.find(\"K\")"
   ]
  },
  {
   "cell_type": "code",
   "execution_count": 127,
   "id": "213c43e7",
   "metadata": {},
   "outputs": [
    {
     "data": {
      "text/plain": [
       "0      NaN\n",
       "1      NaN\n",
       "2      NaN\n",
       "3     -1.0\n",
       "4      NaN\n",
       "      ... \n",
       "261    NaN\n",
       "262    NaN\n",
       "263    NaN\n",
       "264   -1.0\n",
       "265    NaN\n",
       "Name: CTC in LPA, Length: 266, dtype: float64"
      ]
     },
     "execution_count": 127,
     "metadata": {},
     "output_type": "execute_result"
    }
   ],
   "source": [
    "d2 "
   ]
  },
  {
   "cell_type": "code",
   "execution_count": 157,
   "id": "6c16584d",
   "metadata": {},
   "outputs": [],
   "source": [
    "d2 =  pd.read_excel('bpldata.xlsx')"
   ]
  },
  {
   "cell_type": "code",
   "execution_count": 145,
   "id": "a27b5a45",
   "metadata": {},
   "outputs": [
    {
     "ename": "AttributeError",
     "evalue": "module 'pandas' has no attribute 'to_float'",
     "output_type": "error",
     "traceback": [
      "\u001b[0;31m---------------------------------------------------------------------------\u001b[0m",
      "\u001b[0;31mAttributeError\u001b[0m                            Traceback (most recent call last)",
      "\u001b[0;32m/var/folders/k8/4j5n_hw94_j_k1151xthw9_r0000gn/T/ipykernel_78035/2070878321.py\u001b[0m in \u001b[0;36m<module>\u001b[0;34m\u001b[0m\n\u001b[1;32m      4\u001b[0m \u001b[0md2\u001b[0m\u001b[0;34m[\u001b[0m\u001b[0;34m'CTC in LPA'\u001b[0m\u001b[0;34m]\u001b[0m \u001b[0;34m=\u001b[0m\u001b[0md2\u001b[0m\u001b[0;34m[\u001b[0m\u001b[0;34m'CTC in LPA'\u001b[0m\u001b[0;34m]\u001b[0m\u001b[0;34m.\u001b[0m\u001b[0mstr\u001b[0m\u001b[0;34m.\u001b[0m\u001b[0mreplace\u001b[0m\u001b[0;34m(\u001b[0m\u001b[0;34m'LPA'\u001b[0m\u001b[0;34m,\u001b[0m\u001b[0;34m''\u001b[0m\u001b[0;34m)\u001b[0m\u001b[0;34m\u001b[0m\u001b[0;34m\u001b[0m\u001b[0m\n\u001b[1;32m      5\u001b[0m \u001b[0md2\u001b[0m\u001b[0;34m[\u001b[0m\u001b[0;34m'CTC in LPA'\u001b[0m\u001b[0;34m]\u001b[0m \u001b[0;34m=\u001b[0m \u001b[0md2\u001b[0m\u001b[0;34m[\u001b[0m\u001b[0;34m'CTC in LPA'\u001b[0m\u001b[0;34m]\u001b[0m\u001b[0;34m.\u001b[0m\u001b[0mstr\u001b[0m\u001b[0;34m.\u001b[0m\u001b[0mreplace\u001b[0m\u001b[0;34m(\u001b[0m\u001b[0;34m'YTD'\u001b[0m\u001b[0;34m,\u001b[0m\u001b[0;34m''\u001b[0m\u001b[0;34m)\u001b[0m\u001b[0;34m\u001b[0m\u001b[0;34m\u001b[0m\u001b[0m\n\u001b[0;32m----> 6\u001b[0;31m \u001b[0md2\u001b[0m\u001b[0;34m[\u001b[0m\u001b[0;34m'CTC in LPA'\u001b[0m\u001b[0;34m]\u001b[0m \u001b[0;34m=\u001b[0m \u001b[0mpd\u001b[0m\u001b[0;34m.\u001b[0m\u001b[0mto_float\u001b[0m\u001b[0;34m(\u001b[0m\u001b[0md2\u001b[0m\u001b[0;34m[\u001b[0m\u001b[0;34m'CTC in LPA'\u001b[0m\u001b[0;34m]\u001b[0m\u001b[0;34m)\u001b[0m\u001b[0;34m\u001b[0m\u001b[0;34m\u001b[0m\u001b[0m\n\u001b[0m",
      "\u001b[0;32m/Library/Frameworks/Python.framework/Versions/3.9/lib/python3.9/site-packages/pandas/__init__.py\u001b[0m in \u001b[0;36m__getattr__\u001b[0;34m(name)\u001b[0m\n\u001b[1;32m    259\u001b[0m         \u001b[0;32mreturn\u001b[0m \u001b[0m_SparseArray\u001b[0m\u001b[0;34m\u001b[0m\u001b[0;34m\u001b[0m\u001b[0m\n\u001b[1;32m    260\u001b[0m \u001b[0;34m\u001b[0m\u001b[0m\n\u001b[0;32m--> 261\u001b[0;31m     \u001b[0;32mraise\u001b[0m \u001b[0mAttributeError\u001b[0m\u001b[0;34m(\u001b[0m\u001b[0;34mf\"module 'pandas' has no attribute '{name}'\"\u001b[0m\u001b[0;34m)\u001b[0m\u001b[0;34m\u001b[0m\u001b[0;34m\u001b[0m\u001b[0m\n\u001b[0m\u001b[1;32m    262\u001b[0m \u001b[0;34m\u001b[0m\u001b[0m\n\u001b[1;32m    263\u001b[0m \u001b[0;34m\u001b[0m\u001b[0m\n",
      "\u001b[0;31mAttributeError\u001b[0m: module 'pandas' has no attribute 'to_float'"
     ]
    }
   ],
   "source": [
    " d2['CTC in LPA'].str.replace('K', '')\n",
    "d2['CTC in LPA'] = d2['CTC in LPA'].str.replace('k','')\n",
    "d2['CTC in LPA'] = d2['CTC in LPA'].str.replace('-','')\n",
    "d2['CTC in LPA'] =d2['CTC in LPA'].str.replace('LPA','')\n",
    "d2['CTC in LPA'] = d2['CTC in LPA'].str.replace('YTD','') = pd.to_float(d2['CTC in LPA'])"
   ]
  },
  {
   "cell_type": "code",
   "execution_count": 147,
   "id": "7cb0014b",
   "metadata": {},
   "outputs": [
    {
     "data": {
      "text/html": [
       "<div>\n",
       "<style scoped>\n",
       "    .dataframe tbody tr th:only-of-type {\n",
       "        vertical-align: middle;\n",
       "    }\n",
       "\n",
       "    .dataframe tbody tr th {\n",
       "        vertical-align: top;\n",
       "    }\n",
       "\n",
       "    .dataframe thead th {\n",
       "        text-align: right;\n",
       "    }\n",
       "</style>\n",
       "<table border=\"1\" class=\"dataframe\">\n",
       "  <thead>\n",
       "    <tr style=\"text-align: right;\">\n",
       "      <th></th>\n",
       "      <th>Serial #</th>\n",
       "      <th>Batch</th>\n",
       "      <th>Student Name</th>\n",
       "      <th>Gender</th>\n",
       "      <th>Company</th>\n",
       "      <th>CTC in LPA</th>\n",
       "      <th>Location</th>\n",
       "    </tr>\n",
       "  </thead>\n",
       "  <tbody>\n",
       "    <tr>\n",
       "      <th>0</th>\n",
       "      <td>1</td>\n",
       "      <td>Batch 2</td>\n",
       "      <td>Abhirupa Lodh</td>\n",
       "      <td>F</td>\n",
       "      <td>Litmusworld</td>\n",
       "      <td>8.25</td>\n",
       "      <td>Bangalore</td>\n",
       "    </tr>\n",
       "    <tr>\n",
       "      <th>1</th>\n",
       "      <td>2</td>\n",
       "      <td>Batch 2</td>\n",
       "      <td>Abhishek Reddy Tippani</td>\n",
       "      <td>M</td>\n",
       "      <td>Easy Rewardz</td>\n",
       "      <td>7.95</td>\n",
       "      <td>Gurgaon</td>\n",
       "    </tr>\n",
       "    <tr>\n",
       "      <th>2</th>\n",
       "      <td>3</td>\n",
       "      <td>Batch 2</td>\n",
       "      <td>Akansha Singh</td>\n",
       "      <td>F</td>\n",
       "      <td>Tara Tech</td>\n",
       "      <td>3.8</td>\n",
       "      <td>Bangalore</td>\n",
       "    </tr>\n",
       "    <tr>\n",
       "      <th>3</th>\n",
       "      <td>4</td>\n",
       "      <td>Batch 2</td>\n",
       "      <td>Anshul Sagar</td>\n",
       "      <td>M</td>\n",
       "      <td>Outsourced</td>\n",
       "      <td>-</td>\n",
       "      <td>Bangalore</td>\n",
       "    </tr>\n",
       "    <tr>\n",
       "      <th>4</th>\n",
       "      <td>5</td>\n",
       "      <td>Batch 2</td>\n",
       "      <td>Archit Rao</td>\n",
       "      <td>M</td>\n",
       "      <td>Careers360</td>\n",
       "      <td>6.5</td>\n",
       "      <td>Bangalore</td>\n",
       "    </tr>\n",
       "    <tr>\n",
       "      <th>...</th>\n",
       "      <td>...</td>\n",
       "      <td>...</td>\n",
       "      <td>...</td>\n",
       "      <td>...</td>\n",
       "      <td>...</td>\n",
       "      <td>...</td>\n",
       "      <td>...</td>\n",
       "    </tr>\n",
       "    <tr>\n",
       "      <th>261</th>\n",
       "      <td>262</td>\n",
       "      <td>Batch 10</td>\n",
       "      <td>UJJAWAL SINGH NIRWAN</td>\n",
       "      <td>Male</td>\n",
       "      <td>TVS Credit Services</td>\n",
       "      <td>8</td>\n",
       "      <td>Bangalore</td>\n",
       "    </tr>\n",
       "    <tr>\n",
       "      <th>262</th>\n",
       "      <td>263</td>\n",
       "      <td>Batch 10</td>\n",
       "      <td>ASHWINI PRAKASH</td>\n",
       "      <td>Female</td>\n",
       "      <td>Cognito Analytics</td>\n",
       "      <td>8</td>\n",
       "      <td>Bangalore</td>\n",
       "    </tr>\n",
       "    <tr>\n",
       "      <th>263</th>\n",
       "      <td>264</td>\n",
       "      <td>Batch 10</td>\n",
       "      <td>AARON JUDE D CRUZ</td>\n",
       "      <td>Male</td>\n",
       "      <td>EY India</td>\n",
       "      <td>7.5</td>\n",
       "      <td>Bangalore</td>\n",
       "    </tr>\n",
       "    <tr>\n",
       "      <th>264</th>\n",
       "      <td>265</td>\n",
       "      <td>Batch 10</td>\n",
       "      <td>SREERAG C</td>\n",
       "      <td>Male</td>\n",
       "      <td>Inference Labs</td>\n",
       "      <td>15k</td>\n",
       "      <td>Bangalore</td>\n",
       "    </tr>\n",
       "    <tr>\n",
       "      <th>265</th>\n",
       "      <td>266</td>\n",
       "      <td>Batch 10</td>\n",
       "      <td>YADANNAVAR RISHIKA SANJEEV</td>\n",
       "      <td>Female</td>\n",
       "      <td>-</td>\n",
       "      <td>6.5</td>\n",
       "      <td>Pune</td>\n",
       "    </tr>\n",
       "  </tbody>\n",
       "</table>\n",
       "<p>266 rows × 7 columns</p>\n",
       "</div>"
      ],
      "text/plain": [
       "     Serial #     Batch                Student Name  Gender  \\\n",
       "0           1   Batch 2               Abhirupa Lodh       F   \n",
       "1           2   Batch 2      Abhishek Reddy Tippani       M   \n",
       "2           3   Batch 2               Akansha Singh       F   \n",
       "3           4   Batch 2                Anshul Sagar       M   \n",
       "4           5   Batch 2                  Archit Rao       M   \n",
       "..        ...       ...                         ...     ...   \n",
       "261       262  Batch 10        UJJAWAL SINGH NIRWAN    Male   \n",
       "262       263  Batch 10             ASHWINI PRAKASH  Female   \n",
       "263       264  Batch 10           AARON JUDE D CRUZ    Male   \n",
       "264       265  Batch 10                   SREERAG C    Male   \n",
       "265       266  Batch 10  YADANNAVAR RISHIKA SANJEEV  Female   \n",
       "\n",
       "                 Company CTC in LPA   Location  \n",
       "0            Litmusworld       8.25  Bangalore  \n",
       "1           Easy Rewardz       7.95    Gurgaon  \n",
       "2              Tara Tech        3.8  Bangalore  \n",
       "3             Outsourced          -  Bangalore  \n",
       "4             Careers360        6.5  Bangalore  \n",
       "..                   ...        ...        ...  \n",
       "261  TVS Credit Services          8  Bangalore  \n",
       "262    Cognito Analytics          8  Bangalore  \n",
       "263             EY India        7.5  Bangalore  \n",
       "264       Inference Labs        15k  Bangalore  \n",
       "265                    -        6.5       Pune  \n",
       "\n",
       "[266 rows x 7 columns]"
      ]
     },
     "execution_count": 147,
     "metadata": {},
     "output_type": "execute_result"
    }
   ],
   "source": [
    "d2"
   ]
  },
  {
   "cell_type": "code",
   "execution_count": 150,
   "id": "61aeb89b",
   "metadata": {},
   "outputs": [
    {
     "ename": "KeyError",
     "evalue": "'CTC in LPA'",
     "output_type": "error",
     "traceback": [
      "\u001b[0;31m---------------------------------------------------------------------------\u001b[0m",
      "\u001b[0;31mKeyError\u001b[0m                                  Traceback (most recent call last)",
      "\u001b[0;32m/var/folders/k8/4j5n_hw94_j_k1151xthw9_r0000gn/T/ipykernel_78035/2957607302.py\u001b[0m in \u001b[0;36m<module>\u001b[0;34m\u001b[0m\n\u001b[0;32m----> 1\u001b[0;31m \u001b[0md2\u001b[0m\u001b[0;34m[\u001b[0m\u001b[0;34m'CTC in LPA'\u001b[0m\u001b[0;34m]\u001b[0m\u001b[0;34m.\u001b[0m\u001b[0mstr\u001b[0m\u001b[0;34m.\u001b[0m\u001b[0mfind\u001b[0m\u001b[0;34m(\u001b[0m\u001b[0;34m\"K\"\u001b[0m\u001b[0;34m)\u001b[0m\u001b[0;34m[\u001b[0m\u001b[0;34m'CTC in LPA'\u001b[0m\u001b[0;34m]\u001b[0m \u001b[0;34m/\u001b[0m\u001b[0;34m-\u001b[0m \u001b[0;36m10\u001b[0m\u001b[0;34m\u001b[0m\u001b[0;34m\u001b[0m\u001b[0m\n\u001b[0m",
      "\u001b[0;32m/Library/Frameworks/Python.framework/Versions/3.9/lib/python3.9/site-packages/pandas/core/series.py\u001b[0m in \u001b[0;36m__getitem__\u001b[0;34m(self, key)\u001b[0m\n\u001b[1;32m    956\u001b[0m \u001b[0;34m\u001b[0m\u001b[0m\n\u001b[1;32m    957\u001b[0m         \u001b[0;32melif\u001b[0m \u001b[0mkey_is_scalar\u001b[0m\u001b[0;34m:\u001b[0m\u001b[0;34m\u001b[0m\u001b[0;34m\u001b[0m\u001b[0m\n\u001b[0;32m--> 958\u001b[0;31m             \u001b[0;32mreturn\u001b[0m \u001b[0mself\u001b[0m\u001b[0;34m.\u001b[0m\u001b[0m_get_value\u001b[0m\u001b[0;34m(\u001b[0m\u001b[0mkey\u001b[0m\u001b[0;34m)\u001b[0m\u001b[0;34m\u001b[0m\u001b[0;34m\u001b[0m\u001b[0m\n\u001b[0m\u001b[1;32m    959\u001b[0m \u001b[0;34m\u001b[0m\u001b[0m\n\u001b[1;32m    960\u001b[0m         \u001b[0;32mif\u001b[0m \u001b[0mis_hashable\u001b[0m\u001b[0;34m(\u001b[0m\u001b[0mkey\u001b[0m\u001b[0;34m)\u001b[0m\u001b[0;34m:\u001b[0m\u001b[0;34m\u001b[0m\u001b[0;34m\u001b[0m\u001b[0m\n",
      "\u001b[0;32m/Library/Frameworks/Python.framework/Versions/3.9/lib/python3.9/site-packages/pandas/core/series.py\u001b[0m in \u001b[0;36m_get_value\u001b[0;34m(self, label, takeable)\u001b[0m\n\u001b[1;32m   1067\u001b[0m \u001b[0;34m\u001b[0m\u001b[0m\n\u001b[1;32m   1068\u001b[0m         \u001b[0;31m# Similar to Index.get_value, but we do not fall back to positional\u001b[0m\u001b[0;34m\u001b[0m\u001b[0;34m\u001b[0m\u001b[0;34m\u001b[0m\u001b[0m\n\u001b[0;32m-> 1069\u001b[0;31m         \u001b[0mloc\u001b[0m \u001b[0;34m=\u001b[0m \u001b[0mself\u001b[0m\u001b[0;34m.\u001b[0m\u001b[0mindex\u001b[0m\u001b[0;34m.\u001b[0m\u001b[0mget_loc\u001b[0m\u001b[0;34m(\u001b[0m\u001b[0mlabel\u001b[0m\u001b[0;34m)\u001b[0m\u001b[0;34m\u001b[0m\u001b[0;34m\u001b[0m\u001b[0m\n\u001b[0m\u001b[1;32m   1070\u001b[0m         \u001b[0;32mreturn\u001b[0m \u001b[0mself\u001b[0m\u001b[0;34m.\u001b[0m\u001b[0mindex\u001b[0m\u001b[0;34m.\u001b[0m\u001b[0m_get_values_for_loc\u001b[0m\u001b[0;34m(\u001b[0m\u001b[0mself\u001b[0m\u001b[0;34m,\u001b[0m \u001b[0mloc\u001b[0m\u001b[0;34m,\u001b[0m \u001b[0mlabel\u001b[0m\u001b[0;34m)\u001b[0m\u001b[0;34m\u001b[0m\u001b[0;34m\u001b[0m\u001b[0m\n\u001b[1;32m   1071\u001b[0m \u001b[0;34m\u001b[0m\u001b[0m\n",
      "\u001b[0;32m/Library/Frameworks/Python.framework/Versions/3.9/lib/python3.9/site-packages/pandas/core/indexes/range.py\u001b[0m in \u001b[0;36mget_loc\u001b[0;34m(self, key, method, tolerance)\u001b[0m\n\u001b[1;32m    387\u001b[0m                     \u001b[0;32mraise\u001b[0m \u001b[0mKeyError\u001b[0m\u001b[0;34m(\u001b[0m\u001b[0mkey\u001b[0m\u001b[0;34m)\u001b[0m \u001b[0;32mfrom\u001b[0m \u001b[0merr\u001b[0m\u001b[0;34m\u001b[0m\u001b[0;34m\u001b[0m\u001b[0m\n\u001b[1;32m    388\u001b[0m             \u001b[0mself\u001b[0m\u001b[0;34m.\u001b[0m\u001b[0m_check_indexing_error\u001b[0m\u001b[0;34m(\u001b[0m\u001b[0mkey\u001b[0m\u001b[0;34m)\u001b[0m\u001b[0;34m\u001b[0m\u001b[0;34m\u001b[0m\u001b[0m\n\u001b[0;32m--> 389\u001b[0;31m             \u001b[0;32mraise\u001b[0m \u001b[0mKeyError\u001b[0m\u001b[0;34m(\u001b[0m\u001b[0mkey\u001b[0m\u001b[0;34m)\u001b[0m\u001b[0;34m\u001b[0m\u001b[0;34m\u001b[0m\u001b[0m\n\u001b[0m\u001b[1;32m    390\u001b[0m         \u001b[0;32mreturn\u001b[0m \u001b[0msuper\u001b[0m\u001b[0;34m(\u001b[0m\u001b[0;34m)\u001b[0m\u001b[0;34m.\u001b[0m\u001b[0mget_loc\u001b[0m\u001b[0;34m(\u001b[0m\u001b[0mkey\u001b[0m\u001b[0;34m,\u001b[0m \u001b[0mmethod\u001b[0m\u001b[0;34m=\u001b[0m\u001b[0mmethod\u001b[0m\u001b[0;34m,\u001b[0m \u001b[0mtolerance\u001b[0m\u001b[0;34m=\u001b[0m\u001b[0mtolerance\u001b[0m\u001b[0;34m)\u001b[0m\u001b[0;34m\u001b[0m\u001b[0;34m\u001b[0m\u001b[0m\n\u001b[1;32m    391\u001b[0m \u001b[0;34m\u001b[0m\u001b[0m\n",
      "\u001b[0;31mKeyError\u001b[0m: 'CTC in LPA'"
     ]
    }
   ],
   "source": [
    "d2['CTC in LPA'].str.find(\"K\")['CTC in LPA'] /- 10\n"
   ]
  },
  {
   "cell_type": "code",
   "execution_count": 149,
   "id": "371e613f",
   "metadata": {},
   "outputs": [
    {
     "data": {
      "text/html": [
       "<div>\n",
       "<style scoped>\n",
       "    .dataframe tbody tr th:only-of-type {\n",
       "        vertical-align: middle;\n",
       "    }\n",
       "\n",
       "    .dataframe tbody tr th {\n",
       "        vertical-align: top;\n",
       "    }\n",
       "\n",
       "    .dataframe thead th {\n",
       "        text-align: right;\n",
       "    }\n",
       "</style>\n",
       "<table border=\"1\" class=\"dataframe\">\n",
       "  <thead>\n",
       "    <tr style=\"text-align: right;\">\n",
       "      <th></th>\n",
       "      <th>Serial #</th>\n",
       "      <th>Batch</th>\n",
       "      <th>Student Name</th>\n",
       "      <th>Gender</th>\n",
       "      <th>Company</th>\n",
       "      <th>CTC in LPA</th>\n",
       "      <th>Location</th>\n",
       "    </tr>\n",
       "  </thead>\n",
       "  <tbody>\n",
       "    <tr>\n",
       "      <th>0</th>\n",
       "      <td>1</td>\n",
       "      <td>Batch 2</td>\n",
       "      <td>Abhirupa Lodh</td>\n",
       "      <td>F</td>\n",
       "      <td>Litmusworld</td>\n",
       "      <td>8.25</td>\n",
       "      <td>Bangalore</td>\n",
       "    </tr>\n",
       "    <tr>\n",
       "      <th>1</th>\n",
       "      <td>2</td>\n",
       "      <td>Batch 2</td>\n",
       "      <td>Abhishek Reddy Tippani</td>\n",
       "      <td>M</td>\n",
       "      <td>Easy Rewardz</td>\n",
       "      <td>7.95</td>\n",
       "      <td>Gurgaon</td>\n",
       "    </tr>\n",
       "    <tr>\n",
       "      <th>2</th>\n",
       "      <td>3</td>\n",
       "      <td>Batch 2</td>\n",
       "      <td>Akansha Singh</td>\n",
       "      <td>F</td>\n",
       "      <td>Tara Tech</td>\n",
       "      <td>3.8</td>\n",
       "      <td>Bangalore</td>\n",
       "    </tr>\n",
       "    <tr>\n",
       "      <th>3</th>\n",
       "      <td>4</td>\n",
       "      <td>Batch 2</td>\n",
       "      <td>Anshul Sagar</td>\n",
       "      <td>M</td>\n",
       "      <td>Outsourced</td>\n",
       "      <td>-</td>\n",
       "      <td>Bangalore</td>\n",
       "    </tr>\n",
       "    <tr>\n",
       "      <th>4</th>\n",
       "      <td>5</td>\n",
       "      <td>Batch 2</td>\n",
       "      <td>Archit Rao</td>\n",
       "      <td>M</td>\n",
       "      <td>Careers360</td>\n",
       "      <td>6.5</td>\n",
       "      <td>Bangalore</td>\n",
       "    </tr>\n",
       "    <tr>\n",
       "      <th>...</th>\n",
       "      <td>...</td>\n",
       "      <td>...</td>\n",
       "      <td>...</td>\n",
       "      <td>...</td>\n",
       "      <td>...</td>\n",
       "      <td>...</td>\n",
       "      <td>...</td>\n",
       "    </tr>\n",
       "    <tr>\n",
       "      <th>261</th>\n",
       "      <td>262</td>\n",
       "      <td>Batch 10</td>\n",
       "      <td>UJJAWAL SINGH NIRWAN</td>\n",
       "      <td>Male</td>\n",
       "      <td>TVS Credit Services</td>\n",
       "      <td>8</td>\n",
       "      <td>Bangalore</td>\n",
       "    </tr>\n",
       "    <tr>\n",
       "      <th>262</th>\n",
       "      <td>263</td>\n",
       "      <td>Batch 10</td>\n",
       "      <td>ASHWINI PRAKASH</td>\n",
       "      <td>Female</td>\n",
       "      <td>Cognito Analytics</td>\n",
       "      <td>8</td>\n",
       "      <td>Bangalore</td>\n",
       "    </tr>\n",
       "    <tr>\n",
       "      <th>263</th>\n",
       "      <td>264</td>\n",
       "      <td>Batch 10</td>\n",
       "      <td>AARON JUDE D CRUZ</td>\n",
       "      <td>Male</td>\n",
       "      <td>EY India</td>\n",
       "      <td>7.5</td>\n",
       "      <td>Bangalore</td>\n",
       "    </tr>\n",
       "    <tr>\n",
       "      <th>264</th>\n",
       "      <td>265</td>\n",
       "      <td>Batch 10</td>\n",
       "      <td>SREERAG C</td>\n",
       "      <td>Male</td>\n",
       "      <td>Inference Labs</td>\n",
       "      <td>15k</td>\n",
       "      <td>Bangalore</td>\n",
       "    </tr>\n",
       "    <tr>\n",
       "      <th>265</th>\n",
       "      <td>266</td>\n",
       "      <td>Batch 10</td>\n",
       "      <td>YADANNAVAR RISHIKA SANJEEV</td>\n",
       "      <td>Female</td>\n",
       "      <td>-</td>\n",
       "      <td>6.5</td>\n",
       "      <td>Pune</td>\n",
       "    </tr>\n",
       "  </tbody>\n",
       "</table>\n",
       "<p>266 rows × 7 columns</p>\n",
       "</div>"
      ],
      "text/plain": [
       "     Serial #     Batch                Student Name  Gender  \\\n",
       "0           1   Batch 2               Abhirupa Lodh       F   \n",
       "1           2   Batch 2      Abhishek Reddy Tippani       M   \n",
       "2           3   Batch 2               Akansha Singh       F   \n",
       "3           4   Batch 2                Anshul Sagar       M   \n",
       "4           5   Batch 2                  Archit Rao       M   \n",
       "..        ...       ...                         ...     ...   \n",
       "261       262  Batch 10        UJJAWAL SINGH NIRWAN    Male   \n",
       "262       263  Batch 10             ASHWINI PRAKASH  Female   \n",
       "263       264  Batch 10           AARON JUDE D CRUZ    Male   \n",
       "264       265  Batch 10                   SREERAG C    Male   \n",
       "265       266  Batch 10  YADANNAVAR RISHIKA SANJEEV  Female   \n",
       "\n",
       "                 Company CTC in LPA   Location  \n",
       "0            Litmusworld       8.25  Bangalore  \n",
       "1           Easy Rewardz       7.95    Gurgaon  \n",
       "2              Tara Tech        3.8  Bangalore  \n",
       "3             Outsourced          -  Bangalore  \n",
       "4             Careers360        6.5  Bangalore  \n",
       "..                   ...        ...        ...  \n",
       "261  TVS Credit Services          8  Bangalore  \n",
       "262    Cognito Analytics          8  Bangalore  \n",
       "263             EY India        7.5  Bangalore  \n",
       "264       Inference Labs        15k  Bangalore  \n",
       "265                    -        6.5       Pune  \n",
       "\n",
       "[266 rows x 7 columns]"
      ]
     },
     "execution_count": 149,
     "metadata": {},
     "output_type": "execute_result"
    }
   ],
   "source": [
    "d2"
   ]
  },
  {
   "cell_type": "code",
   "execution_count": 156,
   "id": "6b9d0227",
   "metadata": {},
   "outputs": [
    {
     "data": {
      "text/plain": [
       "0      NaN\n",
       "1      NaN\n",
       "2      NaN\n",
       "3         \n",
       "4      NaN\n",
       "      ... \n",
       "261    NaN\n",
       "262    NaN\n",
       "263    NaN\n",
       "264    15k\n",
       "265    NaN\n",
       "Name: CTC in LPA, Length: 266, dtype: object"
      ]
     },
     "execution_count": 156,
     "metadata": {},
     "output_type": "execute_result"
    }
   ],
   "source": [
    "d2['CTC in LPA'] = d2['CTC in LPA'].str.replace('-',' ')\n",
    "d2['CTC in LPA'] "
   ]
  },
  {
   "cell_type": "code",
   "execution_count": 160,
   "id": "2d78be8d",
   "metadata": {},
   "outputs": [
    {
     "data": {
      "text/plain": [
       "pandas.core.series.Series"
      ]
     },
     "execution_count": 160,
     "metadata": {},
     "output_type": "execute_result"
    }
   ],
   "source": [
    "type(d2['CTC in LPA'])"
   ]
  },
  {
   "cell_type": "code",
   "execution_count": 161,
   "id": "55d1bd31",
   "metadata": {},
   "outputs": [],
   "source": [
    "#working on the second data set d1\n"
   ]
  },
  {
   "cell_type": "code",
   "execution_count": 162,
   "id": "9bf7d40e",
   "metadata": {},
   "outputs": [],
   "source": [
    "# removing the first two unwanted rows in the dataset"
   ]
  },
  {
   "cell_type": "code",
   "execution_count": 164,
   "id": "dbca4412",
   "metadata": {},
   "outputs": [
    {
     "data": {
      "text/html": [
       "<div>\n",
       "<style scoped>\n",
       "    .dataframe tbody tr th:only-of-type {\n",
       "        vertical-align: middle;\n",
       "    }\n",
       "\n",
       "    .dataframe tbody tr th {\n",
       "        vertical-align: top;\n",
       "    }\n",
       "\n",
       "    .dataframe thead th {\n",
       "        text-align: right;\n",
       "    }\n",
       "</style>\n",
       "<table border=\"1\" class=\"dataframe\">\n",
       "  <thead>\n",
       "    <tr style=\"text-align: right;\">\n",
       "      <th></th>\n",
       "      <th>2020-21 PGDDS Placements Stats</th>\n",
       "      <th>Unnamed: 1</th>\n",
       "      <th>Unnamed: 2</th>\n",
       "      <th>Unnamed: 3</th>\n",
       "      <th>Unnamed: 4</th>\n",
       "      <th>Unnamed: 5</th>\n",
       "      <th>Unnamed: 6</th>\n",
       "      <th>Unnamed: 7</th>\n",
       "    </tr>\n",
       "  </thead>\n",
       "  <tbody>\n",
       "    <tr>\n",
       "      <th>0</th>\n",
       "      <td>NaN</td>\n",
       "      <td>NaN</td>\n",
       "      <td>NaN</td>\n",
       "      <td>NaN</td>\n",
       "      <td>NaN</td>\n",
       "      <td>NaN</td>\n",
       "      <td>NaN</td>\n",
       "      <td>NaN</td>\n",
       "    </tr>\n",
       "    <tr>\n",
       "      <th>1</th>\n",
       "      <td>Serial #</td>\n",
       "      <td>Course</td>\n",
       "      <td>Month &amp; Year</td>\n",
       "      <td>Names</td>\n",
       "      <td>Designation</td>\n",
       "      <td>Company</td>\n",
       "      <td>Location</td>\n",
       "      <td>CTC in LPA</td>\n",
       "    </tr>\n",
       "  </tbody>\n",
       "</table>\n",
       "</div>"
      ],
      "text/plain": [
       "  2020-21 PGDDS Placements Stats Unnamed: 1    Unnamed: 2 Unnamed: 3  \\\n",
       "0                            NaN        NaN           NaN        NaN   \n",
       "1                       Serial #     Course  Month & Year      Names   \n",
       "\n",
       "    Unnamed: 4 Unnamed: 5 Unnamed: 6  Unnamed: 7  \n",
       "0          NaN        NaN        NaN         NaN  \n",
       "1  Designation    Company   Location  CTC in LPA  "
      ]
     },
     "execution_count": 164,
     "metadata": {},
     "output_type": "execute_result"
    }
   ],
   "source": [
    "d1.head(2)"
   ]
  },
  {
   "cell_type": "code",
   "execution_count": 166,
   "id": "f7267d39",
   "metadata": {},
   "outputs": [],
   "source": [
    "d1= d1.iloc[2: , :]\n"
   ]
  },
  {
   "cell_type": "code",
   "execution_count": 167,
   "id": "c3aa1e9f",
   "metadata": {},
   "outputs": [
    {
     "data": {
      "text/html": [
       "<div>\n",
       "<style scoped>\n",
       "    .dataframe tbody tr th:only-of-type {\n",
       "        vertical-align: middle;\n",
       "    }\n",
       "\n",
       "    .dataframe tbody tr th {\n",
       "        vertical-align: top;\n",
       "    }\n",
       "\n",
       "    .dataframe thead th {\n",
       "        text-align: right;\n",
       "    }\n",
       "</style>\n",
       "<table border=\"1\" class=\"dataframe\">\n",
       "  <thead>\n",
       "    <tr style=\"text-align: right;\">\n",
       "      <th></th>\n",
       "      <th>2020-21 PGDDS Placements Stats</th>\n",
       "      <th>Unnamed: 1</th>\n",
       "      <th>Unnamed: 2</th>\n",
       "      <th>Unnamed: 3</th>\n",
       "      <th>Unnamed: 4</th>\n",
       "      <th>Unnamed: 5</th>\n",
       "      <th>Unnamed: 6</th>\n",
       "      <th>Unnamed: 7</th>\n",
       "    </tr>\n",
       "  </thead>\n",
       "  <tbody>\n",
       "    <tr>\n",
       "      <th>2</th>\n",
       "      <td>1</td>\n",
       "      <td>PGDDS 8</td>\n",
       "      <td>2021-04-01 00:00:00</td>\n",
       "      <td>Maka Naga Kalyan</td>\n",
       "      <td>Executive, Data Scientist</td>\n",
       "      <td>Nielsen</td>\n",
       "      <td>Bangalore</td>\n",
       "      <td>6.5</td>\n",
       "    </tr>\n",
       "    <tr>\n",
       "      <th>3</th>\n",
       "      <td>2</td>\n",
       "      <td>PGDDS 7</td>\n",
       "      <td>2021-04-01 00:00:00</td>\n",
       "      <td>Saurabh P</td>\n",
       "      <td>Executive, Data Scientist</td>\n",
       "      <td>Nielsen</td>\n",
       "      <td>Bangalore</td>\n",
       "      <td>6.5</td>\n",
       "    </tr>\n",
       "  </tbody>\n",
       "</table>\n",
       "</div>"
      ],
      "text/plain": [
       "  2020-21 PGDDS Placements Stats Unnamed: 1           Unnamed: 2  \\\n",
       "2                              1    PGDDS 8  2021-04-01 00:00:00   \n",
       "3                              2    PGDDS 7  2021-04-01 00:00:00   \n",
       "\n",
       "         Unnamed: 3                 Unnamed: 4 Unnamed: 5 Unnamed: 6  \\\n",
       "2  Maka Naga Kalyan  Executive, Data Scientist    Nielsen  Bangalore   \n",
       "3         Saurabh P  Executive, Data Scientist    Nielsen  Bangalore   \n",
       "\n",
       "  Unnamed: 7  \n",
       "2        6.5  \n",
       "3        6.5  "
      ]
     },
     "execution_count": 167,
     "metadata": {},
     "output_type": "execute_result"
    }
   ],
   "source": [
    "d1.head(2)"
   ]
  },
  {
   "cell_type": "code",
   "execution_count": 168,
   "id": "d4c8211a",
   "metadata": {},
   "outputs": [],
   "source": [
    "#changing all the coloumn names "
   ]
  },
  {
   "cell_type": "code",
   "execution_count": 170,
   "id": "6f9aee88",
   "metadata": {},
   "outputs": [
    {
     "ename": "IndexError",
     "evalue": "only integers, slices (`:`), ellipsis (`...`), numpy.newaxis (`None`) and integer or boolean arrays are valid indices",
     "output_type": "error",
     "traceback": [
      "\u001b[0;31m---------------------------------------------------------------------------\u001b[0m",
      "\u001b[0;31mIndexError\u001b[0m                                Traceback (most recent call last)",
      "\u001b[0;32m/var/folders/k8/4j5n_hw94_j_k1151xthw9_r0000gn/T/ipykernel_78035/203782664.py\u001b[0m in \u001b[0;36m<module>\u001b[0;34m\u001b[0m\n\u001b[0;32m----> 1\u001b[0;31m \u001b[0md1\u001b[0m\u001b[0;34m.\u001b[0m\u001b[0mcolumns\u001b[0m\u001b[0;34m[\u001b[0m\u001b[0;34m'Serial#'\u001b[0m\u001b[0;34m,\u001b[0m\u001b[0;34m\"Course\"\u001b[0m\u001b[0;34m,\u001b[0m\u001b[0;34m\"M&Y\"\u001b[0m\u001b[0;34m,\u001b[0m\u001b[0;34m\"Names\"\u001b[0m\u001b[0;34m,\u001b[0m\u001b[0;34m\"Designation\"\u001b[0m\u001b[0;34m,\u001b[0m\u001b[0;34m\"Company\"\u001b[0m\u001b[0;34m,\u001b[0m\u001b[0;34m\"Location\"\u001b[0m\u001b[0;34m,\u001b[0m\u001b[0;34m\"CTC in LPA\"\u001b[0m\u001b[0;34m]\u001b[0m\u001b[0;34m\u001b[0m\u001b[0;34m\u001b[0m\u001b[0m\n\u001b[0m",
      "\u001b[0;32m/Library/Frameworks/Python.framework/Versions/3.9/lib/python3.9/site-packages/pandas/core/indexes/base.py\u001b[0m in \u001b[0;36m__getitem__\u001b[0;34m(self, key)\u001b[0m\n\u001b[1;32m   5053\u001b[0m             \u001b[0mkey\u001b[0m \u001b[0;34m=\u001b[0m \u001b[0mnp\u001b[0m\u001b[0;34m.\u001b[0m\u001b[0masarray\u001b[0m\u001b[0;34m(\u001b[0m\u001b[0mkey\u001b[0m\u001b[0;34m,\u001b[0m \u001b[0mdtype\u001b[0m\u001b[0;34m=\u001b[0m\u001b[0mbool\u001b[0m\u001b[0;34m)\u001b[0m\u001b[0;34m\u001b[0m\u001b[0;34m\u001b[0m\u001b[0m\n\u001b[1;32m   5054\u001b[0m \u001b[0;34m\u001b[0m\u001b[0m\n\u001b[0;32m-> 5055\u001b[0;31m         \u001b[0mresult\u001b[0m \u001b[0;34m=\u001b[0m \u001b[0mgetitem\u001b[0m\u001b[0;34m(\u001b[0m\u001b[0mkey\u001b[0m\u001b[0;34m)\u001b[0m\u001b[0;34m\u001b[0m\u001b[0;34m\u001b[0m\u001b[0m\n\u001b[0m\u001b[1;32m   5056\u001b[0m         \u001b[0;31m# Because we ruled out integer above, we always get an arraylike here\u001b[0m\u001b[0;34m\u001b[0m\u001b[0;34m\u001b[0m\u001b[0;34m\u001b[0m\u001b[0m\n\u001b[1;32m   5057\u001b[0m         \u001b[0;32mif\u001b[0m \u001b[0mresult\u001b[0m\u001b[0;34m.\u001b[0m\u001b[0mndim\u001b[0m \u001b[0;34m>\u001b[0m \u001b[0;36m1\u001b[0m\u001b[0;34m:\u001b[0m\u001b[0;34m\u001b[0m\u001b[0;34m\u001b[0m\u001b[0m\n",
      "\u001b[0;31mIndexError\u001b[0m: only integers, slices (`:`), ellipsis (`...`), numpy.newaxis (`None`) and integer or boolean arrays are valid indices"
     ]
    }
   ],
   "source": [
    "d1.columns['Serial#',\"Course\",\"M&Y\",\"Names\",\"Designation\",\"Company\",\"Location\",\"CTC in LPA\"]"
   ]
  },
  {
   "cell_type": "code",
   "execution_count": 171,
   "id": "02aedcec",
   "metadata": {},
   "outputs": [
    {
     "data": {
      "text/html": [
       "<div>\n",
       "<style scoped>\n",
       "    .dataframe tbody tr th:only-of-type {\n",
       "        vertical-align: middle;\n",
       "    }\n",
       "\n",
       "    .dataframe tbody tr th {\n",
       "        vertical-align: top;\n",
       "    }\n",
       "\n",
       "    .dataframe thead th {\n",
       "        text-align: right;\n",
       "    }\n",
       "</style>\n",
       "<table border=\"1\" class=\"dataframe\">\n",
       "  <thead>\n",
       "    <tr style=\"text-align: right;\">\n",
       "      <th></th>\n",
       "      <th>2020-21 PGDDS Placements Stats</th>\n",
       "      <th>Unnamed: 1</th>\n",
       "      <th>Unnamed: 2</th>\n",
       "      <th>Unnamed: 3</th>\n",
       "      <th>Unnamed: 4</th>\n",
       "      <th>Unnamed: 5</th>\n",
       "      <th>Unnamed: 6</th>\n",
       "      <th>Unnamed: 7</th>\n",
       "    </tr>\n",
       "  </thead>\n",
       "  <tbody>\n",
       "    <tr>\n",
       "      <th>2</th>\n",
       "      <td>1</td>\n",
       "      <td>PGDDS 8</td>\n",
       "      <td>2021-04-01 00:00:00</td>\n",
       "      <td>Maka Naga Kalyan</td>\n",
       "      <td>Executive, Data Scientist</td>\n",
       "      <td>Nielsen</td>\n",
       "      <td>Bangalore</td>\n",
       "      <td>6.5</td>\n",
       "    </tr>\n",
       "    <tr>\n",
       "      <th>3</th>\n",
       "      <td>2</td>\n",
       "      <td>PGDDS 7</td>\n",
       "      <td>2021-04-01 00:00:00</td>\n",
       "      <td>Saurabh P</td>\n",
       "      <td>Executive, Data Scientist</td>\n",
       "      <td>Nielsen</td>\n",
       "      <td>Bangalore</td>\n",
       "      <td>6.5</td>\n",
       "    </tr>\n",
       "    <tr>\n",
       "      <th>4</th>\n",
       "      <td>3</td>\n",
       "      <td>PGDDS 8</td>\n",
       "      <td>2021-05-01 00:00:00</td>\n",
       "      <td>Swapnil Singh</td>\n",
       "      <td>Sr. Machine Learning Scientist</td>\n",
       "      <td>Dhiomics</td>\n",
       "      <td>Bangalore</td>\n",
       "      <td>4.5</td>\n",
       "    </tr>\n",
       "    <tr>\n",
       "      <th>5</th>\n",
       "      <td>4</td>\n",
       "      <td>PGDDS 8</td>\n",
       "      <td>2021-05-01 00:00:00</td>\n",
       "      <td>Afzal Akthar M</td>\n",
       "      <td>Machine Learning Scientist</td>\n",
       "      <td>Dhiomics</td>\n",
       "      <td>Bangalore</td>\n",
       "      <td>3.18</td>\n",
       "    </tr>\n",
       "    <tr>\n",
       "      <th>6</th>\n",
       "      <td>5</td>\n",
       "      <td>PGDDS 9</td>\n",
       "      <td>2021-05-01 00:00:00</td>\n",
       "      <td>Anurag Bora</td>\n",
       "      <td>Machine Learning Scientist</td>\n",
       "      <td>Dhiomics</td>\n",
       "      <td>Bangalore</td>\n",
       "      <td>3.18</td>\n",
       "    </tr>\n",
       "  </tbody>\n",
       "</table>\n",
       "</div>"
      ],
      "text/plain": [
       "  2020-21 PGDDS Placements Stats Unnamed: 1           Unnamed: 2  \\\n",
       "2                              1    PGDDS 8  2021-04-01 00:00:00   \n",
       "3                              2    PGDDS 7  2021-04-01 00:00:00   \n",
       "4                              3    PGDDS 8  2021-05-01 00:00:00   \n",
       "5                              4    PGDDS 8  2021-05-01 00:00:00   \n",
       "6                              5    PGDDS 9  2021-05-01 00:00:00   \n",
       "\n",
       "         Unnamed: 3                      Unnamed: 4 Unnamed: 5 Unnamed: 6  \\\n",
       "2  Maka Naga Kalyan       Executive, Data Scientist    Nielsen  Bangalore   \n",
       "3         Saurabh P       Executive, Data Scientist    Nielsen  Bangalore   \n",
       "4     Swapnil Singh  Sr. Machine Learning Scientist   Dhiomics  Bangalore   \n",
       "5    Afzal Akthar M      Machine Learning Scientist   Dhiomics  Bangalore   \n",
       "6       Anurag Bora      Machine Learning Scientist   Dhiomics  Bangalore   \n",
       "\n",
       "  Unnamed: 7  \n",
       "2        6.5  \n",
       "3        6.5  \n",
       "4        4.5  \n",
       "5       3.18  \n",
       "6       3.18  "
      ]
     },
     "execution_count": 171,
     "metadata": {},
     "output_type": "execute_result"
    }
   ],
   "source": [
    "d1.head()"
   ]
  },
  {
   "cell_type": "code",
   "execution_count": 172,
   "id": "c39cc20e",
   "metadata": {},
   "outputs": [
    {
     "name": "stderr",
     "output_type": "stream",
     "text": [
      "/var/folders/k8/4j5n_hw94_j_k1151xthw9_r0000gn/T/ipykernel_78035/4033265268.py:1: SettingWithCopyWarning: \n",
      "A value is trying to be set on a copy of a slice from a DataFrame\n",
      "\n",
      "See the caveats in the documentation: https://pandas.pydata.org/pandas-docs/stable/user_guide/indexing.html#returning-a-view-versus-a-copy\n",
      "  d1.rename(columns = {'2020-21 PGDDS Placements Stats':'Serial#', 'Unnamed: 1':'Course','Unnamed: 2':'Names','Unnamed: 4':'Designation','Unnamed: 5':'Company','Unnamed: 6':'Location','Unnamed: 7':'CTC in LPA'}, inplace = True)\n"
     ]
    }
   ],
   "source": [
    "d1.rename(columns = {'2020-21 PGDDS Placements Stats':'Serial#', 'Unnamed: 1':'Course','Unnamed: 2':'Names','Unnamed: 4':'Designation','Unnamed: 5':'Company','Unnamed: 6':'Location','Unnamed: 7':'CTC in LPA'}, inplace = True)\n"
   ]
  },
  {
   "cell_type": "code",
   "execution_count": 173,
   "id": "833cb51c",
   "metadata": {},
   "outputs": [],
   "source": [
    "d1= pd.read_excel('Pldata.xlsx')"
   ]
  },
  {
   "cell_type": "code",
   "execution_count": 280,
   "id": "57e399d5",
   "metadata": {},
   "outputs": [],
   "source": [
    "d1.rename(columns = {'2020-21 PGDDS Placements Stats':'Serial#', 'Unnamed: 1':'Course','Unnamed: 2':'Date','Unnamed: 3':'Names','Unnamed: 4':'Designation','Unnamed: 5':'Company','Unnamed: 6':'Location','Unnamed: 7':'CTC in LPA'}, inplace = True)\n"
   ]
  },
  {
   "cell_type": "code",
   "execution_count": 177,
   "id": "399cacdb",
   "metadata": {},
   "outputs": [],
   "source": [
    "d1 = d1.iloc[2:,:]"
   ]
  },
  {
   "cell_type": "code",
   "execution_count": 178,
   "id": "9fd9211a",
   "metadata": {},
   "outputs": [
    {
     "data": {
      "text/html": [
       "<div>\n",
       "<style scoped>\n",
       "    .dataframe tbody tr th:only-of-type {\n",
       "        vertical-align: middle;\n",
       "    }\n",
       "\n",
       "    .dataframe tbody tr th {\n",
       "        vertical-align: top;\n",
       "    }\n",
       "\n",
       "    .dataframe thead th {\n",
       "        text-align: right;\n",
       "    }\n",
       "</style>\n",
       "<table border=\"1\" class=\"dataframe\">\n",
       "  <thead>\n",
       "    <tr style=\"text-align: right;\">\n",
       "      <th></th>\n",
       "      <th>Serial#</th>\n",
       "      <th>Course</th>\n",
       "      <th>Names</th>\n",
       "      <th>Unnamed: 3</th>\n",
       "      <th>Designation</th>\n",
       "      <th>Company</th>\n",
       "      <th>Location</th>\n",
       "      <th>CTC in LPA</th>\n",
       "    </tr>\n",
       "  </thead>\n",
       "  <tbody>\n",
       "    <tr>\n",
       "      <th>3</th>\n",
       "      <td>2</td>\n",
       "      <td>PGDDS 7</td>\n",
       "      <td>2021-04-01 00:00:00</td>\n",
       "      <td>Saurabh P</td>\n",
       "      <td>Executive, Data Scientist</td>\n",
       "      <td>Nielsen</td>\n",
       "      <td>Bangalore</td>\n",
       "      <td>6.5</td>\n",
       "    </tr>\n",
       "    <tr>\n",
       "      <th>4</th>\n",
       "      <td>3</td>\n",
       "      <td>PGDDS 8</td>\n",
       "      <td>2021-05-01 00:00:00</td>\n",
       "      <td>Swapnil Singh</td>\n",
       "      <td>Sr. Machine Learning Scientist</td>\n",
       "      <td>Dhiomics</td>\n",
       "      <td>Bangalore</td>\n",
       "      <td>4.5</td>\n",
       "    </tr>\n",
       "    <tr>\n",
       "      <th>5</th>\n",
       "      <td>4</td>\n",
       "      <td>PGDDS 8</td>\n",
       "      <td>2021-05-01 00:00:00</td>\n",
       "      <td>Afzal Akthar M</td>\n",
       "      <td>Machine Learning Scientist</td>\n",
       "      <td>Dhiomics</td>\n",
       "      <td>Bangalore</td>\n",
       "      <td>3.18</td>\n",
       "    </tr>\n",
       "    <tr>\n",
       "      <th>6</th>\n",
       "      <td>5</td>\n",
       "      <td>PGDDS 9</td>\n",
       "      <td>2021-05-01 00:00:00</td>\n",
       "      <td>Anurag Bora</td>\n",
       "      <td>Machine Learning Scientist</td>\n",
       "      <td>Dhiomics</td>\n",
       "      <td>Bangalore</td>\n",
       "      <td>3.18</td>\n",
       "    </tr>\n",
       "    <tr>\n",
       "      <th>7</th>\n",
       "      <td>6</td>\n",
       "      <td>PGDDS 8</td>\n",
       "      <td>2021-05-01 00:00:00</td>\n",
       "      <td>AKALYA S</td>\n",
       "      <td>Intern</td>\n",
       "      <td>Inference Labs Pvt. Ltd</td>\n",
       "      <td>Bangalore</td>\n",
       "      <td>15 K</td>\n",
       "    </tr>\n",
       "    <tr>\n",
       "      <th>...</th>\n",
       "      <td>...</td>\n",
       "      <td>...</td>\n",
       "      <td>...</td>\n",
       "      <td>...</td>\n",
       "      <td>...</td>\n",
       "      <td>...</td>\n",
       "      <td>...</td>\n",
       "      <td>...</td>\n",
       "    </tr>\n",
       "    <tr>\n",
       "      <th>74</th>\n",
       "      <td>73</td>\n",
       "      <td>PGDDS 10</td>\n",
       "      <td>2022-02-01 00:00:00</td>\n",
       "      <td>AYUSH SAXENA</td>\n",
       "      <td>Data Analyst</td>\n",
       "      <td>Litmus World</td>\n",
       "      <td>Bangalore</td>\n",
       "      <td>6</td>\n",
       "    </tr>\n",
       "    <tr>\n",
       "      <th>75</th>\n",
       "      <td>74</td>\n",
       "      <td>PGDDS 10</td>\n",
       "      <td>2022-03-01 00:00:00</td>\n",
       "      <td>ASHWINI PRAKASH</td>\n",
       "      <td>Analyst</td>\n",
       "      <td>Cognitio Analytics</td>\n",
       "      <td>Gurgaon</td>\n",
       "      <td>8</td>\n",
       "    </tr>\n",
       "    <tr>\n",
       "      <th>76</th>\n",
       "      <td>75</td>\n",
       "      <td>PGDDS 9</td>\n",
       "      <td>2022-03-01 00:00:00</td>\n",
       "      <td>Muskaan Sharma</td>\n",
       "      <td>Support</td>\n",
       "      <td>Lyra infosystem</td>\n",
       "      <td>Bangalore</td>\n",
       "      <td>3</td>\n",
       "    </tr>\n",
       "    <tr>\n",
       "      <th>77</th>\n",
       "      <td>76</td>\n",
       "      <td>PGDDS 10</td>\n",
       "      <td>2022-03-01 00:00:00</td>\n",
       "      <td>YADANNAVAR RISHIKA SANJEEV</td>\n",
       "      <td>AI ML Software Engineer</td>\n",
       "      <td>Mimaag AI</td>\n",
       "      <td>Bangalore</td>\n",
       "      <td>6</td>\n",
       "    </tr>\n",
       "    <tr>\n",
       "      <th>78</th>\n",
       "      <td>77</td>\n",
       "      <td>PGDDS 10</td>\n",
       "      <td>2022-03-01 00:00:00</td>\n",
       "      <td>Aaron</td>\n",
       "      <td>Associate Consultant</td>\n",
       "      <td>EY</td>\n",
       "      <td>Bangalore</td>\n",
       "      <td>7.5</td>\n",
       "    </tr>\n",
       "  </tbody>\n",
       "</table>\n",
       "<p>76 rows × 8 columns</p>\n",
       "</div>"
      ],
      "text/plain": [
       "   Serial#    Course                Names                  Unnamed: 3  \\\n",
       "3        2   PGDDS 7  2021-04-01 00:00:00                   Saurabh P   \n",
       "4        3   PGDDS 8  2021-05-01 00:00:00               Swapnil Singh   \n",
       "5        4   PGDDS 8  2021-05-01 00:00:00              Afzal Akthar M   \n",
       "6        5   PGDDS 9  2021-05-01 00:00:00                 Anurag Bora   \n",
       "7        6   PGDDS 8  2021-05-01 00:00:00                    AKALYA S   \n",
       "..     ...       ...                  ...                         ...   \n",
       "74      73  PGDDS 10  2022-02-01 00:00:00                AYUSH SAXENA   \n",
       "75      74  PGDDS 10  2022-03-01 00:00:00             ASHWINI PRAKASH   \n",
       "76      75   PGDDS 9  2022-03-01 00:00:00              Muskaan Sharma   \n",
       "77      76  PGDDS 10  2022-03-01 00:00:00  YADANNAVAR RISHIKA SANJEEV   \n",
       "78      77  PGDDS 10  2022-03-01 00:00:00                       Aaron   \n",
       "\n",
       "                       Designation                  Company   Location  \\\n",
       "3        Executive, Data Scientist                  Nielsen  Bangalore   \n",
       "4   Sr. Machine Learning Scientist                 Dhiomics  Bangalore   \n",
       "5       Machine Learning Scientist                 Dhiomics  Bangalore   \n",
       "6       Machine Learning Scientist                 Dhiomics  Bangalore   \n",
       "7                           Intern  Inference Labs Pvt. Ltd  Bangalore   \n",
       "..                             ...                      ...        ...   \n",
       "74                    Data Analyst             Litmus World  Bangalore   \n",
       "75                         Analyst       Cognitio Analytics    Gurgaon   \n",
       "76                         Support          Lyra infosystem  Bangalore   \n",
       "77         AI ML Software Engineer                Mimaag AI  Bangalore   \n",
       "78            Associate Consultant                       EY  Bangalore   \n",
       "\n",
       "   CTC in LPA  \n",
       "3         6.5  \n",
       "4         4.5  \n",
       "5        3.18  \n",
       "6        3.18  \n",
       "7        15 K  \n",
       "..        ...  \n",
       "74          6  \n",
       "75          8  \n",
       "76          3  \n",
       "77          6  \n",
       "78        7.5  \n",
       "\n",
       "[76 rows x 8 columns]"
      ]
     },
     "execution_count": 178,
     "metadata": {},
     "output_type": "execute_result"
    }
   ],
   "source": [
    "d1"
   ]
  },
  {
   "cell_type": "code",
   "execution_count": 180,
   "id": "79808556",
   "metadata": {},
   "outputs": [
    {
     "data": {
      "text/plain": [
       "Serial#        0\n",
       "Course         0\n",
       "Names          0\n",
       "Unnamed: 3     0\n",
       "Designation    0\n",
       "Company        0\n",
       "Location       0\n",
       "CTC in LPA     0\n",
       "dtype: int64"
      ]
     },
     "execution_count": 180,
     "metadata": {},
     "output_type": "execute_result"
    }
   ],
   "source": [
    "d1.isnull().sum()\n",
    "#no missing values"
   ]
  },
  {
   "cell_type": "code",
   "execution_count": 190,
   "id": "2f268c37",
   "metadata": {},
   "outputs": [],
   "source": [
    "d1= pd.read_excel('Pldata.xlsx')"
   ]
  },
  {
   "cell_type": "code",
   "execution_count": 193,
   "id": "e280731c",
   "metadata": {},
   "outputs": [],
   "source": [
    "d1 = d1.tail(d1.shape[0] -1)"
   ]
  },
  {
   "cell_type": "code",
   "execution_count": 194,
   "id": "44a9aaf5",
   "metadata": {},
   "outputs": [
    {
     "data": {
      "text/html": [
       "<div>\n",
       "<style scoped>\n",
       "    .dataframe tbody tr th:only-of-type {\n",
       "        vertical-align: middle;\n",
       "    }\n",
       "\n",
       "    .dataframe tbody tr th {\n",
       "        vertical-align: top;\n",
       "    }\n",
       "\n",
       "    .dataframe thead th {\n",
       "        text-align: right;\n",
       "    }\n",
       "</style>\n",
       "<table border=\"1\" class=\"dataframe\">\n",
       "  <thead>\n",
       "    <tr style=\"text-align: right;\">\n",
       "      <th></th>\n",
       "      <th>2020-21 PGDDS Placements Stats</th>\n",
       "      <th>Unnamed: 1</th>\n",
       "      <th>Unnamed: 2</th>\n",
       "      <th>Unnamed: 3</th>\n",
       "      <th>Unnamed: 4</th>\n",
       "      <th>Unnamed: 5</th>\n",
       "      <th>Unnamed: 6</th>\n",
       "      <th>Unnamed: 7</th>\n",
       "    </tr>\n",
       "  </thead>\n",
       "  <tbody>\n",
       "    <tr>\n",
       "      <th>2</th>\n",
       "      <td>1</td>\n",
       "      <td>PGDDS 8</td>\n",
       "      <td>2021-04-01 00:00:00</td>\n",
       "      <td>Maka Naga Kalyan</td>\n",
       "      <td>Executive, Data Scientist</td>\n",
       "      <td>Nielsen</td>\n",
       "      <td>Bangalore</td>\n",
       "      <td>6.5</td>\n",
       "    </tr>\n",
       "    <tr>\n",
       "      <th>3</th>\n",
       "      <td>2</td>\n",
       "      <td>PGDDS 7</td>\n",
       "      <td>2021-04-01 00:00:00</td>\n",
       "      <td>Saurabh P</td>\n",
       "      <td>Executive, Data Scientist</td>\n",
       "      <td>Nielsen</td>\n",
       "      <td>Bangalore</td>\n",
       "      <td>6.5</td>\n",
       "    </tr>\n",
       "    <tr>\n",
       "      <th>4</th>\n",
       "      <td>3</td>\n",
       "      <td>PGDDS 8</td>\n",
       "      <td>2021-05-01 00:00:00</td>\n",
       "      <td>Swapnil Singh</td>\n",
       "      <td>Sr. Machine Learning Scientist</td>\n",
       "      <td>Dhiomics</td>\n",
       "      <td>Bangalore</td>\n",
       "      <td>4.5</td>\n",
       "    </tr>\n",
       "    <tr>\n",
       "      <th>5</th>\n",
       "      <td>4</td>\n",
       "      <td>PGDDS 8</td>\n",
       "      <td>2021-05-01 00:00:00</td>\n",
       "      <td>Afzal Akthar M</td>\n",
       "      <td>Machine Learning Scientist</td>\n",
       "      <td>Dhiomics</td>\n",
       "      <td>Bangalore</td>\n",
       "      <td>3.18</td>\n",
       "    </tr>\n",
       "    <tr>\n",
       "      <th>6</th>\n",
       "      <td>5</td>\n",
       "      <td>PGDDS 9</td>\n",
       "      <td>2021-05-01 00:00:00</td>\n",
       "      <td>Anurag Bora</td>\n",
       "      <td>Machine Learning Scientist</td>\n",
       "      <td>Dhiomics</td>\n",
       "      <td>Bangalore</td>\n",
       "      <td>3.18</td>\n",
       "    </tr>\n",
       "    <tr>\n",
       "      <th>...</th>\n",
       "      <td>...</td>\n",
       "      <td>...</td>\n",
       "      <td>...</td>\n",
       "      <td>...</td>\n",
       "      <td>...</td>\n",
       "      <td>...</td>\n",
       "      <td>...</td>\n",
       "      <td>...</td>\n",
       "    </tr>\n",
       "    <tr>\n",
       "      <th>74</th>\n",
       "      <td>73</td>\n",
       "      <td>PGDDS 10</td>\n",
       "      <td>2022-02-01 00:00:00</td>\n",
       "      <td>AYUSH SAXENA</td>\n",
       "      <td>Data Analyst</td>\n",
       "      <td>Litmus World</td>\n",
       "      <td>Bangalore</td>\n",
       "      <td>6</td>\n",
       "    </tr>\n",
       "    <tr>\n",
       "      <th>75</th>\n",
       "      <td>74</td>\n",
       "      <td>PGDDS 10</td>\n",
       "      <td>2022-03-01 00:00:00</td>\n",
       "      <td>ASHWINI PRAKASH</td>\n",
       "      <td>Analyst</td>\n",
       "      <td>Cognitio Analytics</td>\n",
       "      <td>Gurgaon</td>\n",
       "      <td>8</td>\n",
       "    </tr>\n",
       "    <tr>\n",
       "      <th>76</th>\n",
       "      <td>75</td>\n",
       "      <td>PGDDS 9</td>\n",
       "      <td>2022-03-01 00:00:00</td>\n",
       "      <td>Muskaan Sharma</td>\n",
       "      <td>Support</td>\n",
       "      <td>Lyra infosystem</td>\n",
       "      <td>Bangalore</td>\n",
       "      <td>3</td>\n",
       "    </tr>\n",
       "    <tr>\n",
       "      <th>77</th>\n",
       "      <td>76</td>\n",
       "      <td>PGDDS 10</td>\n",
       "      <td>2022-03-01 00:00:00</td>\n",
       "      <td>YADANNAVAR RISHIKA SANJEEV</td>\n",
       "      <td>AI ML Software Engineer</td>\n",
       "      <td>Mimaag AI</td>\n",
       "      <td>Bangalore</td>\n",
       "      <td>6</td>\n",
       "    </tr>\n",
       "    <tr>\n",
       "      <th>78</th>\n",
       "      <td>77</td>\n",
       "      <td>PGDDS 10</td>\n",
       "      <td>2022-03-01 00:00:00</td>\n",
       "      <td>Aaron</td>\n",
       "      <td>Associate Consultant</td>\n",
       "      <td>EY</td>\n",
       "      <td>Bangalore</td>\n",
       "      <td>7.5</td>\n",
       "    </tr>\n",
       "  </tbody>\n",
       "</table>\n",
       "<p>77 rows × 8 columns</p>\n",
       "</div>"
      ],
      "text/plain": [
       "   2020-21 PGDDS Placements Stats Unnamed: 1           Unnamed: 2  \\\n",
       "2                               1    PGDDS 8  2021-04-01 00:00:00   \n",
       "3                               2    PGDDS 7  2021-04-01 00:00:00   \n",
       "4                               3    PGDDS 8  2021-05-01 00:00:00   \n",
       "5                               4    PGDDS 8  2021-05-01 00:00:00   \n",
       "6                               5    PGDDS 9  2021-05-01 00:00:00   \n",
       "..                            ...        ...                  ...   \n",
       "74                             73   PGDDS 10  2022-02-01 00:00:00   \n",
       "75                             74   PGDDS 10  2022-03-01 00:00:00   \n",
       "76                             75    PGDDS 9  2022-03-01 00:00:00   \n",
       "77                             76   PGDDS 10  2022-03-01 00:00:00   \n",
       "78                             77   PGDDS 10  2022-03-01 00:00:00   \n",
       "\n",
       "                    Unnamed: 3                      Unnamed: 4  \\\n",
       "2             Maka Naga Kalyan       Executive, Data Scientist   \n",
       "3                    Saurabh P       Executive, Data Scientist   \n",
       "4                Swapnil Singh  Sr. Machine Learning Scientist   \n",
       "5               Afzal Akthar M      Machine Learning Scientist   \n",
       "6                  Anurag Bora      Machine Learning Scientist   \n",
       "..                         ...                             ...   \n",
       "74                AYUSH SAXENA                    Data Analyst   \n",
       "75             ASHWINI PRAKASH                         Analyst   \n",
       "76              Muskaan Sharma                         Support   \n",
       "77  YADANNAVAR RISHIKA SANJEEV         AI ML Software Engineer   \n",
       "78                       Aaron            Associate Consultant   \n",
       "\n",
       "            Unnamed: 5 Unnamed: 6 Unnamed: 7  \n",
       "2              Nielsen  Bangalore        6.5  \n",
       "3              Nielsen  Bangalore        6.5  \n",
       "4             Dhiomics  Bangalore        4.5  \n",
       "5             Dhiomics  Bangalore       3.18  \n",
       "6             Dhiomics  Bangalore       3.18  \n",
       "..                 ...        ...        ...  \n",
       "74        Litmus World  Bangalore          6  \n",
       "75  Cognitio Analytics    Gurgaon          8  \n",
       "76     Lyra infosystem  Bangalore          3  \n",
       "77           Mimaag AI  Bangalore          6  \n",
       "78                  EY  Bangalore        7.5  \n",
       "\n",
       "[77 rows x 8 columns]"
      ]
     },
     "execution_count": 194,
     "metadata": {},
     "output_type": "execute_result"
    }
   ],
   "source": [
    "d1"
   ]
  },
  {
   "cell_type": "code",
   "execution_count": 195,
   "id": "d3283604",
   "metadata": {},
   "outputs": [
    {
     "name": "stderr",
     "output_type": "stream",
     "text": [
      "/var/folders/k8/4j5n_hw94_j_k1151xthw9_r0000gn/T/ipykernel_78035/4033265268.py:1: SettingWithCopyWarning: \n",
      "A value is trying to be set on a copy of a slice from a DataFrame\n",
      "\n",
      "See the caveats in the documentation: https://pandas.pydata.org/pandas-docs/stable/user_guide/indexing.html#returning-a-view-versus-a-copy\n",
      "  d1.rename(columns = {'2020-21 PGDDS Placements Stats':'Serial#', 'Unnamed: 1':'Course','Unnamed: 2':'Names','Unnamed: 4':'Designation','Unnamed: 5':'Company','Unnamed: 6':'Location','Unnamed: 7':'CTC in LPA'}, inplace = True)\n"
     ]
    }
   ],
   "source": [
    "d1.rename(columns = {'2020-21 PGDDS Placements Stats':'Serial#', 'Unnamed: 1':'Course','Unnamed: 2':'Names','Unnamed: 4':'Designation','Unnamed: 5':'Company','Unnamed: 6':'Location','Unnamed: 7':'CTC in LPA'}, inplace = True)\n"
   ]
  },
  {
   "cell_type": "code",
   "execution_count": 196,
   "id": "273ace82",
   "metadata": {},
   "outputs": [],
   "source": [
    "d1= pd.read_excel('Pldata.xlsx')"
   ]
  },
  {
   "cell_type": "code",
   "execution_count": 197,
   "id": "e2c12d4e",
   "metadata": {},
   "outputs": [],
   "source": [
    "d1.rename(columns = {'2020-21 PGDDS Placements Stats':'Serial#', 'Unnamed: 1':'Course','Unnamed: 2':'Names','Unnamed: 4':'Designation','Unnamed: 5':'Company','Unnamed: 6':'Location','Unnamed: 7':'CTC in LPA'}, inplace = True)\n"
   ]
  },
  {
   "cell_type": "code",
   "execution_count": 198,
   "id": "8aba35cb",
   "metadata": {},
   "outputs": [],
   "source": [
    "d1 = d1.iloc[2:,:]"
   ]
  },
  {
   "cell_type": "code",
   "execution_count": 199,
   "id": "d89d0e63",
   "metadata": {},
   "outputs": [],
   "source": [
    "#cleaning the data"
   ]
  },
  {
   "cell_type": "code",
   "execution_count": 200,
   "id": "6bd44d05",
   "metadata": {
    "scrolled": true
   },
   "outputs": [
    {
     "data": {
      "text/html": [
       "<div>\n",
       "<style scoped>\n",
       "    .dataframe tbody tr th:only-of-type {\n",
       "        vertical-align: middle;\n",
       "    }\n",
       "\n",
       "    .dataframe tbody tr th {\n",
       "        vertical-align: top;\n",
       "    }\n",
       "\n",
       "    .dataframe thead th {\n",
       "        text-align: right;\n",
       "    }\n",
       "</style>\n",
       "<table border=\"1\" class=\"dataframe\">\n",
       "  <thead>\n",
       "    <tr style=\"text-align: right;\">\n",
       "      <th></th>\n",
       "      <th>Serial#</th>\n",
       "      <th>Course</th>\n",
       "      <th>Names</th>\n",
       "      <th>Unnamed: 3</th>\n",
       "      <th>Designation</th>\n",
       "      <th>Company</th>\n",
       "      <th>Location</th>\n",
       "      <th>CTC in LPA</th>\n",
       "    </tr>\n",
       "  </thead>\n",
       "  <tbody>\n",
       "    <tr>\n",
       "      <th>2</th>\n",
       "      <td>1</td>\n",
       "      <td>PGDDS 8</td>\n",
       "      <td>2021-04-01 00:00:00</td>\n",
       "      <td>Maka Naga Kalyan</td>\n",
       "      <td>Executive, Data Scientist</td>\n",
       "      <td>Nielsen</td>\n",
       "      <td>Bangalore</td>\n",
       "      <td>6.5</td>\n",
       "    </tr>\n",
       "    <tr>\n",
       "      <th>3</th>\n",
       "      <td>2</td>\n",
       "      <td>PGDDS 7</td>\n",
       "      <td>2021-04-01 00:00:00</td>\n",
       "      <td>Saurabh P</td>\n",
       "      <td>Executive, Data Scientist</td>\n",
       "      <td>Nielsen</td>\n",
       "      <td>Bangalore</td>\n",
       "      <td>6.5</td>\n",
       "    </tr>\n",
       "    <tr>\n",
       "      <th>4</th>\n",
       "      <td>3</td>\n",
       "      <td>PGDDS 8</td>\n",
       "      <td>2021-05-01 00:00:00</td>\n",
       "      <td>Swapnil Singh</td>\n",
       "      <td>Sr. Machine Learning Scientist</td>\n",
       "      <td>Dhiomics</td>\n",
       "      <td>Bangalore</td>\n",
       "      <td>4.5</td>\n",
       "    </tr>\n",
       "    <tr>\n",
       "      <th>5</th>\n",
       "      <td>4</td>\n",
       "      <td>PGDDS 8</td>\n",
       "      <td>2021-05-01 00:00:00</td>\n",
       "      <td>Afzal Akthar M</td>\n",
       "      <td>Machine Learning Scientist</td>\n",
       "      <td>Dhiomics</td>\n",
       "      <td>Bangalore</td>\n",
       "      <td>3.18</td>\n",
       "    </tr>\n",
       "    <tr>\n",
       "      <th>6</th>\n",
       "      <td>5</td>\n",
       "      <td>PGDDS 9</td>\n",
       "      <td>2021-05-01 00:00:00</td>\n",
       "      <td>Anurag Bora</td>\n",
       "      <td>Machine Learning Scientist</td>\n",
       "      <td>Dhiomics</td>\n",
       "      <td>Bangalore</td>\n",
       "      <td>3.18</td>\n",
       "    </tr>\n",
       "  </tbody>\n",
       "</table>\n",
       "</div>"
      ],
      "text/plain": [
       "  Serial#   Course                Names        Unnamed: 3  \\\n",
       "2       1  PGDDS 8  2021-04-01 00:00:00  Maka Naga Kalyan   \n",
       "3       2  PGDDS 7  2021-04-01 00:00:00         Saurabh P   \n",
       "4       3  PGDDS 8  2021-05-01 00:00:00     Swapnil Singh   \n",
       "5       4  PGDDS 8  2021-05-01 00:00:00    Afzal Akthar M   \n",
       "6       5  PGDDS 9  2021-05-01 00:00:00       Anurag Bora   \n",
       "\n",
       "                      Designation   Company   Location CTC in LPA  \n",
       "2       Executive, Data Scientist   Nielsen  Bangalore        6.5  \n",
       "3       Executive, Data Scientist   Nielsen  Bangalore        6.5  \n",
       "4  Sr. Machine Learning Scientist  Dhiomics  Bangalore        4.5  \n",
       "5      Machine Learning Scientist  Dhiomics  Bangalore       3.18  \n",
       "6      Machine Learning Scientist  Dhiomics  Bangalore       3.18  "
      ]
     },
     "execution_count": 200,
     "metadata": {},
     "output_type": "execute_result"
    }
   ],
   "source": [
    "d1.head()"
   ]
  },
  {
   "cell_type": "code",
   "execution_count": 212,
   "id": "51dd5625",
   "metadata": {},
   "outputs": [
    {
     "ename": "KeyError",
     "evalue": "'False: boolean label can not be used without a boolean index'",
     "output_type": "error",
     "traceback": [
      "\u001b[0;31m---------------------------------------------------------------------------\u001b[0m",
      "\u001b[0;31mKeyError\u001b[0m                                  Traceback (most recent call last)",
      "\u001b[0;32m/var/folders/k8/4j5n_hw94_j_k1151xthw9_r0000gn/T/ipykernel_78035/1928915211.py\u001b[0m in \u001b[0;36m<module>\u001b[0;34m\u001b[0m\n\u001b[1;32m      2\u001b[0m \u001b[0md2\u001b[0m \u001b[0;34m=\u001b[0m \u001b[0md1\u001b[0m\u001b[0;34m.\u001b[0m\u001b[0mapplymap\u001b[0m\u001b[0;34m(\u001b[0m\u001b[0mnp\u001b[0m\u001b[0;34m.\u001b[0m\u001b[0misreal\u001b[0m\u001b[0;34m)\u001b[0m\u001b[0;34m\u001b[0m\u001b[0;34m\u001b[0m\u001b[0m\n\u001b[1;32m      3\u001b[0m \u001b[0;34m\u001b[0m\u001b[0m\n\u001b[0;32m----> 4\u001b[0;31m \u001b[0md3\u001b[0m \u001b[0;34m=\u001b[0m \u001b[0md2\u001b[0m\u001b[0;34m.\u001b[0m\u001b[0mquery\u001b[0m\u001b[0;34m(\u001b[0m\u001b[0;34m'\"CTC in LPA\" == \"False\"'\u001b[0m\u001b[0;34m)\u001b[0m\u001b[0;34m[\u001b[0m\u001b[0;34m'Serial#'\u001b[0m\u001b[0;34m]\u001b[0m\u001b[0;34m\u001b[0m\u001b[0;34m\u001b[0m\u001b[0m\n\u001b[0m",
      "\u001b[0;32m/Library/Frameworks/Python.framework/Versions/3.9/lib/python3.9/site-packages/pandas/core/frame.py\u001b[0m in \u001b[0;36mquery\u001b[0;34m(self, expr, inplace, **kwargs)\u001b[0m\n\u001b[1;32m   4112\u001b[0m \u001b[0;34m\u001b[0m\u001b[0m\n\u001b[1;32m   4113\u001b[0m         \u001b[0;32mtry\u001b[0m\u001b[0;34m:\u001b[0m\u001b[0;34m\u001b[0m\u001b[0;34m\u001b[0m\u001b[0m\n\u001b[0;32m-> 4114\u001b[0;31m             \u001b[0mresult\u001b[0m \u001b[0;34m=\u001b[0m \u001b[0mself\u001b[0m\u001b[0;34m.\u001b[0m\u001b[0mloc\u001b[0m\u001b[0;34m[\u001b[0m\u001b[0mres\u001b[0m\u001b[0;34m]\u001b[0m\u001b[0;34m\u001b[0m\u001b[0;34m\u001b[0m\u001b[0m\n\u001b[0m\u001b[1;32m   4115\u001b[0m         \u001b[0;32mexcept\u001b[0m \u001b[0mValueError\u001b[0m\u001b[0;34m:\u001b[0m\u001b[0;34m\u001b[0m\u001b[0;34m\u001b[0m\u001b[0m\n\u001b[1;32m   4116\u001b[0m             \u001b[0;31m# when res is multi-dimensional loc raises, but this is sometimes a\u001b[0m\u001b[0;34m\u001b[0m\u001b[0;34m\u001b[0m\u001b[0;34m\u001b[0m\u001b[0m\n",
      "\u001b[0;32m/Library/Frameworks/Python.framework/Versions/3.9/lib/python3.9/site-packages/pandas/core/indexing.py\u001b[0m in \u001b[0;36m__getitem__\u001b[0;34m(self, key)\u001b[0m\n\u001b[1;32m    965\u001b[0m \u001b[0;34m\u001b[0m\u001b[0m\n\u001b[1;32m    966\u001b[0m             \u001b[0mmaybe_callable\u001b[0m \u001b[0;34m=\u001b[0m \u001b[0mcom\u001b[0m\u001b[0;34m.\u001b[0m\u001b[0mapply_if_callable\u001b[0m\u001b[0;34m(\u001b[0m\u001b[0mkey\u001b[0m\u001b[0;34m,\u001b[0m \u001b[0mself\u001b[0m\u001b[0;34m.\u001b[0m\u001b[0mobj\u001b[0m\u001b[0;34m)\u001b[0m\u001b[0;34m\u001b[0m\u001b[0;34m\u001b[0m\u001b[0m\n\u001b[0;32m--> 967\u001b[0;31m             \u001b[0;32mreturn\u001b[0m \u001b[0mself\u001b[0m\u001b[0;34m.\u001b[0m\u001b[0m_getitem_axis\u001b[0m\u001b[0;34m(\u001b[0m\u001b[0mmaybe_callable\u001b[0m\u001b[0;34m,\u001b[0m \u001b[0maxis\u001b[0m\u001b[0;34m=\u001b[0m\u001b[0maxis\u001b[0m\u001b[0;34m)\u001b[0m\u001b[0;34m\u001b[0m\u001b[0;34m\u001b[0m\u001b[0m\n\u001b[0m\u001b[1;32m    968\u001b[0m \u001b[0;34m\u001b[0m\u001b[0m\n\u001b[1;32m    969\u001b[0m     \u001b[0;32mdef\u001b[0m \u001b[0m_is_scalar_access\u001b[0m\u001b[0;34m(\u001b[0m\u001b[0mself\u001b[0m\u001b[0;34m,\u001b[0m \u001b[0mkey\u001b[0m\u001b[0;34m:\u001b[0m \u001b[0mtuple\u001b[0m\u001b[0;34m)\u001b[0m\u001b[0;34m:\u001b[0m\u001b[0;34m\u001b[0m\u001b[0;34m\u001b[0m\u001b[0m\n",
      "\u001b[0;32m/Library/Frameworks/Python.framework/Versions/3.9/lib/python3.9/site-packages/pandas/core/indexing.py\u001b[0m in \u001b[0;36m_getitem_axis\u001b[0;34m(self, key, axis)\u001b[0m\n\u001b[1;32m   1199\u001b[0m \u001b[0;34m\u001b[0m\u001b[0m\n\u001b[1;32m   1200\u001b[0m         \u001b[0;31m# fall thru to straight lookup\u001b[0m\u001b[0;34m\u001b[0m\u001b[0;34m\u001b[0m\u001b[0;34m\u001b[0m\u001b[0m\n\u001b[0;32m-> 1201\u001b[0;31m         \u001b[0mself\u001b[0m\u001b[0;34m.\u001b[0m\u001b[0m_validate_key\u001b[0m\u001b[0;34m(\u001b[0m\u001b[0mkey\u001b[0m\u001b[0;34m,\u001b[0m \u001b[0maxis\u001b[0m\u001b[0;34m)\u001b[0m\u001b[0;34m\u001b[0m\u001b[0;34m\u001b[0m\u001b[0m\n\u001b[0m\u001b[1;32m   1202\u001b[0m         \u001b[0;32mreturn\u001b[0m \u001b[0mself\u001b[0m\u001b[0;34m.\u001b[0m\u001b[0m_get_label\u001b[0m\u001b[0;34m(\u001b[0m\u001b[0mkey\u001b[0m\u001b[0;34m,\u001b[0m \u001b[0maxis\u001b[0m\u001b[0;34m=\u001b[0m\u001b[0maxis\u001b[0m\u001b[0;34m)\u001b[0m\u001b[0;34m\u001b[0m\u001b[0;34m\u001b[0m\u001b[0m\n\u001b[1;32m   1203\u001b[0m \u001b[0;34m\u001b[0m\u001b[0m\n",
      "\u001b[0;32m/Library/Frameworks/Python.framework/Versions/3.9/lib/python3.9/site-packages/pandas/core/indexing.py\u001b[0m in \u001b[0;36m_validate_key\u001b[0;34m(self, key, axis)\u001b[0m\n\u001b[1;32m   1009\u001b[0m             \u001b[0;32mor\u001b[0m \u001b[0mself\u001b[0m\u001b[0;34m.\u001b[0m\u001b[0mobj\u001b[0m\u001b[0;34m.\u001b[0m\u001b[0m_get_axis\u001b[0m\u001b[0;34m(\u001b[0m\u001b[0maxis\u001b[0m\u001b[0;34m)\u001b[0m\u001b[0;34m.\u001b[0m\u001b[0mdtype\u001b[0m\u001b[0;34m.\u001b[0m\u001b[0mname\u001b[0m \u001b[0;34m==\u001b[0m \u001b[0;34m\"boolean\"\u001b[0m\u001b[0;34m\u001b[0m\u001b[0;34m\u001b[0m\u001b[0m\n\u001b[1;32m   1010\u001b[0m         ):\n\u001b[0;32m-> 1011\u001b[0;31m             raise KeyError(\n\u001b[0m\u001b[1;32m   1012\u001b[0m                 \u001b[0;34mf\"{key}: boolean label can not be used without a boolean index\"\u001b[0m\u001b[0;34m\u001b[0m\u001b[0;34m\u001b[0m\u001b[0m\n\u001b[1;32m   1013\u001b[0m             )\n",
      "\u001b[0;31mKeyError\u001b[0m: 'False: boolean label can not be used without a boolean index'"
     ]
    }
   ],
   "source": [
    "import numpy as np\n",
    "d2 = d1.applymap(np.isreal)\n",
    "\n",
    "d3 = d2.query('\"CTC in LPA\" == \"False\"')['Serial#']"
   ]
  },
  {
   "cell_type": "code",
   "execution_count": 205,
   "id": "d36925a3",
   "metadata": {},
   "outputs": [
    {
     "data": {
      "text/plain": [
       "pandas.core.frame.DataFrame"
      ]
     },
     "execution_count": 205,
     "metadata": {},
     "output_type": "execute_result"
    }
   ],
   "source": [
    "type(d1\n",
    "    )"
   ]
  },
  {
   "cell_type": "code",
   "execution_count": 215,
   "id": "dcc18042",
   "metadata": {},
   "outputs": [
    {
     "ename": "AttributeError",
     "evalue": "module 'numpy' has no attribute 'isnumeric'",
     "output_type": "error",
     "traceback": [
      "\u001b[0;31m---------------------------------------------------------------------------\u001b[0m",
      "\u001b[0;31mAttributeError\u001b[0m                            Traceback (most recent call last)",
      "\u001b[0;32m/var/folders/k8/4j5n_hw94_j_k1151xthw9_r0000gn/T/ipykernel_78035/3729624226.py\u001b[0m in \u001b[0;36m<module>\u001b[0;34m\u001b[0m\n\u001b[0;32m----> 1\u001b[0;31m \u001b[0mnp\u001b[0m\u001b[0;34m.\u001b[0m\u001b[0misnumeric\u001b[0m\u001b[0;34m(\u001b[0m\u001b[0md1\u001b[0m\u001b[0;34m[\u001b[0m\u001b[0;34m'CTC in LPA'\u001b[0m\u001b[0;34m]\u001b[0m\u001b[0;34m)\u001b[0m\u001b[0;34m\u001b[0m\u001b[0;34m\u001b[0m\u001b[0m\n\u001b[0m",
      "\u001b[0;32m/Library/Frameworks/Python.framework/Versions/3.9/lib/python3.9/site-packages/numpy/__init__.py\u001b[0m in \u001b[0;36m__getattr__\u001b[0;34m(attr)\u001b[0m\n\u001b[1;32m    313\u001b[0m             \u001b[0;32mreturn\u001b[0m \u001b[0mTester\u001b[0m\u001b[0;34m\u001b[0m\u001b[0;34m\u001b[0m\u001b[0m\n\u001b[1;32m    314\u001b[0m \u001b[0;34m\u001b[0m\u001b[0m\n\u001b[0;32m--> 315\u001b[0;31m         raise AttributeError(\"module {!r} has no attribute \"\n\u001b[0m\u001b[1;32m    316\u001b[0m                              \"{!r}\".format(__name__, attr))\n\u001b[1;32m    317\u001b[0m \u001b[0;34m\u001b[0m\u001b[0m\n",
      "\u001b[0;31mAttributeError\u001b[0m: module 'numpy' has no attribute 'isnumeric'"
     ]
    }
   ],
   "source": [
    "np.isnumeric(d1['CTC in LPA'])"
   ]
  },
  {
   "cell_type": "code",
   "execution_count": 220,
   "id": "83f57aaa",
   "metadata": {},
   "outputs": [
    {
     "data": {
      "text/html": [
       "<div>\n",
       "<style scoped>\n",
       "    .dataframe tbody tr th:only-of-type {\n",
       "        vertical-align: middle;\n",
       "    }\n",
       "\n",
       "    .dataframe tbody tr th {\n",
       "        vertical-align: top;\n",
       "    }\n",
       "\n",
       "    .dataframe thead th {\n",
       "        text-align: right;\n",
       "    }\n",
       "</style>\n",
       "<table border=\"1\" class=\"dataframe\">\n",
       "  <thead>\n",
       "    <tr style=\"text-align: right;\">\n",
       "      <th></th>\n",
       "      <th>Serial#</th>\n",
       "      <th>Course</th>\n",
       "      <th>Names</th>\n",
       "      <th>Unnamed: 3</th>\n",
       "      <th>Designation</th>\n",
       "      <th>Company</th>\n",
       "      <th>Location</th>\n",
       "      <th>CTC in LPA</th>\n",
       "    </tr>\n",
       "  </thead>\n",
       "  <tbody>\n",
       "    <tr>\n",
       "      <th>7</th>\n",
       "      <td>6</td>\n",
       "      <td>PGDDS 8</td>\n",
       "      <td>2021-05-01 00:00:00</td>\n",
       "      <td>AKALYA S</td>\n",
       "      <td>Intern</td>\n",
       "      <td>Inference Labs Pvt. Ltd</td>\n",
       "      <td>Bangalore</td>\n",
       "      <td>15 K</td>\n",
       "    </tr>\n",
       "    <tr>\n",
       "      <th>8</th>\n",
       "      <td>7</td>\n",
       "      <td>PGDDS 8</td>\n",
       "      <td>2021-05-01 00:00:00</td>\n",
       "      <td>AKSHAY IYER</td>\n",
       "      <td>Intern</td>\n",
       "      <td>Inference Labs Pvt. Ltd</td>\n",
       "      <td>Bangalore</td>\n",
       "      <td>15 K</td>\n",
       "    </tr>\n",
       "    <tr>\n",
       "      <th>9</th>\n",
       "      <td>8</td>\n",
       "      <td>PGDDS 8</td>\n",
       "      <td>2021-05-01 00:00:00</td>\n",
       "      <td>SUREYA S</td>\n",
       "      <td>Intern</td>\n",
       "      <td>Inference Labs Pvt. Ltd</td>\n",
       "      <td>Bangalore</td>\n",
       "      <td>15 K</td>\n",
       "    </tr>\n",
       "    <tr>\n",
       "      <th>10</th>\n",
       "      <td>9</td>\n",
       "      <td>PGDDS 8</td>\n",
       "      <td>2021-05-01 00:00:00</td>\n",
       "      <td>PRABHANDHAM MEGHANA</td>\n",
       "      <td>Intern</td>\n",
       "      <td>Tara Tech</td>\n",
       "      <td>Bangalore</td>\n",
       "      <td>20 K</td>\n",
       "    </tr>\n",
       "    <tr>\n",
       "      <th>11</th>\n",
       "      <td>10</td>\n",
       "      <td>PGDDS 8</td>\n",
       "      <td>2021-05-01 00:00:00</td>\n",
       "      <td>KARTHIKEYAN R S</td>\n",
       "      <td>Data Scientist</td>\n",
       "      <td>Genpact</td>\n",
       "      <td>Bangalore</td>\n",
       "      <td>6</td>\n",
       "    </tr>\n",
       "    <tr>\n",
       "      <th>...</th>\n",
       "      <td>...</td>\n",
       "      <td>...</td>\n",
       "      <td>...</td>\n",
       "      <td>...</td>\n",
       "      <td>...</td>\n",
       "      <td>...</td>\n",
       "      <td>...</td>\n",
       "      <td>...</td>\n",
       "    </tr>\n",
       "    <tr>\n",
       "      <th>74</th>\n",
       "      <td>73</td>\n",
       "      <td>PGDDS 10</td>\n",
       "      <td>2022-02-01 00:00:00</td>\n",
       "      <td>AYUSH SAXENA</td>\n",
       "      <td>Data Analyst</td>\n",
       "      <td>Litmus World</td>\n",
       "      <td>Bangalore</td>\n",
       "      <td>6</td>\n",
       "    </tr>\n",
       "    <tr>\n",
       "      <th>75</th>\n",
       "      <td>74</td>\n",
       "      <td>PGDDS 10</td>\n",
       "      <td>2022-03-01 00:00:00</td>\n",
       "      <td>ASHWINI PRAKASH</td>\n",
       "      <td>Analyst</td>\n",
       "      <td>Cognitio Analytics</td>\n",
       "      <td>Gurgaon</td>\n",
       "      <td>8</td>\n",
       "    </tr>\n",
       "    <tr>\n",
       "      <th>76</th>\n",
       "      <td>75</td>\n",
       "      <td>PGDDS 9</td>\n",
       "      <td>2022-03-01 00:00:00</td>\n",
       "      <td>Muskaan Sharma</td>\n",
       "      <td>Support</td>\n",
       "      <td>Lyra infosystem</td>\n",
       "      <td>Bangalore</td>\n",
       "      <td>3</td>\n",
       "    </tr>\n",
       "    <tr>\n",
       "      <th>77</th>\n",
       "      <td>76</td>\n",
       "      <td>PGDDS 10</td>\n",
       "      <td>2022-03-01 00:00:00</td>\n",
       "      <td>YADANNAVAR RISHIKA SANJEEV</td>\n",
       "      <td>AI ML Software Engineer</td>\n",
       "      <td>Mimaag AI</td>\n",
       "      <td>Bangalore</td>\n",
       "      <td>6</td>\n",
       "    </tr>\n",
       "    <tr>\n",
       "      <th>78</th>\n",
       "      <td>77</td>\n",
       "      <td>PGDDS 10</td>\n",
       "      <td>2022-03-01 00:00:00</td>\n",
       "      <td>Aaron</td>\n",
       "      <td>Associate Consultant</td>\n",
       "      <td>EY</td>\n",
       "      <td>Bangalore</td>\n",
       "      <td>7.5</td>\n",
       "    </tr>\n",
       "  </tbody>\n",
       "</table>\n",
       "<p>72 rows × 8 columns</p>\n",
       "</div>"
      ],
      "text/plain": [
       "   Serial#    Course                Names                  Unnamed: 3  \\\n",
       "7        6   PGDDS 8  2021-05-01 00:00:00                    AKALYA S   \n",
       "8        7   PGDDS 8  2021-05-01 00:00:00                 AKSHAY IYER   \n",
       "9        8   PGDDS 8  2021-05-01 00:00:00                    SUREYA S   \n",
       "10       9   PGDDS 8  2021-05-01 00:00:00         PRABHANDHAM MEGHANA   \n",
       "11      10   PGDDS 8  2021-05-01 00:00:00             KARTHIKEYAN R S   \n",
       "..     ...       ...                  ...                         ...   \n",
       "74      73  PGDDS 10  2022-02-01 00:00:00                AYUSH SAXENA   \n",
       "75      74  PGDDS 10  2022-03-01 00:00:00             ASHWINI PRAKASH   \n",
       "76      75   PGDDS 9  2022-03-01 00:00:00              Muskaan Sharma   \n",
       "77      76  PGDDS 10  2022-03-01 00:00:00  YADANNAVAR RISHIKA SANJEEV   \n",
       "78      77  PGDDS 10  2022-03-01 00:00:00                       Aaron   \n",
       "\n",
       "                Designation                  Company   Location CTC in LPA  \n",
       "7                    Intern  Inference Labs Pvt. Ltd  Bangalore       15 K  \n",
       "8                    Intern  Inference Labs Pvt. Ltd  Bangalore       15 K  \n",
       "9                    Intern  Inference Labs Pvt. Ltd  Bangalore       15 K  \n",
       "10                   Intern                Tara Tech  Bangalore       20 K  \n",
       "11           Data Scientist                  Genpact  Bangalore          6  \n",
       "..                      ...                      ...        ...        ...  \n",
       "74             Data Analyst             Litmus World  Bangalore          6  \n",
       "75                  Analyst       Cognitio Analytics    Gurgaon          8  \n",
       "76                  Support          Lyra infosystem  Bangalore          3  \n",
       "77  AI ML Software Engineer                Mimaag AI  Bangalore          6  \n",
       "78     Associate Consultant                       EY  Bangalore        7.5  \n",
       "\n",
       "[72 rows x 8 columns]"
      ]
     },
     "execution_count": 220,
     "metadata": {},
     "output_type": "execute_result"
    }
   ],
   "source": []
  },
  {
   "cell_type": "code",
   "execution_count": 223,
   "id": "1166bb3f",
   "metadata": {},
   "outputs": [
    {
     "ename": "ValueError",
     "evalue": "Unable to parse string \"15 K\" at position 5",
     "output_type": "error",
     "traceback": [
      "\u001b[0;31m---------------------------------------------------------------------------\u001b[0m",
      "\u001b[0;31mValueError\u001b[0m                                Traceback (most recent call last)",
      "\u001b[0;32mpandas/_libs/lib.pyx\u001b[0m in \u001b[0;36mpandas._libs.lib.maybe_convert_numeric\u001b[0;34m()\u001b[0m\n",
      "\u001b[0;31mValueError\u001b[0m: Unable to parse string \"15 K\"",
      "\nDuring handling of the above exception, another exception occurred:\n",
      "\u001b[0;31mValueError\u001b[0m                                Traceback (most recent call last)",
      "\u001b[0;32m/var/folders/k8/4j5n_hw94_j_k1151xthw9_r0000gn/T/ipykernel_78035/1625427160.py\u001b[0m in \u001b[0;36m<module>\u001b[0;34m\u001b[0m\n\u001b[0;32m----> 1\u001b[0;31m \u001b[0mpd\u001b[0m\u001b[0;34m.\u001b[0m\u001b[0mto_numeric\u001b[0m\u001b[0;34m(\u001b[0m\u001b[0md1\u001b[0m\u001b[0;34m[\u001b[0m\u001b[0;34m'CTC in LPA'\u001b[0m\u001b[0;34m]\u001b[0m\u001b[0;34m)\u001b[0m\u001b[0;34m\u001b[0m\u001b[0;34m\u001b[0m\u001b[0m\n\u001b[0m",
      "\u001b[0;32m/Library/Frameworks/Python.framework/Versions/3.9/lib/python3.9/site-packages/pandas/core/tools/numeric.py\u001b[0m in \u001b[0;36mto_numeric\u001b[0;34m(arg, errors, downcast)\u001b[0m\n\u001b[1;32m    182\u001b[0m         \u001b[0mcoerce_numeric\u001b[0m \u001b[0;34m=\u001b[0m \u001b[0merrors\u001b[0m \u001b[0;32mnot\u001b[0m \u001b[0;32min\u001b[0m \u001b[0;34m(\u001b[0m\u001b[0;34m\"ignore\"\u001b[0m\u001b[0;34m,\u001b[0m \u001b[0;34m\"raise\"\u001b[0m\u001b[0;34m)\u001b[0m\u001b[0;34m\u001b[0m\u001b[0;34m\u001b[0m\u001b[0m\n\u001b[1;32m    183\u001b[0m         \u001b[0;32mtry\u001b[0m\u001b[0;34m:\u001b[0m\u001b[0;34m\u001b[0m\u001b[0;34m\u001b[0m\u001b[0m\n\u001b[0;32m--> 184\u001b[0;31m             values, _ = lib.maybe_convert_numeric(\n\u001b[0m\u001b[1;32m    185\u001b[0m                 \u001b[0mvalues\u001b[0m\u001b[0;34m,\u001b[0m \u001b[0mset\u001b[0m\u001b[0;34m(\u001b[0m\u001b[0;34m)\u001b[0m\u001b[0;34m,\u001b[0m \u001b[0mcoerce_numeric\u001b[0m\u001b[0;34m=\u001b[0m\u001b[0mcoerce_numeric\u001b[0m\u001b[0;34m\u001b[0m\u001b[0;34m\u001b[0m\u001b[0m\n\u001b[1;32m    186\u001b[0m             )\n",
      "\u001b[0;32mpandas/_libs/lib.pyx\u001b[0m in \u001b[0;36mpandas._libs.lib.maybe_convert_numeric\u001b[0;34m()\u001b[0m\n",
      "\u001b[0;31mValueError\u001b[0m: Unable to parse string \"15 K\" at position 5"
     ]
    }
   ],
   "source": [
    "\n"
   ]
  },
  {
   "cell_type": "code",
   "execution_count": 233,
   "id": "3ae9cae0",
   "metadata": {},
   "outputs": [
    {
     "ename": "AttributeError",
     "evalue": "'DataFrame' object has no attribute 'tolist'",
     "output_type": "error",
     "traceback": [
      "\u001b[0;31m---------------------------------------------------------------------------\u001b[0m",
      "\u001b[0;31mAttributeError\u001b[0m                            Traceback (most recent call last)",
      "\u001b[0;32m/var/folders/k8/4j5n_hw94_j_k1151xthw9_r0000gn/T/ipykernel_78035/1270843047.py\u001b[0m in \u001b[0;36m<module>\u001b[0;34m\u001b[0m\n\u001b[1;32m      1\u001b[0m \u001b[0;31m#serial numbers with ctc in lpa less than zero\u001b[0m\u001b[0;34m\u001b[0m\u001b[0;34m\u001b[0m\u001b[0;34m\u001b[0m\u001b[0m\n\u001b[0;32m----> 2\u001b[0;31m \u001b[0md1\u001b[0m\u001b[0;34m.\u001b[0m\u001b[0mloc\u001b[0m\u001b[0;34m[\u001b[0m\u001b[0;34m(\u001b[0m\u001b[0md1\u001b[0m\u001b[0;34m[\u001b[0m\u001b[0;34m'CTC in LPA'\u001b[0m\u001b[0;34m]\u001b[0m\u001b[0;34m.\u001b[0m\u001b[0mstr\u001b[0m\u001b[0;34m.\u001b[0m\u001b[0mcontains\u001b[0m\u001b[0;34m(\u001b[0m\u001b[0;34m\"K\"\u001b[0m\u001b[0;34m)\u001b[0m\u001b[0;34m==\u001b[0m \u001b[0;32mTrue\u001b[0m\u001b[0;34m)\u001b[0m\u001b[0;34m,\u001b[0m\u001b[0;34m[\u001b[0m\u001b[0;34m'CTC in LPA'\u001b[0m\u001b[0;34m]\u001b[0m\u001b[0;34m]\u001b[0m\u001b[0;34m.\u001b[0m\u001b[0mtolist\u001b[0m\u001b[0;34m\u001b[0m\u001b[0;34m\u001b[0m\u001b[0m\n\u001b[0m",
      "\u001b[0;32m/Library/Frameworks/Python.framework/Versions/3.9/lib/python3.9/site-packages/pandas/core/generic.py\u001b[0m in \u001b[0;36m__getattr__\u001b[0;34m(self, name)\u001b[0m\n\u001b[1;32m   5573\u001b[0m         ):\n\u001b[1;32m   5574\u001b[0m             \u001b[0;32mreturn\u001b[0m \u001b[0mself\u001b[0m\u001b[0;34m[\u001b[0m\u001b[0mname\u001b[0m\u001b[0;34m]\u001b[0m\u001b[0;34m\u001b[0m\u001b[0;34m\u001b[0m\u001b[0m\n\u001b[0;32m-> 5575\u001b[0;31m         \u001b[0;32mreturn\u001b[0m \u001b[0mobject\u001b[0m\u001b[0;34m.\u001b[0m\u001b[0m__getattribute__\u001b[0m\u001b[0;34m(\u001b[0m\u001b[0mself\u001b[0m\u001b[0;34m,\u001b[0m \u001b[0mname\u001b[0m\u001b[0;34m)\u001b[0m\u001b[0;34m\u001b[0m\u001b[0;34m\u001b[0m\u001b[0m\n\u001b[0m\u001b[1;32m   5576\u001b[0m \u001b[0;34m\u001b[0m\u001b[0m\n\u001b[1;32m   5577\u001b[0m     \u001b[0;32mdef\u001b[0m \u001b[0m__setattr__\u001b[0m\u001b[0;34m(\u001b[0m\u001b[0mself\u001b[0m\u001b[0;34m,\u001b[0m \u001b[0mname\u001b[0m\u001b[0;34m:\u001b[0m \u001b[0mstr\u001b[0m\u001b[0;34m,\u001b[0m \u001b[0mvalue\u001b[0m\u001b[0;34m)\u001b[0m \u001b[0;34m->\u001b[0m \u001b[0;32mNone\u001b[0m\u001b[0;34m:\u001b[0m\u001b[0;34m\u001b[0m\u001b[0;34m\u001b[0m\u001b[0m\n",
      "\u001b[0;31mAttributeError\u001b[0m: 'DataFrame' object has no attribute 'tolist'"
     ]
    }
   ],
   "source": [
    "#serial numbers with ctc in lpa less than zero\n",
    "d1.loc[(d1['CTC in LPA'].str.contains(\"K\")== True),['CTC in LPA']]"
   ]
  },
  {
   "cell_type": "code",
   "execution_count": 236,
   "id": "7ec3201f",
   "metadata": {},
   "outputs": [
    {
     "data": {
      "text/html": [
       "<div>\n",
       "<style scoped>\n",
       "    .dataframe tbody tr th:only-of-type {\n",
       "        vertical-align: middle;\n",
       "    }\n",
       "\n",
       "    .dataframe tbody tr th {\n",
       "        vertical-align: top;\n",
       "    }\n",
       "\n",
       "    .dataframe thead th {\n",
       "        text-align: right;\n",
       "    }\n",
       "</style>\n",
       "<table border=\"1\" class=\"dataframe\">\n",
       "  <thead>\n",
       "    <tr style=\"text-align: right;\">\n",
       "      <th></th>\n",
       "      <th>CTC in LPA</th>\n",
       "    </tr>\n",
       "  </thead>\n",
       "  <tbody>\n",
       "    <tr>\n",
       "      <th>7</th>\n",
       "      <td>15 K</td>\n",
       "    </tr>\n",
       "    <tr>\n",
       "      <th>8</th>\n",
       "      <td>15 K</td>\n",
       "    </tr>\n",
       "    <tr>\n",
       "      <th>9</th>\n",
       "      <td>15 K</td>\n",
       "    </tr>\n",
       "    <tr>\n",
       "      <th>10</th>\n",
       "      <td>20 K</td>\n",
       "    </tr>\n",
       "    <tr>\n",
       "      <th>14</th>\n",
       "      <td>10 K</td>\n",
       "    </tr>\n",
       "    <tr>\n",
       "      <th>17</th>\n",
       "      <td>15 K</td>\n",
       "    </tr>\n",
       "    <tr>\n",
       "      <th>19</th>\n",
       "      <td>15 K</td>\n",
       "    </tr>\n",
       "    <tr>\n",
       "      <th>20</th>\n",
       "      <td>15 K</td>\n",
       "    </tr>\n",
       "    <tr>\n",
       "      <th>21</th>\n",
       "      <td>15 K</td>\n",
       "    </tr>\n",
       "    <tr>\n",
       "      <th>27</th>\n",
       "      <td>20 K</td>\n",
       "    </tr>\n",
       "    <tr>\n",
       "      <th>28</th>\n",
       "      <td>20 K</td>\n",
       "    </tr>\n",
       "    <tr>\n",
       "      <th>30</th>\n",
       "      <td>20 K</td>\n",
       "    </tr>\n",
       "  </tbody>\n",
       "</table>\n",
       "</div>"
      ],
      "text/plain": [
       "   CTC in LPA\n",
       "7        15 K\n",
       "8        15 K\n",
       "9        15 K\n",
       "10       20 K\n",
       "14       10 K\n",
       "17       15 K\n",
       "19       15 K\n",
       "20       15 K\n",
       "21       15 K\n",
       "27       20 K\n",
       "28       20 K\n",
       "30       20 K"
      ]
     },
     "execution_count": 236,
     "metadata": {},
     "output_type": "execute_result"
    }
   ],
   "source": [
    "d1.loc[(d1['CTC in LPA'].str.contains(\"K\")== True),['CTC in LPA']]"
   ]
  },
  {
   "cell_type": "code",
   "execution_count": 237,
   "id": "fde0a9a9",
   "metadata": {},
   "outputs": [],
   "source": [
    "d1 = pd.to_numeric(d1['CTC in LPA'], errors='coerce')"
   ]
  },
  {
   "cell_type": "code",
   "execution_count": 240,
   "id": "fd760b47",
   "metadata": {},
   "outputs": [
    {
     "data": {
      "text/plain": [
       "2     6.50\n",
       "3     6.50\n",
       "4     4.50\n",
       "5     3.18\n",
       "6     3.18\n",
       "      ... \n",
       "74    6.00\n",
       "75    8.00\n",
       "76    3.00\n",
       "77    6.00\n",
       "78    7.50\n",
       "Name: CTC in LPA, Length: 77, dtype: float64"
      ]
     },
     "execution_count": 240,
     "metadata": {},
     "output_type": "execute_result"
    }
   ],
   "source": [
    "d1.replace('NaN',0)\n"
   ]
  },
  {
   "cell_type": "code",
   "execution_count": 242,
   "id": "776ee9c9",
   "metadata": {},
   "outputs": [
    {
     "data": {
      "text/plain": [
       "2    6.50\n",
       "3    6.50\n",
       "4    4.50\n",
       "5    3.18\n",
       "6    3.18\n",
       "Name: CTC in LPA, dtype: float64"
      ]
     },
     "execution_count": 242,
     "metadata": {},
     "output_type": "execute_result"
    }
   ],
   "source": [
    "d1.head()"
   ]
  },
  {
   "cell_type": "code",
   "execution_count": 243,
   "id": "f53e722d",
   "metadata": {},
   "outputs": [
    {
     "data": {
      "text/plain": [
       "2     6.50\n",
       "3     6.50\n",
       "4     4.50\n",
       "5     3.18\n",
       "6     3.18\n",
       "      ... \n",
       "74    6.00\n",
       "75    8.00\n",
       "76    3.00\n",
       "77    6.00\n",
       "78    7.50\n",
       "Name: CTC in LPA, Length: 77, dtype: float64"
      ]
     },
     "execution_count": 243,
     "metadata": {},
     "output_type": "execute_result"
    }
   ],
   "source": [
    "d1 ="
   ]
  },
  {
   "cell_type": "code",
   "execution_count": 251,
   "id": "099c2442",
   "metadata": {},
   "outputs": [],
   "source": [
    "d1= pd.read_excel('Pldata.xlsx')"
   ]
  },
  {
   "cell_type": "code",
   "execution_count": 245,
   "id": "82445162",
   "metadata": {},
   "outputs": [
    {
     "ename": "KeyError",
     "evalue": "'CTC in LPA'",
     "output_type": "error",
     "traceback": [
      "\u001b[0;31m---------------------------------------------------------------------------\u001b[0m",
      "\u001b[0;31mKeyError\u001b[0m                                  Traceback (most recent call last)",
      "\u001b[0;32m/Library/Frameworks/Python.framework/Versions/3.9/lib/python3.9/site-packages/pandas/core/indexes/base.py\u001b[0m in \u001b[0;36mget_loc\u001b[0;34m(self, key, method, tolerance)\u001b[0m\n\u001b[1;32m   3620\u001b[0m             \u001b[0;32mtry\u001b[0m\u001b[0;34m:\u001b[0m\u001b[0;34m\u001b[0m\u001b[0;34m\u001b[0m\u001b[0m\n\u001b[0;32m-> 3621\u001b[0;31m                 \u001b[0;32mreturn\u001b[0m \u001b[0mself\u001b[0m\u001b[0;34m.\u001b[0m\u001b[0m_engine\u001b[0m\u001b[0;34m.\u001b[0m\u001b[0mget_loc\u001b[0m\u001b[0;34m(\u001b[0m\u001b[0mcasted_key\u001b[0m\u001b[0;34m)\u001b[0m\u001b[0;34m\u001b[0m\u001b[0;34m\u001b[0m\u001b[0m\n\u001b[0m\u001b[1;32m   3622\u001b[0m             \u001b[0;32mexcept\u001b[0m \u001b[0mKeyError\u001b[0m \u001b[0;32mas\u001b[0m \u001b[0merr\u001b[0m\u001b[0;34m:\u001b[0m\u001b[0;34m\u001b[0m\u001b[0;34m\u001b[0m\u001b[0m\n",
      "\u001b[0;32mpandas/_libs/index.pyx\u001b[0m in \u001b[0;36mpandas._libs.index.IndexEngine.get_loc\u001b[0;34m()\u001b[0m\n",
      "\u001b[0;32mpandas/_libs/index.pyx\u001b[0m in \u001b[0;36mpandas._libs.index.IndexEngine.get_loc\u001b[0;34m()\u001b[0m\n",
      "\u001b[0;32mpandas/_libs/hashtable_class_helper.pxi\u001b[0m in \u001b[0;36mpandas._libs.hashtable.PyObjectHashTable.get_item\u001b[0;34m()\u001b[0m\n",
      "\u001b[0;32mpandas/_libs/hashtable_class_helper.pxi\u001b[0m in \u001b[0;36mpandas._libs.hashtable.PyObjectHashTable.get_item\u001b[0;34m()\u001b[0m\n",
      "\u001b[0;31mKeyError\u001b[0m: 'CTC in LPA'",
      "\nThe above exception was the direct cause of the following exception:\n",
      "\u001b[0;31mKeyError\u001b[0m                                  Traceback (most recent call last)",
      "\u001b[0;32m/var/folders/k8/4j5n_hw94_j_k1151xthw9_r0000gn/T/ipykernel_78035/1617353065.py\u001b[0m in \u001b[0;36m<module>\u001b[0;34m\u001b[0m\n\u001b[0;32m----> 1\u001b[0;31m \u001b[0md1\u001b[0m \u001b[0;34m=\u001b[0m \u001b[0mpd\u001b[0m\u001b[0;34m.\u001b[0m\u001b[0mto_numeric\u001b[0m\u001b[0;34m(\u001b[0m\u001b[0md1\u001b[0m\u001b[0;34m[\u001b[0m\u001b[0;34m'CTC in LPA'\u001b[0m\u001b[0;34m]\u001b[0m\u001b[0;34m,\u001b[0m \u001b[0merrors\u001b[0m\u001b[0;34m=\u001b[0m\u001b[0;34m'coerce'\u001b[0m\u001b[0;34m)\u001b[0m\u001b[0;34m\u001b[0m\u001b[0;34m\u001b[0m\u001b[0m\n\u001b[0m",
      "\u001b[0;32m/Library/Frameworks/Python.framework/Versions/3.9/lib/python3.9/site-packages/pandas/core/frame.py\u001b[0m in \u001b[0;36m__getitem__\u001b[0;34m(self, key)\u001b[0m\n\u001b[1;32m   3503\u001b[0m             \u001b[0;32mif\u001b[0m \u001b[0mself\u001b[0m\u001b[0;34m.\u001b[0m\u001b[0mcolumns\u001b[0m\u001b[0;34m.\u001b[0m\u001b[0mnlevels\u001b[0m \u001b[0;34m>\u001b[0m \u001b[0;36m1\u001b[0m\u001b[0;34m:\u001b[0m\u001b[0;34m\u001b[0m\u001b[0;34m\u001b[0m\u001b[0m\n\u001b[1;32m   3504\u001b[0m                 \u001b[0;32mreturn\u001b[0m \u001b[0mself\u001b[0m\u001b[0;34m.\u001b[0m\u001b[0m_getitem_multilevel\u001b[0m\u001b[0;34m(\u001b[0m\u001b[0mkey\u001b[0m\u001b[0;34m)\u001b[0m\u001b[0;34m\u001b[0m\u001b[0;34m\u001b[0m\u001b[0m\n\u001b[0;32m-> 3505\u001b[0;31m             \u001b[0mindexer\u001b[0m \u001b[0;34m=\u001b[0m \u001b[0mself\u001b[0m\u001b[0;34m.\u001b[0m\u001b[0mcolumns\u001b[0m\u001b[0;34m.\u001b[0m\u001b[0mget_loc\u001b[0m\u001b[0;34m(\u001b[0m\u001b[0mkey\u001b[0m\u001b[0;34m)\u001b[0m\u001b[0;34m\u001b[0m\u001b[0;34m\u001b[0m\u001b[0m\n\u001b[0m\u001b[1;32m   3506\u001b[0m             \u001b[0;32mif\u001b[0m \u001b[0mis_integer\u001b[0m\u001b[0;34m(\u001b[0m\u001b[0mindexer\u001b[0m\u001b[0;34m)\u001b[0m\u001b[0;34m:\u001b[0m\u001b[0;34m\u001b[0m\u001b[0;34m\u001b[0m\u001b[0m\n\u001b[1;32m   3507\u001b[0m                 \u001b[0mindexer\u001b[0m \u001b[0;34m=\u001b[0m \u001b[0;34m[\u001b[0m\u001b[0mindexer\u001b[0m\u001b[0;34m]\u001b[0m\u001b[0;34m\u001b[0m\u001b[0;34m\u001b[0m\u001b[0m\n",
      "\u001b[0;32m/Library/Frameworks/Python.framework/Versions/3.9/lib/python3.9/site-packages/pandas/core/indexes/base.py\u001b[0m in \u001b[0;36mget_loc\u001b[0;34m(self, key, method, tolerance)\u001b[0m\n\u001b[1;32m   3621\u001b[0m                 \u001b[0;32mreturn\u001b[0m \u001b[0mself\u001b[0m\u001b[0;34m.\u001b[0m\u001b[0m_engine\u001b[0m\u001b[0;34m.\u001b[0m\u001b[0mget_loc\u001b[0m\u001b[0;34m(\u001b[0m\u001b[0mcasted_key\u001b[0m\u001b[0;34m)\u001b[0m\u001b[0;34m\u001b[0m\u001b[0;34m\u001b[0m\u001b[0m\n\u001b[1;32m   3622\u001b[0m             \u001b[0;32mexcept\u001b[0m \u001b[0mKeyError\u001b[0m \u001b[0;32mas\u001b[0m \u001b[0merr\u001b[0m\u001b[0;34m:\u001b[0m\u001b[0;34m\u001b[0m\u001b[0;34m\u001b[0m\u001b[0m\n\u001b[0;32m-> 3623\u001b[0;31m                 \u001b[0;32mraise\u001b[0m \u001b[0mKeyError\u001b[0m\u001b[0;34m(\u001b[0m\u001b[0mkey\u001b[0m\u001b[0;34m)\u001b[0m \u001b[0;32mfrom\u001b[0m \u001b[0merr\u001b[0m\u001b[0;34m\u001b[0m\u001b[0;34m\u001b[0m\u001b[0m\n\u001b[0m\u001b[1;32m   3624\u001b[0m             \u001b[0;32mexcept\u001b[0m \u001b[0mTypeError\u001b[0m\u001b[0;34m:\u001b[0m\u001b[0;34m\u001b[0m\u001b[0;34m\u001b[0m\u001b[0m\n\u001b[1;32m   3625\u001b[0m                 \u001b[0;31m# If we have a listlike key, _check_indexing_error will raise\u001b[0m\u001b[0;34m\u001b[0m\u001b[0;34m\u001b[0m\u001b[0;34m\u001b[0m\u001b[0m\n",
      "\u001b[0;31mKeyError\u001b[0m: 'CTC in LPA'"
     ]
    }
   ],
   "source": []
  },
  {
   "cell_type": "code",
   "execution_count": 252,
   "id": "d559cadd",
   "metadata": {},
   "outputs": [],
   "source": [
    "d1.rename(columns = {'2020-21 PGDDS Placements Stats':'Serial#', 'Unnamed: 1':'Course','Unnamed: 2':'Names','Unnamed: 4':'Designation','Unnamed: 5':'Company','Unnamed: 6':'Location','Unnamed: 7':'CTC in LPA'}, inplace = True)\n",
    "d1 = d1.iloc[2:,:]"
   ]
  },
  {
   "cell_type": "code",
   "execution_count": 253,
   "id": "234a3e38",
   "metadata": {},
   "outputs": [
    {
     "data": {
      "text/html": [
       "<div>\n",
       "<style scoped>\n",
       "    .dataframe tbody tr th:only-of-type {\n",
       "        vertical-align: middle;\n",
       "    }\n",
       "\n",
       "    .dataframe tbody tr th {\n",
       "        vertical-align: top;\n",
       "    }\n",
       "\n",
       "    .dataframe thead th {\n",
       "        text-align: right;\n",
       "    }\n",
       "</style>\n",
       "<table border=\"1\" class=\"dataframe\">\n",
       "  <thead>\n",
       "    <tr style=\"text-align: right;\">\n",
       "      <th></th>\n",
       "      <th>Serial#</th>\n",
       "      <th>Course</th>\n",
       "      <th>Names</th>\n",
       "      <th>Unnamed: 3</th>\n",
       "      <th>Designation</th>\n",
       "      <th>Company</th>\n",
       "      <th>Location</th>\n",
       "      <th>CTC in LPA</th>\n",
       "    </tr>\n",
       "  </thead>\n",
       "  <tbody>\n",
       "    <tr>\n",
       "      <th>2</th>\n",
       "      <td>1</td>\n",
       "      <td>PGDDS 8</td>\n",
       "      <td>2021-04-01 00:00:00</td>\n",
       "      <td>Maka Naga Kalyan</td>\n",
       "      <td>Executive, Data Scientist</td>\n",
       "      <td>Nielsen</td>\n",
       "      <td>Bangalore</td>\n",
       "      <td>6.5</td>\n",
       "    </tr>\n",
       "    <tr>\n",
       "      <th>3</th>\n",
       "      <td>2</td>\n",
       "      <td>PGDDS 7</td>\n",
       "      <td>2021-04-01 00:00:00</td>\n",
       "      <td>Saurabh P</td>\n",
       "      <td>Executive, Data Scientist</td>\n",
       "      <td>Nielsen</td>\n",
       "      <td>Bangalore</td>\n",
       "      <td>6.5</td>\n",
       "    </tr>\n",
       "    <tr>\n",
       "      <th>4</th>\n",
       "      <td>3</td>\n",
       "      <td>PGDDS 8</td>\n",
       "      <td>2021-05-01 00:00:00</td>\n",
       "      <td>Swapnil Singh</td>\n",
       "      <td>Sr. Machine Learning Scientist</td>\n",
       "      <td>Dhiomics</td>\n",
       "      <td>Bangalore</td>\n",
       "      <td>4.5</td>\n",
       "    </tr>\n",
       "    <tr>\n",
       "      <th>5</th>\n",
       "      <td>4</td>\n",
       "      <td>PGDDS 8</td>\n",
       "      <td>2021-05-01 00:00:00</td>\n",
       "      <td>Afzal Akthar M</td>\n",
       "      <td>Machine Learning Scientist</td>\n",
       "      <td>Dhiomics</td>\n",
       "      <td>Bangalore</td>\n",
       "      <td>3.18</td>\n",
       "    </tr>\n",
       "    <tr>\n",
       "      <th>6</th>\n",
       "      <td>5</td>\n",
       "      <td>PGDDS 9</td>\n",
       "      <td>2021-05-01 00:00:00</td>\n",
       "      <td>Anurag Bora</td>\n",
       "      <td>Machine Learning Scientist</td>\n",
       "      <td>Dhiomics</td>\n",
       "      <td>Bangalore</td>\n",
       "      <td>3.18</td>\n",
       "    </tr>\n",
       "    <tr>\n",
       "      <th>...</th>\n",
       "      <td>...</td>\n",
       "      <td>...</td>\n",
       "      <td>...</td>\n",
       "      <td>...</td>\n",
       "      <td>...</td>\n",
       "      <td>...</td>\n",
       "      <td>...</td>\n",
       "      <td>...</td>\n",
       "    </tr>\n",
       "    <tr>\n",
       "      <th>74</th>\n",
       "      <td>73</td>\n",
       "      <td>PGDDS 10</td>\n",
       "      <td>2022-02-01 00:00:00</td>\n",
       "      <td>AYUSH SAXENA</td>\n",
       "      <td>Data Analyst</td>\n",
       "      <td>Litmus World</td>\n",
       "      <td>Bangalore</td>\n",
       "      <td>6</td>\n",
       "    </tr>\n",
       "    <tr>\n",
       "      <th>75</th>\n",
       "      <td>74</td>\n",
       "      <td>PGDDS 10</td>\n",
       "      <td>2022-03-01 00:00:00</td>\n",
       "      <td>ASHWINI PRAKASH</td>\n",
       "      <td>Analyst</td>\n",
       "      <td>Cognitio Analytics</td>\n",
       "      <td>Gurgaon</td>\n",
       "      <td>8</td>\n",
       "    </tr>\n",
       "    <tr>\n",
       "      <th>76</th>\n",
       "      <td>75</td>\n",
       "      <td>PGDDS 9</td>\n",
       "      <td>2022-03-01 00:00:00</td>\n",
       "      <td>Muskaan Sharma</td>\n",
       "      <td>Support</td>\n",
       "      <td>Lyra infosystem</td>\n",
       "      <td>Bangalore</td>\n",
       "      <td>3</td>\n",
       "    </tr>\n",
       "    <tr>\n",
       "      <th>77</th>\n",
       "      <td>76</td>\n",
       "      <td>PGDDS 10</td>\n",
       "      <td>2022-03-01 00:00:00</td>\n",
       "      <td>YADANNAVAR RISHIKA SANJEEV</td>\n",
       "      <td>AI ML Software Engineer</td>\n",
       "      <td>Mimaag AI</td>\n",
       "      <td>Bangalore</td>\n",
       "      <td>6</td>\n",
       "    </tr>\n",
       "    <tr>\n",
       "      <th>78</th>\n",
       "      <td>77</td>\n",
       "      <td>PGDDS 10</td>\n",
       "      <td>2022-03-01 00:00:00</td>\n",
       "      <td>Aaron</td>\n",
       "      <td>Associate Consultant</td>\n",
       "      <td>EY</td>\n",
       "      <td>Bangalore</td>\n",
       "      <td>7.5</td>\n",
       "    </tr>\n",
       "  </tbody>\n",
       "</table>\n",
       "<p>77 rows × 8 columns</p>\n",
       "</div>"
      ],
      "text/plain": [
       "   Serial#    Course                Names                  Unnamed: 3  \\\n",
       "2        1   PGDDS 8  2021-04-01 00:00:00            Maka Naga Kalyan   \n",
       "3        2   PGDDS 7  2021-04-01 00:00:00                   Saurabh P   \n",
       "4        3   PGDDS 8  2021-05-01 00:00:00               Swapnil Singh   \n",
       "5        4   PGDDS 8  2021-05-01 00:00:00              Afzal Akthar M   \n",
       "6        5   PGDDS 9  2021-05-01 00:00:00                 Anurag Bora   \n",
       "..     ...       ...                  ...                         ...   \n",
       "74      73  PGDDS 10  2022-02-01 00:00:00                AYUSH SAXENA   \n",
       "75      74  PGDDS 10  2022-03-01 00:00:00             ASHWINI PRAKASH   \n",
       "76      75   PGDDS 9  2022-03-01 00:00:00              Muskaan Sharma   \n",
       "77      76  PGDDS 10  2022-03-01 00:00:00  YADANNAVAR RISHIKA SANJEEV   \n",
       "78      77  PGDDS 10  2022-03-01 00:00:00                       Aaron   \n",
       "\n",
       "                       Designation             Company   Location CTC in LPA  \n",
       "2        Executive, Data Scientist             Nielsen  Bangalore        6.5  \n",
       "3        Executive, Data Scientist             Nielsen  Bangalore        6.5  \n",
       "4   Sr. Machine Learning Scientist            Dhiomics  Bangalore        4.5  \n",
       "5       Machine Learning Scientist            Dhiomics  Bangalore       3.18  \n",
       "6       Machine Learning Scientist            Dhiomics  Bangalore       3.18  \n",
       "..                             ...                 ...        ...        ...  \n",
       "74                    Data Analyst        Litmus World  Bangalore          6  \n",
       "75                         Analyst  Cognitio Analytics    Gurgaon          8  \n",
       "76                         Support     Lyra infosystem  Bangalore          3  \n",
       "77         AI ML Software Engineer           Mimaag AI  Bangalore          6  \n",
       "78            Associate Consultant                  EY  Bangalore        7.5  \n",
       "\n",
       "[77 rows x 8 columns]"
      ]
     },
     "execution_count": 253,
     "metadata": {},
     "output_type": "execute_result"
    }
   ],
   "source": [
    "d1"
   ]
  },
  {
   "cell_type": "code",
   "execution_count": 255,
   "id": "01af8fd0",
   "metadata": {},
   "outputs": [],
   "source": [
    "d1['CTC in LPA'] = pd.to_numeric(d1['CTC in LPA'], errors='coerce')"
   ]
  },
  {
   "cell_type": "code",
   "execution_count": 256,
   "id": "533ef450",
   "metadata": {},
   "outputs": [
    {
     "data": {
      "text/html": [
       "<div>\n",
       "<style scoped>\n",
       "    .dataframe tbody tr th:only-of-type {\n",
       "        vertical-align: middle;\n",
       "    }\n",
       "\n",
       "    .dataframe tbody tr th {\n",
       "        vertical-align: top;\n",
       "    }\n",
       "\n",
       "    .dataframe thead th {\n",
       "        text-align: right;\n",
       "    }\n",
       "</style>\n",
       "<table border=\"1\" class=\"dataframe\">\n",
       "  <thead>\n",
       "    <tr style=\"text-align: right;\">\n",
       "      <th></th>\n",
       "      <th>Serial#</th>\n",
       "      <th>Course</th>\n",
       "      <th>Names</th>\n",
       "      <th>Unnamed: 3</th>\n",
       "      <th>Designation</th>\n",
       "      <th>Company</th>\n",
       "      <th>Location</th>\n",
       "      <th>CTC in LPA</th>\n",
       "    </tr>\n",
       "  </thead>\n",
       "  <tbody>\n",
       "    <tr>\n",
       "      <th>2</th>\n",
       "      <td>1</td>\n",
       "      <td>PGDDS 8</td>\n",
       "      <td>2021-04-01 00:00:00</td>\n",
       "      <td>Maka Naga Kalyan</td>\n",
       "      <td>Executive, Data Scientist</td>\n",
       "      <td>Nielsen</td>\n",
       "      <td>Bangalore</td>\n",
       "      <td>6.50</td>\n",
       "    </tr>\n",
       "    <tr>\n",
       "      <th>3</th>\n",
       "      <td>2</td>\n",
       "      <td>PGDDS 7</td>\n",
       "      <td>2021-04-01 00:00:00</td>\n",
       "      <td>Saurabh P</td>\n",
       "      <td>Executive, Data Scientist</td>\n",
       "      <td>Nielsen</td>\n",
       "      <td>Bangalore</td>\n",
       "      <td>6.50</td>\n",
       "    </tr>\n",
       "    <tr>\n",
       "      <th>4</th>\n",
       "      <td>3</td>\n",
       "      <td>PGDDS 8</td>\n",
       "      <td>2021-05-01 00:00:00</td>\n",
       "      <td>Swapnil Singh</td>\n",
       "      <td>Sr. Machine Learning Scientist</td>\n",
       "      <td>Dhiomics</td>\n",
       "      <td>Bangalore</td>\n",
       "      <td>4.50</td>\n",
       "    </tr>\n",
       "    <tr>\n",
       "      <th>5</th>\n",
       "      <td>4</td>\n",
       "      <td>PGDDS 8</td>\n",
       "      <td>2021-05-01 00:00:00</td>\n",
       "      <td>Afzal Akthar M</td>\n",
       "      <td>Machine Learning Scientist</td>\n",
       "      <td>Dhiomics</td>\n",
       "      <td>Bangalore</td>\n",
       "      <td>3.18</td>\n",
       "    </tr>\n",
       "    <tr>\n",
       "      <th>6</th>\n",
       "      <td>5</td>\n",
       "      <td>PGDDS 9</td>\n",
       "      <td>2021-05-01 00:00:00</td>\n",
       "      <td>Anurag Bora</td>\n",
       "      <td>Machine Learning Scientist</td>\n",
       "      <td>Dhiomics</td>\n",
       "      <td>Bangalore</td>\n",
       "      <td>3.18</td>\n",
       "    </tr>\n",
       "    <tr>\n",
       "      <th>7</th>\n",
       "      <td>6</td>\n",
       "      <td>PGDDS 8</td>\n",
       "      <td>2021-05-01 00:00:00</td>\n",
       "      <td>AKALYA S</td>\n",
       "      <td>Intern</td>\n",
       "      <td>Inference Labs Pvt. Ltd</td>\n",
       "      <td>Bangalore</td>\n",
       "      <td>NaN</td>\n",
       "    </tr>\n",
       "  </tbody>\n",
       "</table>\n",
       "</div>"
      ],
      "text/plain": [
       "  Serial#   Course                Names        Unnamed: 3  \\\n",
       "2       1  PGDDS 8  2021-04-01 00:00:00  Maka Naga Kalyan   \n",
       "3       2  PGDDS 7  2021-04-01 00:00:00         Saurabh P   \n",
       "4       3  PGDDS 8  2021-05-01 00:00:00     Swapnil Singh   \n",
       "5       4  PGDDS 8  2021-05-01 00:00:00    Afzal Akthar M   \n",
       "6       5  PGDDS 9  2021-05-01 00:00:00       Anurag Bora   \n",
       "7       6  PGDDS 8  2021-05-01 00:00:00          AKALYA S   \n",
       "\n",
       "                      Designation                  Company   Location  \\\n",
       "2       Executive, Data Scientist                  Nielsen  Bangalore   \n",
       "3       Executive, Data Scientist                  Nielsen  Bangalore   \n",
       "4  Sr. Machine Learning Scientist                 Dhiomics  Bangalore   \n",
       "5      Machine Learning Scientist                 Dhiomics  Bangalore   \n",
       "6      Machine Learning Scientist                 Dhiomics  Bangalore   \n",
       "7                          Intern  Inference Labs Pvt. Ltd  Bangalore   \n",
       "\n",
       "   CTC in LPA  \n",
       "2        6.50  \n",
       "3        6.50  \n",
       "4        4.50  \n",
       "5        3.18  \n",
       "6        3.18  \n",
       "7         NaN  "
      ]
     },
     "execution_count": 256,
     "metadata": {},
     "output_type": "execute_result"
    }
   ],
   "source": [
    "d1.head(6)"
   ]
  },
  {
   "cell_type": "code",
   "execution_count": 257,
   "id": "3761b229",
   "metadata": {},
   "outputs": [
    {
     "data": {
      "text/html": [
       "<div>\n",
       "<style scoped>\n",
       "    .dataframe tbody tr th:only-of-type {\n",
       "        vertical-align: middle;\n",
       "    }\n",
       "\n",
       "    .dataframe tbody tr th {\n",
       "        vertical-align: top;\n",
       "    }\n",
       "\n",
       "    .dataframe thead th {\n",
       "        text-align: right;\n",
       "    }\n",
       "</style>\n",
       "<table border=\"1\" class=\"dataframe\">\n",
       "  <thead>\n",
       "    <tr style=\"text-align: right;\">\n",
       "      <th></th>\n",
       "      <th>Serial#</th>\n",
       "      <th>Course</th>\n",
       "      <th>Names</th>\n",
       "      <th>Unnamed: 3</th>\n",
       "      <th>Designation</th>\n",
       "      <th>Company</th>\n",
       "      <th>Location</th>\n",
       "      <th>CTC in LPA</th>\n",
       "    </tr>\n",
       "  </thead>\n",
       "  <tbody>\n",
       "    <tr>\n",
       "      <th>2</th>\n",
       "      <td>1</td>\n",
       "      <td>PGDDS 8</td>\n",
       "      <td>2021-04-01 00:00:00</td>\n",
       "      <td>Maka Naga Kalyan</td>\n",
       "      <td>Executive, Data Scientist</td>\n",
       "      <td>Nielsen</td>\n",
       "      <td>Bangalore</td>\n",
       "      <td>6.50</td>\n",
       "    </tr>\n",
       "    <tr>\n",
       "      <th>3</th>\n",
       "      <td>2</td>\n",
       "      <td>PGDDS 7</td>\n",
       "      <td>2021-04-01 00:00:00</td>\n",
       "      <td>Saurabh P</td>\n",
       "      <td>Executive, Data Scientist</td>\n",
       "      <td>Nielsen</td>\n",
       "      <td>Bangalore</td>\n",
       "      <td>6.50</td>\n",
       "    </tr>\n",
       "    <tr>\n",
       "      <th>4</th>\n",
       "      <td>3</td>\n",
       "      <td>PGDDS 8</td>\n",
       "      <td>2021-05-01 00:00:00</td>\n",
       "      <td>Swapnil Singh</td>\n",
       "      <td>Sr. Machine Learning Scientist</td>\n",
       "      <td>Dhiomics</td>\n",
       "      <td>Bangalore</td>\n",
       "      <td>4.50</td>\n",
       "    </tr>\n",
       "    <tr>\n",
       "      <th>5</th>\n",
       "      <td>4</td>\n",
       "      <td>PGDDS 8</td>\n",
       "      <td>2021-05-01 00:00:00</td>\n",
       "      <td>Afzal Akthar M</td>\n",
       "      <td>Machine Learning Scientist</td>\n",
       "      <td>Dhiomics</td>\n",
       "      <td>Bangalore</td>\n",
       "      <td>3.18</td>\n",
       "    </tr>\n",
       "    <tr>\n",
       "      <th>6</th>\n",
       "      <td>5</td>\n",
       "      <td>PGDDS 9</td>\n",
       "      <td>2021-05-01 00:00:00</td>\n",
       "      <td>Anurag Bora</td>\n",
       "      <td>Machine Learning Scientist</td>\n",
       "      <td>Dhiomics</td>\n",
       "      <td>Bangalore</td>\n",
       "      <td>3.18</td>\n",
       "    </tr>\n",
       "    <tr>\n",
       "      <th>...</th>\n",
       "      <td>...</td>\n",
       "      <td>...</td>\n",
       "      <td>...</td>\n",
       "      <td>...</td>\n",
       "      <td>...</td>\n",
       "      <td>...</td>\n",
       "      <td>...</td>\n",
       "      <td>...</td>\n",
       "    </tr>\n",
       "    <tr>\n",
       "      <th>74</th>\n",
       "      <td>73</td>\n",
       "      <td>PGDDS 10</td>\n",
       "      <td>2022-02-01 00:00:00</td>\n",
       "      <td>AYUSH SAXENA</td>\n",
       "      <td>Data Analyst</td>\n",
       "      <td>Litmus World</td>\n",
       "      <td>Bangalore</td>\n",
       "      <td>6.00</td>\n",
       "    </tr>\n",
       "    <tr>\n",
       "      <th>75</th>\n",
       "      <td>74</td>\n",
       "      <td>PGDDS 10</td>\n",
       "      <td>2022-03-01 00:00:00</td>\n",
       "      <td>ASHWINI PRAKASH</td>\n",
       "      <td>Analyst</td>\n",
       "      <td>Cognitio Analytics</td>\n",
       "      <td>Gurgaon</td>\n",
       "      <td>8.00</td>\n",
       "    </tr>\n",
       "    <tr>\n",
       "      <th>76</th>\n",
       "      <td>75</td>\n",
       "      <td>PGDDS 9</td>\n",
       "      <td>2022-03-01 00:00:00</td>\n",
       "      <td>Muskaan Sharma</td>\n",
       "      <td>Support</td>\n",
       "      <td>Lyra infosystem</td>\n",
       "      <td>Bangalore</td>\n",
       "      <td>3.00</td>\n",
       "    </tr>\n",
       "    <tr>\n",
       "      <th>77</th>\n",
       "      <td>76</td>\n",
       "      <td>PGDDS 10</td>\n",
       "      <td>2022-03-01 00:00:00</td>\n",
       "      <td>YADANNAVAR RISHIKA SANJEEV</td>\n",
       "      <td>AI ML Software Engineer</td>\n",
       "      <td>Mimaag AI</td>\n",
       "      <td>Bangalore</td>\n",
       "      <td>6.00</td>\n",
       "    </tr>\n",
       "    <tr>\n",
       "      <th>78</th>\n",
       "      <td>77</td>\n",
       "      <td>PGDDS 10</td>\n",
       "      <td>2022-03-01 00:00:00</td>\n",
       "      <td>Aaron</td>\n",
       "      <td>Associate Consultant</td>\n",
       "      <td>EY</td>\n",
       "      <td>Bangalore</td>\n",
       "      <td>7.50</td>\n",
       "    </tr>\n",
       "  </tbody>\n",
       "</table>\n",
       "<p>77 rows × 8 columns</p>\n",
       "</div>"
      ],
      "text/plain": [
       "   Serial#    Course                Names                  Unnamed: 3  \\\n",
       "2        1   PGDDS 8  2021-04-01 00:00:00            Maka Naga Kalyan   \n",
       "3        2   PGDDS 7  2021-04-01 00:00:00                   Saurabh P   \n",
       "4        3   PGDDS 8  2021-05-01 00:00:00               Swapnil Singh   \n",
       "5        4   PGDDS 8  2021-05-01 00:00:00              Afzal Akthar M   \n",
       "6        5   PGDDS 9  2021-05-01 00:00:00                 Anurag Bora   \n",
       "..     ...       ...                  ...                         ...   \n",
       "74      73  PGDDS 10  2022-02-01 00:00:00                AYUSH SAXENA   \n",
       "75      74  PGDDS 10  2022-03-01 00:00:00             ASHWINI PRAKASH   \n",
       "76      75   PGDDS 9  2022-03-01 00:00:00              Muskaan Sharma   \n",
       "77      76  PGDDS 10  2022-03-01 00:00:00  YADANNAVAR RISHIKA SANJEEV   \n",
       "78      77  PGDDS 10  2022-03-01 00:00:00                       Aaron   \n",
       "\n",
       "                       Designation             Company   Location  CTC in LPA  \n",
       "2        Executive, Data Scientist             Nielsen  Bangalore        6.50  \n",
       "3        Executive, Data Scientist             Nielsen  Bangalore        6.50  \n",
       "4   Sr. Machine Learning Scientist            Dhiomics  Bangalore        4.50  \n",
       "5       Machine Learning Scientist            Dhiomics  Bangalore        3.18  \n",
       "6       Machine Learning Scientist            Dhiomics  Bangalore        3.18  \n",
       "..                             ...                 ...        ...         ...  \n",
       "74                    Data Analyst        Litmus World  Bangalore        6.00  \n",
       "75                         Analyst  Cognitio Analytics    Gurgaon        8.00  \n",
       "76                         Support     Lyra infosystem  Bangalore        3.00  \n",
       "77         AI ML Software Engineer           Mimaag AI  Bangalore        6.00  \n",
       "78            Associate Consultant                  EY  Bangalore        7.50  \n",
       "\n",
       "[77 rows x 8 columns]"
      ]
     },
     "execution_count": 257,
     "metadata": {},
     "output_type": "execute_result"
    }
   ],
   "source": [
    "d1.replace('NaN',0)"
   ]
  },
  {
   "cell_type": "code",
   "execution_count": 259,
   "id": "d26eb51b",
   "metadata": {},
   "outputs": [
    {
     "data": {
      "text/plain": [
       "20.0"
      ]
     },
     "execution_count": 259,
     "metadata": {},
     "output_type": "execute_result"
    }
   ],
   "source": [
    "#avg ctc calculation\n",
    "a = d1['CTC in LPA'].mean()\n",
    "d1['CTC in LPA'].max()\n"
   ]
  },
  {
   "cell_type": "code",
   "execution_count": 260,
   "id": "1ada8b69",
   "metadata": {},
   "outputs": [
    {
     "data": {
      "text/html": [
       "<div>\n",
       "<style scoped>\n",
       "    .dataframe tbody tr th:only-of-type {\n",
       "        vertical-align: middle;\n",
       "    }\n",
       "\n",
       "    .dataframe tbody tr th {\n",
       "        vertical-align: top;\n",
       "    }\n",
       "\n",
       "    .dataframe thead th {\n",
       "        text-align: right;\n",
       "    }\n",
       "</style>\n",
       "<table border=\"1\" class=\"dataframe\">\n",
       "  <thead>\n",
       "    <tr style=\"text-align: right;\">\n",
       "      <th></th>\n",
       "      <th>CTC in LPA</th>\n",
       "    </tr>\n",
       "  </thead>\n",
       "  <tbody>\n",
       "    <tr>\n",
       "      <th>count</th>\n",
       "      <td>64.000000</td>\n",
       "    </tr>\n",
       "    <tr>\n",
       "      <th>mean</th>\n",
       "      <td>6.430781</td>\n",
       "    </tr>\n",
       "    <tr>\n",
       "      <th>std</th>\n",
       "      <td>2.593405</td>\n",
       "    </tr>\n",
       "    <tr>\n",
       "      <th>min</th>\n",
       "      <td>3.000000</td>\n",
       "    </tr>\n",
       "    <tr>\n",
       "      <th>25%</th>\n",
       "      <td>4.500000</td>\n",
       "    </tr>\n",
       "    <tr>\n",
       "      <th>50%</th>\n",
       "      <td>6.500000</td>\n",
       "    </tr>\n",
       "    <tr>\n",
       "      <th>75%</th>\n",
       "      <td>7.000000</td>\n",
       "    </tr>\n",
       "    <tr>\n",
       "      <th>max</th>\n",
       "      <td>20.000000</td>\n",
       "    </tr>\n",
       "  </tbody>\n",
       "</table>\n",
       "</div>"
      ],
      "text/plain": [
       "       CTC in LPA\n",
       "count   64.000000\n",
       "mean     6.430781\n",
       "std      2.593405\n",
       "min      3.000000\n",
       "25%      4.500000\n",
       "50%      6.500000\n",
       "75%      7.000000\n",
       "max     20.000000"
      ]
     },
     "execution_count": 260,
     "metadata": {},
     "output_type": "execute_result"
    }
   ],
   "source": [
    "# summary of the data\n",
    "d1.describe()"
   ]
  },
  {
   "cell_type": "code",
   "execution_count": 261,
   "id": "f45d0dfd",
   "metadata": {},
   "outputs": [
    {
     "data": {
      "text/plain": [
       "Intern                                             15\n",
       "Consultant                                         11\n",
       "Machine Learning Scientist                         11\n",
       "Business Analyst                                    4\n",
       "Analyst                                             4\n",
       "Data Engineer                                       3\n",
       "Associate Consultant                                2\n",
       "Executive, Data Scientist                           2\n",
       "Consultant in Business Consulting Risk              2\n",
       "Data Analyst                                        2\n",
       "Data Scientist                                      2\n",
       "Associate                                           1\n",
       "Sr. Associate Analyst                               1\n",
       "Support                                             1\n",
       "Jr. Data Analyst                                    1\n",
       "Analyst Data Science                                1\n",
       "Corporate Account Manager                           1\n",
       "Junior Data Analyst                                 1\n",
       "Deputy Unit Manager- Risk Control- Data Science     1\n",
       "BI Analyst                                          1\n",
       "Junior Data Engineer                                1\n",
       "Trainee Data Engineer                               1\n",
       "Sr. Machine Learning Scientist                      1\n",
       "Senior Data Scientist                               1\n",
       "Senior Data engineer                                1\n",
       "Jr. Technical Consultant                            1\n",
       "MIS Executive                                       1\n",
       "Associate Software Engineer                         1\n",
       "Software Engineer- Data Scientist                   1\n",
       "AI ML Software Engineer                             1\n",
       "Name: Designation, dtype: int64"
      ]
     },
     "execution_count": 261,
     "metadata": {},
     "output_type": "execute_result"
    }
   ],
   "source": [
    "# most  recurring designation\n",
    "d1['Designation'].value_counts()"
   ]
  },
  {
   "cell_type": "code",
   "execution_count": 263,
   "id": "f7b9c6a6",
   "metadata": {},
   "outputs": [
    {
     "data": {
      "text/html": [
       "<div>\n",
       "<style scoped>\n",
       "    .dataframe tbody tr th:only-of-type {\n",
       "        vertical-align: middle;\n",
       "    }\n",
       "\n",
       "    .dataframe tbody tr th {\n",
       "        vertical-align: top;\n",
       "    }\n",
       "\n",
       "    .dataframe thead th {\n",
       "        text-align: right;\n",
       "    }\n",
       "</style>\n",
       "<table border=\"1\" class=\"dataframe\">\n",
       "  <thead>\n",
       "    <tr style=\"text-align: right;\">\n",
       "      <th></th>\n",
       "      <th>CTC in LPA</th>\n",
       "    </tr>\n",
       "    <tr>\n",
       "      <th>Designation</th>\n",
       "      <th></th>\n",
       "    </tr>\n",
       "  </thead>\n",
       "  <tbody>\n",
       "    <tr>\n",
       "      <th>AI ML Software Engineer</th>\n",
       "      <td>6.000000</td>\n",
       "    </tr>\n",
       "    <tr>\n",
       "      <th>Analyst</th>\n",
       "      <td>6.125000</td>\n",
       "    </tr>\n",
       "    <tr>\n",
       "      <th>Analyst Data Science</th>\n",
       "      <td>4.500000</td>\n",
       "    </tr>\n",
       "    <tr>\n",
       "      <th>Associate</th>\n",
       "      <td>5.000000</td>\n",
       "    </tr>\n",
       "    <tr>\n",
       "      <th>Associate Consultant</th>\n",
       "      <td>6.750000</td>\n",
       "    </tr>\n",
       "    <tr>\n",
       "      <th>Associate Software Engineer</th>\n",
       "      <td>3.500000</td>\n",
       "    </tr>\n",
       "    <tr>\n",
       "      <th>BI Analyst</th>\n",
       "      <td>5.000000</td>\n",
       "    </tr>\n",
       "    <tr>\n",
       "      <th>Business Analyst</th>\n",
       "      <td>7.150000</td>\n",
       "    </tr>\n",
       "    <tr>\n",
       "      <th>Consultant</th>\n",
       "      <td>6.818182</td>\n",
       "    </tr>\n",
       "    <tr>\n",
       "      <th>Consultant in Business Consulting Risk</th>\n",
       "      <td>6.250000</td>\n",
       "    </tr>\n",
       "    <tr>\n",
       "      <th>Corporate Account Manager</th>\n",
       "      <td>7.000000</td>\n",
       "    </tr>\n",
       "    <tr>\n",
       "      <th>Data Analyst</th>\n",
       "      <td>6.500000</td>\n",
       "    </tr>\n",
       "    <tr>\n",
       "      <th>Data Engineer</th>\n",
       "      <td>8.000000</td>\n",
       "    </tr>\n",
       "    <tr>\n",
       "      <th>Data Scientist</th>\n",
       "      <td>6.125000</td>\n",
       "    </tr>\n",
       "    <tr>\n",
       "      <th>Deputy Unit Manager- Risk Control- Data Science</th>\n",
       "      <td>5.000000</td>\n",
       "    </tr>\n",
       "    <tr>\n",
       "      <th>Executive, Data Scientist</th>\n",
       "      <td>6.500000</td>\n",
       "    </tr>\n",
       "    <tr>\n",
       "      <th>Intern</th>\n",
       "      <td>7.000000</td>\n",
       "    </tr>\n",
       "    <tr>\n",
       "      <th>Jr. Data Analyst</th>\n",
       "      <td>9.000000</td>\n",
       "    </tr>\n",
       "    <tr>\n",
       "      <th>Jr. Technical Consultant</th>\n",
       "      <td>6.000000</td>\n",
       "    </tr>\n",
       "    <tr>\n",
       "      <th>Junior Data Analyst</th>\n",
       "      <td>5.000000</td>\n",
       "    </tr>\n",
       "    <tr>\n",
       "      <th>Junior Data Engineer</th>\n",
       "      <td>8.000000</td>\n",
       "    </tr>\n",
       "    <tr>\n",
       "      <th>MIS Executive</th>\n",
       "      <td>5.500000</td>\n",
       "    </tr>\n",
       "    <tr>\n",
       "      <th>Machine Learning Scientist</th>\n",
       "      <td>4.009091</td>\n",
       "    </tr>\n",
       "    <tr>\n",
       "      <th>Senior Data Scientist</th>\n",
       "      <td>20.000000</td>\n",
       "    </tr>\n",
       "    <tr>\n",
       "      <th>Senior Data engineer</th>\n",
       "      <td>12.000000</td>\n",
       "    </tr>\n",
       "    <tr>\n",
       "      <th>Software Engineer- Data Scientist</th>\n",
       "      <td>11.120000</td>\n",
       "    </tr>\n",
       "    <tr>\n",
       "      <th>Sr. Associate Analyst</th>\n",
       "      <td>6.000000</td>\n",
       "    </tr>\n",
       "    <tr>\n",
       "      <th>Sr. Machine Learning Scientist</th>\n",
       "      <td>4.500000</td>\n",
       "    </tr>\n",
       "    <tr>\n",
       "      <th>Support</th>\n",
       "      <td>3.000000</td>\n",
       "    </tr>\n",
       "    <tr>\n",
       "      <th>Trainee Data Engineer</th>\n",
       "      <td>11.000000</td>\n",
       "    </tr>\n",
       "  </tbody>\n",
       "</table>\n",
       "</div>"
      ],
      "text/plain": [
       "                                                 CTC in LPA\n",
       "Designation                                                \n",
       "AI ML Software Engineer                            6.000000\n",
       "Analyst                                            6.125000\n",
       "Analyst Data Science                               4.500000\n",
       "Associate                                          5.000000\n",
       "Associate Consultant                               6.750000\n",
       "Associate Software Engineer                        3.500000\n",
       "BI Analyst                                         5.000000\n",
       "Business Analyst                                   7.150000\n",
       "Consultant                                         6.818182\n",
       "Consultant in Business Consulting Risk             6.250000\n",
       "Corporate Account Manager                          7.000000\n",
       "Data Analyst                                       6.500000\n",
       "Data Engineer                                      8.000000\n",
       "Data Scientist                                     6.125000\n",
       "Deputy Unit Manager- Risk Control- Data Science    5.000000\n",
       "Executive, Data Scientist                          6.500000\n",
       "Intern                                             7.000000\n",
       "Jr. Data Analyst                                   9.000000\n",
       "Jr. Technical Consultant                           6.000000\n",
       "Junior Data Analyst                                5.000000\n",
       "Junior Data Engineer                               8.000000\n",
       "MIS Executive                                      5.500000\n",
       "Machine Learning Scientist                         4.009091\n",
       "Senior Data Scientist                             20.000000\n",
       "Senior Data engineer                              12.000000\n",
       "Software Engineer- Data Scientist                 11.120000\n",
       "Sr. Associate Analyst                              6.000000\n",
       "Sr. Machine Learning Scientist                     4.500000\n",
       "Support                                            3.000000\n",
       "Trainee Data Engineer                             11.000000"
      ]
     },
     "execution_count": 263,
     "metadata": {},
     "output_type": "execute_result"
    }
   ],
   "source": [
    "d1.groupby('Designation').agg({'CTC in LPA':np.mean})"
   ]
  },
  {
   "cell_type": "code",
   "execution_count": 264,
   "id": "def58dca",
   "metadata": {},
   "outputs": [
    {
     "data": {
      "text/html": [
       "<div>\n",
       "<style scoped>\n",
       "    .dataframe tbody tr th:only-of-type {\n",
       "        vertical-align: middle;\n",
       "    }\n",
       "\n",
       "    .dataframe tbody tr th {\n",
       "        vertical-align: top;\n",
       "    }\n",
       "\n",
       "    .dataframe thead th {\n",
       "        text-align: right;\n",
       "    }\n",
       "</style>\n",
       "<table border=\"1\" class=\"dataframe\">\n",
       "  <thead>\n",
       "    <tr style=\"text-align: right;\">\n",
       "      <th></th>\n",
       "      <th>CTC in LPA</th>\n",
       "    </tr>\n",
       "    <tr>\n",
       "      <th>Location</th>\n",
       "      <th></th>\n",
       "    </tr>\n",
       "  </thead>\n",
       "  <tbody>\n",
       "    <tr>\n",
       "      <th>Bangalore</th>\n",
       "      <td>6.384828</td>\n",
       "    </tr>\n",
       "    <tr>\n",
       "      <th>Chennai</th>\n",
       "      <td>6.250000</td>\n",
       "    </tr>\n",
       "    <tr>\n",
       "      <th>Delhi</th>\n",
       "      <td>7.000000</td>\n",
       "    </tr>\n",
       "    <tr>\n",
       "      <th>Gurgaon</th>\n",
       "      <td>7.000000</td>\n",
       "    </tr>\n",
       "    <tr>\n",
       "      <th>Hyderabad</th>\n",
       "      <td>7.000000</td>\n",
       "    </tr>\n",
       "  </tbody>\n",
       "</table>\n",
       "</div>"
      ],
      "text/plain": [
       "           CTC in LPA\n",
       "Location             \n",
       "Bangalore    6.384828\n",
       "Chennai      6.250000\n",
       "Delhi        7.000000\n",
       "Gurgaon      7.000000\n",
       "Hyderabad    7.000000"
      ]
     },
     "execution_count": 264,
     "metadata": {},
     "output_type": "execute_result"
    }
   ],
   "source": [
    "d1.groupby('Location').agg({'CTC in LPA':np.me})"
   ]
  },
  {
   "cell_type": "code",
   "execution_count": 266,
   "id": "d454a48e",
   "metadata": {},
   "outputs": [
    {
     "data": {
      "text/plain": [
       "Bangalore    71\n",
       "Hyderabad     2\n",
       "Gurgaon       2\n",
       "Chennai       1\n",
       "Delhi         1\n",
       "Name: Location, dtype: int64"
      ]
     },
     "execution_count": 266,
     "metadata": {},
     "output_type": "execute_result"
    }
   ],
   "source": [
    "d1.Location.value_counts()"
   ]
  },
  {
   "cell_type": "code",
   "execution_count": 268,
   "id": "e189a5d7",
   "metadata": {},
   "outputs": [
    {
     "data": {
      "text/plain": [
       "(array([31., 28.,  4.,  0.,  1.]),\n",
       " array([ 3. ,  6.4,  9.8, 13.2, 16.6, 20. ]),\n",
       " <BarContainer object of 5 artists>)"
      ]
     },
     "execution_count": 268,
     "metadata": {},
     "output_type": "execute_result"
    },
    {
     "data": {
      "image/png": "[encoded data removed]",
      "text/plain": [
       "<Figure size 640x480 with 1 Axes>"
      ]
     },
     "metadata": {},
     "output_type": "display_data"
    }
   ],
   "source": [
    "plt.hist(d1['CTC in LPA'],bins = 5 , color = \"red\", alpha = 1)"
   ]
  },
  {
   "cell_type": "code",
   "execution_count": 269,
   "id": "38aa03ba",
   "metadata": {},
   "outputs": [],
   "source": [
    "# >16 is an outlier"
   ]
  },
  {
   "cell_type": "code",
   "execution_count": 270,
   "id": "e8ae8375",
   "metadata": {},
   "outputs": [],
   "source": [
    "#positively skewed"
   ]
  },
  {
   "cell_type": "code",
   "execution_count": 271,
   "id": "603db529",
   "metadata": {},
   "outputs": [
    {
     "data": {
      "text/html": [
       "<div>\n",
       "<style scoped>\n",
       "    .dataframe tbody tr th:only-of-type {\n",
       "        vertical-align: middle;\n",
       "    }\n",
       "\n",
       "    .dataframe tbody tr th {\n",
       "        vertical-align: top;\n",
       "    }\n",
       "\n",
       "    .dataframe thead th {\n",
       "        text-align: right;\n",
       "    }\n",
       "</style>\n",
       "<table border=\"1\" class=\"dataframe\">\n",
       "  <thead>\n",
       "    <tr style=\"text-align: right;\">\n",
       "      <th></th>\n",
       "      <th>Serial#</th>\n",
       "      <th>Course</th>\n",
       "      <th>Names</th>\n",
       "      <th>Unnamed: 3</th>\n",
       "      <th>Designation</th>\n",
       "      <th>Company</th>\n",
       "      <th>Location</th>\n",
       "      <th>CTC in LPA</th>\n",
       "    </tr>\n",
       "  </thead>\n",
       "  <tbody>\n",
       "    <tr>\n",
       "      <th>2</th>\n",
       "      <td>1</td>\n",
       "      <td>PGDDS 8</td>\n",
       "      <td>2021-04-01 00:00:00</td>\n",
       "      <td>Maka Naga Kalyan</td>\n",
       "      <td>Executive, Data Scientist</td>\n",
       "      <td>Nielsen</td>\n",
       "      <td>Bangalore</td>\n",
       "      <td>6.50</td>\n",
       "    </tr>\n",
       "    <tr>\n",
       "      <th>3</th>\n",
       "      <td>2</td>\n",
       "      <td>PGDDS 7</td>\n",
       "      <td>2021-04-01 00:00:00</td>\n",
       "      <td>Saurabh P</td>\n",
       "      <td>Executive, Data Scientist</td>\n",
       "      <td>Nielsen</td>\n",
       "      <td>Bangalore</td>\n",
       "      <td>6.50</td>\n",
       "    </tr>\n",
       "    <tr>\n",
       "      <th>4</th>\n",
       "      <td>3</td>\n",
       "      <td>PGDDS 8</td>\n",
       "      <td>2021-05-01 00:00:00</td>\n",
       "      <td>Swapnil Singh</td>\n",
       "      <td>Sr. Machine Learning Scientist</td>\n",
       "      <td>Dhiomics</td>\n",
       "      <td>Bangalore</td>\n",
       "      <td>4.50</td>\n",
       "    </tr>\n",
       "    <tr>\n",
       "      <th>5</th>\n",
       "      <td>4</td>\n",
       "      <td>PGDDS 8</td>\n",
       "      <td>2021-05-01 00:00:00</td>\n",
       "      <td>Afzal Akthar M</td>\n",
       "      <td>Machine Learning Scientist</td>\n",
       "      <td>Dhiomics</td>\n",
       "      <td>Bangalore</td>\n",
       "      <td>3.18</td>\n",
       "    </tr>\n",
       "    <tr>\n",
       "      <th>6</th>\n",
       "      <td>5</td>\n",
       "      <td>PGDDS 9</td>\n",
       "      <td>2021-05-01 00:00:00</td>\n",
       "      <td>Anurag Bora</td>\n",
       "      <td>Machine Learning Scientist</td>\n",
       "      <td>Dhiomics</td>\n",
       "      <td>Bangalore</td>\n",
       "      <td>3.18</td>\n",
       "    </tr>\n",
       "  </tbody>\n",
       "</table>\n",
       "</div>"
      ],
      "text/plain": [
       "  Serial#   Course                Names        Unnamed: 3  \\\n",
       "2       1  PGDDS 8  2021-04-01 00:00:00  Maka Naga Kalyan   \n",
       "3       2  PGDDS 7  2021-04-01 00:00:00         Saurabh P   \n",
       "4       3  PGDDS 8  2021-05-01 00:00:00     Swapnil Singh   \n",
       "5       4  PGDDS 8  2021-05-01 00:00:00    Afzal Akthar M   \n",
       "6       5  PGDDS 9  2021-05-01 00:00:00       Anurag Bora   \n",
       "\n",
       "                      Designation   Company   Location  CTC in LPA  \n",
       "2       Executive, Data Scientist   Nielsen  Bangalore        6.50  \n",
       "3       Executive, Data Scientist   Nielsen  Bangalore        6.50  \n",
       "4  Sr. Machine Learning Scientist  Dhiomics  Bangalore        4.50  \n",
       "5      Machine Learning Scientist  Dhiomics  Bangalore        3.18  \n",
       "6      Machine Learning Scientist  Dhiomics  Bangalore        3.18  "
      ]
     },
     "execution_count": 271,
     "metadata": {},
     "output_type": "execute_result"
    }
   ],
   "source": [
    "d1.head()"
   ]
  },
  {
   "cell_type": "code",
   "execution_count": 277,
   "id": "c1b69ae8",
   "metadata": {},
   "outputs": [
    {
     "data": {
      "text/plain": [
       "Dhiomics                       12\n",
       "EY                              9\n",
       "KANTAR                          4\n",
       "Equifax                         4\n",
       "The Math Company                3\n",
       "Pexitics                        3\n",
       "Futurense                       3\n",
       "Indium Software                 3\n",
       "Inference Labs Pvt. Ltd         3\n",
       "Bridge Health                   2\n",
       "TVS Credit                      2\n",
       "Nielsen                         2\n",
       "Valgen                          1\n",
       "Unext                           1\n",
       "Lending Tree                    1\n",
       "Deloitte                        1\n",
       "Litmus World                    1\n",
       "Cognitio Analytics              1\n",
       "WNS                             1\n",
       "Visit Health                    1\n",
       "Lyra infosystem                 1\n",
       "Fincare Small Finance Bank      1\n",
       "Capco Technologies              1\n",
       "Accionlabs India Pvt Ltd        1\n",
       "KOCH Industries                 1\n",
       "Trigent Softwares               1\n",
       "The Smart Cube                  1\n",
       "Imaginea                        1\n",
       "Allstate                        1\n",
       "Content Bloom                   1\n",
       "Swiggy                          1\n",
       "Dhira                           1\n",
       "Insta Data                      1\n",
       "TestAIng                        1\n",
       "Marlabs                         1\n",
       "Fidelity National Financial     1\n",
       "Genpact                         1\n",
       "Tara Tech                       1\n",
       "Mimaag AI                       1\n",
       "Name: Company, dtype: int64"
      ]
     },
     "execution_count": 277,
     "metadata": {},
     "output_type": "execute_result"
    }
   ],
   "source": [
    "d1.Company.value_counts()"
   ]
  },
  {
   "cell_type": "code",
   "execution_count": 278,
   "id": "7b9963ea",
   "metadata": {},
   "outputs": [
    {
     "data": {
      "text/html": [
       "<div>\n",
       "<style scoped>\n",
       "    .dataframe tbody tr th:only-of-type {\n",
       "        vertical-align: middle;\n",
       "    }\n",
       "\n",
       "    .dataframe tbody tr th {\n",
       "        vertical-align: top;\n",
       "    }\n",
       "\n",
       "    .dataframe thead th {\n",
       "        text-align: right;\n",
       "    }\n",
       "</style>\n",
       "<table border=\"1\" class=\"dataframe\">\n",
       "  <thead>\n",
       "    <tr style=\"text-align: right;\">\n",
       "      <th></th>\n",
       "      <th>Serial#</th>\n",
       "      <th>Course</th>\n",
       "      <th>Names</th>\n",
       "      <th>Unnamed: 3</th>\n",
       "      <th>Designation</th>\n",
       "      <th>Company</th>\n",
       "      <th>Location</th>\n",
       "      <th>CTC in LPA</th>\n",
       "    </tr>\n",
       "  </thead>\n",
       "  <tbody>\n",
       "    <tr>\n",
       "      <th>46</th>\n",
       "      <td>45</td>\n",
       "      <td>PGDDS 9</td>\n",
       "      <td>2021-09-01 00:00:00</td>\n",
       "      <td>Aakash Verma</td>\n",
       "      <td>Senior Data Scientist</td>\n",
       "      <td>Trigent Softwares</td>\n",
       "      <td>Bangalore</td>\n",
       "      <td>20.00</td>\n",
       "    </tr>\n",
       "    <tr>\n",
       "      <th>37</th>\n",
       "      <td>36</td>\n",
       "      <td>PGDDS 9</td>\n",
       "      <td>2021-08-01 00:00:00</td>\n",
       "      <td>Basabdatta Ray</td>\n",
       "      <td>Senior Data engineer</td>\n",
       "      <td>Accionlabs India Pvt Ltd</td>\n",
       "      <td>Bangalore</td>\n",
       "      <td>12.00</td>\n",
       "    </tr>\n",
       "    <tr>\n",
       "      <th>12</th>\n",
       "      <td>11</td>\n",
       "      <td>PGDDS 7</td>\n",
       "      <td>2021-05-01 00:00:00</td>\n",
       "      <td>Karndeep Singh</td>\n",
       "      <td>Software Engineer- Data Scientist</td>\n",
       "      <td>Fidelity National Financial</td>\n",
       "      <td>Bangalore</td>\n",
       "      <td>11.12</td>\n",
       "    </tr>\n",
       "    <tr>\n",
       "      <th>50</th>\n",
       "      <td>49</td>\n",
       "      <td>PGDDS 9</td>\n",
       "      <td>2021-10-01 00:00:00</td>\n",
       "      <td>DEEPAK NEGI</td>\n",
       "      <td>Trainee Data Engineer</td>\n",
       "      <td>Futurense</td>\n",
       "      <td>Bangalore</td>\n",
       "      <td>11.00</td>\n",
       "    </tr>\n",
       "    <tr>\n",
       "      <th>49</th>\n",
       "      <td>48</td>\n",
       "      <td>PGDDS 9</td>\n",
       "      <td>2021-10-01 00:00:00</td>\n",
       "      <td>CHINTALACHERUVU MARY DIVYA SAI</td>\n",
       "      <td>Data Engineer</td>\n",
       "      <td>Futurense</td>\n",
       "      <td>Bangalore</td>\n",
       "      <td>11.00</td>\n",
       "    </tr>\n",
       "  </tbody>\n",
       "</table>\n",
       "</div>"
      ],
      "text/plain": [
       "   Serial#   Course                Names                      Unnamed: 3  \\\n",
       "46      45  PGDDS 9  2021-09-01 00:00:00                    Aakash Verma   \n",
       "37      36  PGDDS 9  2021-08-01 00:00:00                  Basabdatta Ray   \n",
       "12      11  PGDDS 7  2021-05-01 00:00:00                  Karndeep Singh   \n",
       "50      49  PGDDS 9  2021-10-01 00:00:00                     DEEPAK NEGI   \n",
       "49      48  PGDDS 9  2021-10-01 00:00:00  CHINTALACHERUVU MARY DIVYA SAI   \n",
       "\n",
       "                           Designation                      Company  \\\n",
       "46               Senior Data Scientist            Trigent Softwares   \n",
       "37                Senior Data engineer     Accionlabs India Pvt Ltd   \n",
       "12  Software Engineer- Data Scientist   Fidelity National Financial   \n",
       "50               Trainee Data Engineer                    Futurense   \n",
       "49                       Data Engineer                    Futurense   \n",
       "\n",
       "     Location  CTC in LPA  \n",
       "46  Bangalore       20.00  \n",
       "37  Bangalore       12.00  \n",
       "12  Bangalore       11.12  \n",
       "50  Bangalore       11.00  \n",
       "49  Bangalore       11.00  "
      ]
     },
     "execution_count": 278,
     "metadata": {},
     "output_type": "execute_result"
    }
   ],
   "source": [
    "d1.sort_values(\"CTC in LPA\",ascending = False).head(5)"
   ]
  },
  {
   "cell_type": "code",
   "execution_count": 281,
   "id": "da17b806",
   "metadata": {},
   "outputs": [
    {
     "data": {
      "text/plain": [
       "77"
      ]
     },
     "execution_count": 281,
     "metadata": {},
     "output_type": "execute_result"
    }
   ],
   "source": [
    "len(d1)"
   ]
  },
  {
   "cell_type": "code",
   "execution_count": 283,
   "id": "0627cbef",
   "metadata": {},
   "outputs": [
    {
     "data": {
      "text/plain": [
       "(array([ 2.,  0., 12.,  0.,  3.,  0.,  1.,  0.,  1.,  0.,  1.,  0.,  1.,\n",
       "         0.,  1.,  0.,  9.,  0.,  1.,  0.,  2.,  0.,  1.,  0.,  1.,  0.,\n",
       "         4.,  0.,  3.,  0.,  1.,  0.,  1.,  0.,  3.,  0.,  1.,  0.,  1.,\n",
       "         0.,  1.,  0.,  1.,  0.,  1.,  0.,  3.,  0.,  3.,  0.,  1.,  0.,\n",
       "         2.,  0.,  1.,  0.,  1.,  0.,  1.,  0.,  1.,  0.,  4.,  0.,  1.,\n",
       "         0.,  1.,  0.,  1.,  0.,  1.,  0.,  1.,  0.,  1.,  0.,  1.]),\n",
       " array([ 0.        ,  0.49350649,  0.98701299,  1.48051948,  1.97402597,\n",
       "         2.46753247,  2.96103896,  3.45454545,  3.94805195,  4.44155844,\n",
       "         4.93506494,  5.42857143,  5.92207792,  6.41558442,  6.90909091,\n",
       "         7.4025974 ,  7.8961039 ,  8.38961039,  8.88311688,  9.37662338,\n",
       "         9.87012987, 10.36363636, 10.85714286, 11.35064935, 11.84415584,\n",
       "        12.33766234, 12.83116883, 13.32467532, 13.81818182, 14.31168831,\n",
       "        14.80519481, 15.2987013 , 15.79220779, 16.28571429, 16.77922078,\n",
       "        17.27272727, 17.76623377, 18.25974026, 18.75324675, 19.24675325,\n",
       "        19.74025974, 20.23376623, 20.72727273, 21.22077922, 21.71428571,\n",
       "        22.20779221, 22.7012987 , 23.19480519, 23.68831169, 24.18181818,\n",
       "        24.67532468, 25.16883117, 25.66233766, 26.15584416, 26.64935065,\n",
       "        27.14285714, 27.63636364, 28.12987013, 28.62337662, 29.11688312,\n",
       "        29.61038961, 30.1038961 , 30.5974026 , 31.09090909, 31.58441558,\n",
       "        32.07792208, 32.57142857, 33.06493506, 33.55844156, 34.05194805,\n",
       "        34.54545455, 35.03896104, 35.53246753, 36.02597403, 36.51948052,\n",
       "        37.01298701, 37.50649351, 38.        ]),\n",
       " <BarContainer object of 77 artists>)"
      ]
     },
     "execution_count": 283,
     "metadata": {},
     "output_type": "execute_result"
    },
    {
     "data": {
      "image/png": "[encoded data removed]",
      "text/plain": [
       "<Figure size 640x480 with 1 Axes>"
      ]
     },
     "metadata": {},
     "output_type": "display_data"
    }
   ],
   "source": [
    "plt.boxplot"
   ]
  },
  {
   "cell_type": "code",
   "execution_count": 287,
   "id": "684b52c0",
   "metadata": {},
   "outputs": [
    {
     "data": {
      "text/plain": [
       "<AxesSubplot:>"
      ]
     },
     "execution_count": 287,
     "metadata": {},
     "output_type": "execute_result"
    },
    {
     "data": {
      "image/png": "[encoded data removed]",
      "text/plain": [
       "<Figure size 640x480 with 1 Axes>"
      ]
     },
     "metadata": {},
     "output_type": "display_data"
    }
   ],
   "source": [
    "import seaborn as sns\n",
    "\n",
    "sns.boxplot(d1= d1,orient=\"h\",palette=\"Set2\")"
   ]
  },
  {
   "cell_type": "code",
   "execution_count": 288,
   "id": "8b2f4c1f",
   "metadata": {},
   "outputs": [],
   "source": [
    "import seaborn as sns\n",
    "import matplotlib.pyplot as plt\n",
    "%matplotlib inline"
   ]
  },
  {
   "cell_type": "code",
   "execution_count": 290,
   "id": "0ab893ac",
   "metadata": {},
   "outputs": [
    {
     "ename": "ValueError",
     "evalue": "The truth value of a Series is ambiguous. Use a.empty, a.bool(), a.item(), a.any() or a.all().",
     "output_type": "error",
     "traceback": [
      "\u001b[0;31m---------------------------------------------------------------------------\u001b[0m",
      "\u001b[0;31mValueError\u001b[0m                                Traceback (most recent call last)",
      "\u001b[0;32m/var/folders/k8/4j5n_hw94_j_k1151xthw9_r0000gn/T/ipykernel_78035/760380325.py\u001b[0m in \u001b[0;36m<module>\u001b[0;34m\u001b[0m\n\u001b[0;32m----> 1\u001b[0;31m \u001b[0msns\u001b[0m\u001b[0;34m.\u001b[0m\u001b[0mboxplot\u001b[0m\u001b[0;34m(\u001b[0m\u001b[0mdata\u001b[0m\u001b[0;34m=\u001b[0m \u001b[0md1\u001b[0m\u001b[0;34m,\u001b[0m\u001b[0morient\u001b[0m\u001b[0;34m=\u001b[0m\u001b[0;34m\"h\"\u001b[0m\u001b[0;34m,\u001b[0m\u001b[0mpalette\u001b[0m\u001b[0;34m=\u001b[0m\u001b[0;34m\"Set2\"\u001b[0m\u001b[0;34m)\u001b[0m\u001b[0;34m\u001b[0m\u001b[0;34m\u001b[0m\u001b[0m\n\u001b[0m",
      "\u001b[0;32m/Library/Frameworks/Python.framework/Versions/3.9/lib/python3.9/site-packages/seaborn/_decorators.py\u001b[0m in \u001b[0;36minner_f\u001b[0;34m(*args, **kwargs)\u001b[0m\n\u001b[1;32m     44\u001b[0m             )\n\u001b[1;32m     45\u001b[0m         \u001b[0mkwargs\u001b[0m\u001b[0;34m.\u001b[0m\u001b[0mupdate\u001b[0m\u001b[0;34m(\u001b[0m\u001b[0;34m{\u001b[0m\u001b[0mk\u001b[0m\u001b[0;34m:\u001b[0m \u001b[0marg\u001b[0m \u001b[0;32mfor\u001b[0m \u001b[0mk\u001b[0m\u001b[0;34m,\u001b[0m \u001b[0marg\u001b[0m \u001b[0;32min\u001b[0m \u001b[0mzip\u001b[0m\u001b[0;34m(\u001b[0m\u001b[0msig\u001b[0m\u001b[0;34m.\u001b[0m\u001b[0mparameters\u001b[0m\u001b[0;34m,\u001b[0m \u001b[0margs\u001b[0m\u001b[0;34m)\u001b[0m\u001b[0;34m}\u001b[0m\u001b[0;34m)\u001b[0m\u001b[0;34m\u001b[0m\u001b[0;34m\u001b[0m\u001b[0m\n\u001b[0;32m---> 46\u001b[0;31m         \u001b[0;32mreturn\u001b[0m \u001b[0mf\u001b[0m\u001b[0;34m(\u001b[0m\u001b[0;34m**\u001b[0m\u001b[0mkwargs\u001b[0m\u001b[0;34m)\u001b[0m\u001b[0;34m\u001b[0m\u001b[0;34m\u001b[0m\u001b[0m\n\u001b[0m\u001b[1;32m     47\u001b[0m     \u001b[0;32mreturn\u001b[0m \u001b[0minner_f\u001b[0m\u001b[0;34m\u001b[0m\u001b[0;34m\u001b[0m\u001b[0m\n\u001b[1;32m     48\u001b[0m \u001b[0;34m\u001b[0m\u001b[0m\n",
      "\u001b[0;32m/Library/Frameworks/Python.framework/Versions/3.9/lib/python3.9/site-packages/seaborn/categorical.py\u001b[0m in \u001b[0;36mboxplot\u001b[0;34m(x, y, hue, data, order, hue_order, orient, color, palette, saturation, width, dodge, fliersize, linewidth, whis, ax, **kwargs)\u001b[0m\n\u001b[1;32m   2241\u001b[0m ):\n\u001b[1;32m   2242\u001b[0m \u001b[0;34m\u001b[0m\u001b[0m\n\u001b[0;32m-> 2243\u001b[0;31m     plotter = _BoxPlotter(x, y, hue, data, order, hue_order,\n\u001b[0m\u001b[1;32m   2244\u001b[0m                           \u001b[0morient\u001b[0m\u001b[0;34m,\u001b[0m \u001b[0mcolor\u001b[0m\u001b[0;34m,\u001b[0m \u001b[0mpalette\u001b[0m\u001b[0;34m,\u001b[0m \u001b[0msaturation\u001b[0m\u001b[0;34m,\u001b[0m\u001b[0;34m\u001b[0m\u001b[0;34m\u001b[0m\u001b[0m\n\u001b[1;32m   2245\u001b[0m                           width, dodge, fliersize, linewidth)\n",
      "\u001b[0;32m/Library/Frameworks/Python.framework/Versions/3.9/lib/python3.9/site-packages/seaborn/categorical.py\u001b[0m in \u001b[0;36m__init__\u001b[0;34m(self, x, y, hue, data, order, hue_order, orient, color, palette, saturation, width, dodge, fliersize, linewidth)\u001b[0m\n\u001b[1;32m    404\u001b[0m                  width, dodge, fliersize, linewidth):\n\u001b[1;32m    405\u001b[0m \u001b[0;34m\u001b[0m\u001b[0m\n\u001b[0;32m--> 406\u001b[0;31m         \u001b[0mself\u001b[0m\u001b[0;34m.\u001b[0m\u001b[0mestablish_variables\u001b[0m\u001b[0;34m(\u001b[0m\u001b[0mx\u001b[0m\u001b[0;34m,\u001b[0m \u001b[0my\u001b[0m\u001b[0;34m,\u001b[0m \u001b[0mhue\u001b[0m\u001b[0;34m,\u001b[0m \u001b[0mdata\u001b[0m\u001b[0;34m,\u001b[0m \u001b[0morient\u001b[0m\u001b[0;34m,\u001b[0m \u001b[0morder\u001b[0m\u001b[0;34m,\u001b[0m \u001b[0mhue_order\u001b[0m\u001b[0;34m)\u001b[0m\u001b[0;34m\u001b[0m\u001b[0;34m\u001b[0m\u001b[0m\n\u001b[0m\u001b[1;32m    407\u001b[0m         \u001b[0mself\u001b[0m\u001b[0;34m.\u001b[0m\u001b[0mestablish_colors\u001b[0m\u001b[0;34m(\u001b[0m\u001b[0mcolor\u001b[0m\u001b[0;34m,\u001b[0m \u001b[0mpalette\u001b[0m\u001b[0;34m,\u001b[0m \u001b[0msaturation\u001b[0m\u001b[0;34m)\u001b[0m\u001b[0;34m\u001b[0m\u001b[0;34m\u001b[0m\u001b[0m\n\u001b[1;32m    408\u001b[0m \u001b[0;34m\u001b[0m\u001b[0m\n",
      "\u001b[0;32m/Library/Frameworks/Python.framework/Versions/3.9/lib/python3.9/site-packages/seaborn/categorical.py\u001b[0m in \u001b[0;36mestablish_variables\u001b[0;34m(self, x, y, hue, data, orient, order, hue_order, units)\u001b[0m\n\u001b[1;32m     72\u001b[0m                     \u001b[0;31m# Reduce to just numeric columns\u001b[0m\u001b[0;34m\u001b[0m\u001b[0;34m\u001b[0m\u001b[0;34m\u001b[0m\u001b[0m\n\u001b[1;32m     73\u001b[0m                     \u001b[0;32mfor\u001b[0m \u001b[0mcol\u001b[0m \u001b[0;32min\u001b[0m \u001b[0mdata\u001b[0m\u001b[0;34m:\u001b[0m\u001b[0;34m\u001b[0m\u001b[0;34m\u001b[0m\u001b[0m\n\u001b[0;32m---> 74\u001b[0;31m                         \u001b[0;32mif\u001b[0m \u001b[0mvariable_type\u001b[0m\u001b[0;34m(\u001b[0m\u001b[0mdata\u001b[0m\u001b[0;34m[\u001b[0m\u001b[0mcol\u001b[0m\u001b[0;34m]\u001b[0m\u001b[0;34m)\u001b[0m \u001b[0;34m==\u001b[0m \u001b[0;34m\"numeric\"\u001b[0m\u001b[0;34m:\u001b[0m\u001b[0;34m\u001b[0m\u001b[0;34m\u001b[0m\u001b[0m\n\u001b[0m\u001b[1;32m     75\u001b[0m                             \u001b[0morder\u001b[0m\u001b[0;34m.\u001b[0m\u001b[0mappend\u001b[0m\u001b[0;34m(\u001b[0m\u001b[0mcol\u001b[0m\u001b[0;34m)\u001b[0m\u001b[0;34m\u001b[0m\u001b[0;34m\u001b[0m\u001b[0m\n\u001b[1;32m     76\u001b[0m                 \u001b[0mplot_data\u001b[0m \u001b[0;34m=\u001b[0m \u001b[0mdata\u001b[0m\u001b[0;34m[\u001b[0m\u001b[0morder\u001b[0m\u001b[0;34m]\u001b[0m\u001b[0;34m\u001b[0m\u001b[0;34m\u001b[0m\u001b[0m\n",
      "\u001b[0;32m/Library/Frameworks/Python.framework/Versions/3.9/lib/python3.9/site-packages/seaborn/_core.py\u001b[0m in \u001b[0;36mvariable_type\u001b[0;34m(vector, boolean_type)\u001b[0m\n\u001b[1;32m   1227\u001b[0m \u001b[0;34m\u001b[0m\u001b[0m\n\u001b[1;32m   1228\u001b[0m     \u001b[0;31m# Special-case all-na data, which is always \"numeric\"\u001b[0m\u001b[0;34m\u001b[0m\u001b[0;34m\u001b[0m\u001b[0;34m\u001b[0m\u001b[0m\n\u001b[0;32m-> 1229\u001b[0;31m     \u001b[0;32mif\u001b[0m \u001b[0mpd\u001b[0m\u001b[0;34m.\u001b[0m\u001b[0misna\u001b[0m\u001b[0;34m(\u001b[0m\u001b[0mvector\u001b[0m\u001b[0;34m)\u001b[0m\u001b[0;34m.\u001b[0m\u001b[0mall\u001b[0m\u001b[0;34m(\u001b[0m\u001b[0;34m)\u001b[0m\u001b[0;34m:\u001b[0m\u001b[0;34m\u001b[0m\u001b[0;34m\u001b[0m\u001b[0m\n\u001b[0m\u001b[1;32m   1230\u001b[0m         \u001b[0;32mreturn\u001b[0m \u001b[0;34m\"numeric\"\u001b[0m\u001b[0;34m\u001b[0m\u001b[0;34m\u001b[0m\u001b[0m\n\u001b[1;32m   1231\u001b[0m \u001b[0;34m\u001b[0m\u001b[0m\n",
      "\u001b[0;32m/Library/Frameworks/Python.framework/Versions/3.9/lib/python3.9/site-packages/pandas/core/generic.py\u001b[0m in \u001b[0;36m__nonzero__\u001b[0;34m(self)\u001b[0m\n\u001b[1;32m   1525\u001b[0m     \u001b[0;34m@\u001b[0m\u001b[0mfinal\u001b[0m\u001b[0;34m\u001b[0m\u001b[0;34m\u001b[0m\u001b[0m\n\u001b[1;32m   1526\u001b[0m     \u001b[0;32mdef\u001b[0m \u001b[0m__nonzero__\u001b[0m\u001b[0;34m(\u001b[0m\u001b[0mself\u001b[0m\u001b[0;34m)\u001b[0m\u001b[0;34m:\u001b[0m\u001b[0;34m\u001b[0m\u001b[0;34m\u001b[0m\u001b[0m\n\u001b[0;32m-> 1527\u001b[0;31m         raise ValueError(\n\u001b[0m\u001b[1;32m   1528\u001b[0m             \u001b[0;34mf\"The truth value of a {type(self).__name__} is ambiguous. \"\u001b[0m\u001b[0;34m\u001b[0m\u001b[0;34m\u001b[0m\u001b[0m\n\u001b[1;32m   1529\u001b[0m             \u001b[0;34m\"Use a.empty, a.bool(), a.item(), a.any() or a.all().\"\u001b[0m\u001b[0;34m\u001b[0m\u001b[0;34m\u001b[0m\u001b[0m\n",
      "\u001b[0;31mValueError\u001b[0m: The truth value of a Series is ambiguous. Use a.empty, a.bool(), a.item(), a.any() or a.all()."
     ]
    }
   ],
   "source": [
    "sns.boxplot(data= d1,orient=\"h\",palette=\"Set2\")"
   ]
  },
  {
   "cell_type": "code",
   "execution_count": 291,
   "id": "f14d1cbb",
   "metadata": {},
   "outputs": [
    {
     "data": {
      "text/html": [
       "<div>\n",
       "<style scoped>\n",
       "    .dataframe tbody tr th:only-of-type {\n",
       "        vertical-align: middle;\n",
       "    }\n",
       "\n",
       "    .dataframe tbody tr th {\n",
       "        vertical-align: top;\n",
       "    }\n",
       "\n",
       "    .dataframe thead th {\n",
       "        text-align: right;\n",
       "    }\n",
       "</style>\n",
       "<table border=\"1\" class=\"dataframe\">\n",
       "  <thead>\n",
       "    <tr style=\"text-align: right;\">\n",
       "      <th></th>\n",
       "      <th>Serial#</th>\n",
       "      <th>Course</th>\n",
       "      <th>Names</th>\n",
       "      <th>Names</th>\n",
       "      <th>Designation</th>\n",
       "      <th>Company</th>\n",
       "      <th>Location</th>\n",
       "      <th>CTC in LPA</th>\n",
       "    </tr>\n",
       "  </thead>\n",
       "  <tbody>\n",
       "    <tr>\n",
       "      <th>2</th>\n",
       "      <td>1</td>\n",
       "      <td>PGDDS 8</td>\n",
       "      <td>2021-04-01 00:00:00</td>\n",
       "      <td>Maka Naga Kalyan</td>\n",
       "      <td>Executive, Data Scientist</td>\n",
       "      <td>Nielsen</td>\n",
       "      <td>Bangalore</td>\n",
       "      <td>6.50</td>\n",
       "    </tr>\n",
       "    <tr>\n",
       "      <th>3</th>\n",
       "      <td>2</td>\n",
       "      <td>PGDDS 7</td>\n",
       "      <td>2021-04-01 00:00:00</td>\n",
       "      <td>Saurabh P</td>\n",
       "      <td>Executive, Data Scientist</td>\n",
       "      <td>Nielsen</td>\n",
       "      <td>Bangalore</td>\n",
       "      <td>6.50</td>\n",
       "    </tr>\n",
       "    <tr>\n",
       "      <th>4</th>\n",
       "      <td>3</td>\n",
       "      <td>PGDDS 8</td>\n",
       "      <td>2021-05-01 00:00:00</td>\n",
       "      <td>Swapnil Singh</td>\n",
       "      <td>Sr. Machine Learning Scientist</td>\n",
       "      <td>Dhiomics</td>\n",
       "      <td>Bangalore</td>\n",
       "      <td>4.50</td>\n",
       "    </tr>\n",
       "    <tr>\n",
       "      <th>5</th>\n",
       "      <td>4</td>\n",
       "      <td>PGDDS 8</td>\n",
       "      <td>2021-05-01 00:00:00</td>\n",
       "      <td>Afzal Akthar M</td>\n",
       "      <td>Machine Learning Scientist</td>\n",
       "      <td>Dhiomics</td>\n",
       "      <td>Bangalore</td>\n",
       "      <td>3.18</td>\n",
       "    </tr>\n",
       "    <tr>\n",
       "      <th>6</th>\n",
       "      <td>5</td>\n",
       "      <td>PGDDS 9</td>\n",
       "      <td>2021-05-01 00:00:00</td>\n",
       "      <td>Anurag Bora</td>\n",
       "      <td>Machine Learning Scientist</td>\n",
       "      <td>Dhiomics</td>\n",
       "      <td>Bangalore</td>\n",
       "      <td>3.18</td>\n",
       "    </tr>\n",
       "    <tr>\n",
       "      <th>...</th>\n",
       "      <td>...</td>\n",
       "      <td>...</td>\n",
       "      <td>...</td>\n",
       "      <td>...</td>\n",
       "      <td>...</td>\n",
       "      <td>...</td>\n",
       "      <td>...</td>\n",
       "      <td>...</td>\n",
       "    </tr>\n",
       "    <tr>\n",
       "      <th>74</th>\n",
       "      <td>73</td>\n",
       "      <td>PGDDS 10</td>\n",
       "      <td>2022-02-01 00:00:00</td>\n",
       "      <td>AYUSH SAXENA</td>\n",
       "      <td>Data Analyst</td>\n",
       "      <td>Litmus World</td>\n",
       "      <td>Bangalore</td>\n",
       "      <td>6.00</td>\n",
       "    </tr>\n",
       "    <tr>\n",
       "      <th>75</th>\n",
       "      <td>74</td>\n",
       "      <td>PGDDS 10</td>\n",
       "      <td>2022-03-01 00:00:00</td>\n",
       "      <td>ASHWINI PRAKASH</td>\n",
       "      <td>Analyst</td>\n",
       "      <td>Cognitio Analytics</td>\n",
       "      <td>Gurgaon</td>\n",
       "      <td>8.00</td>\n",
       "    </tr>\n",
       "    <tr>\n",
       "      <th>76</th>\n",
       "      <td>75</td>\n",
       "      <td>PGDDS 9</td>\n",
       "      <td>2022-03-01 00:00:00</td>\n",
       "      <td>Muskaan Sharma</td>\n",
       "      <td>Support</td>\n",
       "      <td>Lyra infosystem</td>\n",
       "      <td>Bangalore</td>\n",
       "      <td>3.00</td>\n",
       "    </tr>\n",
       "    <tr>\n",
       "      <th>77</th>\n",
       "      <td>76</td>\n",
       "      <td>PGDDS 10</td>\n",
       "      <td>2022-03-01 00:00:00</td>\n",
       "      <td>YADANNAVAR RISHIKA SANJEEV</td>\n",
       "      <td>AI ML Software Engineer</td>\n",
       "      <td>Mimaag AI</td>\n",
       "      <td>Bangalore</td>\n",
       "      <td>6.00</td>\n",
       "    </tr>\n",
       "    <tr>\n",
       "      <th>78</th>\n",
       "      <td>77</td>\n",
       "      <td>PGDDS 10</td>\n",
       "      <td>2022-03-01 00:00:00</td>\n",
       "      <td>Aaron</td>\n",
       "      <td>Associate Consultant</td>\n",
       "      <td>EY</td>\n",
       "      <td>Bangalore</td>\n",
       "      <td>7.50</td>\n",
       "    </tr>\n",
       "  </tbody>\n",
       "</table>\n",
       "<p>77 rows × 8 columns</p>\n",
       "</div>"
      ],
      "text/plain": [
       "   Serial#    Course                Names                       Names  \\\n",
       "2        1   PGDDS 8  2021-04-01 00:00:00            Maka Naga Kalyan   \n",
       "3        2   PGDDS 7  2021-04-01 00:00:00                   Saurabh P   \n",
       "4        3   PGDDS 8  2021-05-01 00:00:00               Swapnil Singh   \n",
       "5        4   PGDDS 8  2021-05-01 00:00:00              Afzal Akthar M   \n",
       "6        5   PGDDS 9  2021-05-01 00:00:00                 Anurag Bora   \n",
       "..     ...       ...                  ...                         ...   \n",
       "74      73  PGDDS 10  2022-02-01 00:00:00                AYUSH SAXENA   \n",
       "75      74  PGDDS 10  2022-03-01 00:00:00             ASHWINI PRAKASH   \n",
       "76      75   PGDDS 9  2022-03-01 00:00:00              Muskaan Sharma   \n",
       "77      76  PGDDS 10  2022-03-01 00:00:00  YADANNAVAR RISHIKA SANJEEV   \n",
       "78      77  PGDDS 10  2022-03-01 00:00:00                       Aaron   \n",
       "\n",
       "                       Designation             Company   Location  CTC in LPA  \n",
       "2        Executive, Data Scientist             Nielsen  Bangalore        6.50  \n",
       "3        Executive, Data Scientist             Nielsen  Bangalore        6.50  \n",
       "4   Sr. Machine Learning Scientist            Dhiomics  Bangalore        4.50  \n",
       "5       Machine Learning Scientist            Dhiomics  Bangalore        3.18  \n",
       "6       Machine Learning Scientist            Dhiomics  Bangalore        3.18  \n",
       "..                             ...                 ...        ...         ...  \n",
       "74                    Data Analyst        Litmus World  Bangalore        6.00  \n",
       "75                         Analyst  Cognitio Analytics    Gurgaon        8.00  \n",
       "76                         Support     Lyra infosystem  Bangalore        3.00  \n",
       "77         AI ML Software Engineer           Mimaag AI  Bangalore        6.00  \n",
       "78            Associate Consultant                  EY  Bangalore        7.50  \n",
       "\n",
       "[77 rows x 8 columns]"
      ]
     },
     "execution_count": 291,
     "metadata": {},
     "output_type": "execute_result"
    }
   ],
   "source": [
    "d1"
   ]
  },
  {
   "cell_type": "code",
   "execution_count": 297,
   "id": "6b447d5a",
   "metadata": {},
   "outputs": [
    {
     "data": {
      "text/plain": [
       "<matplotlib.collections.PathCollection at 0x7fce8047e820>"
      ]
     },
     "execution_count": 297,
     "metadata": {},
     "output_type": "execute_result"
    },
    {
     "data": {
      "image/png": "[encoded data removed]",
      "text/plain": [
       "<Figure size 432x288 with 1 Axes>"
      ]
     },
     "metadata": {
      "needs_background": "light"
     },
     "output_type": "display_data"
    }
   ],
   "source": [
    "plt.scatter(x= d1['Location'] ,y = d1['Course'], color = \"Magenta\", alpha = 1)"
   ]
  },
  {
   "cell_type": "code",
   "execution_count": 300,
   "id": "a32a35cf",
   "metadata": {},
   "outputs": [],
   "source": [
    "df = d1.groupby(\"Course\").agg({'CTC in LPA':np.mean})"
   ]
  },
  {
   "cell_type": "code",
   "execution_count": 301,
   "id": "1da756cc",
   "metadata": {},
   "outputs": [
    {
     "data": {
      "text/plain": [
       "[<matplotlib.lines.Line2D at 0x7fced372ab20>]"
      ]
     },
     "execution_count": 301,
     "metadata": {},
     "output_type": "execute_result"
    },
    {
     "data": {
      "image/png": "[encoded data removed]",
      "text/plain": [
       "<Figure size 432x288 with 1 Axes>"
      ]
     },
     "metadata": {
      "needs_background": "light"
     },
     "output_type": "display_data"
    }
   ],
   "source": [
    "plt.plot(df)"
   ]
  },
  {
   "cell_type": "code",
   "execution_count": 305,
   "id": "c6806736",
   "metadata": {},
   "outputs": [
    {
     "data": {
      "text/plain": [
       "PGDDS 10    28\n",
       "PGDDS 8     27\n",
       "PGDDS 9     20\n",
       "PGDDS 7      2\n",
       "Name: Course, dtype: int64"
      ]
     },
     "execution_count": 305,
     "metadata": {},
     "output_type": "execute_result"
    }
   ],
   "source": [
    "d1['Course'].value_counts()"
   ]
  },
  {
   "cell_type": "code",
   "execution_count": 306,
   "id": "564a1029",
   "metadata": {},
   "outputs": [],
   "source": [
    "#Companies offering good salaries"
   ]
  },
  {
   "cell_type": "code",
   "execution_count": 308,
   "id": "2313f9c4",
   "metadata": {},
   "outputs": [
    {
     "data": {
      "text/html": [
       "<div>\n",
       "<style scoped>\n",
       "    .dataframe tbody tr th:only-of-type {\n",
       "        vertical-align: middle;\n",
       "    }\n",
       "\n",
       "    .dataframe tbody tr th {\n",
       "        vertical-align: top;\n",
       "    }\n",
       "\n",
       "    .dataframe thead th {\n",
       "        text-align: right;\n",
       "    }\n",
       "</style>\n",
       "<table border=\"1\" class=\"dataframe\">\n",
       "  <thead>\n",
       "    <tr style=\"text-align: right;\">\n",
       "      <th></th>\n",
       "      <th>CTC in LPA</th>\n",
       "    </tr>\n",
       "    <tr>\n",
       "      <th>Company</th>\n",
       "      <th></th>\n",
       "    </tr>\n",
       "  </thead>\n",
       "  <tbody>\n",
       "    <tr>\n",
       "      <th>Trigent Softwares</th>\n",
       "      <td>20.000000</td>\n",
       "    </tr>\n",
       "    <tr>\n",
       "      <th>Accionlabs India Pvt Ltd</th>\n",
       "      <td>12.000000</td>\n",
       "    </tr>\n",
       "    <tr>\n",
       "      <th>Fidelity National Financial</th>\n",
       "      <td>11.120000</td>\n",
       "    </tr>\n",
       "    <tr>\n",
       "      <th>Futurense</th>\n",
       "      <td>10.333333</td>\n",
       "    </tr>\n",
       "    <tr>\n",
       "      <th>Cognitio Analytics</th>\n",
       "      <td>8.000000</td>\n",
       "    </tr>\n",
       "    <tr>\n",
       "      <th>The Smart Cube</th>\n",
       "      <td>7.500000</td>\n",
       "    </tr>\n",
       "    <tr>\n",
       "      <th>Indium Software</th>\n",
       "      <td>7.333333</td>\n",
       "    </tr>\n",
       "    <tr>\n",
       "      <th>KANTAR</th>\n",
       "      <td>7.150000</td>\n",
       "    </tr>\n",
       "    <tr>\n",
       "      <th>Visit Health</th>\n",
       "      <td>7.000000</td>\n",
       "    </tr>\n",
       "    <tr>\n",
       "      <th>TVS Credit</th>\n",
       "      <td>7.000000</td>\n",
       "    </tr>\n",
       "    <tr>\n",
       "      <th>Deloitte</th>\n",
       "      <td>7.000000</td>\n",
       "    </tr>\n",
       "    <tr>\n",
       "      <th>Lending Tree</th>\n",
       "      <td>7.000000</td>\n",
       "    </tr>\n",
       "    <tr>\n",
       "      <th>EY</th>\n",
       "      <td>6.888889</td>\n",
       "    </tr>\n",
       "    <tr>\n",
       "      <th>Equifax</th>\n",
       "      <td>6.500000</td>\n",
       "    </tr>\n",
       "    <tr>\n",
       "      <th>Nielsen</th>\n",
       "      <td>6.500000</td>\n",
       "    </tr>\n",
       "    <tr>\n",
       "      <th>Imaginea</th>\n",
       "      <td>6.250000</td>\n",
       "    </tr>\n",
       "    <tr>\n",
       "      <th>Content Bloom</th>\n",
       "      <td>6.000000</td>\n",
       "    </tr>\n",
       "    <tr>\n",
       "      <th>Mimaag AI</th>\n",
       "      <td>6.000000</td>\n",
       "    </tr>\n",
       "    <tr>\n",
       "      <th>WNS</th>\n",
       "      <td>6.000000</td>\n",
       "    </tr>\n",
       "    <tr>\n",
       "      <th>Litmus World</th>\n",
       "      <td>6.000000</td>\n",
       "    </tr>\n",
       "    <tr>\n",
       "      <th>Allstate</th>\n",
       "      <td>6.000000</td>\n",
       "    </tr>\n",
       "    <tr>\n",
       "      <th>Genpact</th>\n",
       "      <td>6.000000</td>\n",
       "    </tr>\n",
       "    <tr>\n",
       "      <th>Swiggy</th>\n",
       "      <td>5.500000</td>\n",
       "    </tr>\n",
       "    <tr>\n",
       "      <th>KOCH Industries</th>\n",
       "      <td>5.000000</td>\n",
       "    </tr>\n",
       "    <tr>\n",
       "      <th>Capco Technologies</th>\n",
       "      <td>5.000000</td>\n",
       "    </tr>\n",
       "    <tr>\n",
       "      <th>Fincare Small Finance Bank</th>\n",
       "      <td>5.000000</td>\n",
       "    </tr>\n",
       "    <tr>\n",
       "      <th>The Math Company</th>\n",
       "      <td>4.500000</td>\n",
       "    </tr>\n",
       "    <tr>\n",
       "      <th>Dhiomics</th>\n",
       "      <td>4.050000</td>\n",
       "    </tr>\n",
       "    <tr>\n",
       "      <th>Valgen</th>\n",
       "      <td>4.000000</td>\n",
       "    </tr>\n",
       "    <tr>\n",
       "      <th>Marlabs</th>\n",
       "      <td>3.500000</td>\n",
       "    </tr>\n",
       "    <tr>\n",
       "      <th>Lyra infosystem</th>\n",
       "      <td>3.000000</td>\n",
       "    </tr>\n",
       "    <tr>\n",
       "      <th>Bridge Health</th>\n",
       "      <td>NaN</td>\n",
       "    </tr>\n",
       "    <tr>\n",
       "      <th>Dhira</th>\n",
       "      <td>NaN</td>\n",
       "    </tr>\n",
       "    <tr>\n",
       "      <th>Inference Labs Pvt. Ltd</th>\n",
       "      <td>NaN</td>\n",
       "    </tr>\n",
       "    <tr>\n",
       "      <th>Insta Data</th>\n",
       "      <td>NaN</td>\n",
       "    </tr>\n",
       "    <tr>\n",
       "      <th>Pexitics</th>\n",
       "      <td>NaN</td>\n",
       "    </tr>\n",
       "    <tr>\n",
       "      <th>Tara Tech</th>\n",
       "      <td>NaN</td>\n",
       "    </tr>\n",
       "    <tr>\n",
       "      <th>TestAIng</th>\n",
       "      <td>NaN</td>\n",
       "    </tr>\n",
       "    <tr>\n",
       "      <th>Unext</th>\n",
       "      <td>NaN</td>\n",
       "    </tr>\n",
       "  </tbody>\n",
       "</table>\n",
       "</div>"
      ],
      "text/plain": [
       "                             CTC in LPA\n",
       "Company                                \n",
       "Trigent Softwares             20.000000\n",
       "Accionlabs India Pvt Ltd      12.000000\n",
       "Fidelity National Financial   11.120000\n",
       "Futurense                     10.333333\n",
       "Cognitio Analytics             8.000000\n",
       "The Smart Cube                 7.500000\n",
       "Indium Software                7.333333\n",
       "KANTAR                         7.150000\n",
       "Visit Health                   7.000000\n",
       "TVS Credit                     7.000000\n",
       "Deloitte                       7.000000\n",
       "Lending Tree                   7.000000\n",
       "EY                             6.888889\n",
       "Equifax                        6.500000\n",
       "Nielsen                        6.500000\n",
       "Imaginea                       6.250000\n",
       "Content Bloom                  6.000000\n",
       "Mimaag AI                      6.000000\n",
       "WNS                            6.000000\n",
       "Litmus World                   6.000000\n",
       "Allstate                       6.000000\n",
       "Genpact                        6.000000\n",
       "Swiggy                         5.500000\n",
       "KOCH Industries                5.000000\n",
       "Capco Technologies             5.000000\n",
       "Fincare Small Finance Bank     5.000000\n",
       "The Math Company               4.500000\n",
       "Dhiomics                       4.050000\n",
       "Valgen                         4.000000\n",
       "Marlabs                        3.500000\n",
       "Lyra infosystem                3.000000\n",
       "Bridge Health                       NaN\n",
       "Dhira                               NaN\n",
       "Inference Labs Pvt. Ltd             NaN\n",
       "Insta Data                          NaN\n",
       "Pexitics                            NaN\n",
       "Tara Tech                           NaN\n",
       "TestAIng                            NaN\n",
       "Unext                               NaN"
      ]
     },
     "execution_count": 308,
     "metadata": {},
     "output_type": "execute_result"
    }
   ],
   "source": [
    "d1.groupby(\"Company\").agg({'CTC in LPA':np.mean}).sort_values('CTC in LPA',ascending = False)"
   ]
  },
  {
   "cell_type": "code",
   "execution_count": 309,
   "id": "5f2521c9",
   "metadata": {},
   "outputs": [],
   "source": [
    "# jobs offering good salaries"
   ]
  },
  {
   "cell_type": "code",
   "execution_count": 314,
   "id": "4e18e935",
   "metadata": {},
   "outputs": [
    {
     "ename": "SyntaxError",
     "evalue": "invalid syntax (2623593562.py, line 1)",
     "output_type": "error",
     "traceback": [
      "\u001b[0;36m  File \u001b[0;32m\"/var/folders/k8/4j5n_hw94_j_k1151xthw9_r0000gn/T/ipykernel_78035/2623593562.py\"\u001b[0;36m, line \u001b[0;32m1\u001b[0m\n\u001b[0;31m    d1.groupby(\"Company\").agg({'CTC in LPA':np.mean}).sort_values('CTC in LPA',ascending = False)\"\"\u001b[0m\n\u001b[0m                                                                                                 ^\u001b[0m\n\u001b[0;31mSyntaxError\u001b[0m\u001b[0;31m:\u001b[0m invalid syntax\n"
     ]
    }
   ],
   "source": [
    "d1.groupby(\"Company\").agg({'CTC in LPA':np.mean}).sort_values('CTC in LPA',ascending = False)\"\""
   ]
  },
  {
   "cell_type": "code",
   "execution_count": 319,
   "id": "0fb1d659",
   "metadata": {},
   "outputs": [
    {
     "data": {
      "text/plain": [
       "2     6.50\n",
       "3     6.50\n",
       "4     4.50\n",
       "5     3.18\n",
       "6     3.18\n",
       "      ... \n",
       "74    6.00\n",
       "75    8.00\n",
       "76    3.00\n",
       "77    6.00\n",
       "78    7.50\n",
       "Name: CTC in LPA, Length: 77, dtype: float64"
      ]
     },
     "execution_count": 319,
     "metadata": {},
     "output_type": "execute_result"
    }
   ],
   "source": [
    "d1['CTC in LPA'].replace('NaN',0.2)"
   ]
  },
  {
   "cell_type": "code",
   "execution_count": 320,
   "id": "5c186d6e",
   "metadata": {},
   "outputs": [
    {
     "data": {
      "text/html": [
       "<div>\n",
       "<style scoped>\n",
       "    .dataframe tbody tr th:only-of-type {\n",
       "        vertical-align: middle;\n",
       "    }\n",
       "\n",
       "    .dataframe tbody tr th {\n",
       "        vertical-align: top;\n",
       "    }\n",
       "\n",
       "    .dataframe thead th {\n",
       "        text-align: right;\n",
       "    }\n",
       "</style>\n",
       "<table border=\"1\" class=\"dataframe\">\n",
       "  <thead>\n",
       "    <tr style=\"text-align: right;\">\n",
       "      <th></th>\n",
       "      <th>Serial#</th>\n",
       "      <th>Course</th>\n",
       "      <th>Names</th>\n",
       "      <th>Names</th>\n",
       "      <th>Designation</th>\n",
       "      <th>Company</th>\n",
       "      <th>Location</th>\n",
       "      <th>CTC in LPA</th>\n",
       "    </tr>\n",
       "  </thead>\n",
       "  <tbody>\n",
       "    <tr>\n",
       "      <th>2</th>\n",
       "      <td>1</td>\n",
       "      <td>PGDDS 8</td>\n",
       "      <td>2021-04-01 00:00:00</td>\n",
       "      <td>Maka Naga Kalyan</td>\n",
       "      <td>Executive, Data Scientist</td>\n",
       "      <td>Nielsen</td>\n",
       "      <td>Bangalore</td>\n",
       "      <td>6.50</td>\n",
       "    </tr>\n",
       "    <tr>\n",
       "      <th>3</th>\n",
       "      <td>2</td>\n",
       "      <td>PGDDS 7</td>\n",
       "      <td>2021-04-01 00:00:00</td>\n",
       "      <td>Saurabh P</td>\n",
       "      <td>Executive, Data Scientist</td>\n",
       "      <td>Nielsen</td>\n",
       "      <td>Bangalore</td>\n",
       "      <td>6.50</td>\n",
       "    </tr>\n",
       "    <tr>\n",
       "      <th>4</th>\n",
       "      <td>3</td>\n",
       "      <td>PGDDS 8</td>\n",
       "      <td>2021-05-01 00:00:00</td>\n",
       "      <td>Swapnil Singh</td>\n",
       "      <td>Sr. Machine Learning Scientist</td>\n",
       "      <td>Dhiomics</td>\n",
       "      <td>Bangalore</td>\n",
       "      <td>4.50</td>\n",
       "    </tr>\n",
       "    <tr>\n",
       "      <th>5</th>\n",
       "      <td>4</td>\n",
       "      <td>PGDDS 8</td>\n",
       "      <td>2021-05-01 00:00:00</td>\n",
       "      <td>Afzal Akthar M</td>\n",
       "      <td>Machine Learning Scientist</td>\n",
       "      <td>Dhiomics</td>\n",
       "      <td>Bangalore</td>\n",
       "      <td>3.18</td>\n",
       "    </tr>\n",
       "    <tr>\n",
       "      <th>6</th>\n",
       "      <td>5</td>\n",
       "      <td>PGDDS 9</td>\n",
       "      <td>2021-05-01 00:00:00</td>\n",
       "      <td>Anurag Bora</td>\n",
       "      <td>Machine Learning Scientist</td>\n",
       "      <td>Dhiomics</td>\n",
       "      <td>Bangalore</td>\n",
       "      <td>3.18</td>\n",
       "    </tr>\n",
       "    <tr>\n",
       "      <th>7</th>\n",
       "      <td>6</td>\n",
       "      <td>PGDDS 8</td>\n",
       "      <td>2021-05-01 00:00:00</td>\n",
       "      <td>AKALYA S</td>\n",
       "      <td>Intern</td>\n",
       "      <td>Inference Labs Pvt. Ltd</td>\n",
       "      <td>Bangalore</td>\n",
       "      <td>NaN</td>\n",
       "    </tr>\n",
       "  </tbody>\n",
       "</table>\n",
       "</div>"
      ],
      "text/plain": [
       "  Serial#   Course                Names             Names  \\\n",
       "2       1  PGDDS 8  2021-04-01 00:00:00  Maka Naga Kalyan   \n",
       "3       2  PGDDS 7  2021-04-01 00:00:00         Saurabh P   \n",
       "4       3  PGDDS 8  2021-05-01 00:00:00     Swapnil Singh   \n",
       "5       4  PGDDS 8  2021-05-01 00:00:00    Afzal Akthar M   \n",
       "6       5  PGDDS 9  2021-05-01 00:00:00       Anurag Bora   \n",
       "7       6  PGDDS 8  2021-05-01 00:00:00          AKALYA S   \n",
       "\n",
       "                      Designation                  Company   Location  \\\n",
       "2       Executive, Data Scientist                  Nielsen  Bangalore   \n",
       "3       Executive, Data Scientist                  Nielsen  Bangalore   \n",
       "4  Sr. Machine Learning Scientist                 Dhiomics  Bangalore   \n",
       "5      Machine Learning Scientist                 Dhiomics  Bangalore   \n",
       "6      Machine Learning Scientist                 Dhiomics  Bangalore   \n",
       "7                          Intern  Inference Labs Pvt. Ltd  Bangalore   \n",
       "\n",
       "   CTC in LPA  \n",
       "2        6.50  \n",
       "3        6.50  \n",
       "4        4.50  \n",
       "5        3.18  \n",
       "6        3.18  \n",
       "7         NaN  "
      ]
     },
     "execution_count": 320,
     "metadata": {},
     "output_type": "execute_result"
    }
   ],
   "source": [
    "d"
   ]
  },
  {
   "cell_type": "code",
   "execution_count": 332,
   "id": "4f75d224",
   "metadata": {},
   "outputs": [
    {
     "name": "stderr",
     "output_type": "stream",
     "text": [
      "/Library/Frameworks/Python.framework/Versions/3.9/lib/python3.9/site-packages/seaborn/axisgrid.py:337: UserWarning: The `size` parameter has been renamed to `height`; please update your code.\n",
      "  warnings.warn(msg, UserWarning)\n"
     ]
    },
    {
     "data": {
      "text/plain": [
       "<seaborn.axisgrid.FacetGrid at 0x7fceb3084a60>"
      ]
     },
     "execution_count": 332,
     "metadata": {},
     "output_type": "execute_result"
    },
    {
     "data": {
      "image/png": "[encoded data removed]",
      "text/plain": [
       "<Figure size 16200x720 with 5 Axes>"
      ]
     },
     "metadata": {
      "needs_background": "light"
     },
     "output_type": "display_data"
    }
   ],
   "source": [
    "sns.FacetGrid(col=\"Location\",col_wrap = 25,aspect=0.9,size= 10,data =d1).map(plt.scatter,'CTC in LPA','Company')"
   ]
  },
  {
   "cell_type": "code",
   "execution_count": 333,
   "id": "50b5faed",
   "metadata": {},
   "outputs": [],
   "source": [
    "#most companies are in bangalore "
   ]
  },
  {
   "cell_type": "code",
   "execution_count": 334,
   "id": "c9539f7c",
   "metadata": {},
   "outputs": [
    {
     "data": {
      "text/html": [
       "<div>\n",
       "<style scoped>\n",
       "    .dataframe tbody tr th:only-of-type {\n",
       "        vertical-align: middle;\n",
       "    }\n",
       "\n",
       "    .dataframe tbody tr th {\n",
       "        vertical-align: top;\n",
       "    }\n",
       "\n",
       "    .dataframe thead th {\n",
       "        text-align: right;\n",
       "    }\n",
       "</style>\n",
       "<table border=\"1\" class=\"dataframe\">\n",
       "  <thead>\n",
       "    <tr style=\"text-align: right;\">\n",
       "      <th></th>\n",
       "      <th>Serial#</th>\n",
       "      <th>Course</th>\n",
       "      <th>Names</th>\n",
       "      <th>Names</th>\n",
       "      <th>Designation</th>\n",
       "      <th>Company</th>\n",
       "      <th>Location</th>\n",
       "      <th>CTC in LPA</th>\n",
       "    </tr>\n",
       "  </thead>\n",
       "  <tbody>\n",
       "    <tr>\n",
       "      <th>2</th>\n",
       "      <td>1</td>\n",
       "      <td>PGDDS 8</td>\n",
       "      <td>2021-04-01 00:00:00</td>\n",
       "      <td>Maka Naga Kalyan</td>\n",
       "      <td>Executive, Data Scientist</td>\n",
       "      <td>Nielsen</td>\n",
       "      <td>Bangalore</td>\n",
       "      <td>6.50</td>\n",
       "    </tr>\n",
       "    <tr>\n",
       "      <th>3</th>\n",
       "      <td>2</td>\n",
       "      <td>PGDDS 7</td>\n",
       "      <td>2021-04-01 00:00:00</td>\n",
       "      <td>Saurabh P</td>\n",
       "      <td>Executive, Data Scientist</td>\n",
       "      <td>Nielsen</td>\n",
       "      <td>Bangalore</td>\n",
       "      <td>6.50</td>\n",
       "    </tr>\n",
       "    <tr>\n",
       "      <th>4</th>\n",
       "      <td>3</td>\n",
       "      <td>PGDDS 8</td>\n",
       "      <td>2021-05-01 00:00:00</td>\n",
       "      <td>Swapnil Singh</td>\n",
       "      <td>Sr. Machine Learning Scientist</td>\n",
       "      <td>Dhiomics</td>\n",
       "      <td>Bangalore</td>\n",
       "      <td>4.50</td>\n",
       "    </tr>\n",
       "    <tr>\n",
       "      <th>5</th>\n",
       "      <td>4</td>\n",
       "      <td>PGDDS 8</td>\n",
       "      <td>2021-05-01 00:00:00</td>\n",
       "      <td>Afzal Akthar M</td>\n",
       "      <td>Machine Learning Scientist</td>\n",
       "      <td>Dhiomics</td>\n",
       "      <td>Bangalore</td>\n",
       "      <td>3.18</td>\n",
       "    </tr>\n",
       "    <tr>\n",
       "      <th>6</th>\n",
       "      <td>5</td>\n",
       "      <td>PGDDS 9</td>\n",
       "      <td>2021-05-01 00:00:00</td>\n",
       "      <td>Anurag Bora</td>\n",
       "      <td>Machine Learning Scientist</td>\n",
       "      <td>Dhiomics</td>\n",
       "      <td>Bangalore</td>\n",
       "      <td>3.18</td>\n",
       "    </tr>\n",
       "  </tbody>\n",
       "</table>\n",
       "</div>"
      ],
      "text/plain": [
       "  Serial#   Course                Names             Names  \\\n",
       "2       1  PGDDS 8  2021-04-01 00:00:00  Maka Naga Kalyan   \n",
       "3       2  PGDDS 7  2021-04-01 00:00:00         Saurabh P   \n",
       "4       3  PGDDS 8  2021-05-01 00:00:00     Swapnil Singh   \n",
       "5       4  PGDDS 8  2021-05-01 00:00:00    Afzal Akthar M   \n",
       "6       5  PGDDS 9  2021-05-01 00:00:00       Anurag Bora   \n",
       "\n",
       "                      Designation   Company   Location  CTC in LPA  \n",
       "2       Executive, Data Scientist   Nielsen  Bangalore        6.50  \n",
       "3       Executive, Data Scientist   Nielsen  Bangalore        6.50  \n",
       "4  Sr. Machine Learning Scientist  Dhiomics  Bangalore        4.50  \n",
       "5      Machine Learning Scientist  Dhiomics  Bangalore        3.18  \n",
       "6      Machine Learning Scientist  Dhiomics  Bangalore        3.18  "
      ]
     },
     "execution_count": 334,
     "metadata": {},
     "output_type": "execute_result"
    }
   ],
   "source": [
    "d1.head()"
   ]
  },
  {
   "cell_type": "code",
   "execution_count": 335,
   "id": "ae48bd0e",
   "metadata": {},
   "outputs": [],
   "source": [
    "# 3rd data se2"
   ]
  },
  {
   "cell_type": "code",
   "execution_count": 337,
   "id": "297f96a8",
   "metadata": {},
   "outputs": [],
   "source": [
    "d2 =  pd.read_excel('bpldata.xlsx')"
   ]
  },
  {
   "cell_type": "code",
   "execution_count": 338,
   "id": "cf476e3c",
   "metadata": {},
   "outputs": [
    {
     "data": {
      "text/html": [
       "<div>\n",
       "<style scoped>\n",
       "    .dataframe tbody tr th:only-of-type {\n",
       "        vertical-align: middle;\n",
       "    }\n",
       "\n",
       "    .dataframe tbody tr th {\n",
       "        vertical-align: top;\n",
       "    }\n",
       "\n",
       "    .dataframe thead th {\n",
       "        text-align: right;\n",
       "    }\n",
       "</style>\n",
       "<table border=\"1\" class=\"dataframe\">\n",
       "  <thead>\n",
       "    <tr style=\"text-align: right;\">\n",
       "      <th></th>\n",
       "      <th>Serial #</th>\n",
       "      <th>Batch</th>\n",
       "      <th>Student Name</th>\n",
       "      <th>Gender</th>\n",
       "      <th>Company</th>\n",
       "      <th>CTC in LPA</th>\n",
       "      <th>Location</th>\n",
       "    </tr>\n",
       "  </thead>\n",
       "  <tbody>\n",
       "    <tr>\n",
       "      <th>0</th>\n",
       "      <td>1</td>\n",
       "      <td>Batch 2</td>\n",
       "      <td>Abhirupa Lodh</td>\n",
       "      <td>F</td>\n",
       "      <td>Litmusworld</td>\n",
       "      <td>8.25</td>\n",
       "      <td>Bangalore</td>\n",
       "    </tr>\n",
       "    <tr>\n",
       "      <th>1</th>\n",
       "      <td>2</td>\n",
       "      <td>Batch 2</td>\n",
       "      <td>Abhishek Reddy Tippani</td>\n",
       "      <td>M</td>\n",
       "      <td>Easy Rewardz</td>\n",
       "      <td>7.95</td>\n",
       "      <td>Gurgaon</td>\n",
       "    </tr>\n",
       "  </tbody>\n",
       "</table>\n",
       "</div>"
      ],
      "text/plain": [
       "   Serial #    Batch            Student Name Gender       Company CTC in LPA  \\\n",
       "0         1  Batch 2           Abhirupa Lodh      F   Litmusworld       8.25   \n",
       "1         2  Batch 2  Abhishek Reddy Tippani      M  Easy Rewardz       7.95   \n",
       "\n",
       "    Location  \n",
       "0  Bangalore  \n",
       "1    Gurgaon  "
      ]
     },
     "execution_count": 338,
     "metadata": {},
     "output_type": "execute_result"
    }
   ],
   "source": [
    "d2.head(2)"
   ]
  },
  {
   "cell_type": "code",
   "execution_count": 339,
   "id": "b4ff9168",
   "metadata": {},
   "outputs": [
    {
     "data": {
      "text/plain": [
       "Serial #        0\n",
       "Batch           0\n",
       "Student Name    0\n",
       "Gender          0\n",
       "Company         0\n",
       "CTC in LPA      1\n",
       "Location        2\n",
       "dtype: int64"
      ]
     },
     "execution_count": 339,
     "metadata": {},
     "output_type": "execute_result"
    }
   ],
   "source": [
    "d2.isnull().sum()"
   ]
  },
  {
   "cell_type": "code",
   "execution_count": 342,
   "id": "a02636df",
   "metadata": {},
   "outputs": [],
   "source": [
    "d2['CTC in LPA'] =  pd.to_numeric(d2['CTC in LPA'], errors='coerce')\n"
   ]
  },
  {
   "cell_type": "code",
   "execution_count": 343,
   "id": "0f9d35e1",
   "metadata": {},
   "outputs": [
    {
     "data": {
      "text/html": [
       "<div>\n",
       "<style scoped>\n",
       "    .dataframe tbody tr th:only-of-type {\n",
       "        vertical-align: middle;\n",
       "    }\n",
       "\n",
       "    .dataframe tbody tr th {\n",
       "        vertical-align: top;\n",
       "    }\n",
       "\n",
       "    .dataframe thead th {\n",
       "        text-align: right;\n",
       "    }\n",
       "</style>\n",
       "<table border=\"1\" class=\"dataframe\">\n",
       "  <thead>\n",
       "    <tr style=\"text-align: right;\">\n",
       "      <th></th>\n",
       "      <th>Serial #</th>\n",
       "      <th>Batch</th>\n",
       "      <th>Student Name</th>\n",
       "      <th>Gender</th>\n",
       "      <th>Company</th>\n",
       "      <th>CTC in LPA</th>\n",
       "      <th>Location</th>\n",
       "    </tr>\n",
       "  </thead>\n",
       "  <tbody>\n",
       "    <tr>\n",
       "      <th>0</th>\n",
       "      <td>1</td>\n",
       "      <td>Batch 2</td>\n",
       "      <td>Abhirupa Lodh</td>\n",
       "      <td>F</td>\n",
       "      <td>Litmusworld</td>\n",
       "      <td>8.25</td>\n",
       "      <td>Bangalore</td>\n",
       "    </tr>\n",
       "    <tr>\n",
       "      <th>1</th>\n",
       "      <td>2</td>\n",
       "      <td>Batch 2</td>\n",
       "      <td>Abhishek Reddy Tippani</td>\n",
       "      <td>M</td>\n",
       "      <td>Easy Rewardz</td>\n",
       "      <td>7.95</td>\n",
       "      <td>Gurgaon</td>\n",
       "    </tr>\n",
       "    <tr>\n",
       "      <th>2</th>\n",
       "      <td>3</td>\n",
       "      <td>Batch 2</td>\n",
       "      <td>Akansha Singh</td>\n",
       "      <td>F</td>\n",
       "      <td>Tara Tech</td>\n",
       "      <td>3.80</td>\n",
       "      <td>Bangalore</td>\n",
       "    </tr>\n",
       "    <tr>\n",
       "      <th>3</th>\n",
       "      <td>4</td>\n",
       "      <td>Batch 2</td>\n",
       "      <td>Anshul Sagar</td>\n",
       "      <td>M</td>\n",
       "      <td>Outsourced</td>\n",
       "      <td>NaN</td>\n",
       "      <td>Bangalore</td>\n",
       "    </tr>\n",
       "    <tr>\n",
       "      <th>4</th>\n",
       "      <td>5</td>\n",
       "      <td>Batch 2</td>\n",
       "      <td>Archit Rao</td>\n",
       "      <td>M</td>\n",
       "      <td>Careers360</td>\n",
       "      <td>6.50</td>\n",
       "      <td>Bangalore</td>\n",
       "    </tr>\n",
       "  </tbody>\n",
       "</table>\n",
       "</div>"
      ],
      "text/plain": [
       "   Serial #    Batch            Student Name Gender       Company  CTC in LPA  \\\n",
       "0         1  Batch 2           Abhirupa Lodh      F   Litmusworld        8.25   \n",
       "1         2  Batch 2  Abhishek Reddy Tippani      M  Easy Rewardz        7.95   \n",
       "2         3  Batch 2           Akansha Singh      F     Tara Tech        3.80   \n",
       "3         4  Batch 2            Anshul Sagar      M    Outsourced         NaN   \n",
       "4         5  Batch 2              Archit Rao      M    Careers360        6.50   \n",
       "\n",
       "    Location  \n",
       "0  Bangalore  \n",
       "1    Gurgaon  \n",
       "2  Bangalore  \n",
       "3  Bangalore  \n",
       "4  Bangalore  "
      ]
     },
     "execution_count": 343,
     "metadata": {},
     "output_type": "execute_result"
    }
   ],
   "source": [
    "d2.head(5)"
   ]
  },
  {
   "cell_type": "code",
   "execution_count": 344,
   "id": "415f6a19",
   "metadata": {},
   "outputs": [],
   "source": [
    "# replacing Nan With mean values"
   ]
  },
  {
   "cell_type": "code",
   "execution_count": 345,
   "id": "a0e74121",
   "metadata": {},
   "outputs": [],
   "source": [
    "column_means = d2['CTC in LPA']. mean()"
   ]
  },
  {
   "cell_type": "code",
   "execution_count": 346,
   "id": "784b23f7",
   "metadata": {},
   "outputs": [
    {
     "data": {
      "text/plain": [
       "pandas.core.series.Series"
      ]
     },
     "execution_count": 346,
     "metadata": {},
     "output_type": "execute_result"
    }
   ],
   "source": [
    "type(d2['CTC in LPA'])"
   ]
  },
  {
   "cell_type": "code",
   "execution_count": 348,
   "id": "f4fa6996",
   "metadata": {},
   "outputs": [],
   "source": [
    "d2 = d2. fillna(column_means)\n"
   ]
  },
  {
   "cell_type": "code",
   "execution_count": 357,
   "id": "b2fc0748",
   "metadata": {},
   "outputs": [
    {
     "data": {
      "text/plain": [
       "Bangalore            195\n",
       "Gurgaon               12\n",
       "-                     12\n",
       "Chennai                9\n",
       "Baroda                 8\n",
       "Hyderabad              8\n",
       "Mumbai                 5\n",
       "Pune                   3\n",
       "WFH                    3\n",
       "Kochi                  2\n",
       "Delhi                  2\n",
       "Vadodara               2\n",
       "6.284329004329004      2\n",
       "Varanasi               1\n",
       "Gurgoan                1\n",
       "Noida                  1\n",
       "Name: Location, dtype: int64"
      ]
     },
     "execution_count": 357,
     "metadata": {},
     "output_type": "execute_result"
    }
   ],
   "source": [
    "d2['Location'].value_counts()"
   ]
  },
  {
   "cell_type": "code",
   "execution_count": 358,
   "id": "45bdb595",
   "metadata": {},
   "outputs": [],
   "source": [
    "# replacing missing locations with bangalore as it has the maximum no of locations\n"
   ]
  },
  {
   "cell_type": "code",
   "execution_count": 368,
   "id": "7e0734ea",
   "metadata": {},
   "outputs": [],
   "source": [
    "d2['Location'] = d2['Location'].replace([6.284329004329004],'Bangalore')\n"
   ]
  },
  {
   "cell_type": "code",
   "execution_count": 361,
   "id": "99738902",
   "metadata": {},
   "outputs": [],
   "source": [
    "d2['Location'] = d2['Location'].replace(['-'],'Bangalore')"
   ]
  },
  {
   "cell_type": "code",
   "execution_count": 362,
   "id": "10427f8f",
   "metadata": {},
   "outputs": [
    {
     "data": {
      "text/html": [
       "<div>\n",
       "<style scoped>\n",
       "    .dataframe tbody tr th:only-of-type {\n",
       "        vertical-align: middle;\n",
       "    }\n",
       "\n",
       "    .dataframe tbody tr th {\n",
       "        vertical-align: top;\n",
       "    }\n",
       "\n",
       "    .dataframe thead th {\n",
       "        text-align: right;\n",
       "    }\n",
       "</style>\n",
       "<table border=\"1\" class=\"dataframe\">\n",
       "  <thead>\n",
       "    <tr style=\"text-align: right;\">\n",
       "      <th></th>\n",
       "      <th>Serial #</th>\n",
       "      <th>Batch</th>\n",
       "      <th>Student Name</th>\n",
       "      <th>Gender</th>\n",
       "      <th>Company</th>\n",
       "      <th>CTC in LPA</th>\n",
       "      <th>Location</th>\n",
       "    </tr>\n",
       "  </thead>\n",
       "  <tbody>\n",
       "    <tr>\n",
       "      <th>0</th>\n",
       "      <td>1</td>\n",
       "      <td>Batch 2</td>\n",
       "      <td>Abhirupa Lodh</td>\n",
       "      <td>F</td>\n",
       "      <td>Litmusworld</td>\n",
       "      <td>8.250000</td>\n",
       "      <td>Bangalore</td>\n",
       "    </tr>\n",
       "    <tr>\n",
       "      <th>1</th>\n",
       "      <td>2</td>\n",
       "      <td>Batch 2</td>\n",
       "      <td>Abhishek Reddy Tippani</td>\n",
       "      <td>M</td>\n",
       "      <td>Easy Rewardz</td>\n",
       "      <td>7.950000</td>\n",
       "      <td>Gurgaon</td>\n",
       "    </tr>\n",
       "    <tr>\n",
       "      <th>2</th>\n",
       "      <td>3</td>\n",
       "      <td>Batch 2</td>\n",
       "      <td>Akansha Singh</td>\n",
       "      <td>F</td>\n",
       "      <td>Tara Tech</td>\n",
       "      <td>3.800000</td>\n",
       "      <td>Bangalore</td>\n",
       "    </tr>\n",
       "    <tr>\n",
       "      <th>3</th>\n",
       "      <td>4</td>\n",
       "      <td>Batch 2</td>\n",
       "      <td>Anshul Sagar</td>\n",
       "      <td>M</td>\n",
       "      <td>Outsourced</td>\n",
       "      <td>6.284329</td>\n",
       "      <td>Bangalore</td>\n",
       "    </tr>\n",
       "    <tr>\n",
       "      <th>4</th>\n",
       "      <td>5</td>\n",
       "      <td>Batch 2</td>\n",
       "      <td>Archit Rao</td>\n",
       "      <td>M</td>\n",
       "      <td>Careers360</td>\n",
       "      <td>6.500000</td>\n",
       "      <td>Bangalore</td>\n",
       "    </tr>\n",
       "    <tr>\n",
       "      <th>...</th>\n",
       "      <td>...</td>\n",
       "      <td>...</td>\n",
       "      <td>...</td>\n",
       "      <td>...</td>\n",
       "      <td>...</td>\n",
       "      <td>...</td>\n",
       "      <td>...</td>\n",
       "    </tr>\n",
       "    <tr>\n",
       "      <th>261</th>\n",
       "      <td>262</td>\n",
       "      <td>Batch 10</td>\n",
       "      <td>UJJAWAL SINGH NIRWAN</td>\n",
       "      <td>Male</td>\n",
       "      <td>TVS Credit Services</td>\n",
       "      <td>8.000000</td>\n",
       "      <td>Bangalore</td>\n",
       "    </tr>\n",
       "    <tr>\n",
       "      <th>262</th>\n",
       "      <td>263</td>\n",
       "      <td>Batch 10</td>\n",
       "      <td>ASHWINI PRAKASH</td>\n",
       "      <td>Female</td>\n",
       "      <td>Cognito Analytics</td>\n",
       "      <td>8.000000</td>\n",
       "      <td>Bangalore</td>\n",
       "    </tr>\n",
       "    <tr>\n",
       "      <th>263</th>\n",
       "      <td>264</td>\n",
       "      <td>Batch 10</td>\n",
       "      <td>AARON JUDE D CRUZ</td>\n",
       "      <td>Male</td>\n",
       "      <td>EY India</td>\n",
       "      <td>7.500000</td>\n",
       "      <td>Bangalore</td>\n",
       "    </tr>\n",
       "    <tr>\n",
       "      <th>264</th>\n",
       "      <td>265</td>\n",
       "      <td>Batch 10</td>\n",
       "      <td>SREERAG C</td>\n",
       "      <td>Male</td>\n",
       "      <td>Inference Labs</td>\n",
       "      <td>6.284329</td>\n",
       "      <td>Bangalore</td>\n",
       "    </tr>\n",
       "    <tr>\n",
       "      <th>265</th>\n",
       "      <td>266</td>\n",
       "      <td>Batch 10</td>\n",
       "      <td>YADANNAVAR RISHIKA SANJEEV</td>\n",
       "      <td>Female</td>\n",
       "      <td>-</td>\n",
       "      <td>6.500000</td>\n",
       "      <td>Pune</td>\n",
       "    </tr>\n",
       "  </tbody>\n",
       "</table>\n",
       "<p>266 rows × 7 columns</p>\n",
       "</div>"
      ],
      "text/plain": [
       "     Serial #     Batch                Student Name  Gender  \\\n",
       "0           1   Batch 2               Abhirupa Lodh       F   \n",
       "1           2   Batch 2      Abhishek Reddy Tippani       M   \n",
       "2           3   Batch 2               Akansha Singh       F   \n",
       "3           4   Batch 2                Anshul Sagar       M   \n",
       "4           5   Batch 2                  Archit Rao       M   \n",
       "..        ...       ...                         ...     ...   \n",
       "261       262  Batch 10        UJJAWAL SINGH NIRWAN    Male   \n",
       "262       263  Batch 10             ASHWINI PRAKASH  Female   \n",
       "263       264  Batch 10           AARON JUDE D CRUZ    Male   \n",
       "264       265  Batch 10                   SREERAG C    Male   \n",
       "265       266  Batch 10  YADANNAVAR RISHIKA SANJEEV  Female   \n",
       "\n",
       "                 Company  CTC in LPA   Location  \n",
       "0            Litmusworld    8.250000  Bangalore  \n",
       "1           Easy Rewardz    7.950000    Gurgaon  \n",
       "2              Tara Tech    3.800000  Bangalore  \n",
       "3             Outsourced    6.284329  Bangalore  \n",
       "4             Careers360    6.500000  Bangalore  \n",
       "..                   ...         ...        ...  \n",
       "261  TVS Credit Services    8.000000  Bangalore  \n",
       "262    Cognito Analytics    8.000000  Bangalore  \n",
       "263             EY India    7.500000  Bangalore  \n",
       "264       Inference Labs    6.284329  Bangalore  \n",
       "265                    -    6.500000       Pune  \n",
       "\n",
       "[266 rows x 7 columns]"
      ]
     },
     "execution_count": 362,
     "metadata": {},
     "output_type": "execute_result"
    }
   ],
   "source": [
    "d2"
   ]
  },
  {
   "cell_type": "code",
   "execution_count": 370,
   "id": "a5233adc",
   "metadata": {},
   "outputs": [
    {
     "data": {
      "text/html": [
       "<div>\n",
       "<style scoped>\n",
       "    .dataframe tbody tr th:only-of-type {\n",
       "        vertical-align: middle;\n",
       "    }\n",
       "\n",
       "    .dataframe tbody tr th {\n",
       "        vertical-align: top;\n",
       "    }\n",
       "\n",
       "    .dataframe thead th {\n",
       "        text-align: right;\n",
       "    }\n",
       "</style>\n",
       "<table border=\"1\" class=\"dataframe\">\n",
       "  <thead>\n",
       "    <tr style=\"text-align: right;\">\n",
       "      <th></th>\n",
       "      <th>Serial #</th>\n",
       "      <th>CTC in LPA</th>\n",
       "    </tr>\n",
       "  </thead>\n",
       "  <tbody>\n",
       "    <tr>\n",
       "      <th>count</th>\n",
       "      <td>266.000000</td>\n",
       "      <td>266.000000</td>\n",
       "    </tr>\n",
       "    <tr>\n",
       "      <th>mean</th>\n",
       "      <td>133.500000</td>\n",
       "      <td>6.284329</td>\n",
       "    </tr>\n",
       "    <tr>\n",
       "      <th>std</th>\n",
       "      <td>76.931788</td>\n",
       "      <td>1.837233</td>\n",
       "    </tr>\n",
       "    <tr>\n",
       "      <th>min</th>\n",
       "      <td>1.000000</td>\n",
       "      <td>3.180000</td>\n",
       "    </tr>\n",
       "    <tr>\n",
       "      <th>25%</th>\n",
       "      <td>67.250000</td>\n",
       "      <td>5.000000</td>\n",
       "    </tr>\n",
       "    <tr>\n",
       "      <th>50%</th>\n",
       "      <td>133.500000</td>\n",
       "      <td>6.284329</td>\n",
       "    </tr>\n",
       "    <tr>\n",
       "      <th>75%</th>\n",
       "      <td>199.750000</td>\n",
       "      <td>7.000000</td>\n",
       "    </tr>\n",
       "    <tr>\n",
       "      <th>max</th>\n",
       "      <td>266.000000</td>\n",
       "      <td>20.000000</td>\n",
       "    </tr>\n",
       "  </tbody>\n",
       "</table>\n",
       "</div>"
      ],
      "text/plain": [
       "         Serial #  CTC in LPA\n",
       "count  266.000000  266.000000\n",
       "mean   133.500000    6.284329\n",
       "std     76.931788    1.837233\n",
       "min      1.000000    3.180000\n",
       "25%     67.250000    5.000000\n",
       "50%    133.500000    6.284329\n",
       "75%    199.750000    7.000000\n",
       "max    266.000000   20.000000"
      ]
     },
     "execution_count": 370,
     "metadata": {},
     "output_type": "execute_result"
    }
   ],
   "source": [
    "d2.describe()"
   ]
  },
  {
   "cell_type": "code",
   "execution_count": 374,
   "id": "c31ad84d",
   "metadata": {},
   "outputs": [
    {
     "data": {
      "text/html": [
       "<div>\n",
       "<style scoped>\n",
       "    .dataframe tbody tr th:only-of-type {\n",
       "        vertical-align: middle;\n",
       "    }\n",
       "\n",
       "    .dataframe tbody tr th {\n",
       "        vertical-align: top;\n",
       "    }\n",
       "\n",
       "    .dataframe thead th {\n",
       "        text-align: right;\n",
       "    }\n",
       "</style>\n",
       "<table border=\"1\" class=\"dataframe\">\n",
       "  <thead>\n",
       "    <tr style=\"text-align: right;\">\n",
       "      <th></th>\n",
       "      <th>CTC in LPA</th>\n",
       "    </tr>\n",
       "    <tr>\n",
       "      <th>Location</th>\n",
       "      <th></th>\n",
       "    </tr>\n",
       "  </thead>\n",
       "  <tbody>\n",
       "    <tr>\n",
       "      <th>Bangalore</th>\n",
       "      <td>6.205803</td>\n",
       "    </tr>\n",
       "    <tr>\n",
       "      <th>Baroda</th>\n",
       "      <td>6.156250</td>\n",
       "    </tr>\n",
       "    <tr>\n",
       "      <th>Chennai</th>\n",
       "      <td>8.231111</td>\n",
       "    </tr>\n",
       "    <tr>\n",
       "      <th>Delhi</th>\n",
       "      <td>4.100000</td>\n",
       "    </tr>\n",
       "    <tr>\n",
       "      <th>Gurgaon</th>\n",
       "      <td>7.648694</td>\n",
       "    </tr>\n",
       "    <tr>\n",
       "      <th>Gurgoan</th>\n",
       "      <td>3.200000</td>\n",
       "    </tr>\n",
       "    <tr>\n",
       "      <th>Hyderabad</th>\n",
       "      <td>5.593750</td>\n",
       "    </tr>\n",
       "    <tr>\n",
       "      <th>Kochi</th>\n",
       "      <td>7.130000</td>\n",
       "    </tr>\n",
       "    <tr>\n",
       "      <th>Mumbai</th>\n",
       "      <td>5.330000</td>\n",
       "    </tr>\n",
       "    <tr>\n",
       "      <th>Noida</th>\n",
       "      <td>7.500000</td>\n",
       "    </tr>\n",
       "    <tr>\n",
       "      <th>Pune</th>\n",
       "      <td>6.398110</td>\n",
       "    </tr>\n",
       "    <tr>\n",
       "      <th>Vadodara</th>\n",
       "      <td>6.125000</td>\n",
       "    </tr>\n",
       "    <tr>\n",
       "      <th>Varanasi</th>\n",
       "      <td>3.500000</td>\n",
       "    </tr>\n",
       "    <tr>\n",
       "      <th>WFH</th>\n",
       "      <td>6.666667</td>\n",
       "    </tr>\n",
       "  </tbody>\n",
       "</table>\n",
       "</div>"
      ],
      "text/plain": [
       "           CTC in LPA\n",
       "Location             \n",
       "Bangalore    6.205803\n",
       "Baroda       6.156250\n",
       "Chennai      8.231111\n",
       "Delhi        4.100000\n",
       "Gurgaon      7.648694\n",
       "Gurgoan      3.200000\n",
       "Hyderabad    5.593750\n",
       "Kochi        7.130000\n",
       "Mumbai       5.330000\n",
       "Noida        7.500000\n",
       "Pune         6.398110\n",
       "Vadodara     6.125000\n",
       "Varanasi     3.500000\n",
       "WFH          6.666667"
      ]
     },
     "execution_count": 374,
     "metadata": {},
     "output_type": "execute_result"
    }
   ],
   "source": [
    "d2.groupby('Location').agg({'CTC in LPA':np.mean})"
   ]
  },
  {
   "cell_type": "code",
   "execution_count": 371,
   "id": "30389386",
   "metadata": {},
   "outputs": [
    {
     "data": {
      "text/plain": [
       "Bangalore    209\n",
       "Gurgaon       12\n",
       "Chennai        9\n",
       "Baroda         8\n",
       "Hyderabad      8\n",
       "Mumbai         5\n",
       "Pune           3\n",
       "WFH            3\n",
       "Kochi          2\n",
       "Delhi          2\n",
       "Vadodara       2\n",
       "Varanasi       1\n",
       "Gurgoan        1\n",
       "Noida          1\n",
       "Name: Location, dtype: int64"
      ]
     },
     "execution_count": 371,
     "metadata": {},
     "output_type": "execute_result"
    }
   ],
   "source": [
    "d2['Location'].value_counts()"
   ]
  },
  {
   "cell_type": "code",
   "execution_count": 380,
   "id": "821bbf5f",
   "metadata": {},
   "outputs": [
    {
     "name": "stderr",
     "output_type": "stream",
     "text": [
      "/Library/Frameworks/Python.framework/Versions/3.9/lib/python3.9/site-packages/seaborn/axisgrid.py:337: UserWarning: The `size` parameter has been renamed to `height`; please update your code.\n",
      "  warnings.warn(msg, UserWarning)\n"
     ]
    },
    {
     "data": {
      "text/plain": [
       "<seaborn.axisgrid.FacetGrid at 0x7fceb31a60a0>"
      ]
     },
     "execution_count": 380,
     "metadata": {},
     "output_type": "execute_result"
    },
    {
     "data": {
      "image/png": "[encoded data removed]",
      "text/plain": [
       "<Figure size 16200x720 with 14 Axes>"
      ]
     },
     "metadata": {
      "needs_background": "light"
     },
     "output_type": "display_data"
    }
   ],
   "source": [
    "sns.FacetGrid(col=\"Location\",col_wrap = 25,aspect=0.9,size=10,data =d2).map(plt.scatter,'CTC in LPA','Gender')"
   ]
  },
  {
   "cell_type": "code",
   "execution_count": 390,
   "id": "fa654b29",
   "metadata": {},
   "outputs": [],
   "source": [
    "d2['Gender'] = d2['Gender'].replace(['male','Male'],'M')\n",
    "d2['Gender'] = d2['Gender'].replace(['female','Female','female\\n'],'F')\n"
   ]
  },
  {
   "cell_type": "code",
   "execution_count": 391,
   "id": "743452ac",
   "metadata": {},
   "outputs": [
    {
     "ename": "ValueError",
     "evalue": "The truth value of a Series is ambiguous. Use a.empty, a.bool(), a.item(), a.any() or a.all().",
     "output_type": "error",
     "traceback": [
      "\u001b[0;31m---------------------------------------------------------------------------\u001b[0m",
      "\u001b[0;31mValueError\u001b[0m                                Traceback (most recent call last)",
      "\u001b[0;32m/var/folders/k8/4j5n_hw94_j_k1151xthw9_r0000gn/T/ipykernel_78035/4098559510.py\u001b[0m in \u001b[0;36m<module>\u001b[0;34m\u001b[0m\n\u001b[0;32m----> 1\u001b[0;31m \u001b[0;34m(\u001b[0m\u001b[0;34m(\u001b[0m\u001b[0md2\u001b[0m\u001b[0;34m[\u001b[0m\u001b[0;34m'Gender'\u001b[0m\u001b[0;34m]\u001b[0m \u001b[0;34m!=\u001b[0m \u001b[0;34m'M'\u001b[0m\u001b[0;34m)\u001b[0m \u001b[0;32mand\u001b[0m \u001b[0;34m(\u001b[0m\u001b[0md2\u001b[0m\u001b[0;34m[\u001b[0m\u001b[0;34m'Gender'\u001b[0m\u001b[0;34m]\u001b[0m \u001b[0;34m!=\u001b[0m \u001b[0;34m'F'\u001b[0m\u001b[0;34m)\u001b[0m\u001b[0;34m)\u001b[0m\u001b[0;34m.\u001b[0m\u001b[0many\u001b[0m\u001b[0;34m(\u001b[0m\u001b[0;34m)\u001b[0m\u001b[0;34m\u001b[0m\u001b[0;34m\u001b[0m\u001b[0m\n\u001b[0m",
      "\u001b[0;32m/Library/Frameworks/Python.framework/Versions/3.9/lib/python3.9/site-packages/pandas/core/generic.py\u001b[0m in \u001b[0;36m__nonzero__\u001b[0;34m(self)\u001b[0m\n\u001b[1;32m   1525\u001b[0m     \u001b[0;34m@\u001b[0m\u001b[0mfinal\u001b[0m\u001b[0;34m\u001b[0m\u001b[0;34m\u001b[0m\u001b[0m\n\u001b[1;32m   1526\u001b[0m     \u001b[0;32mdef\u001b[0m \u001b[0m__nonzero__\u001b[0m\u001b[0;34m(\u001b[0m\u001b[0mself\u001b[0m\u001b[0;34m)\u001b[0m\u001b[0;34m:\u001b[0m\u001b[0;34m\u001b[0m\u001b[0;34m\u001b[0m\u001b[0m\n\u001b[0;32m-> 1527\u001b[0;31m         raise ValueError(\n\u001b[0m\u001b[1;32m   1528\u001b[0m             \u001b[0;34mf\"The truth value of a {type(self).__name__} is ambiguous. \"\u001b[0m\u001b[0;34m\u001b[0m\u001b[0;34m\u001b[0m\u001b[0m\n\u001b[1;32m   1529\u001b[0m             \u001b[0;34m\"Use a.empty, a.bool(), a.item(), a.any() or a.all().\"\u001b[0m\u001b[0;34m\u001b[0m\u001b[0;34m\u001b[0m\u001b[0m\n",
      "\u001b[0;31mValueError\u001b[0m: The truth value of a Series is ambiguous. Use a.empty, a.bool(), a.item(), a.any() or a.all()."
     ]
    }
   ],
   "source": [
    "((d2['Gender'] != 'M') and (d2['Gender'] != 'F')).any()"
   ]
  },
  {
   "cell_type": "code",
   "execution_count": 392,
   "id": "b5e0bd7d",
   "metadata": {},
   "outputs": [
    {
     "name": "stderr",
     "output_type": "stream",
     "text": [
      "/Library/Frameworks/Python.framework/Versions/3.9/lib/python3.9/site-packages/seaborn/axisgrid.py:337: UserWarning: The `size` parameter has been renamed to `height`; please update your code.\n",
      "  warnings.warn(msg, UserWarning)\n"
     ]
    },
    {
     "data": {
      "text/plain": [
       "<seaborn.axisgrid.FacetGrid at 0x7fce912e7520>"
      ]
     },
     "execution_count": 392,
     "metadata": {},
     "output_type": "execute_result"
    },
    {
     "data": {
      "image/png": "[encoded data removed]",
      "text/plain": [
       "<Figure size 16200x720 with 14 Axes>"
      ]
     },
     "metadata": {
      "needs_background": "light"
     },
     "output_type": "display_data"
    }
   ],
   "source": [
    "sns.FacetGrid(col=\"Location\",col_wrap = 25,aspect=0.9,size=10,data =d2).map(plt.scatter,'CTC in LPA','Gender')"
   ]
  },
  {
   "cell_type": "code",
   "execution_count": 393,
   "id": "90a03593",
   "metadata": {},
   "outputs": [
    {
     "data": {
      "text/html": [
       "<div>\n",
       "<style scoped>\n",
       "    .dataframe tbody tr th:only-of-type {\n",
       "        vertical-align: middle;\n",
       "    }\n",
       "\n",
       "    .dataframe tbody tr th {\n",
       "        vertical-align: top;\n",
       "    }\n",
       "\n",
       "    .dataframe thead th {\n",
       "        text-align: right;\n",
       "    }\n",
       "</style>\n",
       "<table border=\"1\" class=\"dataframe\">\n",
       "  <thead>\n",
       "    <tr style=\"text-align: right;\">\n",
       "      <th></th>\n",
       "      <th>CTC in LPA</th>\n",
       "    </tr>\n",
       "    <tr>\n",
       "      <th>Gender</th>\n",
       "      <th></th>\n",
       "    </tr>\n",
       "  </thead>\n",
       "  <tbody>\n",
       "    <tr>\n",
       "      <th>F</th>\n",
       "      <td>6.396866</td>\n",
       "    </tr>\n",
       "    <tr>\n",
       "      <th>M</th>\n",
       "      <td>6.244137</td>\n",
       "    </tr>\n",
       "  </tbody>\n",
       "</table>\n",
       "</div>"
      ],
      "text/plain": [
       "        CTC in LPA\n",
       "Gender            \n",
       "F         6.396866\n",
       "M         6.244137"
      ]
     },
     "execution_count": 393,
     "metadata": {},
     "output_type": "execute_result"
    }
   ],
   "source": [
    "d2.groupby('Gender').agg({'CTC in LPA':np.mean})"
   ]
  },
  {
   "cell_type": "code",
   "execution_count": 394,
   "id": "abb387fa",
   "metadata": {},
   "outputs": [
    {
     "data": {
      "text/plain": [
       "M    196\n",
       "F     70\n",
       "Name: Gender, dtype: int64"
      ]
     },
     "execution_count": 394,
     "metadata": {},
     "output_type": "execute_result"
    }
   ],
   "source": [
    "d2.Gender.value_counts()"
   ]
  },
  {
   "cell_type": "code",
   "execution_count": 395,
   "id": "88fad164",
   "metadata": {},
   "outputs": [
    {
     "data": {
      "text/html": [
       "<div>\n",
       "<style scoped>\n",
       "    .dataframe tbody tr th:only-of-type {\n",
       "        vertical-align: middle;\n",
       "    }\n",
       "\n",
       "    .dataframe tbody tr th {\n",
       "        vertical-align: top;\n",
       "    }\n",
       "\n",
       "    .dataframe thead th {\n",
       "        text-align: right;\n",
       "    }\n",
       "</style>\n",
       "<table border=\"1\" class=\"dataframe\">\n",
       "  <thead>\n",
       "    <tr style=\"text-align: right;\">\n",
       "      <th></th>\n",
       "      <th>CTC in LPA</th>\n",
       "    </tr>\n",
       "    <tr>\n",
       "      <th>Batch</th>\n",
       "      <th></th>\n",
       "    </tr>\n",
       "  </thead>\n",
       "  <tbody>\n",
       "    <tr>\n",
       "      <th>Batch 10</th>\n",
       "      <td>6.405275</td>\n",
       "    </tr>\n",
       "    <tr>\n",
       "      <th>Batch 2</th>\n",
       "      <td>6.574581</td>\n",
       "    </tr>\n",
       "    <tr>\n",
       "      <th>Batch 3</th>\n",
       "      <td>6.013539</td>\n",
       "    </tr>\n",
       "    <tr>\n",
       "      <th>Batch 4</th>\n",
       "      <td>5.940984</td>\n",
       "    </tr>\n",
       "    <tr>\n",
       "      <th>Batch 5</th>\n",
       "      <td>4.812500</td>\n",
       "    </tr>\n",
       "    <tr>\n",
       "      <th>Batch 6</th>\n",
       "      <td>6.863158</td>\n",
       "    </tr>\n",
       "    <tr>\n",
       "      <th>Batch 7</th>\n",
       "      <td>6.140685</td>\n",
       "    </tr>\n",
       "    <tr>\n",
       "      <th>Batch 8</th>\n",
       "      <td>5.908592</td>\n",
       "    </tr>\n",
       "    <tr>\n",
       "      <th>Batch 9</th>\n",
       "      <td>8.026907</td>\n",
       "    </tr>\n",
       "  </tbody>\n",
       "</table>\n",
       "</div>"
      ],
      "text/plain": [
       "          CTC in LPA\n",
       "Batch               \n",
       "Batch 10    6.405275\n",
       "Batch 2     6.574581\n",
       "Batch 3     6.013539\n",
       "Batch 4     5.940984\n",
       "Batch 5     4.812500\n",
       "Batch 6     6.863158\n",
       "Batch 7     6.140685\n",
       "Batch 8     5.908592\n",
       "Batch 9     8.026907"
      ]
     },
     "execution_count": 395,
     "metadata": {},
     "output_type": "execute_result"
    }
   ],
   "source": [
    "d2.groupby('Batch').agg({'CTC in LPA':np.mean})"
   ]
  },
  {
   "cell_type": "code",
   "execution_count": 399,
   "id": "56a2f9d1",
   "metadata": {},
   "outputs": [
    {
     "data": {
      "text/html": [
       "<div>\n",
       "<style scoped>\n",
       "    .dataframe tbody tr th:only-of-type {\n",
       "        vertical-align: middle;\n",
       "    }\n",
       "\n",
       "    .dataframe tbody tr th {\n",
       "        vertical-align: top;\n",
       "    }\n",
       "\n",
       "    .dataframe thead th {\n",
       "        text-align: right;\n",
       "    }\n",
       "</style>\n",
       "<table border=\"1\" class=\"dataframe\">\n",
       "  <thead>\n",
       "    <tr style=\"text-align: right;\">\n",
       "      <th></th>\n",
       "      <th>CTC in LPA</th>\n",
       "      <th>Company</th>\n",
       "    </tr>\n",
       "    <tr>\n",
       "      <th>Batch</th>\n",
       "      <th></th>\n",
       "      <th></th>\n",
       "    </tr>\n",
       "  </thead>\n",
       "  <tbody>\n",
       "    <tr>\n",
       "      <th>Batch 10</th>\n",
       "      <td>6.405275</td>\n",
       "      <td>29</td>\n",
       "    </tr>\n",
       "    <tr>\n",
       "      <th>Batch 2</th>\n",
       "      <td>6.574581</td>\n",
       "      <td>39</td>\n",
       "    </tr>\n",
       "    <tr>\n",
       "      <th>Batch 3</th>\n",
       "      <td>6.013539</td>\n",
       "      <td>21</td>\n",
       "    </tr>\n",
       "    <tr>\n",
       "      <th>Batch 4</th>\n",
       "      <td>5.940984</td>\n",
       "      <td>61</td>\n",
       "    </tr>\n",
       "    <tr>\n",
       "      <th>Batch 5</th>\n",
       "      <td>4.812500</td>\n",
       "      <td>8</td>\n",
       "    </tr>\n",
       "    <tr>\n",
       "      <th>Batch 6</th>\n",
       "      <td>6.863158</td>\n",
       "      <td>19</td>\n",
       "    </tr>\n",
       "    <tr>\n",
       "      <th>Batch 7</th>\n",
       "      <td>6.140685</td>\n",
       "      <td>34</td>\n",
       "    </tr>\n",
       "    <tr>\n",
       "      <th>Batch 8</th>\n",
       "      <td>5.908592</td>\n",
       "      <td>37</td>\n",
       "    </tr>\n",
       "    <tr>\n",
       "      <th>Batch 9</th>\n",
       "      <td>8.026907</td>\n",
       "      <td>18</td>\n",
       "    </tr>\n",
       "  </tbody>\n",
       "</table>\n",
       "</div>"
      ],
      "text/plain": [
       "          CTC in LPA  Company\n",
       "Batch                        \n",
       "Batch 10    6.405275       29\n",
       "Batch 2     6.574581       39\n",
       "Batch 3     6.013539       21\n",
       "Batch 4     5.940984       61\n",
       "Batch 5     4.812500        8\n",
       "Batch 6     6.863158       19\n",
       "Batch 7     6.140685       34\n",
       "Batch 8     5.908592       37\n",
       "Batch 9     8.026907       18"
      ]
     },
     "execution_count": 399,
     "metadata": {},
     "output_type": "execute_result"
    }
   ],
   "source": [
    "d2.groupby('Batch').agg({'CTC in LPA':np.mean,'Company':np.size})"
   ]
  },
  {
   "cell_type": "markdown",
   "id": "c3abec73",
   "metadata": {},
   "source": [
    "d3 = d2.groupby('Batch').agg({'CTC in LPA':np.mean,'Company':np.size})"
   ]
  },
  {
   "cell_type": "code",
   "execution_count": 403,
   "id": "b8cecf0c",
   "metadata": {},
   "outputs": [
    {
     "ename": "KeyError",
     "evalue": "'Batch'",
     "output_type": "error",
     "traceback": [
      "\u001b[0;31m---------------------------------------------------------------------------\u001b[0m",
      "\u001b[0;31mKeyError\u001b[0m                                  Traceback (most recent call last)",
      "\u001b[0;32m/Library/Frameworks/Python.framework/Versions/3.9/lib/python3.9/site-packages/pandas/core/indexes/base.py\u001b[0m in \u001b[0;36mget_loc\u001b[0;34m(self, key, method, tolerance)\u001b[0m\n\u001b[1;32m   3620\u001b[0m             \u001b[0;32mtry\u001b[0m\u001b[0;34m:\u001b[0m\u001b[0;34m\u001b[0m\u001b[0;34m\u001b[0m\u001b[0m\n\u001b[0;32m-> 3621\u001b[0;31m                 \u001b[0;32mreturn\u001b[0m \u001b[0mself\u001b[0m\u001b[0;34m.\u001b[0m\u001b[0m_engine\u001b[0m\u001b[0;34m.\u001b[0m\u001b[0mget_loc\u001b[0m\u001b[0;34m(\u001b[0m\u001b[0mcasted_key\u001b[0m\u001b[0;34m)\u001b[0m\u001b[0;34m\u001b[0m\u001b[0;34m\u001b[0m\u001b[0m\n\u001b[0m\u001b[1;32m   3622\u001b[0m             \u001b[0;32mexcept\u001b[0m \u001b[0mKeyError\u001b[0m \u001b[0;32mas\u001b[0m \u001b[0merr\u001b[0m\u001b[0;34m:\u001b[0m\u001b[0;34m\u001b[0m\u001b[0;34m\u001b[0m\u001b[0m\n",
      "\u001b[0;32mpandas/_libs/index.pyx\u001b[0m in \u001b[0;36mpandas._libs.index.IndexEngine.get_loc\u001b[0;34m()\u001b[0m\n",
      "\u001b[0;32mpandas/_libs/index.pyx\u001b[0m in \u001b[0;36mpandas._libs.index.IndexEngine.get_loc\u001b[0;34m()\u001b[0m\n",
      "\u001b[0;32mpandas/_libs/hashtable_class_helper.pxi\u001b[0m in \u001b[0;36mpandas._libs.hashtable.PyObjectHashTable.get_item\u001b[0;34m()\u001b[0m\n",
      "\u001b[0;32mpandas/_libs/hashtable_class_helper.pxi\u001b[0m in \u001b[0;36mpandas._libs.hashtable.PyObjectHashTable.get_item\u001b[0;34m()\u001b[0m\n",
      "\u001b[0;31mKeyError\u001b[0m: 'Batch'",
      "\nThe above exception was the direct cause of the following exception:\n",
      "\u001b[0;31mKeyError\u001b[0m                                  Traceback (most recent call last)",
      "\u001b[0;32m/var/folders/k8/4j5n_hw94_j_k1151xthw9_r0000gn/T/ipykernel_78035/3377514699.py\u001b[0m in \u001b[0;36m<module>\u001b[0;34m\u001b[0m\n\u001b[0;32m----> 1\u001b[0;31m \u001b[0md3\u001b[0m\u001b[0;34m.\u001b[0m\u001b[0mplot\u001b[0m\u001b[0;34m.\u001b[0m\u001b[0mbar\u001b[0m\u001b[0;34m(\u001b[0m\u001b[0mx\u001b[0m\u001b[0;34m=\u001b[0m\u001b[0;34m'Batch'\u001b[0m\u001b[0;34m,\u001b[0m\u001b[0my\u001b[0m \u001b[0;34m=\u001b[0m\u001b[0;34m'CTC in LPA'\u001b[0m\u001b[0;34m)\u001b[0m\u001b[0;34m\u001b[0m\u001b[0;34m\u001b[0m\u001b[0m\n\u001b[0m",
      "\u001b[0;32m/Library/Frameworks/Python.framework/Versions/3.9/lib/python3.9/site-packages/pandas/plotting/_core.py\u001b[0m in \u001b[0;36mbar\u001b[0;34m(self, x, y, **kwargs)\u001b[0m\n\u001b[1;32m   1129\u001b[0m         \u001b[0mother\u001b[0m \u001b[0maxis\u001b[0m \u001b[0mrepresents\u001b[0m \u001b[0ma\u001b[0m \u001b[0mmeasured\u001b[0m \u001b[0mvalue\u001b[0m\u001b[0;34m.\u001b[0m\u001b[0;34m\u001b[0m\u001b[0;34m\u001b[0m\u001b[0m\n\u001b[1;32m   1130\u001b[0m         \"\"\"\n\u001b[0;32m-> 1131\u001b[0;31m         \u001b[0;32mreturn\u001b[0m \u001b[0mself\u001b[0m\u001b[0;34m(\u001b[0m\u001b[0mkind\u001b[0m\u001b[0;34m=\u001b[0m\u001b[0;34m\"bar\"\u001b[0m\u001b[0;34m,\u001b[0m \u001b[0mx\u001b[0m\u001b[0;34m=\u001b[0m\u001b[0mx\u001b[0m\u001b[0;34m,\u001b[0m \u001b[0my\u001b[0m\u001b[0;34m=\u001b[0m\u001b[0my\u001b[0m\u001b[0;34m,\u001b[0m \u001b[0;34m**\u001b[0m\u001b[0mkwargs\u001b[0m\u001b[0;34m)\u001b[0m\u001b[0;34m\u001b[0m\u001b[0;34m\u001b[0m\u001b[0m\n\u001b[0m\u001b[1;32m   1132\u001b[0m \u001b[0;34m\u001b[0m\u001b[0m\n\u001b[1;32m   1133\u001b[0m     @Appender(\n",
      "\u001b[0;32m/Library/Frameworks/Python.framework/Versions/3.9/lib/python3.9/site-packages/pandas/plotting/_core.py\u001b[0m in \u001b[0;36m__call__\u001b[0;34m(self, *args, **kwargs)\u001b[0m\n\u001b[1;32m    935\u001b[0m                 \u001b[0;32mif\u001b[0m \u001b[0mis_integer\u001b[0m\u001b[0;34m(\u001b[0m\u001b[0mx\u001b[0m\u001b[0;34m)\u001b[0m \u001b[0;32mand\u001b[0m \u001b[0;32mnot\u001b[0m \u001b[0mdata\u001b[0m\u001b[0;34m.\u001b[0m\u001b[0mcolumns\u001b[0m\u001b[0;34m.\u001b[0m\u001b[0mholds_integer\u001b[0m\u001b[0;34m(\u001b[0m\u001b[0;34m)\u001b[0m\u001b[0;34m:\u001b[0m\u001b[0;34m\u001b[0m\u001b[0;34m\u001b[0m\u001b[0m\n\u001b[1;32m    936\u001b[0m                     \u001b[0mx\u001b[0m \u001b[0;34m=\u001b[0m \u001b[0mdata_cols\u001b[0m\u001b[0;34m[\u001b[0m\u001b[0mx\u001b[0m\u001b[0;34m]\u001b[0m\u001b[0;34m\u001b[0m\u001b[0;34m\u001b[0m\u001b[0m\n\u001b[0;32m--> 937\u001b[0;31m                 \u001b[0;32melif\u001b[0m \u001b[0;32mnot\u001b[0m \u001b[0misinstance\u001b[0m\u001b[0;34m(\u001b[0m\u001b[0mdata\u001b[0m\u001b[0;34m[\u001b[0m\u001b[0mx\u001b[0m\u001b[0;34m]\u001b[0m\u001b[0;34m,\u001b[0m \u001b[0mABCSeries\u001b[0m\u001b[0;34m)\u001b[0m\u001b[0;34m:\u001b[0m\u001b[0;34m\u001b[0m\u001b[0;34m\u001b[0m\u001b[0m\n\u001b[0m\u001b[1;32m    938\u001b[0m                     \u001b[0;32mraise\u001b[0m \u001b[0mValueError\u001b[0m\u001b[0;34m(\u001b[0m\u001b[0;34m\"x must be a label or position\"\u001b[0m\u001b[0;34m)\u001b[0m\u001b[0;34m\u001b[0m\u001b[0;34m\u001b[0m\u001b[0m\n\u001b[1;32m    939\u001b[0m                 \u001b[0mdata\u001b[0m \u001b[0;34m=\u001b[0m \u001b[0mdata\u001b[0m\u001b[0;34m.\u001b[0m\u001b[0mset_index\u001b[0m\u001b[0;34m(\u001b[0m\u001b[0mx\u001b[0m\u001b[0;34m)\u001b[0m\u001b[0;34m\u001b[0m\u001b[0;34m\u001b[0m\u001b[0m\n",
      "\u001b[0;32m/Library/Frameworks/Python.framework/Versions/3.9/lib/python3.9/site-packages/pandas/core/frame.py\u001b[0m in \u001b[0;36m__getitem__\u001b[0;34m(self, key)\u001b[0m\n\u001b[1;32m   3503\u001b[0m             \u001b[0;32mif\u001b[0m \u001b[0mself\u001b[0m\u001b[0;34m.\u001b[0m\u001b[0mcolumns\u001b[0m\u001b[0;34m.\u001b[0m\u001b[0mnlevels\u001b[0m \u001b[0;34m>\u001b[0m \u001b[0;36m1\u001b[0m\u001b[0;34m:\u001b[0m\u001b[0;34m\u001b[0m\u001b[0;34m\u001b[0m\u001b[0m\n\u001b[1;32m   3504\u001b[0m                 \u001b[0;32mreturn\u001b[0m \u001b[0mself\u001b[0m\u001b[0;34m.\u001b[0m\u001b[0m_getitem_multilevel\u001b[0m\u001b[0;34m(\u001b[0m\u001b[0mkey\u001b[0m\u001b[0;34m)\u001b[0m\u001b[0;34m\u001b[0m\u001b[0;34m\u001b[0m\u001b[0m\n\u001b[0;32m-> 3505\u001b[0;31m             \u001b[0mindexer\u001b[0m \u001b[0;34m=\u001b[0m \u001b[0mself\u001b[0m\u001b[0;34m.\u001b[0m\u001b[0mcolumns\u001b[0m\u001b[0;34m.\u001b[0m\u001b[0mget_loc\u001b[0m\u001b[0;34m(\u001b[0m\u001b[0mkey\u001b[0m\u001b[0;34m)\u001b[0m\u001b[0;34m\u001b[0m\u001b[0;34m\u001b[0m\u001b[0m\n\u001b[0m\u001b[1;32m   3506\u001b[0m             \u001b[0;32mif\u001b[0m \u001b[0mis_integer\u001b[0m\u001b[0;34m(\u001b[0m\u001b[0mindexer\u001b[0m\u001b[0;34m)\u001b[0m\u001b[0;34m:\u001b[0m\u001b[0;34m\u001b[0m\u001b[0;34m\u001b[0m\u001b[0m\n\u001b[1;32m   3507\u001b[0m                 \u001b[0mindexer\u001b[0m \u001b[0;34m=\u001b[0m \u001b[0;34m[\u001b[0m\u001b[0mindexer\u001b[0m\u001b[0;34m]\u001b[0m\u001b[0;34m\u001b[0m\u001b[0;34m\u001b[0m\u001b[0m\n",
      "\u001b[0;32m/Library/Frameworks/Python.framework/Versions/3.9/lib/python3.9/site-packages/pandas/core/indexes/base.py\u001b[0m in \u001b[0;36mget_loc\u001b[0;34m(self, key, method, tolerance)\u001b[0m\n\u001b[1;32m   3621\u001b[0m                 \u001b[0;32mreturn\u001b[0m \u001b[0mself\u001b[0m\u001b[0;34m.\u001b[0m\u001b[0m_engine\u001b[0m\u001b[0;34m.\u001b[0m\u001b[0mget_loc\u001b[0m\u001b[0;34m(\u001b[0m\u001b[0mcasted_key\u001b[0m\u001b[0;34m)\u001b[0m\u001b[0;34m\u001b[0m\u001b[0;34m\u001b[0m\u001b[0m\n\u001b[1;32m   3622\u001b[0m             \u001b[0;32mexcept\u001b[0m \u001b[0mKeyError\u001b[0m \u001b[0;32mas\u001b[0m \u001b[0merr\u001b[0m\u001b[0;34m:\u001b[0m\u001b[0;34m\u001b[0m\u001b[0;34m\u001b[0m\u001b[0m\n\u001b[0;32m-> 3623\u001b[0;31m                 \u001b[0;32mraise\u001b[0m \u001b[0mKeyError\u001b[0m\u001b[0;34m(\u001b[0m\u001b[0mkey\u001b[0m\u001b[0;34m)\u001b[0m \u001b[0;32mfrom\u001b[0m \u001b[0merr\u001b[0m\u001b[0;34m\u001b[0m\u001b[0;34m\u001b[0m\u001b[0m\n\u001b[0m\u001b[1;32m   3624\u001b[0m             \u001b[0;32mexcept\u001b[0m \u001b[0mTypeError\u001b[0m\u001b[0;34m:\u001b[0m\u001b[0;34m\u001b[0m\u001b[0;34m\u001b[0m\u001b[0m\n\u001b[1;32m   3625\u001b[0m                 \u001b[0;31m# If we have a listlike key, _check_indexing_error will raise\u001b[0m\u001b[0;34m\u001b[0m\u001b[0;34m\u001b[0m\u001b[0;34m\u001b[0m\u001b[0m\n",
      "\u001b[0;31mKeyError\u001b[0m: 'Batch'"
     ]
    }
   ],
   "source": [
    "d3.plot.bar(x='Batch',y ='CTC in LPA')"
   ]
  },
  {
   "cell_type": "code",
   "execution_count": 402,
   "id": "56ffeb48",
   "metadata": {},
   "outputs": [],
   "source": [
    "d3 = d2.groupby('Batch').agg({'CTC in LPA':np.mean,'Company':np.size})"
   ]
  },
  {
   "cell_type": "code",
   "execution_count": 406,
   "id": "f04477b2",
   "metadata": {},
   "outputs": [
    {
     "data": {
      "text/html": [
       "<div>\n",
       "<style scoped>\n",
       "    .dataframe tbody tr th:only-of-type {\n",
       "        vertical-align: middle;\n",
       "    }\n",
       "\n",
       "    .dataframe tbody tr th {\n",
       "        vertical-align: top;\n",
       "    }\n",
       "\n",
       "    .dataframe thead th {\n",
       "        text-align: right;\n",
       "    }\n",
       "</style>\n",
       "<table border=\"1\" class=\"dataframe\">\n",
       "  <thead>\n",
       "    <tr style=\"text-align: right;\">\n",
       "      <th></th>\n",
       "      <th>CTC in LPA</th>\n",
       "      <th>Company</th>\n",
       "    </tr>\n",
       "    <tr>\n",
       "      <th>Batch</th>\n",
       "      <th></th>\n",
       "      <th></th>\n",
       "    </tr>\n",
       "  </thead>\n",
       "  <tbody>\n",
       "    <tr>\n",
       "      <th>Batch 10</th>\n",
       "      <td>6.405275</td>\n",
       "      <td>29</td>\n",
       "    </tr>\n",
       "    <tr>\n",
       "      <th>Batch 2</th>\n",
       "      <td>6.574581</td>\n",
       "      <td>39</td>\n",
       "    </tr>\n",
       "    <tr>\n",
       "      <th>Batch 3</th>\n",
       "      <td>6.013539</td>\n",
       "      <td>21</td>\n",
       "    </tr>\n",
       "    <tr>\n",
       "      <th>Batch 4</th>\n",
       "      <td>5.940984</td>\n",
       "      <td>61</td>\n",
       "    </tr>\n",
       "    <tr>\n",
       "      <th>Batch 5</th>\n",
       "      <td>4.812500</td>\n",
       "      <td>8</td>\n",
       "    </tr>\n",
       "    <tr>\n",
       "      <th>Batch 6</th>\n",
       "      <td>6.863158</td>\n",
       "      <td>19</td>\n",
       "    </tr>\n",
       "    <tr>\n",
       "      <th>Batch 7</th>\n",
       "      <td>6.140685</td>\n",
       "      <td>34</td>\n",
       "    </tr>\n",
       "    <tr>\n",
       "      <th>Batch 8</th>\n",
       "      <td>5.908592</td>\n",
       "      <td>37</td>\n",
       "    </tr>\n",
       "    <tr>\n",
       "      <th>Batch 9</th>\n",
       "      <td>8.026907</td>\n",
       "      <td>18</td>\n",
       "    </tr>\n",
       "  </tbody>\n",
       "</table>\n",
       "</div>"
      ],
      "text/plain": [
       "          CTC in LPA  Company\n",
       "Batch                        \n",
       "Batch 10    6.405275       29\n",
       "Batch 2     6.574581       39\n",
       "Batch 3     6.013539       21\n",
       "Batch 4     5.940984       61\n",
       "Batch 5     4.812500        8\n",
       "Batch 6     6.863158       19\n",
       "Batch 7     6.140685       34\n",
       "Batch 8     5.908592       37\n",
       "Batch 9     8.026907       18"
      ]
     },
     "execution_count": 406,
     "metadata": {},
     "output_type": "execute_result"
    }
   ],
   "source": [
    "d3"
   ]
  },
  {
   "cell_type": "code",
   "execution_count": 410,
   "id": "fc7a89d7",
   "metadata": {},
   "outputs": [
    {
     "data": {
      "text/html": [
       "<div>\n",
       "<style scoped>\n",
       "    .dataframe tbody tr th:only-of-type {\n",
       "        vertical-align: middle;\n",
       "    }\n",
       "\n",
       "    .dataframe tbody tr th {\n",
       "        vertical-align: top;\n",
       "    }\n",
       "\n",
       "    .dataframe thead th {\n",
       "        text-align: right;\n",
       "    }\n",
       "</style>\n",
       "<table border=\"1\" class=\"dataframe\">\n",
       "  <thead>\n",
       "    <tr style=\"text-align: right;\">\n",
       "      <th></th>\n",
       "      <th>Serial #</th>\n",
       "      <th>Batch</th>\n",
       "      <th>Student Name</th>\n",
       "      <th>Gender</th>\n",
       "      <th>Company</th>\n",
       "      <th>CTC in LPA</th>\n",
       "      <th>Location</th>\n",
       "    </tr>\n",
       "  </thead>\n",
       "  <tbody>\n",
       "    <tr>\n",
       "      <th>219</th>\n",
       "      <td>220</td>\n",
       "      <td>Batch 9</td>\n",
       "      <td>AAKASH VERMA</td>\n",
       "      <td>M</td>\n",
       "      <td>Trigent Softwares</td>\n",
       "      <td>20.0</td>\n",
       "      <td>Bangalore</td>\n",
       "    </tr>\n",
       "    <tr>\n",
       "      <th>93</th>\n",
       "      <td>94</td>\n",
       "      <td>Batch 4</td>\n",
       "      <td>Apoorva Kesarwani</td>\n",
       "      <td>F</td>\n",
       "      <td>Amazon</td>\n",
       "      <td>12.0</td>\n",
       "      <td>Chennai</td>\n",
       "    </tr>\n",
       "    <tr>\n",
       "      <th>97</th>\n",
       "      <td>98</td>\n",
       "      <td>Batch 4</td>\n",
       "      <td>Srikanth Narapusetty</td>\n",
       "      <td>M</td>\n",
       "      <td>Amazon</td>\n",
       "      <td>12.0</td>\n",
       "      <td>Chennai</td>\n",
       "    </tr>\n",
       "    <tr>\n",
       "      <th>96</th>\n",
       "      <td>97</td>\n",
       "      <td>Batch 4</td>\n",
       "      <td>Sreshtha Sinha Roy</td>\n",
       "      <td>M</td>\n",
       "      <td>Amazon</td>\n",
       "      <td>12.0</td>\n",
       "      <td>Chennai</td>\n",
       "    </tr>\n",
       "    <tr>\n",
       "      <th>222</th>\n",
       "      <td>223</td>\n",
       "      <td>Batch 9</td>\n",
       "      <td>BASABDATTA RAY</td>\n",
       "      <td>F</td>\n",
       "      <td>Accionlabs</td>\n",
       "      <td>12.0</td>\n",
       "      <td>Bangalore</td>\n",
       "    </tr>\n",
       "  </tbody>\n",
       "</table>\n",
       "</div>"
      ],
      "text/plain": [
       "     Serial #    Batch          Student Name Gender            Company  \\\n",
       "219       220  Batch 9          AAKASH VERMA      M  Trigent Softwares   \n",
       "93         94  Batch 4     Apoorva Kesarwani      F             Amazon   \n",
       "97         98  Batch 4  Srikanth Narapusetty      M             Amazon   \n",
       "96         97  Batch 4    Sreshtha Sinha Roy      M             Amazon   \n",
       "222       223  Batch 9        BASABDATTA RAY      F         Accionlabs   \n",
       "\n",
       "     CTC in LPA   Location  \n",
       "219        20.0  Bangalore  \n",
       "93         12.0    Chennai  \n",
       "97         12.0    Chennai  \n",
       "96         12.0    Chennai  \n",
       "222        12.0  Bangalore  "
      ]
     },
     "execution_count": 410,
     "metadata": {},
     "output_type": "execute_result"
    }
   ],
   "source": [
    "d2.sort_values('CTC in LPA',ascending = False).head(5)"
   ]
  },
  {
   "cell_type": "code",
   "execution_count": 411,
   "id": "1d65927f",
   "metadata": {},
   "outputs": [],
   "source": []
  },
  {
   "cell_type": "code",
   "execution_count": 412,
   "id": "451011fb",
   "metadata": {},
   "outputs": [],
   "source": []
  },
  {
   "cell_type": "code",
   "execution_count": 419,
   "id": "b3581a4a",
   "metadata": {},
   "outputs": [
    {
     "ename": "TypeError",
     "evalue": "unhashable type: 'numpy.ndarray'",
     "output_type": "error",
     "traceback": [
      "\u001b[0;31m---------------------------------------------------------------------------\u001b[0m",
      "\u001b[0;31mTypeError\u001b[0m                                 Traceback (most recent call last)",
      "\u001b[0;32m/var/folders/k8/4j5n_hw94_j_k1151xthw9_r0000gn/T/ipykernel_78035/1591193354.py\u001b[0m in \u001b[0;36m<module>\u001b[0;34m\u001b[0m\n\u001b[0;32m----> 1\u001b[0;31m \u001b[0mplt\u001b[0m\u001b[0;34m.\u001b[0m\u001b[0mplot\u001b[0m\u001b[0;34m(\u001b[0m\u001b[0ml1\u001b[0m\u001b[0;34m,\u001b[0m\u001b[0ml2\u001b[0m\u001b[0;34m)\u001b[0m\u001b[0;34m\u001b[0m\u001b[0;34m\u001b[0m\u001b[0m\n\u001b[0m",
      "\u001b[0;32m/Library/Frameworks/Python.framework/Versions/3.9/lib/python3.9/site-packages/matplotlib/pyplot.py\u001b[0m in \u001b[0;36mplot\u001b[0;34m(scalex, scaley, data, *args, **kwargs)\u001b[0m\n\u001b[1;32m   2767\u001b[0m \u001b[0;34m@\u001b[0m\u001b[0m_copy_docstring_and_deprecators\u001b[0m\u001b[0;34m(\u001b[0m\u001b[0mAxes\u001b[0m\u001b[0;34m.\u001b[0m\u001b[0mplot\u001b[0m\u001b[0;34m)\u001b[0m\u001b[0;34m\u001b[0m\u001b[0;34m\u001b[0m\u001b[0m\n\u001b[1;32m   2768\u001b[0m \u001b[0;32mdef\u001b[0m \u001b[0mplot\u001b[0m\u001b[0;34m(\u001b[0m\u001b[0;34m*\u001b[0m\u001b[0margs\u001b[0m\u001b[0;34m,\u001b[0m \u001b[0mscalex\u001b[0m\u001b[0;34m=\u001b[0m\u001b[0;32mTrue\u001b[0m\u001b[0;34m,\u001b[0m \u001b[0mscaley\u001b[0m\u001b[0;34m=\u001b[0m\u001b[0;32mTrue\u001b[0m\u001b[0;34m,\u001b[0m \u001b[0mdata\u001b[0m\u001b[0;34m=\u001b[0m\u001b[0;32mNone\u001b[0m\u001b[0;34m,\u001b[0m \u001b[0;34m**\u001b[0m\u001b[0mkwargs\u001b[0m\u001b[0;34m)\u001b[0m\u001b[0;34m:\u001b[0m\u001b[0;34m\u001b[0m\u001b[0;34m\u001b[0m\u001b[0m\n\u001b[0;32m-> 2769\u001b[0;31m     return gca().plot(\n\u001b[0m\u001b[1;32m   2770\u001b[0m         \u001b[0;34m*\u001b[0m\u001b[0margs\u001b[0m\u001b[0;34m,\u001b[0m \u001b[0mscalex\u001b[0m\u001b[0;34m=\u001b[0m\u001b[0mscalex\u001b[0m\u001b[0;34m,\u001b[0m \u001b[0mscaley\u001b[0m\u001b[0;34m=\u001b[0m\u001b[0mscaley\u001b[0m\u001b[0;34m,\u001b[0m\u001b[0;34m\u001b[0m\u001b[0;34m\u001b[0m\u001b[0m\n\u001b[1;32m   2771\u001b[0m         **({\"data\": data} if data is not None else {}), **kwargs)\n",
      "\u001b[0;32m/Library/Frameworks/Python.framework/Versions/3.9/lib/python3.9/site-packages/matplotlib/axes/_axes.py\u001b[0m in \u001b[0;36mplot\u001b[0;34m(self, scalex, scaley, data, *args, **kwargs)\u001b[0m\n\u001b[1;32m   1630\u001b[0m         \"\"\"\n\u001b[1;32m   1631\u001b[0m         \u001b[0mkwargs\u001b[0m \u001b[0;34m=\u001b[0m \u001b[0mcbook\u001b[0m\u001b[0;34m.\u001b[0m\u001b[0mnormalize_kwargs\u001b[0m\u001b[0;34m(\u001b[0m\u001b[0mkwargs\u001b[0m\u001b[0;34m,\u001b[0m \u001b[0mmlines\u001b[0m\u001b[0;34m.\u001b[0m\u001b[0mLine2D\u001b[0m\u001b[0;34m)\u001b[0m\u001b[0;34m\u001b[0m\u001b[0;34m\u001b[0m\u001b[0m\n\u001b[0;32m-> 1632\u001b[0;31m         \u001b[0mlines\u001b[0m \u001b[0;34m=\u001b[0m \u001b[0;34m[\u001b[0m\u001b[0;34m*\u001b[0m\u001b[0mself\u001b[0m\u001b[0;34m.\u001b[0m\u001b[0m_get_lines\u001b[0m\u001b[0;34m(\u001b[0m\u001b[0;34m*\u001b[0m\u001b[0margs\u001b[0m\u001b[0;34m,\u001b[0m \u001b[0mdata\u001b[0m\u001b[0;34m=\u001b[0m\u001b[0mdata\u001b[0m\u001b[0;34m,\u001b[0m \u001b[0;34m**\u001b[0m\u001b[0mkwargs\u001b[0m\u001b[0;34m)\u001b[0m\u001b[0;34m]\u001b[0m\u001b[0;34m\u001b[0m\u001b[0;34m\u001b[0m\u001b[0m\n\u001b[0m\u001b[1;32m   1633\u001b[0m         \u001b[0;32mfor\u001b[0m \u001b[0mline\u001b[0m \u001b[0;32min\u001b[0m \u001b[0mlines\u001b[0m\u001b[0;34m:\u001b[0m\u001b[0;34m\u001b[0m\u001b[0;34m\u001b[0m\u001b[0m\n\u001b[1;32m   1634\u001b[0m             \u001b[0mself\u001b[0m\u001b[0;34m.\u001b[0m\u001b[0madd_line\u001b[0m\u001b[0;34m(\u001b[0m\u001b[0mline\u001b[0m\u001b[0;34m)\u001b[0m\u001b[0;34m\u001b[0m\u001b[0;34m\u001b[0m\u001b[0m\n",
      "\u001b[0;32m/Library/Frameworks/Python.framework/Versions/3.9/lib/python3.9/site-packages/matplotlib/axes/_base.py\u001b[0m in \u001b[0;36m__call__\u001b[0;34m(self, data, *args, **kwargs)\u001b[0m\n\u001b[1;32m    310\u001b[0m                 \u001b[0mthis\u001b[0m \u001b[0;34m+=\u001b[0m \u001b[0margs\u001b[0m\u001b[0;34m[\u001b[0m\u001b[0;36m0\u001b[0m\u001b[0;34m]\u001b[0m\u001b[0;34m,\u001b[0m\u001b[0;34m\u001b[0m\u001b[0;34m\u001b[0m\u001b[0m\n\u001b[1;32m    311\u001b[0m                 \u001b[0margs\u001b[0m \u001b[0;34m=\u001b[0m \u001b[0margs\u001b[0m\u001b[0;34m[\u001b[0m\u001b[0;36m1\u001b[0m\u001b[0;34m:\u001b[0m\u001b[0;34m]\u001b[0m\u001b[0;34m\u001b[0m\u001b[0;34m\u001b[0m\u001b[0m\n\u001b[0;32m--> 312\u001b[0;31m             \u001b[0;32myield\u001b[0m \u001b[0;32mfrom\u001b[0m \u001b[0mself\u001b[0m\u001b[0;34m.\u001b[0m\u001b[0m_plot_args\u001b[0m\u001b[0;34m(\u001b[0m\u001b[0mthis\u001b[0m\u001b[0;34m,\u001b[0m \u001b[0mkwargs\u001b[0m\u001b[0;34m)\u001b[0m\u001b[0;34m\u001b[0m\u001b[0;34m\u001b[0m\u001b[0m\n\u001b[0m\u001b[1;32m    313\u001b[0m \u001b[0;34m\u001b[0m\u001b[0m\n\u001b[1;32m    314\u001b[0m     \u001b[0;32mdef\u001b[0m \u001b[0mget_next_color\u001b[0m\u001b[0;34m(\u001b[0m\u001b[0mself\u001b[0m\u001b[0;34m)\u001b[0m\u001b[0;34m:\u001b[0m\u001b[0;34m\u001b[0m\u001b[0;34m\u001b[0m\u001b[0m\n",
      "\u001b[0;32m/Library/Frameworks/Python.framework/Versions/3.9/lib/python3.9/site-packages/matplotlib/axes/_base.py\u001b[0m in \u001b[0;36m_plot_args\u001b[0;34m(self, tup, kwargs, return_kwargs)\u001b[0m\n\u001b[1;32m    491\u001b[0m \u001b[0;34m\u001b[0m\u001b[0m\n\u001b[1;32m    492\u001b[0m         \u001b[0;32mif\u001b[0m \u001b[0mself\u001b[0m\u001b[0;34m.\u001b[0m\u001b[0maxes\u001b[0m\u001b[0;34m.\u001b[0m\u001b[0mxaxis\u001b[0m \u001b[0;32mis\u001b[0m \u001b[0;32mnot\u001b[0m \u001b[0;32mNone\u001b[0m\u001b[0;34m:\u001b[0m\u001b[0;34m\u001b[0m\u001b[0;34m\u001b[0m\u001b[0m\n\u001b[0;32m--> 493\u001b[0;31m             \u001b[0mself\u001b[0m\u001b[0;34m.\u001b[0m\u001b[0maxes\u001b[0m\u001b[0;34m.\u001b[0m\u001b[0mxaxis\u001b[0m\u001b[0;34m.\u001b[0m\u001b[0mupdate_units\u001b[0m\u001b[0;34m(\u001b[0m\u001b[0mx\u001b[0m\u001b[0;34m)\u001b[0m\u001b[0;34m\u001b[0m\u001b[0;34m\u001b[0m\u001b[0m\n\u001b[0m\u001b[1;32m    494\u001b[0m         \u001b[0;32mif\u001b[0m \u001b[0mself\u001b[0m\u001b[0;34m.\u001b[0m\u001b[0maxes\u001b[0m\u001b[0;34m.\u001b[0m\u001b[0myaxis\u001b[0m \u001b[0;32mis\u001b[0m \u001b[0;32mnot\u001b[0m \u001b[0;32mNone\u001b[0m\u001b[0;34m:\u001b[0m\u001b[0;34m\u001b[0m\u001b[0;34m\u001b[0m\u001b[0m\n\u001b[1;32m    495\u001b[0m             \u001b[0mself\u001b[0m\u001b[0;34m.\u001b[0m\u001b[0maxes\u001b[0m\u001b[0;34m.\u001b[0m\u001b[0myaxis\u001b[0m\u001b[0;34m.\u001b[0m\u001b[0mupdate_units\u001b[0m\u001b[0;34m(\u001b[0m\u001b[0my\u001b[0m\u001b[0;34m)\u001b[0m\u001b[0;34m\u001b[0m\u001b[0;34m\u001b[0m\u001b[0m\n",
      "\u001b[0;32m/Library/Frameworks/Python.framework/Versions/3.9/lib/python3.9/site-packages/matplotlib/axis.py\u001b[0m in \u001b[0;36mupdate_units\u001b[0;34m(self, data)\u001b[0m\n\u001b[1;32m   1447\u001b[0m         \u001b[0mneednew\u001b[0m \u001b[0;34m=\u001b[0m \u001b[0mself\u001b[0m\u001b[0;34m.\u001b[0m\u001b[0mconverter\u001b[0m \u001b[0;34m!=\u001b[0m \u001b[0mconverter\u001b[0m\u001b[0;34m\u001b[0m\u001b[0;34m\u001b[0m\u001b[0m\n\u001b[1;32m   1448\u001b[0m         \u001b[0mself\u001b[0m\u001b[0;34m.\u001b[0m\u001b[0mconverter\u001b[0m \u001b[0;34m=\u001b[0m \u001b[0mconverter\u001b[0m\u001b[0;34m\u001b[0m\u001b[0;34m\u001b[0m\u001b[0m\n\u001b[0;32m-> 1449\u001b[0;31m         \u001b[0mdefault\u001b[0m \u001b[0;34m=\u001b[0m \u001b[0mself\u001b[0m\u001b[0;34m.\u001b[0m\u001b[0mconverter\u001b[0m\u001b[0;34m.\u001b[0m\u001b[0mdefault_units\u001b[0m\u001b[0;34m(\u001b[0m\u001b[0mdata\u001b[0m\u001b[0;34m,\u001b[0m \u001b[0mself\u001b[0m\u001b[0;34m)\u001b[0m\u001b[0;34m\u001b[0m\u001b[0;34m\u001b[0m\u001b[0m\n\u001b[0m\u001b[1;32m   1450\u001b[0m         \u001b[0;32mif\u001b[0m \u001b[0mdefault\u001b[0m \u001b[0;32mis\u001b[0m \u001b[0;32mnot\u001b[0m \u001b[0;32mNone\u001b[0m \u001b[0;32mand\u001b[0m \u001b[0mself\u001b[0m\u001b[0;34m.\u001b[0m\u001b[0munits\u001b[0m \u001b[0;32mis\u001b[0m \u001b[0;32mNone\u001b[0m\u001b[0;34m:\u001b[0m\u001b[0;34m\u001b[0m\u001b[0;34m\u001b[0m\u001b[0m\n\u001b[1;32m   1451\u001b[0m             \u001b[0mself\u001b[0m\u001b[0;34m.\u001b[0m\u001b[0mset_units\u001b[0m\u001b[0;34m(\u001b[0m\u001b[0mdefault\u001b[0m\u001b[0;34m)\u001b[0m\u001b[0;34m\u001b[0m\u001b[0;34m\u001b[0m\u001b[0m\n",
      "\u001b[0;32m/Library/Frameworks/Python.framework/Versions/3.9/lib/python3.9/site-packages/matplotlib/category.py\u001b[0m in \u001b[0;36mdefault_units\u001b[0;34m(data, axis)\u001b[0m\n\u001b[1;32m    114\u001b[0m         \u001b[0;31m# the conversion call stack is default_units -> axis_info -> convert\u001b[0m\u001b[0;34m\u001b[0m\u001b[0;34m\u001b[0m\u001b[0;34m\u001b[0m\u001b[0m\n\u001b[1;32m    115\u001b[0m         \u001b[0;32mif\u001b[0m \u001b[0maxis\u001b[0m\u001b[0;34m.\u001b[0m\u001b[0munits\u001b[0m \u001b[0;32mis\u001b[0m \u001b[0;32mNone\u001b[0m\u001b[0;34m:\u001b[0m\u001b[0;34m\u001b[0m\u001b[0;34m\u001b[0m\u001b[0m\n\u001b[0;32m--> 116\u001b[0;31m             \u001b[0maxis\u001b[0m\u001b[0;34m.\u001b[0m\u001b[0mset_units\u001b[0m\u001b[0;34m(\u001b[0m\u001b[0mUnitData\u001b[0m\u001b[0;34m(\u001b[0m\u001b[0mdata\u001b[0m\u001b[0;34m)\u001b[0m\u001b[0;34m)\u001b[0m\u001b[0;34m\u001b[0m\u001b[0;34m\u001b[0m\u001b[0m\n\u001b[0m\u001b[1;32m    117\u001b[0m         \u001b[0;32melse\u001b[0m\u001b[0;34m:\u001b[0m\u001b[0;34m\u001b[0m\u001b[0;34m\u001b[0m\u001b[0m\n\u001b[1;32m    118\u001b[0m             \u001b[0maxis\u001b[0m\u001b[0;34m.\u001b[0m\u001b[0munits\u001b[0m\u001b[0;34m.\u001b[0m\u001b[0mupdate\u001b[0m\u001b[0;34m(\u001b[0m\u001b[0mdata\u001b[0m\u001b[0;34m)\u001b[0m\u001b[0;34m\u001b[0m\u001b[0;34m\u001b[0m\u001b[0m\n",
      "\u001b[0;32m/Library/Frameworks/Python.framework/Versions/3.9/lib/python3.9/site-packages/matplotlib/category.py\u001b[0m in \u001b[0;36m__init__\u001b[0;34m(self, data)\u001b[0m\n\u001b[1;32m    190\u001b[0m         \u001b[0mself\u001b[0m\u001b[0;34m.\u001b[0m\u001b[0m_counter\u001b[0m \u001b[0;34m=\u001b[0m \u001b[0mitertools\u001b[0m\u001b[0;34m.\u001b[0m\u001b[0mcount\u001b[0m\u001b[0;34m(\u001b[0m\u001b[0;34m)\u001b[0m\u001b[0;34m\u001b[0m\u001b[0;34m\u001b[0m\u001b[0m\n\u001b[1;32m    191\u001b[0m         \u001b[0;32mif\u001b[0m \u001b[0mdata\u001b[0m \u001b[0;32mis\u001b[0m \u001b[0;32mnot\u001b[0m \u001b[0;32mNone\u001b[0m\u001b[0;34m:\u001b[0m\u001b[0;34m\u001b[0m\u001b[0;34m\u001b[0m\u001b[0m\n\u001b[0;32m--> 192\u001b[0;31m             \u001b[0mself\u001b[0m\u001b[0;34m.\u001b[0m\u001b[0mupdate\u001b[0m\u001b[0;34m(\u001b[0m\u001b[0mdata\u001b[0m\u001b[0;34m)\u001b[0m\u001b[0;34m\u001b[0m\u001b[0;34m\u001b[0m\u001b[0m\n\u001b[0m\u001b[1;32m    193\u001b[0m \u001b[0;34m\u001b[0m\u001b[0m\n\u001b[1;32m    194\u001b[0m     \u001b[0;34m@\u001b[0m\u001b[0mstaticmethod\u001b[0m\u001b[0;34m\u001b[0m\u001b[0;34m\u001b[0m\u001b[0m\n",
      "\u001b[0;32m/Library/Frameworks/Python.framework/Versions/3.9/lib/python3.9/site-packages/matplotlib/category.py\u001b[0m in \u001b[0;36mupdate\u001b[0;34m(self, data)\u001b[0m\n\u001b[1;32m    223\u001b[0m         \u001b[0;31m# check if convertible to number:\u001b[0m\u001b[0;34m\u001b[0m\u001b[0;34m\u001b[0m\u001b[0;34m\u001b[0m\u001b[0m\n\u001b[1;32m    224\u001b[0m         \u001b[0mconvertible\u001b[0m \u001b[0;34m=\u001b[0m \u001b[0;32mTrue\u001b[0m\u001b[0;34m\u001b[0m\u001b[0;34m\u001b[0m\u001b[0m\n\u001b[0;32m--> 225\u001b[0;31m         \u001b[0;32mfor\u001b[0m \u001b[0mval\u001b[0m \u001b[0;32min\u001b[0m \u001b[0mOrderedDict\u001b[0m\u001b[0;34m.\u001b[0m\u001b[0mfromkeys\u001b[0m\u001b[0;34m(\u001b[0m\u001b[0mdata\u001b[0m\u001b[0;34m)\u001b[0m\u001b[0;34m:\u001b[0m\u001b[0;34m\u001b[0m\u001b[0;34m\u001b[0m\u001b[0m\n\u001b[0m\u001b[1;32m    226\u001b[0m             \u001b[0;31m# OrderedDict just iterates over unique values in data.\u001b[0m\u001b[0;34m\u001b[0m\u001b[0;34m\u001b[0m\u001b[0;34m\u001b[0m\u001b[0m\n\u001b[1;32m    227\u001b[0m             \u001b[0m_api\u001b[0m\u001b[0;34m.\u001b[0m\u001b[0mcheck_isinstance\u001b[0m\u001b[0;34m(\u001b[0m\u001b[0;34m(\u001b[0m\u001b[0mstr\u001b[0m\u001b[0;34m,\u001b[0m \u001b[0mbytes\u001b[0m\u001b[0;34m)\u001b[0m\u001b[0;34m,\u001b[0m \u001b[0mvalue\u001b[0m\u001b[0;34m=\u001b[0m\u001b[0mval\u001b[0m\u001b[0;34m)\u001b[0m\u001b[0;34m\u001b[0m\u001b[0;34m\u001b[0m\u001b[0m\n",
      "\u001b[0;31mTypeError\u001b[0m: unhashable type: 'numpy.ndarray'"
     ]
    },
    {
     "data": {
      "image/png": "[encoded data removed]",
      "text/plain": [
       "<Figure size 432x288 with 1 Axes>"
      ]
     },
     "metadata": {
      "needs_background": "light"
     },
     "output_type": "display_data"
    }
   ],
   "source": []
  },
  {
   "cell_type": "code",
   "execution_count": 422,
   "id": "55b51a8e",
   "metadata": {},
   "outputs": [
    {
     "data": {
      "text/html": [
       "<div>\n",
       "<style scoped>\n",
       "    .dataframe tbody tr th:only-of-type {\n",
       "        vertical-align: middle;\n",
       "    }\n",
       "\n",
       "    .dataframe tbody tr th {\n",
       "        vertical-align: top;\n",
       "    }\n",
       "\n",
       "    .dataframe thead th {\n",
       "        text-align: right;\n",
       "    }\n",
       "</style>\n",
       "<table border=\"1\" class=\"dataframe\">\n",
       "  <thead>\n",
       "    <tr style=\"text-align: right;\">\n",
       "      <th></th>\n",
       "      <th>CTC in LPA</th>\n",
       "    </tr>\n",
       "    <tr>\n",
       "      <th>Company</th>\n",
       "      <th></th>\n",
       "    </tr>\n",
       "  </thead>\n",
       "  <tbody>\n",
       "    <tr>\n",
       "      <th>Trigent Softwares</th>\n",
       "      <td>20.000000</td>\n",
       "    </tr>\n",
       "    <tr>\n",
       "      <th>Amazon</th>\n",
       "      <td>12.000000</td>\n",
       "    </tr>\n",
       "    <tr>\n",
       "      <th>Accionlabs</th>\n",
       "      <td>12.000000</td>\n",
       "    </tr>\n",
       "    <tr>\n",
       "      <th>Dailyhunt</th>\n",
       "      <td>11.000000</td>\n",
       "    </tr>\n",
       "    <tr>\n",
       "      <th>Futurense</th>\n",
       "      <td>10.333333</td>\n",
       "    </tr>\n",
       "    <tr>\n",
       "      <th>Climate Corporation</th>\n",
       "      <td>10.170000</td>\n",
       "    </tr>\n",
       "    <tr>\n",
       "      <th>Adobe</th>\n",
       "      <td>9.000000</td>\n",
       "    </tr>\n",
       "    <tr>\n",
       "      <th>Litmusworld</th>\n",
       "      <td>8.250000</td>\n",
       "    </tr>\n",
       "    <tr>\n",
       "      <th>D Cube Analytics</th>\n",
       "      <td>8.133333</td>\n",
       "    </tr>\n",
       "    <tr>\n",
       "      <th>L&amp;T Infotech</th>\n",
       "      <td>8.000000</td>\n",
       "    </tr>\n",
       "  </tbody>\n",
       "</table>\n",
       "</div>"
      ],
      "text/plain": [
       "                     CTC in LPA\n",
       "Company                        \n",
       "Trigent Softwares     20.000000\n",
       "Amazon                12.000000\n",
       "Accionlabs            12.000000\n",
       "Dailyhunt             11.000000\n",
       "Futurense             10.333333\n",
       "Climate Corporation   10.170000\n",
       "Adobe                  9.000000\n",
       "Litmusworld            8.250000\n",
       "D Cube Analytics       8.133333\n",
       "L&T Infotech           8.000000"
      ]
     },
     "execution_count": 422,
     "metadata": {},
     "output_type": "execute_result"
    }
   ],
   "source": [
    "d2.groupby('Company').agg({'CTC in LPA':np.mean}).sort_values('CTC in LPA',ascending = False).head(10)"
   ]
  },
  {
   "cell_type": "code",
   "execution_count": 432,
   "id": "5f8743ee",
   "metadata": {},
   "outputs": [
    {
     "data": {
      "text/plain": [
       "Equifax           17\n",
       "EY                10\n",
       "Genpact           10\n",
       "Dhiomics           9\n",
       "Nielsen            9\n",
       "Gramener           7\n",
       "EY India           7\n",
       "TCS                6\n",
       "Inference Labs     6\n",
       "Easy Rewardz       6\n",
       "Name: Company, dtype: int64"
      ]
     },
     "execution_count": 432,
     "metadata": {},
     "output_type": "execute_result"
    }
   ],
   "source": [
    "d2['Company'].value_counts().head(10)"
   ]
  },
  {
   "cell_type": "code",
   "execution_count": 426,
   "id": "c5d5a18e",
   "metadata": {},
   "outputs": [
    {
     "data": {
      "text/plain": [
       "0     NaN\n",
       "1     NaN\n",
       "2     NaN\n",
       "3     NaN\n",
       "4     NaN\n",
       "       ..\n",
       "261   NaN\n",
       "262   NaN\n",
       "263   NaN\n",
       "264   NaN\n",
       "265   NaN\n",
       "Name: Most rec company , Length: 266, dtype: float64"
      ]
     },
     "execution_count": 426,
     "metadata": {},
     "output_type": "execute_result"
    }
   ],
   "source": []
  },
  {
   "cell_type": "code",
   "execution_count": 433,
   "id": "77febecf",
   "metadata": {},
   "outputs": [
    {
     "data": {
      "text/plain": [
       "<matplotlib.collections.PathCollection at 0x7fce91511e80>"
      ]
     },
     "execution_count": 433,
     "metadata": {},
     "output_type": "execute_result"
    },
    {
     "data": {
      "image/png": "[encoded data removed]",
      "text/plain": [
       "<Figure size 432x288 with 1 Axes>"
      ]
     },
     "metadata": {
      "needs_background": "light"
     },
     "output_type": "display_data"
    }
   ],
   "source": [
    "plt.scatter(x= d2['CTC in LPA'] ,y = d2['Batch'], color = \"Magenta\", alpha = 0.5)"
   ]
  },
  {
   "cell_type": "code",
   "execution_count": 435,
   "id": "b6d53baa",
   "metadata": {},
   "outputs": [
    {
     "name": "stderr",
     "output_type": "stream",
     "text": [
      "/Library/Frameworks/Python.framework/Versions/3.9/lib/python3.9/site-packages/seaborn/axisgrid.py:337: UserWarning: The `size` parameter has been renamed to `height`; please update your code.\n",
      "  warnings.warn(msg, UserWarning)\n"
     ]
    },
    {
     "data": {
      "text/plain": [
       "<seaborn.axisgrid.FacetGrid at 0x7fce91df34f0>"
      ]
     },
     "execution_count": 435,
     "metadata": {},
     "output_type": "execute_result"
    },
    {
     "data": {
      "image/png": "[encoded data removed]",
      "text/plain": [
       "<Figure size 6480x288 with 9 Axes>"
      ]
     },
     "metadata": {
      "needs_background": "light"
     },
     "output_type": "display_data"
    }
   ],
   "source": [
    "sns.FacetGrid(col=\"Batch\",col_wrap = 25,aspect=0.9,size=4,data =d2).map(plt.scatter,'CTC in LPA','Gender')"
   ]
  },
  {
   "cell_type": "code",
   "execution_count": 436,
   "id": "1b310abc",
   "metadata": {},
   "outputs": [],
   "source": [
    "#batch 10 with best male to female ratio"
   ]
  },
  {
   "cell_type": "code",
   "execution_count": 449,
   "id": "29670eb5",
   "metadata": {},
   "outputs": [
    {
     "data": {
      "text/html": [
       "<div>\n",
       "<style scoped>\n",
       "    .dataframe tbody tr th:only-of-type {\n",
       "        vertical-align: middle;\n",
       "    }\n",
       "\n",
       "    .dataframe tbody tr th {\n",
       "        vertical-align: top;\n",
       "    }\n",
       "\n",
       "    .dataframe thead th {\n",
       "        text-align: right;\n",
       "    }\n",
       "</style>\n",
       "<table border=\"1\" class=\"dataframe\">\n",
       "  <thead>\n",
       "    <tr style=\"text-align: right;\">\n",
       "      <th></th>\n",
       "      <th>Company</th>\n",
       "    </tr>\n",
       "    <tr>\n",
       "      <th>Batch</th>\n",
       "      <th></th>\n",
       "    </tr>\n",
       "  </thead>\n",
       "  <tbody>\n",
       "    <tr>\n",
       "      <th>Batch 10</th>\n",
       "      <td>29</td>\n",
       "    </tr>\n",
       "    <tr>\n",
       "      <th>Batch 2</th>\n",
       "      <td>39</td>\n",
       "    </tr>\n",
       "    <tr>\n",
       "      <th>Batch 3</th>\n",
       "      <td>21</td>\n",
       "    </tr>\n",
       "    <tr>\n",
       "      <th>Batch 4</th>\n",
       "      <td>61</td>\n",
       "    </tr>\n",
       "    <tr>\n",
       "      <th>Batch 5</th>\n",
       "      <td>8</td>\n",
       "    </tr>\n",
       "    <tr>\n",
       "      <th>Batch 6</th>\n",
       "      <td>19</td>\n",
       "    </tr>\n",
       "    <tr>\n",
       "      <th>Batch 7</th>\n",
       "      <td>34</td>\n",
       "    </tr>\n",
       "    <tr>\n",
       "      <th>Batch 8</th>\n",
       "      <td>37</td>\n",
       "    </tr>\n",
       "    <tr>\n",
       "      <th>Batch 9</th>\n",
       "      <td>18</td>\n",
       "    </tr>\n",
       "  </tbody>\n",
       "</table>\n",
       "</div>"
      ],
      "text/plain": [
       "          Company\n",
       "Batch            \n",
       "Batch 10       29\n",
       "Batch 2        39\n",
       "Batch 3        21\n",
       "Batch 4        61\n",
       "Batch 5         8\n",
       "Batch 6        19\n",
       "Batch 7        34\n",
       "Batch 8        37\n",
       "Batch 9        18"
      ]
     },
     "execution_count": 449,
     "metadata": {},
     "output_type": "execute_result"
    }
   ],
   "source": [
    "d2.groupby('Batch').agg({'Company':np.size})"
   ]
  },
  {
   "cell_type": "code",
   "execution_count": 447,
   "id": "0c935874",
   "metadata": {},
   "outputs": [
    {
     "data": {
      "text/plain": [
       "<function __main__.<lambda>(x)>"
      ]
     },
     "execution_count": 447,
     "metadata": {},
     "output_type": "execute_result"
    }
   ],
   "source": []
  },
  {
   "cell_type": "code",
   "execution_count": 446,
   "id": "dff20bdd",
   "metadata": {},
   "outputs": [
    {
     "ename": "NameError",
     "evalue": "name 'x' is not defined",
     "output_type": "error",
     "traceback": [
      "\u001b[0;31m---------------------------------------------------------------------------\u001b[0m",
      "\u001b[0;31mNameError\u001b[0m                                 Traceback (most recent call last)",
      "\u001b[0;32m/var/folders/k8/4j5n_hw94_j_k1151xthw9_r0000gn/T/ipykernel_78035/32546335.py\u001b[0m in \u001b[0;36m<module>\u001b[0;34m\u001b[0m\n\u001b[0;32m----> 1\u001b[0;31m \u001b[0mx\u001b[0m\u001b[0;34m\u001b[0m\u001b[0;34m\u001b[0m\u001b[0m\n\u001b[0m",
      "\u001b[0;31mNameError\u001b[0m: name 'x' is not defined"
     ]
    }
   ],
   "source": []
  },
  {
   "cell_type": "code",
   "execution_count": null,
   "id": "7da348a2",
   "metadata": {},
   "outputs": [],
   "source": []
  }
 ],
 "metadata": {
  "kernelspec": {
   "display_name": "Python 3 (ipykernel)",
   "language": "python",
   "name": "python3"
  },
  "language_info": {
   "codemirror_mode": {
    "name": "ipython",
    "version": 3
   },
   "file_extension": ".py",
   "mimetype": "text/x-python",
   "name": "python",
   "nbconvert_exporter": "python",
   "pygments_lexer": "ipython3",
   "version": "3.9.4"
  }
 },
 "nbformat": 4,
 "nbformat_minor": 5
}
